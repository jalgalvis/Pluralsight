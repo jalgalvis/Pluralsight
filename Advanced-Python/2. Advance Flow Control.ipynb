{
 "cells": [
  {
   "cell_type": "markdown",
   "source": [
    "# <center><font color=slate>Advance Flow Control</font></center>\n",
    "## <center><font color=tomato>Loop-else Clause</font></center>\n",
    "### The`while .... else`<font color=lightGreen>Construct</font>\n",
    "```\n",
    "while condition:\n",
    "    flag = execute_condition_is_true()\n",
    "        if flag:\n",
    "            break\n",
    "else:       # no break\n",
    "    execute_condition_is_false()\n",
    "\n",
    "```\n",
    "\n",
    "It is a not usual statement, it is only useful when getting out of the while loop with <font color=mediumTurquoise>break</font> wanting to execute code when the condition is false\n",
    "\n",
    "In this demo our code evaluates simple stack programs where a program is specified as a stack of items where each item is either a callable function, for these we just use any regular Python function, or an argument to that function"
   ],
   "metadata": {
    "collapsed": false,
    "pycharm": {
     "name": "#%% md\n"
    }
   }
  },
  {
   "cell_type": "code",
   "execution_count": 13,
   "outputs": [],
   "source": [
    "def is_comment(item):\n",
    "    return isinstance(item, str) and item.startswith('#')\n",
    "\n",
    "# **Boolean Short Circuiting**. If item is not an instance of str, then the call to the startswith method will cause an attribute error to be raised;\n",
    "# however, when evaluating the Boolean operators and and or Python will only evaluate the second operand if it is necessary to compute the result.\n",
    "# In the case that the item is not a string, and the first operand evaluates to false, the results of the Boolean, and, must also be false,\n",
    "# with no need to evaluate the second operand."
   ],
   "metadata": {
    "collapsed": false,
    "pycharm": {
     "name": "#%%\n"
    }
   }
  },
  {
   "cell_type": "code",
   "execution_count": 14,
   "outputs": [],
   "source": [
    "def execute(program):\n",
    "    \"\"\"Execute a stack program.\n",
    "\n",
    "    Args:\n",
    "        program: Any stack-like containing where each item in the stack\n",
    "            is a callable operators or non-callable operands. The top-most\n",
    "            items on the stack may be strings beginning with '#' for\n",
    "            the purposes of documentation.  Stack-like means support for:\n",
    "\n",
    "              item = stack.pop()  # Remove and return the top item\n",
    "              stack.append(item)  # Push an item to the top\n",
    "              if stack:           # False in a boolean context when empty\n",
    "    \"\"\"\n",
    "    # Find the start of the 'program' by skipping\n",
    "    # any item which is a comment.\n",
    "    while program:\n",
    "        item = program.pop()\n",
    "        if not is_comment(item):\n",
    "            program.append(item)\n",
    "            break\n",
    "    else:  # nobreak\n",
    "        print(\"Empty program!\")\n",
    "        return\n",
    "\n",
    "    # Evaluate the program\n",
    "    pending = []\n",
    "    while program:\n",
    "        item = program.pop()\n",
    "        if callable(item):\n",
    "            try:\n",
    "                result = item(*pending)\n",
    "            except Exception as e:\n",
    "                print(\"Error: \", e)\n",
    "                break\n",
    "            program.append(result)\n",
    "            pending.clear()\n",
    "        else:\n",
    "            pending.append(item)\n",
    "    else:  # nobreak\n",
    "        print(\"Program successful.\")\n",
    "        print(\"Result: \", pending)\n",
    "\n",
    "    print(\"Finished\")\n"
   ],
   "metadata": {
    "collapsed": false,
    "pycharm": {
     "name": "#%%\n"
    }
   }
  },
  {
   "cell_type": "code",
   "execution_count": 15,
   "outputs": [
    {
     "data": {
      "text/plain": "[<function _operator.mul(a, b, /)>,\n 3,\n <function _operator.add(a, b, /)>,\n 2,\n 5,\n '# and multiply some constants',\n '# A short stack program to add']"
     },
     "execution_count": 15,
     "metadata": {},
     "output_type": "execute_result"
    }
   ],
   "source": [
    "import operator\n",
    "\n",
    "program = list(reversed((\n",
    "    \"# A short stack program to add\",\n",
    "    \"# and multiply some constants\",\n",
    "    5,\n",
    "    2,\n",
    "    operator.add,\n",
    "    3,\n",
    "    operator.mul)))\n",
    "program"
   ],
   "metadata": {
    "collapsed": false,
    "pycharm": {
     "name": "#%%\n"
    }
   }
  },
  {
   "cell_type": "code",
   "execution_count": 16,
   "outputs": [
    {
     "name": "stdout",
     "output_type": "stream",
     "text": [
      "Program successful.\n",
      "Result:  [21]\n",
      "Finished\n"
     ]
    }
   ],
   "source": [
    "execute(program)\n"
   ],
   "metadata": {
    "collapsed": false,
    "pycharm": {
     "name": "#%%\n"
    }
   }
  },
  {
   "cell_type": "markdown",
   "source": [
    "### The`for .... else`<font color=lightGreen>Construct</font>\n",
    "```\n",
    "for item in iterable:\n",
    "    if match(item):\n",
    "        result = item\n",
    "        break\n",
    "else:   # nobreak\n",
    "    # No match found\n",
    "    result = None\n",
    "\n",
    "# Always come here\n",
    "print result\n",
    "\n",
    "```"
   ],
   "metadata": {
    "collapsed": false
   }
  },
  {
   "cell_type": "markdown",
   "source": [
    "`for .... else` construct if useful for <font color=mediumTurquoise>handling search failure</font>\n",
    "\n",
    "In the next demo we'll use a for else loop to ensure that a sequence contains at least one integer divisible by a specified value. If it doesn't find it it will append the divisor itself."
   ],
   "metadata": {
    "collapsed": false
   }
  },
  {
   "cell_type": "code",
   "execution_count": 17,
   "outputs": [
    {
     "name": "stdout",
     "output_type": "stream",
     "text": [
      "[2, 25, 9, 37, 20, 28, 14, 12] contains 12 which is a multiple of 12\n"
     ]
    }
   ],
   "source": [
    "items = [2, 25, 9, 37, 20, 28, 14]\n",
    "divisor = 12\n",
    "\n",
    "for item in items:\n",
    "    if item % divisor == 0:\n",
    "        found = item\n",
    "        break\n",
    "else:  # nobreak\n",
    "    items.append(divisor)\n",
    "    found = divisor\n",
    "\n",
    "print(\"{items} contains {found} which is a multiple of {divisor}\".format(**locals()))"
   ],
   "metadata": {
    "collapsed": false,
    "pycharm": {
     "name": "#%%\n"
    }
   }
  },
  {
   "cell_type": "markdown",
   "source": [
    "We can refactor this code without the `else` clause to improve performance and readability, also to make it easy to test and potentially usable."
   ],
   "metadata": {
    "collapsed": false
   }
  },
  {
   "cell_type": "code",
   "execution_count": 18,
   "outputs": [
    {
     "name": "stdout",
     "output_type": "stream",
     "text": [
      "[2, 25, 9, 37, 20, 28, 14, 12] contains 12 which is a multiple of 12\n"
     ]
    }
   ],
   "source": [
    "def ensure_has_divisible(items, divisor):\n",
    "    for item in items:\n",
    "        if item % divisor == 0:\n",
    "            return item\n",
    "    items.append(divisor)\n",
    "    return divisor\n",
    "\n",
    "items = [2, 25, 9, 37, 20, 28, 14]\n",
    "divisor = 12\n",
    "\n",
    "dividend = ensure_has_divisible(items, divisor)\n",
    "\n",
    "print(\"{items} contains {dividend} which is a multiple of {divisor}\".format(**locals()))"
   ],
   "metadata": {
    "collapsed": false,
    "pycharm": {
     "name": "#%%\n"
    }
   }
  },
  {
   "cell_type": "markdown",
   "source": [
    "### The`try .... else`<font color=lightGreen>Construct</font>\n",
    "The `else` clause is executed only if the try block completed successfully without any exception being raised\n",
    "```\n",
    "try:\n",
    "    # This code might raise an exception\n",
    "    do_something()\n",
    "\n",
    "except ValueError:\n",
    "    # ValueError caught and handled\n",
    "    handle_value_error()\n",
    "\n",
    "else:\n",
    "    # No exception was raised\n",
    "    # We know that do_something() succeeded, so\n",
    "    do_something_else()\n",
    "\n",
    "```\n",
    "\n",
    "In this example, both opening the file and iterating over the file can raise an OS error, but we're only interested in handling the exception from the call to open.\n",
    "Note that it's possible to have an else clause and a finally clause. The else block will only be executed if there was no exception, whereas the finally clause will always be executed."
   ],
   "metadata": {
    "collapsed": false,
    "pycharm": {
     "name": "#%% md\n"
    }
   }
  },
  {
   "cell_type": "code",
   "execution_count": 19,
   "outputs": [
    {
     "name": "stdout",
     "output_type": "stream",
     "text": [
      "Number of lines 220\n"
     ]
    }
   ],
   "source": [
    "try:\n",
    "    f = open(file='videosTranscription.txt', mode='r')\n",
    "\n",
    "except OSError:\n",
    "    print(\"File could not be opened for read\")\n",
    "\n",
    "else:\n",
    "    # Now we're sure the file is open\n",
    "    print(\"Number of lines\", sum(1 for line in f))\n",
    "    f .close()"
   ],
   "metadata": {
    "collapsed": false,
    "pycharm": {
     "name": "#%%\n"
    }
   }
  },
  {
   "cell_type": "markdown",
   "source": [
    "## <center>Emulating<font color=tomato> Switch</font></center>\n",
    "\n",
    "Although switch can be emulated in Python by a chain of if `elif` `else` blocks this can be tedious to write and is error prone because the condition must be repeated multiple times.\n",
    "An alternative in Python is to use a mapping of `callables`. Depending on what you want to achieve, these callables may be lambdas or named functions."
   ],
   "metadata": {
    "collapsed": false,
    "pycharm": {
     "name": "#%% md\n"
    }
   }
  },
  {
   "cell_type": "code",
   "execution_count": 20,
   "outputs": [],
   "source": [
    "\"\"\"Kafka - the adventure game you cannot win\"\"\"\n",
    "\n",
    "\n",
    "def go_north(position):\n",
    "    i, j = position\n",
    "    new_position = (i, j + 1)\n",
    "    return new_position\n",
    "\n",
    "\n",
    "def go_east(position):\n",
    "    i, j = position\n",
    "    new_position = (i + 1, j)\n",
    "    return new_position\n",
    "\n",
    "\n",
    "def go_south(position):\n",
    "    i, j = position\n",
    "    new_position = (i, j - 1)\n",
    "    return new_position\n",
    "\n",
    "\n",
    "def go_west(position):\n",
    "    i, j = position\n",
    "    new_position = (i - 1, j)\n",
    "    return new_position\n",
    "\n",
    "\n",
    "def look(position):\n",
    "    return position\n",
    "\n",
    "\n",
    "def quit(position):\n",
    "    return None\n",
    "\n",
    "\n",
    "def labyrinth(position, alive):\n",
    "    print(\"You are in a maze of twisty passages, all alike.\")\n",
    "    return position, alive\n",
    "\n",
    "\n",
    "def dark_forest_road(position, alive):\n",
    "    print(\"You are on a road in a dark forest. To the north you can see a tower.\")\n",
    "    return position, alive\n",
    "\n",
    "\n",
    "def tall_tower(position, alive):\n",
    "    print(\"There is a tall tower here, with no obvious door. A path leads east.\")\n",
    "    return position, alive\n",
    "\n",
    "\n",
    "def rabbit_hole(position, alive):\n",
    "    print(\"You fall down a rabbit hole into a labyrinth.\")\n",
    "    return (0, 0), alive\n",
    "\n",
    "\n",
    "def lava_pit(position, alive):\n",
    "    print(\"You fall into a lava pit.\")\n",
    "    return position, False"
   ],
   "metadata": {
    "collapsed": false,
    "pycharm": {
     "name": "#%%\n"
    }
   }
  },
  {
   "cell_type": "code",
   "execution_count": 21,
   "outputs": [
    {
     "name": "stdout",
     "output_type": "stream",
     "text": [
      "You are in a maze of twisty passages, all alike.\n",
      "You have chosen to leave the game.\n",
      "Game over\n"
     ]
    }
   ],
   "source": [
    "def play():\n",
    "\n",
    "    position = (0, 0)\n",
    "    alive = True\n",
    "    while position:\n",
    "\n",
    "        locations = {\n",
    "            (0, 0): labyrinth,\n",
    "            (1, 0): dark_forest_road,\n",
    "            (1, 1): tall_tower,\n",
    "            (2, 1): rabbit_hole,\n",
    "            (1, 2): lava_pit,\n",
    "        }\n",
    "\n",
    "        try:\n",
    "            location_action = locations[position]\n",
    "        except KeyError:\n",
    "            print(\"There is nothing here.\")\n",
    "        else:\n",
    "            position, alive = location_action(position, alive)\n",
    "\n",
    "        if not alive:\n",
    "            print(\"You're dead!\")\n",
    "            break\n",
    "    \n",
    "\n",
    "\n",
    "        actions = {\n",
    "            'N': go_north,\n",
    "            'E': go_east,\n",
    "            'S': go_south,\n",
    "            'W': go_west,\n",
    "            'L': look,\n",
    "            'Q': quit,\n",
    "        }\n",
    "        command = input(actions)\n",
    "        try:\n",
    "            command_action = actions[command]\n",
    "        except KeyError:\n",
    "            print(\"I don't understand\")\n",
    "        else:\n",
    "            position = command_action(position)\n",
    "    else:  # nobreak\n",
    "        print(\"You have chosen to leave the game.\")\n",
    "\n",
    "    print(\"Game over\")\n",
    "\n",
    "play()"
   ],
   "metadata": {
    "collapsed": false,
    "pycharm": {
     "name": "#%%\n"
    }
   }
  },
  {
   "cell_type": "markdown",
   "source": [
    "### To<font color=lightGreen> dispatch on type</font>\n",
    "\n",
    "-   Functions selected based on arguments\n",
    "-   Methods: called implementation depends on type of `self`\n",
    "-   Regular functions: switch-emulation is ungainly\n",
    "-   Use the `@singledispatch` decorator from `functools` module\n"
   ],
   "metadata": {
    "collapsed": false
   }
  },
  {
   "cell_type": "code",
   "execution_count": 22,
   "outputs": [
    {
     "name": "stdout",
     "output_type": "stream",
     "text": [
      "□\n",
      "▱\n",
      "▲\n"
     ]
    }
   ],
   "source": [
    "from functools import singledispatch\n",
    "\n",
    "class Shape:\n",
    "\n",
    "    def __init__(self, solid):\n",
    "        self.solid = solid\n",
    "\n",
    "class Parallelogram(Shape):\n",
    "\n",
    "    def __init__(self, pa, pb, pc, *args, **kwargs):\n",
    "        super().__init__(*args, **kwargs)\n",
    "        self.pa = pa\n",
    "        self.pb = pb\n",
    "        self.pc = pc\n",
    "\n",
    "class Triangle(Shape):\n",
    "\n",
    "    def __init__(self, pa, pb, pc, *args, **kwargs):\n",
    "        super().__init__(*args, **kwargs)\n",
    "        self.pa = pa\n",
    "        self.pb = pb\n",
    "        self.pc = pc\n",
    "\n",
    "class Circle(Shape):\n",
    "\n",
    "    def __init__(self, center, radius, *args, **kwargs):\n",
    "        super().__init__(*args, **kwargs)\n",
    "        self.center = center\n",
    "        self.radius = radius\n",
    "\n",
    "@singledispatch\n",
    "def draw(shape):\n",
    "    raise TypeError(\"Don't know how to draw {!r}\".format(shape))\n",
    "\n",
    "\n",
    "@draw.register(Circle)\n",
    "def _(shape):\n",
    "    print(\"\\u25CF\" if shape.solid else \"\\u25A1\")\n",
    "\n",
    "\n",
    "@draw.register(Parallelogram)\n",
    "def _(shape):\n",
    "    print(\"\\u25B0\" if shape.solid else \"\\u25B1\")\n",
    "\n",
    "\n",
    "@draw.register(Triangle)\n",
    "def _(shape):\n",
    "    # Draw a triangle\n",
    "    print(\"\\u25B2\" if shape.solid else \"\\u25B3\")\n",
    "\n",
    "\n",
    "shapes = [Circle(center=(0, 0), radius=5, solid=False),\n",
    "          Parallelogram(pa=(0, 0), pb=(2, 0), pc=(1, 1), solid=False),\n",
    "          Triangle(pa=(0, 0), pb=(1, 2), pc=(2, 0), solid=True)]\n",
    "\n",
    "for shape in shapes:\n",
    "    draw(shape)\n",
    "\n"
   ],
   "metadata": {
    "collapsed": false,
    "pycharm": {
     "name": "#%%\n"
    }
   }
  },
  {
   "cell_type": "markdown",
   "source": [
    "### Double Dispatch with<font color=lightGreen> Methods</font>\n",
    "`@singledispatch` is designed for module scope functions, not for methods, because it evaluates the first argument, and the first argument of a method is always `self`.\n",
    "Te following lines of code give an alternative, swapping arguments for am instruction like: `shape.intersects(other_shape)`:"
   ],
   "metadata": {
    "collapsed": false
   }
  },
  {
   "cell_type": "code",
   "source": [
    "def intersects(self, shape):\n",
    "    # Delegate to the generic function, swapping arguments\n",
    "    return intersects_with_circle(shape, self)\n",
    "\n",
    "\n",
    "@singledispatch\n",
    "def intersects_with_circle(shape, circle):\n",
    "    raise TypeError(\"Don't know how to compute intersection of {!r} with {!r}\"\n",
    "                    .format(circle, shape))\n",
    "\n",
    "\n",
    "@intersects_with_circle.register(Circle)\n",
    "def _(shape, circle):\n",
    "    return circle_intersects_circle(circle, shape)\n",
    "\n",
    "\n",
    "@intersects_with_circle.register(Parallelogram)\n",
    "def _(shape, circle):\n",
    "    return circle_intersects_parallelogram(circle, shape)\n",
    "\n",
    "\n",
    "@intersects_with_circle.register(Triangle)\n",
    "def _(shape, circle):\n",
    "    return circle_intersects_triangle(circle, shape)\n",
    "\n",
    "# then the methods\n",
    "\n",
    "def circle_intersects_circle(circle, shape):\n",
    "    pass # code for the implementation\n",
    "\n",
    "def circle_intersects_parallelogram(circle, shape):\n",
    "    pass # code for the implementation\n",
    "\n",
    "def circle_intersects_triangle(circle, shape):\n",
    "    pass # code for the implementation"
   ],
   "metadata": {
    "collapsed": false,
    "pycharm": {
     "name": "#%%\n"
    }
   },
   "execution_count": 23,
   "outputs": []
  }
 ],
 "metadata": {
  "kernelspec": {
   "display_name": "Python 3",
   "language": "python",
   "name": "python3"
  },
  "language_info": {
   "codemirror_mode": {
    "name": "ipython",
    "version": 2
   },
   "file_extension": ".py",
   "mimetype": "text/x-python",
   "name": "python",
   "nbconvert_exporter": "python",
   "pygments_lexer": "ipython2",
   "version": "2.7.6"
  }
 },
 "nbformat": 4,
 "nbformat_minor": 0
}