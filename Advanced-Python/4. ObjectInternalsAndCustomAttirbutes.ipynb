{
 "cells": [
  {
   "cell_type": "code",
   "source": [],
   "metadata": {
    "collapsed": false,
    "pycharm": {
     "name": "#%%\n"
    }
   },
   "execution_count": 49,
   "outputs": []
  },
  {
   "cell_type": "markdown",
   "source": [
    "# <center><font color=slate>Object Internals and Custom Attributes</font></center>"
   ],
   "metadata": {
    "collapsed": false
   }
  },
  {
   "cell_type": "markdown",
   "source": [
    "## <center>How are <font color=tomato>Python objects represented?</font></center>\n"
   ],
   "metadata": {
    "collapsed": false,
    "pycharm": {
     "name": "#%% md\n"
    }
   }
  },
  {
   "cell_type": "code",
   "execution_count": 50,
   "outputs": [
    {
     "data": {
      "text/plain": "Vector(5 3)"
     },
     "execution_count": 50,
     "metadata": {},
     "output_type": "execute_result"
    }
   ],
   "source": [
    "class Vector:\n",
    "    def __init__(self, x, y):\n",
    "        self._x = x\n",
    "        self._y = y\n",
    "\n",
    "    def __repr__(self):\n",
    "        return \"{}({} {})\".format(self.__class__.__name__, self._x, self._y)\n",
    "\n",
    "v = Vector(5, 3)\n",
    "v"
   ],
   "metadata": {
    "collapsed": false,
    "pycharm": {
     "name": "#%%\n"
    }
   }
  },
  {
   "cell_type": "code",
   "source": [
    "dir(v)"
   ],
   "metadata": {
    "collapsed": false,
    "pycharm": {
     "name": "#%%\n"
    }
   },
   "execution_count": 51,
   "outputs": [
    {
     "data": {
      "text/plain": "['__class__',\n '__delattr__',\n '__dict__',\n '__dir__',\n '__doc__',\n '__eq__',\n '__format__',\n '__ge__',\n '__getattribute__',\n '__gt__',\n '__hash__',\n '__init__',\n '__init_subclass__',\n '__le__',\n '__lt__',\n '__module__',\n '__ne__',\n '__new__',\n '__reduce__',\n '__reduce_ex__',\n '__repr__',\n '__setattr__',\n '__sizeof__',\n '__str__',\n '__subclasshook__',\n '__weakref__',\n '_x',\n '_y']"
     },
     "execution_count": 51,
     "metadata": {},
     "output_type": "execute_result"
    }
   ]
  },
  {
   "cell_type": "markdown",
   "source": [
    "`__dict__` is a dictionary, contains the names of our objects attributes as keys, and the values of our objects attributes as values"
   ],
   "metadata": {
    "collapsed": false,
    "pycharm": {
     "name": "#%% md\n"
    }
   }
  },
  {
   "cell_type": "code",
   "execution_count": 52,
   "outputs": [
    {
     "data": {
      "text/plain": "(dict, {'_x': 5, '_y': 3})"
     },
     "execution_count": 52,
     "metadata": {},
     "output_type": "execute_result"
    }
   ],
   "source": [
    "type(v.__dict__), v.__dict__"
   ],
   "metadata": {
    "collapsed": false,
    "pycharm": {
     "name": "#%%\n"
    }
   }
  },
  {
   "cell_type": "code",
   "source": [
    "v.__dict__['_x']"
   ],
   "metadata": {
    "collapsed": false,
    "pycharm": {
     "name": "#%%\n"
    }
   },
   "execution_count": 53,
   "outputs": [
    {
     "data": {
      "text/plain": "5"
     },
     "execution_count": 53,
     "metadata": {},
     "output_type": "execute_result"
    }
   ]
  },
  {
   "cell_type": "markdown",
   "source": [
    "We can even modify attributes:\n"
   ],
   "metadata": {
    "collapsed": false,
    "pycharm": {
     "name": "#%% md\n"
    }
   }
  },
  {
   "cell_type": "code",
   "source": [
    "v.__dict__['_x'] = 17\n",
    "v.__dict__['_x']"
   ],
   "metadata": {
    "collapsed": false,
    "pycharm": {
     "name": "#%%\n"
    }
   },
   "execution_count": 54,
   "outputs": [
    {
     "data": {
      "text/plain": "17"
     },
     "execution_count": 54,
     "metadata": {},
     "output_type": "execute_result"
    }
   ]
  },
  {
   "cell_type": "markdown",
   "source": [
    ".... and even remove attributes"
   ],
   "metadata": {
    "collapsed": false,
    "pycharm": {
     "name": "#%% md\n"
    }
   }
  },
  {
   "cell_type": "code",
   "source": [
    "del v.__dict__['_x']\n",
    "v.__dict__"
   ],
   "metadata": {
    "collapsed": false,
    "pycharm": {
     "name": "#%%\n"
    }
   },
   "execution_count": 55,
   "outputs": [
    {
     "data": {
      "text/plain": "{'_y': 3}"
     },
     "execution_count": 55,
     "metadata": {},
     "output_type": "execute_result"
    }
   ]
  },
  {
   "cell_type": "markdown",
   "source": [
    "We can also test for their existence using the `in` operator"
   ],
   "metadata": {
    "collapsed": false,
    "pycharm": {
     "name": "#%% md\n"
    }
   }
  },
  {
   "cell_type": "code",
   "source": [
    "'_x' in v.__dict__, '_y' in v.__dict__"
   ],
   "metadata": {
    "collapsed": false,
    "pycharm": {
     "name": "#%%\n"
    }
   },
   "execution_count": 56,
   "outputs": [
    {
     "data": {
      "text/plain": "(False, True)"
     },
     "execution_count": 56,
     "metadata": {},
     "output_type": "execute_result"
    }
   ]
  },
  {
   "cell_type": "markdown",
   "source": [
    "and add new attributes into the dictionary, and thereby into our object\n"
   ],
   "metadata": {
    "collapsed": false,
    "pycharm": {
     "name": "#%% md\n"
    }
   }
  },
  {
   "cell_type": "code",
   "source": [
    "v.__dict__['_z'] = 13\n",
    "v._z"
   ],
   "metadata": {
    "collapsed": false,
    "pycharm": {
     "name": "#%%\n"
    }
   },
   "execution_count": 57,
   "outputs": [
    {
     "data": {
      "text/plain": "13"
     },
     "execution_count": 57,
     "metadata": {},
     "output_type": "execute_result"
    }
   ]
  },
  {
   "cell_type": "markdown",
   "source": [
    "Although all of these direct queries and manipulations of `__dict__` are possible, for the most part, you should prefer to use the built-in functions `getattr`, `hasattr`, `delattr`, and `setattr`"
   ],
   "metadata": {
    "collapsed": false,
    "pycharm": {
     "name": "#%% md\n"
    }
   }
  },
  {
   "cell_type": "code",
   "execution_count": 58,
   "outputs": [
    {
     "data": {
      "text/plain": "3"
     },
     "execution_count": 58,
     "metadata": {},
     "output_type": "execute_result"
    }
   ],
   "source": [
    "getattr(v, '_y')"
   ],
   "metadata": {
    "collapsed": false,
    "pycharm": {
     "name": "#%%\n"
    }
   }
  },
  {
   "cell_type": "code",
   "execution_count": 59,
   "outputs": [
    {
     "data": {
      "text/plain": "False"
     },
     "execution_count": 59,
     "metadata": {},
     "output_type": "execute_result"
    }
   ],
   "source": [
    "hasattr(v, '_x')"
   ],
   "metadata": {
    "collapsed": false,
    "pycharm": {
     "name": "#%%\n"
    }
   }
  },
  {
   "cell_type": "code",
   "execution_count": 60,
   "outputs": [],
   "source": [
    "delattr(v, '_z')"
   ],
   "metadata": {
    "collapsed": false,
    "pycharm": {
     "name": "#%%\n"
    }
   }
  },
  {
   "cell_type": "code",
   "source": [
    "setattr(v, '_x', 9)\n",
    "v"
   ],
   "metadata": {
    "collapsed": false,
    "pycharm": {
     "name": "#%%\n"
    }
   },
   "execution_count": 61,
   "outputs": [
    {
     "data": {
      "text/plain": "Vector(9 3)"
     },
     "execution_count": 61,
     "metadata": {},
     "output_type": "execute_result"
    }
   ]
  },
  {
   "cell_type": "markdown",
   "source": [
    "Our vector class, like most vector classes, has hard wired attributes called x and y to store the two components of the vector.\n",
    "Many problems, though, require us to deal with vectors in different coordinate systems within the same code or perhaps it's just convenient to use a different labeling scheme, such as u and v instead of x and y in a particular context."
   ],
   "metadata": {
    "collapsed": false,
    "pycharm": {
     "name": "#%% md\n"
    }
   }
  },
  {
   "cell_type": "code",
   "execution_count": 62,
   "outputs": [
    {
     "data": {
      "text/plain": "Vector(p=3, q=7)"
     },
     "execution_count": 62,
     "metadata": {},
     "output_type": "execute_result"
    }
   ],
   "source": [
    "\n",
    "class Vector(Vector):\n",
    "    def __init__(self, **coords):\n",
    "        self.__dict__.update(coords)\n",
    "\n",
    "    def __repr__(self):\n",
    "        return \"{}({})\".format(\n",
    "            self.__class__.__name__,\n",
    "            ', '.join('{k}={v}'.format(\n",
    "                k = k,\n",
    "                v = self.__dict__[k])\n",
    "                      for k in sorted(self.__dict__.keys())))\n",
    "\n",
    "v = Vector(p=3, q=7)\n",
    "v"
   ],
   "metadata": {
    "collapsed": false,
    "pycharm": {
     "name": "#%%\n"
    }
   }
  },
  {
   "cell_type": "code",
   "source": [
    "dir(v)"
   ],
   "metadata": {
    "collapsed": false,
    "pycharm": {
     "name": "#%%\n"
    }
   },
   "execution_count": 63,
   "outputs": [
    {
     "data": {
      "text/plain": "['__class__',\n '__delattr__',\n '__dict__',\n '__dir__',\n '__doc__',\n '__eq__',\n '__format__',\n '__ge__',\n '__getattribute__',\n '__gt__',\n '__hash__',\n '__init__',\n '__init_subclass__',\n '__le__',\n '__lt__',\n '__module__',\n '__ne__',\n '__new__',\n '__reduce__',\n '__reduce_ex__',\n '__repr__',\n '__setattr__',\n '__sizeof__',\n '__str__',\n '__subclasshook__',\n '__weakref__',\n 'p',\n 'q']"
     },
     "execution_count": 63,
     "metadata": {},
     "output_type": "execute_result"
    }
   ]
  },
  {
   "cell_type": "markdown",
   "source": [
    "Our coordinates are now essentially public attributes of our vector objects.\n",
    "What if we want our vector class to be an immutable value type, so we provide values to the constructor, which can't be subsequently changed?\n",
    "Ordinarily we will do this by prefixing our attributes with an underscore to signal that they are implementation details, and then provide a property with only a getter to prevent modification"
   ],
   "metadata": {
    "collapsed": false,
    "pycharm": {
     "name": "#%% md\n"
    }
   }
  },
  {
   "cell_type": "code",
   "execution_count": 64,
   "outputs": [
    {
     "data": {
      "text/plain": "Vector(p=3, q=7)"
     },
     "execution_count": 64,
     "metadata": {},
     "output_type": "execute_result"
    }
   ],
   "source": [
    "class Vector(Vector):\n",
    "    def __init__(self, **coords):\n",
    "        private_coords = {'_' + k: v for k, v in coords.items()}\n",
    "        self.__dict__.update(private_coords)\n",
    "\n",
    "    def __repr__(self):\n",
    "        return \"{}({})\".format(\n",
    "            self.__class__.__name__,\n",
    "            ', '.join('{k}={v}'.format(\n",
    "                k = k[1:],\n",
    "                v = self.__dict__[k])\n",
    "                      for k in sorted(self.__dict__.keys())))\n",
    "v = Vector(p=3, q=7)\n",
    "v"
   ],
   "metadata": {
    "collapsed": false,
    "pycharm": {
     "name": "#%%\n"
    }
   }
  },
  {
   "cell_type": "code",
   "source": [
    "dir(v)"
   ],
   "metadata": {
    "collapsed": false,
    "pycharm": {
     "name": "#%%\n"
    }
   },
   "execution_count": 65,
   "outputs": [
    {
     "data": {
      "text/plain": "['__class__',\n '__delattr__',\n '__dict__',\n '__dir__',\n '__doc__',\n '__eq__',\n '__format__',\n '__ge__',\n '__getattribute__',\n '__gt__',\n '__hash__',\n '__init__',\n '__init_subclass__',\n '__le__',\n '__lt__',\n '__module__',\n '__ne__',\n '__new__',\n '__reduce__',\n '__reduce_ex__',\n '__repr__',\n '__setattr__',\n '__sizeof__',\n '__str__',\n '__subclasshook__',\n '__weakref__',\n '_p',\n '_q']"
     },
     "execution_count": 65,
     "metadata": {},
     "output_type": "execute_result"
    }
   ]
  },
  {
   "cell_type": "markdown",
   "source": [
    "### <font color=lightGreen>Overriding</font>`__getattr__`\n",
    "To fake the existence of p for read access, and to do that we need to intercept attribute access before the AttributeError is raised.\n"
   ],
   "metadata": {
    "collapsed": false,
    "pycharm": {
     "name": "#%% md\n"
    }
   }
  },
  {
   "cell_type": "code",
   "execution_count": 66,
   "outputs": [
    {
     "data": {
      "text/plain": "Vector(p=3, q=7)"
     },
     "execution_count": 66,
     "metadata": {},
     "output_type": "execute_result"
    }
   ],
   "source": [
    "class Vector(Vector):\n",
    "    def __getattr__(self, name):\n",
    "        private_name = '_' + name\n",
    "        return getattr(self, private_name)\n",
    "v = Vector(p=3, q=7)\n",
    "v"
   ],
   "metadata": {
    "collapsed": false,
    "pycharm": {
     "name": "#%%\n"
    }
   }
  },
  {
   "cell_type": "code",
   "source": [
    "v.p, v.q"
   ],
   "metadata": {
    "collapsed": false,
    "pycharm": {
     "name": "#%%\n"
    }
   },
   "execution_count": 67,
   "outputs": [
    {
     "data": {
      "text/plain": "(3, 7)"
     },
     "execution_count": 67,
     "metadata": {},
     "output_type": "execute_result"
    }
   ]
  },
  {
   "cell_type": "markdown",
   "source": [
    "but still we can create a real attribute p"
   ],
   "metadata": {
    "collapsed": false,
    "pycharm": {
     "name": "#%% md\n"
    }
   }
  },
  {
   "cell_type": "code",
   "execution_count": 68,
   "outputs": [],
   "source": [
    "v.p = 20"
   ],
   "metadata": {
    "collapsed": false,
    "pycharm": {
     "name": "#%%\n"
    }
   }
  },
  {
   "cell_type": "code",
   "source": [
    "v.p, v._p"
   ],
   "metadata": {
    "collapsed": false,
    "pycharm": {
     "name": "#%%\n"
    }
   },
   "execution_count": 69,
   "outputs": [
    {
     "data": {
      "text/plain": "(20, 3)"
     },
     "execution_count": 69,
     "metadata": {},
     "output_type": "execute_result"
    }
   ]
  },
  {
   "cell_type": "markdown",
   "source": [
    "### <font color=lightGreen>Overriding</font>`__setattr__`\n",
    "We can prevent this by overriding `__setattr__` too to intercept attempts to write to our attributes"
   ],
   "metadata": {
    "collapsed": false,
    "pycharm": {
     "name": "#%% md\n"
    }
   }
  },
  {
   "cell_type": "code",
   "execution_count": 69,
   "outputs": [],
   "source": [],
   "metadata": {
    "collapsed": false,
    "pycharm": {
     "name": "#%%\n"
    }
   }
  },
  {
   "cell_type": "code",
   "execution_count": 70,
   "outputs": [
    {
     "data": {
      "text/plain": "Vector(p=3, q=7)"
     },
     "execution_count": 70,
     "metadata": {},
     "output_type": "execute_result"
    }
   ],
   "source": [
    "class Vector(Vector):\n",
    "    def __setattr__(self, name, value):\n",
    "        raise AttributeError(\"Can't set attribute {!r}\".format(name))\n",
    "v = Vector(p=3, q=7)\n",
    "v"
   ],
   "metadata": {
    "collapsed": false,
    "pycharm": {
     "name": "#%%\n"
    }
   }
  },
  {
   "cell_type": "code",
   "source": [
    "v.p, v.q"
   ],
   "metadata": {
    "collapsed": false,
    "pycharm": {
     "name": "#%%\n"
    }
   },
   "execution_count": 71,
   "outputs": [
    {
     "data": {
      "text/plain": "(3, 7)"
     },
     "execution_count": 71,
     "metadata": {},
     "output_type": "execute_result"
    }
   ]
  },
  {
   "cell_type": "markdown",
   "source": [
    "now attributes cannot be changed"
   ],
   "metadata": {
    "collapsed": false,
    "pycharm": {
     "name": "#%% md\n"
    }
   }
  },
  {
   "cell_type": "code",
   "source": [
    "try:\n",
    "    v.p = 20\n",
    "except Exception as e:\n",
    "    print(e.__repr__(), '\\n context: ', e.__context__.__repr__())"
   ],
   "metadata": {
    "collapsed": false,
    "pycharm": {
     "name": "#%%\n"
    }
   },
   "execution_count": 72,
   "outputs": [
    {
     "name": "stdout",
     "output_type": "stream",
     "text": [
      "AttributeError(\"Can't set attribute 'p'\") \n",
      " context:  None\n"
     ]
    }
   ]
  },
  {
   "cell_type": "markdown",
   "source": [
    "### <font color=lightGreen>Pitfalls with</font>`__setattr__`\n",
    "Although `__getattr__` works fine with attributes we've carefully faked, such as p,\n",
    "when we try to access an attribute for which there is no fake support, such as x we get a runtime error, `maximum recursion depth exceeded while calling a Python objec`"
   ],
   "metadata": {
    "collapsed": false,
    "pycharm": {
     "name": "#%% md\n"
    }
   }
  },
  {
   "cell_type": "code",
   "source": [
    "try:\n",
    "    v.x\n",
    "except Exception as e:\n",
    "    print(e.__repr__(), '\\n context: ', e.__context__.__repr__())"
   ],
   "metadata": {
    "collapsed": false,
    "pycharm": {
     "name": "#%%\n"
    }
   },
   "execution_count": 73,
   "outputs": [
    {
     "name": "stdout",
     "output_type": "stream",
     "text": [
      "RecursionError('maximum recursion depth exceeded while calling a Python object') \n",
      " context:  None\n"
     ]
    }
   ]
  },
  {
   "cell_type": "markdown",
   "source": [
    "Instead of invoking getattr, we can just directly return the attribute from `__dict__`."
   ],
   "metadata": {
    "collapsed": false,
    "pycharm": {
     "name": "#%% md\n"
    }
   }
  },
  {
   "cell_type": "code",
   "execution_count": 74,
   "outputs": [
    {
     "data": {
      "text/plain": "Vector(p=3, q=7)"
     },
     "execution_count": 74,
     "metadata": {},
     "output_type": "execute_result"
    }
   ],
   "source": [
    "class Vector(Vector):\n",
    "\n",
    "    def __getattr__(self, name):\n",
    "        private_name = '_' + name\n",
    "        try:\n",
    "            return self.__dict__[private_name]\n",
    "        except KeyError:\n",
    "            raise AttributeError('{!r} object has no attribute {!r}'.format(self.__class__, name))\n",
    "\n",
    "        return getattr(self, private_name)\n",
    "\n",
    "v = Vector(p=3, q=7)\n",
    "v"
   ],
   "metadata": {
    "collapsed": false,
    "pycharm": {
     "name": "#%%\n"
    }
   }
  },
  {
   "cell_type": "code",
   "execution_count": 75,
   "outputs": [
    {
     "data": {
      "text/plain": "(3, 7)"
     },
     "execution_count": 75,
     "metadata": {},
     "output_type": "execute_result"
    }
   ],
   "source": [
    "v.p, v.q"
   ],
   "metadata": {
    "collapsed": false,
    "pycharm": {
     "name": "#%%\n"
    }
   }
  },
  {
   "cell_type": "code",
   "execution_count": 76,
   "outputs": [
    {
     "name": "stdout",
     "output_type": "stream",
     "text": [
      "AttributeError(\"<class '__main__.Vector'> object has no attribute 'x'\") \n",
      " context:  KeyError('_x')\n"
     ]
    }
   ],
   "source": [
    "try:\n",
    "    v.x\n",
    "except Exception as e:\n",
    "    print(e.__repr__(), '\\n context: ', e.__context__.__repr__())"
   ],
   "metadata": {
    "collapsed": false,
    "pycharm": {
     "name": "#%%\n"
    }
   }
  },
  {
   "cell_type": "code",
   "source": [
    "try:\n",
    "    v.x = 5\n",
    "except Exception as e:\n",
    "    print(e.__repr__(), '\\n context: ', e.__context__.__repr__())\n"
   ],
   "metadata": {
    "collapsed": false,
    "pycharm": {
     "name": "#%%\n"
    }
   },
   "execution_count": 77,
   "outputs": [
    {
     "name": "stdout",
     "output_type": "stream",
     "text": [
      "AttributeError(\"Can't set attribute 'x'\") \n",
      " context:  None\n"
     ]
    }
   ]
  },
  {
   "cell_type": "markdown",
   "source": [
    "### <font color=lightGreen>Overriding</font>`__delattr__()`\n",
    "Deleting attributes is something that is very rarely seen in Python, although it is possible\n"
   ],
   "metadata": {
    "collapsed": false,
    "pycharm": {
     "name": "#%% md\n"
    }
   }
  },
  {
   "cell_type": "code",
   "execution_count": 78,
   "outputs": [],
   "source": [
    "delattr(v, '_p')"
   ],
   "metadata": {
    "collapsed": false,
    "pycharm": {
     "name": "#%%\n"
    }
   }
  },
  {
   "cell_type": "code",
   "execution_count": 79,
   "outputs": [],
   "source": [
    "del v._q"
   ],
   "metadata": {
    "collapsed": false,
    "pycharm": {
     "name": "#%%\n"
    }
   }
  },
  {
   "cell_type": "code",
   "source": [
    "v"
   ],
   "metadata": {
    "collapsed": false,
    "pycharm": {
     "name": "#%%\n"
    }
   },
   "execution_count": 80,
   "outputs": [
    {
     "data": {
      "text/plain": "Vector()"
     },
     "execution_count": 80,
     "metadata": {},
     "output_type": "execute_result"
    }
   ]
  },
  {
   "cell_type": "markdown",
   "source": [
    "Although a client is unlikely to attempt this inadvertently, we can prevent it by overriding `__delattr__`"
   ],
   "metadata": {
    "collapsed": false,
    "pycharm": {
     "name": "#%% md\n"
    }
   }
  },
  {
   "cell_type": "code",
   "execution_count": 81,
   "outputs": [
    {
     "data": {
      "text/plain": "Vector(p=3, q=7)"
     },
     "execution_count": 81,
     "metadata": {},
     "output_type": "execute_result"
    }
   ],
   "source": [
    "class Vector(Vector):\n",
    "\n",
    "    def __delattr__(self, name):\n",
    "        raise AttributeError(\"Can't delete attribute {!r}\".format(name))\n",
    "\n",
    "v = Vector(p=3, q=7)\n",
    "v"
   ],
   "metadata": {
    "collapsed": false,
    "pycharm": {
     "name": "#%%\n"
    }
   }
  },
  {
   "cell_type": "code",
   "execution_count": 82,
   "outputs": [
    {
     "name": "stdout",
     "output_type": "stream",
     "text": [
      "AttributeError(\"Can't delete attribute 'p'\") \n",
      " context:  None\n"
     ]
    }
   ],
   "source": [
    "try:\n",
    "    del v.p\n",
    "except Exception as e:\n",
    "    print(e.__repr__(), '\\n context: ', e.__context__.__repr__())"
   ],
   "metadata": {
    "collapsed": false,
    "pycharm": {
     "name": "#%%\n"
    }
   }
  },
  {
   "cell_type": "markdown",
   "source": [
    "### <font color=lightGreen>Customizing attribute storage</font>\n",
    "Store attributes directly in `__dict__`"
   ],
   "metadata": {
    "collapsed": false
   }
  },
  {
   "cell_type": "code",
   "execution_count": 83,
   "outputs": [
    {
     "data": {
      "text/plain": "ColoredVector(color=[23, 44, 238], p=9, q=14)"
     },
     "execution_count": 83,
     "metadata": {},
     "output_type": "execute_result"
    }
   ],
   "source": [
    "class ColoredVector(Vector):\n",
    "        COLOR_INDEXES = ('red', 'green', 'blue')\n",
    "        def __init__(self, red, green, blue, **coords):\n",
    "            super().__init__(**coords)\n",
    "            self.__dict__['_color'] = [red, green, blue]\n",
    "\n",
    "        def __getattr__(self, name):\n",
    "            try:\n",
    "                channel = ColoredVector.COLOR_INDEXES.index(name)\n",
    "            except ValueError:\n",
    "                return super().__getattr__(name)\n",
    "            else:\n",
    "                return self.__dict__['_color'][channel]\n",
    "\n",
    "        def __setattr__(self, name, value):\n",
    "            try:\n",
    "                channel = ColoredVector.COLOR_INDEXES.index(name)\n",
    "            except ValueError:\n",
    "                super().__setattr__(name, value)\n",
    "            else:\n",
    "                self.__dict__['_color']['channel'] = value\n",
    "\n",
    "cv = ColoredVector(red=23, green=44, blue=238, p=9, q=14)\n",
    "cv"
   ],
   "metadata": {
    "collapsed": false,
    "pycharm": {
     "name": "#%%\n"
    }
   }
  },
  {
   "cell_type": "code",
   "execution_count": 84,
   "outputs": [
    {
     "data": {
      "text/plain": "(23, 238, 44, 9, 14)"
     },
     "execution_count": 84,
     "metadata": {},
     "output_type": "execute_result"
    }
   ],
   "source": [
    "cv.red, cv.blue, cv.green, cv.p, cv.q"
   ],
   "metadata": {
    "collapsed": false,
    "pycharm": {
     "name": "#%%\n"
    }
   }
  },
  {
   "cell_type": "code",
   "execution_count": 85,
   "outputs": [
    {
     "data": {
      "text/plain": "['COLOR_INDEXES',\n '__class__',\n '__delattr__',\n '__dict__',\n '__dir__',\n '__doc__',\n '__eq__',\n '__format__',\n '__ge__',\n '__getattr__',\n '__getattribute__',\n '__gt__',\n '__hash__',\n '__init__',\n '__init_subclass__',\n '__le__',\n '__lt__',\n '__module__',\n '__ne__',\n '__new__',\n '__reduce__',\n '__reduce_ex__',\n '__repr__',\n '__setattr__',\n '__sizeof__',\n '__str__',\n '__subclasshook__',\n '__weakref__',\n '_color',\n '_p',\n '_q']"
     },
     "execution_count": 85,
     "metadata": {},
     "output_type": "execute_result"
    }
   ],
   "source": [
    "dir(cv)"
   ],
   "metadata": {
    "collapsed": false,
    "pycharm": {
     "name": "#%%\n"
    }
   }
  },
  {
   "cell_type": "markdown",
   "source": [
    "### <font color=lightGreen>Overriding</font>`__delattribute__()`"
   ],
   "metadata": {
    "collapsed": false
   }
  },
  {
   "cell_type": "code",
   "execution_count": 86,
   "outputs": [
    {
     "data": {
      "text/plain": "{'_p': 3, '_q': 7}"
     },
     "execution_count": 86,
     "metadata": {},
     "output_type": "execute_result"
    }
   ],
   "source": [
    "v.__dict__"
   ],
   "metadata": {
    "collapsed": false,
    "pycharm": {
     "name": "#%%\n"
    }
   }
  },
  {
   "cell_type": "code",
   "execution_count": 87,
   "outputs": [
    {
     "data": {
      "text/plain": "mappingproxy({'__module__': '__main__',\n              'COLOR_INDEXES': ('red', 'green', 'blue'),\n              '__init__': <function __main__.ColoredVector.__init__(self, red, green, blue, **coords)>,\n              '__getattr__': <function __main__.ColoredVector.__getattr__(self, name)>,\n              '__setattr__': <function __main__.ColoredVector.__setattr__(self, name, value)>,\n              '__doc__': None})"
     },
     "execution_count": 87,
     "metadata": {},
     "output_type": "execute_result"
    }
   ],
   "source": [
    "cv.__class__.__dict__"
   ],
   "metadata": {
    "collapsed": false,
    "pycharm": {
     "name": "#%%\n"
    }
   }
  },
  {
   "cell_type": "markdown",
   "source": [
    "### <font color=lightGreen>Trading Size for Dynamism with Slots</font>\n",
    "## <center>`__slots__`</center>\n",
    "Is is a mechanism in Python for reducing memory use\n",
    "with the getsizeof() from the module sys we can find out the size of an object in memory"
   ],
   "metadata": {
    "collapsed": false
   }
  },
  {
   "cell_type": "code",
   "execution_count": 88,
   "outputs": [
    {
     "data": {
      "text/plain": "64"
     },
     "execution_count": 88,
     "metadata": {},
     "output_type": "execute_result"
    }
   ],
   "source": [
    "import sys\n",
    "d = {} #empty dictionary\n",
    "sys.getsizeof(d)"
   ],
   "metadata": {
    "collapsed": false,
    "pycharm": {
     "name": "#%%\n"
    }
   }
  },
  {
   "cell_type": "code",
   "execution_count": 89,
   "outputs": [
    {
     "data": {
      "text/plain": "104"
     },
     "execution_count": 89,
     "metadata": {},
     "output_type": "execute_result"
    }
   ],
   "source": [
    "class Resistor:\n",
    "\n",
    "    def __init__(self, resistance_ohms, tolerance_percent, power_watts):\n",
    "        self._resistance_ohms = resistance_ohms\n",
    "        self._tolerance_percent = tolerance_percent\n",
    "        self._power_watts = power_watts\n",
    "\n",
    "r10 = Resistor(10, 5, 0.25)\n",
    "sys.getsizeof(r10.__dict__)"
   ],
   "metadata": {
    "collapsed": false,
    "pycharm": {
     "name": "#%%\n"
    }
   }
  },
  {
   "cell_type": "code",
   "execution_count": 90,
   "outputs": [],
   "source": [
    "r10.cost_dollars = 0.02"
   ],
   "metadata": {
    "collapsed": false,
    "pycharm": {
     "name": "#%%\n"
    }
   }
  },
  {
   "cell_type": "code",
   "execution_count": 91,
   "outputs": [
    {
     "data": {
      "text/plain": "104"
     },
     "execution_count": 91,
     "metadata": {},
     "output_type": "execute_result"
    }
   ],
   "source": [
    "sys.getsizeof(r10.__dict__)\n"
   ],
   "metadata": {
    "collapsed": false,
    "pycharm": {
     "name": "#%%\n"
    }
   }
  },
  {
   "cell_type": "code",
   "execution_count": 92,
   "outputs": [
    {
     "data": {
      "text/plain": "64"
     },
     "execution_count": 92,
     "metadata": {},
     "output_type": "execute_result"
    }
   ],
   "source": [
    "class Resistor():\n",
    "\n",
    "    __slots__ = ['_resistance_ohms', '_tolerance_percent', '_power_watts']\n",
    "\n",
    "    def __init__(self, resistance_ohms, tolerance_percent, power_watts):\n",
    "        self._resistance_ohms = resistance_ohms\n",
    "        self._tolerance_percent = tolerance_percent\n",
    "        self._power_watts = power_watts\n",
    "\n",
    "r10 = Resistor(10, 5, 0.25)\n",
    "sys.getsizeof(d)"
   ],
   "metadata": {
    "collapsed": false,
    "pycharm": {
     "name": "#%%\n"
    }
   }
  },
  {
   "cell_type": "markdown",
   "source": [
    "There's always a tradeoff, as we can no longer dynamically add attributes to instances of resistor."
   ],
   "metadata": {
    "collapsed": false
   }
  },
  {
   "cell_type": "code",
   "execution_count": 93,
   "outputs": [
    {
     "name": "stdout",
     "output_type": "stream",
     "text": [
      "AttributeError(\"'Resistor' object has no attribute 'cost_dollars'\") \n",
      " context:  None\n"
     ]
    }
   ],
   "source": [
    "try:\n",
    "    r10.cost_dollars = 0.02\n",
    "except Exception as e:\n",
    "    print(e.__repr__(), '\\n context: ', e.__context__.__repr__())"
   ],
   "metadata": {
    "collapsed": false,
    "pycharm": {
     "name": "#%%\n"
    }
   }
  },
  {
   "cell_type": "markdown",
   "source": [
    "This is because the internal structure of resistor no longer contains a dunder dict"
   ],
   "metadata": {
    "collapsed": false,
    "pycharm": {
     "name": "#%% md\n"
    }
   }
  },
  {
   "cell_type": "code",
   "execution_count": 94,
   "outputs": [
    {
     "name": "stdout",
     "output_type": "stream",
     "text": [
      "AttributeError(\"'Resistor' object has no attribute '__dict__'\") \n",
      " context:  None\n"
     ]
    }
   ],
   "source": [
    "try:\n",
    "    r10.__dict__\n",
    "except Exception as e:\n",
    "    print(e.__repr__(), '\\n context: ', e.__context__.__repr__())"
   ],
   "metadata": {
    "collapsed": false,
    "pycharm": {
     "name": "#%%\n"
    }
   }
  },
  {
   "cell_type": "code",
   "execution_count": 95,
   "outputs": [
    {
     "data": {
      "text/plain": "['__class__',\n '__delattr__',\n '__dir__',\n '__doc__',\n '__eq__',\n '__format__',\n '__ge__',\n '__getattribute__',\n '__gt__',\n '__hash__',\n '__init__',\n '__init_subclass__',\n '__le__',\n '__lt__',\n '__module__',\n '__ne__',\n '__new__',\n '__reduce__',\n '__reduce_ex__',\n '__repr__',\n '__setattr__',\n '__sizeof__',\n '__slots__',\n '__str__',\n '__subclasshook__',\n '_power_watts',\n '_resistance_ohms',\n '_tolerance_percent']"
     },
     "execution_count": 95,
     "metadata": {},
     "output_type": "execute_result"
    }
   ],
   "source": [
    "dir(r10)"
   ],
   "metadata": {
    "collapsed": false,
    "pycharm": {
     "name": "#%%\n"
    }
   }
  }
 ],
 "metadata": {
  "kernelspec": {
   "display_name": "Python 3",
   "language": "python",
   "name": "python3"
  },
  "language_info": {
   "codemirror_mode": {
    "name": "ipython",
    "version": 2
   },
   "file_extension": ".py",
   "mimetype": "text/x-python",
   "name": "python",
   "nbconvert_exporter": "python",
   "pygments_lexer": "ipython2",
   "version": "2.7.6"
  }
 },
 "nbformat": 4,
 "nbformat_minor": 0
}