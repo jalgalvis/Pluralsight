{
 "cells": [
  {
   "cell_type": "markdown",
   "source": [
    "# <center><font color=slate>Instance Creation</font></center>\n",
    "The following example models the coordinates on a chess board consisting of a file letter from a to h inclusive,\n",
    "and a rank number from one to eight inclusive.\n",
    "\n",
    "The class implements an immutable value type.\n",
    "\n",
    "The initializer establishes the invariance, and the property accessors prevent inadvertent modification of the encapsulated data.\n",
    "\n",
    "The job of `__init__()` really is just to initialize the object."
   ],
   "metadata": {
    "collapsed": false
   }
  },
  {
   "cell_type": "code",
   "execution_count": 4,
   "outputs": [
    {
     "name": "stdout",
     "output_type": "stream",
     "text": [
      "d4\n"
     ]
    }
   ],
   "source": [
    "class ChessCoordinate:\n",
    "\n",
    "    def __init__(self, file, rank):\n",
    "\n",
    "        if len(file) != 1:\n",
    "            raise ValueError(\"{} component file {!r} does not have a length of one.\"\n",
    "                             .format(self.__class__.__name__, file))\n",
    "\n",
    "        if file not in 'abcdefgh':\n",
    "            raise ValueError(\"{} component file {!r} is out of range.\"\n",
    "                             .format(self.__class__.__name__, file))\n",
    "\n",
    "        if rank not in range(1, 9):\n",
    "            raise ValueError(\"{} component rank {!r} is out of range.\"\n",
    "                             .format(self.__class__.__name__, rank))\n",
    "\n",
    "        self._file = file\n",
    "        self._rank = rank\n",
    "\n",
    "    @property\n",
    "    def file(self):\n",
    "        return self._file\n",
    "\n",
    "    @property\n",
    "    def rank(self):\n",
    "        return self._rank\n",
    "\n",
    "    def __repr__(self):\n",
    "        return \"{}(file={}, rank={})\".format(self.__class__.__name__, self.file, self.rank)\n",
    "\n",
    "    def __str__(self):\n",
    "        return '{}{}'.format(self.file, self.rank)\n",
    "\n",
    "white_queen = ChessCoordinate('d', 4)\n",
    "print(white_queen)"
   ],
   "metadata": {
    "collapsed": false,
    "pycharm": {
     "name": "#%%\n"
    }
   }
  },
  {
   "cell_type": "markdown",
   "source": [
    "On the other hand, `__new__()` is the actual responsible for allocating our object in the base class,\n",
    "in the following part of the example we will override `__new__`\n",
    "\n",
    "One of the reasons to do the validation this way is due to a technique called interning,\n",
    "which can dramatically reduce memory consumption, storing only one copy of each distinct value\n",
    "\n",
    "The class returned from `__new__()` is the same first `self` argument in the `__int__()` method."
   ],
   "metadata": {
    "collapsed": false,
    "pycharm": {
     "name": "#%% md\n"
    }
   }
  },
  {
   "cell_type": "code",
   "execution_count": 10,
   "outputs": [
    {
     "data": {
      "text/plain": "[{'♕♖': ChessCoordinate(file=a, rank=1),\n  '♕♘': ChessCoordinate(file=b, rank=1),\n  '♕♗': ChessCoordinate(file=c, rank=1),\n  '♕♕': ChessCoordinate(file=d, rank=1),\n  '♔♔': ChessCoordinate(file=e, rank=1),\n  '♔♗': ChessCoordinate(file=f, rank=1),\n  '♔♘': ChessCoordinate(file=g, rank=1),\n  '♔♖': ChessCoordinate(file=h, rank=1),\n  '♕♖♙': ChessCoordinate(file=a, rank=2),\n  '♕♘♙': ChessCoordinate(file=b, rank=2),\n  '♕♗♙': ChessCoordinate(file=c, rank=2),\n  '♕♕♙': ChessCoordinate(file=d, rank=2),\n  '♔♔♙': ChessCoordinate(file=e, rank=2),\n  '♔♗♙': ChessCoordinate(file=f, rank=2),\n  '♔♘♙': ChessCoordinate(file=g, rank=2),\n  '♔♖♙': ChessCoordinate(file=h, rank=2),\n  '♛♜': ChessCoordinate(file=a, rank=8),\n  '♛♞': ChessCoordinate(file=b, rank=8),\n  '♛♝': ChessCoordinate(file=c, rank=8),\n  '♛♛': ChessCoordinate(file=d, rank=8),\n  '♚♚': ChessCoordinate(file=e, rank=8),\n  '♚♝': ChessCoordinate(file=f, rank=8),\n  '♚♞': ChessCoordinate(file=g, rank=8),\n  '♚♜': ChessCoordinate(file=h, rank=8),\n  '♛♜♟': ChessCoordinate(file=a, rank=7),\n  '♛♞♟': ChessCoordinate(file=b, rank=7),\n  '♛♝♟': ChessCoordinate(file=c, rank=7),\n  '♛♛♟': ChessCoordinate(file=d, rank=7),\n  '♚♚♟': ChessCoordinate(file=e, rank=7),\n  '♚♝♟': ChessCoordinate(file=f, rank=7),\n  '♚♞♟': ChessCoordinate(file=g, rank=7),\n  '♚♜♟': ChessCoordinate(file=h, rank=7)}]"
     },
     "execution_count": 10,
     "metadata": {},
     "output_type": "execute_result"
    }
   ],
   "source": [
    "class ChessCoordinate:\n",
    "\n",
    "    _interned = {}\n",
    "\n",
    "    def __new__(cls, file, rank):\n",
    "\n",
    "        if len(file) != 1:\n",
    "            raise ValueError(\"{} component file {!r} does not have a length of one.\"\n",
    "                             .format(cls.__name__, file))\n",
    "\n",
    "        if file not in 'abcdefgh':\n",
    "            raise ValueError(\"{} component file {!r} is out of range.\"\n",
    "                             .format(cls.__name__, file))\n",
    "\n",
    "        if rank not in range(1, 9):\n",
    "            raise ValueError(\"{} component rank {!r} is out of range.\"\n",
    "                             .format(cls.__name__, rank))\n",
    "\n",
    "        key = (file, rank)\n",
    "        if key not in cls._interned:\n",
    "            obj = super().__new__(cls)\n",
    "            obj._file = file\n",
    "            obj._rank = rank\n",
    "            cls._interned[key] = obj\n",
    "\n",
    "        return cls._interned[key]\n",
    "\n",
    "    @property\n",
    "    def file(self):\n",
    "        return self._file\n",
    "\n",
    "    @property\n",
    "    def rank(self):\n",
    "        return self._rank\n",
    "\n",
    "    def __repr__(self):\n",
    "        return \"{}(file={}, rank={})\".format(self.__class__.__name__, self.file, self.rank)\n",
    "\n",
    "    def __str__(self):\n",
    "        return '{}{}'.format(self.file, self.rank)\n",
    "\n",
    "\n",
    "def starting_board():\n",
    "    return {'♕♖': ChessCoordinate('a', 1),\n",
    "            '♕♘': ChessCoordinate('b', 1),\n",
    "            '♕♗': ChessCoordinate('c', 1),\n",
    "            '♕♕': ChessCoordinate('d', 1),\n",
    "            '♔♔': ChessCoordinate('e', 1),\n",
    "            '♔♗': ChessCoordinate('f', 1),\n",
    "            '♔♘': ChessCoordinate('g', 1),\n",
    "            '♔♖': ChessCoordinate('h', 1),\n",
    "            '♕♖♙': ChessCoordinate('a', 2),\n",
    "            '♕♘♙': ChessCoordinate('b', 2),\n",
    "            '♕♗♙': ChessCoordinate('c', 2),\n",
    "            '♕♕♙': ChessCoordinate('d', 2),\n",
    "            '♔♔♙': ChessCoordinate('e', 2),\n",
    "            '♔♗♙': ChessCoordinate('f', 2),\n",
    "            '♔♘♙': ChessCoordinate('g', 2),\n",
    "            '♔♖♙': ChessCoordinate('h', 2),\n",
    "            '♛♜': ChessCoordinate('a', 8),\n",
    "            '♛♞': ChessCoordinate('b', 8),\n",
    "            '♛♝': ChessCoordinate('c', 8),\n",
    "            '♛♛': ChessCoordinate('d', 8),\n",
    "            '♚♚': ChessCoordinate('e', 8),\n",
    "            '♚♝': ChessCoordinate('f', 8),\n",
    "            '♚♞': ChessCoordinate('g', 8),\n",
    "            '♚♜': ChessCoordinate('h', 8),\n",
    "            '♛♜♟': ChessCoordinate('a', 7),\n",
    "            '♛♞♟': ChessCoordinate('b', 7),\n",
    "            '♛♝♟': ChessCoordinate('c', 7),\n",
    "            '♛♛♟': ChessCoordinate('d', 7),\n",
    "            '♚♚♟': ChessCoordinate('e', 7),\n",
    "            '♚♝♟': ChessCoordinate('f', 7),\n",
    "            '♚♞♟': ChessCoordinate('g', 7),\n",
    "            '♚♜♟': ChessCoordinate('h', 7),\n",
    "        }\n",
    "\n",
    "\n",
    "boards = [starting_board() for _ in range(1)]\n",
    "boards"
   ],
   "metadata": {
    "collapsed": false,
    "pycharm": {
     "name": "#%%\n"
    }
   }
  },
  {
   "cell_type": "code",
   "execution_count": 5,
   "outputs": [],
   "source": [
    "\n"
   ],
   "metadata": {
    "collapsed": false,
    "pycharm": {
     "name": "#%%\n"
    }
   }
  }
 ],
 "metadata": {
  "kernelspec": {
   "display_name": "Python 3",
   "language": "python",
   "name": "python3"
  },
  "language_info": {
   "codemirror_mode": {
    "name": "ipython",
    "version": 2
   },
   "file_extension": ".py",
   "mimetype": "text/x-python",
   "name": "python",
   "nbconvert_exporter": "python",
   "pygments_lexer": "ipython2",
   "version": "2.7.6"
  }
 },
 "nbformat": 4,
 "nbformat_minor": 0
}