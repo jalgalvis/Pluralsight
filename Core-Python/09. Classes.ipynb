{
 "cells": [
  {
   "cell_type": "code",
   "execution_count": 12,
   "outputs": [],
   "source": [
    "%load_ext autoreload\n",
    "%autoreload 2\n",
    "#Execute all cells, ignore exceptions options not found"
   ],
   "metadata": {
    "collapsed": false,
    "pycharm": {
     "name": "#%%\n"
    }
   }
  },
  {
   "cell_type": "markdown",
   "metadata": {
    "collapsed": true,
    "pycharm": {
     "name": "#%% md\n"
    }
   },
   "source": [
    "# <center><font color=slate>Classes</font></center>\n",
    "\n",
    "***\n",
    "-   Define the structure and behavior of objects\n",
    "-   Act as a template for creating new objects\n",
    "-   Classes control an object's initial state, attributes, and methods\n",
    "\n",
    "Methods are functions within the class\n",
    "Instance-methods are functions which can be called on objects or instances\n",
    "\n",
    "\n",
    "## <center><font color=tomato>Defining Classes</font></center>\n",
    "\n",
    "### `class MyClass:`\n",
    "\n",
    "By convention, class names use upper CamelCase or PascalCase\n"
   ]
  },
  {
   "cell_type": "code",
   "execution_count": 13,
   "outputs": [
    {
     "data": {
      "text/plain": "__main__.ClassTest"
     },
     "execution_count": 13,
     "metadata": {},
     "output_type": "execute_result"
    }
   ],
   "source": [
    "class ClassTest:\n",
    "\n",
    "    def instanceMethod(self):\n",
    "        return \"0001\"\n",
    "ClassTest"
   ],
   "metadata": {
    "collapsed": false,
    "pycharm": {
     "name": "#%%\n"
    }
   }
  },
  {
   "cell_type": "code",
   "execution_count": 14,
   "outputs": [
    {
     "data": {
      "text/plain": "__main__.ClassTest"
     },
     "execution_count": 14,
     "metadata": {},
     "output_type": "execute_result"
    }
   ],
   "source": [
    "c = ClassTest()\n",
    "type(c)"
   ],
   "metadata": {
    "collapsed": false,
    "pycharm": {
     "name": "#%%\n"
    }
   }
  },
  {
   "cell_type": "code",
   "execution_count": 15,
   "outputs": [
    {
     "data": {
      "text/plain": "'0001'"
     },
     "execution_count": 15,
     "metadata": {},
     "output_type": "execute_result"
    }
   ],
   "source": [
    "c.instanceMethod()"
   ],
   "metadata": {
    "collapsed": false,
    "pycharm": {
     "name": "#%%\n"
    }
   }
  },
  {
   "cell_type": "code",
   "execution_count": 16,
   "outputs": [
    {
     "data": {
      "text/plain": "True"
     },
     "execution_count": 16,
     "metadata": {},
     "output_type": "execute_result"
    }
   ],
   "source": [
    "c.instanceMethod() == ClassTest.instanceMethod(c)"
   ],
   "metadata": {
    "collapsed": false,
    "pycharm": {
     "name": "#%%\n"
    }
   }
  },
  {
   "cell_type": "markdown",
   "source": [
    "## `_ _init_ _()`\n",
    "\n",
    "Instance method for initializing new objects\n",
    "\n",
    ">`_ _init_ _()` is an initializer, not a constructor\n",
    ">`_instanceMethod` avoid name clash with instanceMethod()\n",
    ">By convention, implementation details start with underscore\n",
    "\n",
    "-   Instance methods are functions defined within a class and must accept a `self` argument\n",
    "-   Methods are called using the `instance.method()` syntax\n",
    "-   Instance attributes are created simply by assingning to them\n",
    "-   `Implenentation details` are conventionally prefixed with an underscore\n",
    "-   Access to `implementation details` outside a class can be useful during development\n",
    "\n"
   ],
   "metadata": {
    "collapsed": false
   }
  },
  {
   "cell_type": "code",
   "execution_count": 17,
   "outputs": [
    {
     "data": {
      "text/plain": "'0001'"
     },
     "execution_count": 17,
     "metadata": {},
     "output_type": "execute_result"
    }
   ],
   "source": [
    "class ClassTest1:\n",
    "\n",
    "    def __init__(self, instanceAttribute):\n",
    "        self._instanceAttribute = instanceAttribute\n",
    "\n",
    "    def instanceMethod(self):\n",
    "        return self._instanceAttribute\n",
    "\n",
    "c = ClassTest1(\"0001\")\n",
    "c.instanceMethod()"
   ],
   "metadata": {
    "collapsed": false,
    "pycharm": {
     "name": "#%%\n"
    }
   }
  },
  {
   "cell_type": "markdown",
   "source": [
    "## <center><font color=tomato>Class invariants</font></center>\n",
    "\n",
    "Truths about an object that endure for its lifetime\n",
    "\n",
    "for the next example we will establish class invariants for the variable to be 2 letters and 4 numbers\n"
   ],
   "metadata": {
    "collapsed": false,
    "pycharm": {
     "name": "#%% md\n"
    }
   }
  },
  {
   "cell_type": "code",
   "execution_count": 18,
   "outputs": [
    {
     "data": {
      "text/plain": "'DF'"
     },
     "execution_count": 18,
     "metadata": {},
     "output_type": "execute_result"
    }
   ],
   "source": [
    "class ClassTest2:\n",
    "\n",
    "    def __init__(self, instanceAttribute):\n",
    "        if not instanceAttribute[:2].isalpha():\n",
    "            raise ValueError(f\"Not 2 initial letters in '{instanceAttribute}'\")\n",
    "        if not instanceAttribute[:2].isupper():\n",
    "            raise ValueError(f\"Not 2 initial Upper letters in '{instanceAttribute}'\")\n",
    "        if not [instanceAttribute[2:].isdigit() and int(instanceAttribute[2:]) <= 9999]:\n",
    "            raise ValueError(f\"Invalid number in '{instanceAttribute}'\")\n",
    "\n",
    "        self._instanceAttribute = instanceAttribute\n",
    "\n",
    "    def instanceMethod(self):\n",
    "        return self._instanceAttribute\n",
    "\n",
    "    def instanceMethodPartial(self):\n",
    "        return self._instanceAttribute[:2]\n",
    "\n",
    "c = ClassTest2(\"DF1209\")\n",
    "c.instanceMethodPartial()"
   ],
   "metadata": {
    "collapsed": false,
    "pycharm": {
     "name": "#%%\n"
    }
   }
  },
  {
   "cell_type": "code",
   "execution_count": 19,
   "outputs": [
    {
     "name": "stdout",
     "output_type": "stream",
     "text": [
      "TypeError: ClassTest() takes no arguments\n"
     ]
    }
   ],
   "source": [
    "try:\n",
    "    c = ClassTest(\"asdfasdf\")\n",
    "except TypeError as error:\n",
    "    print(f'TypeError: {error}')"
   ],
   "metadata": {
    "collapsed": false,
    "pycharm": {
     "name": "#%%\n"
    }
   }
  },
  {
   "cell_type": "code",
   "execution_count": 20,
   "outputs": [
    {
     "data": {
      "text/plain": "('name', (range(1, 5), 'ABCDFG'))"
     },
     "execution_count": 20,
     "metadata": {},
     "output_type": "execute_result"
    }
   ],
   "source": [
    "class ClassTest3:\n",
    "\n",
    "    def __init__(self, instanceAttribute):\n",
    "        if not instanceAttribute[:2].isalpha():\n",
    "            raise ValueError(f\"Not 2 initial letters in '{instanceAttribute}'\")\n",
    "        if not instanceAttribute[:2].isupper():\n",
    "            raise ValueError(f\"Not 2 initial Upper letters in '{instanceAttribute}'\")\n",
    "        if not [instanceAttribute[2:].isdigit() and int(instanceAttribute[2:]) <= 9999]:\n",
    "            raise ValueError(f\"Invalid number in '{instanceAttribute}'\")\n",
    "\n",
    "        self._instanceAttribute = instanceAttribute\n",
    "\n",
    "\n",
    "class ClassTest4:\n",
    "    def __init__(self, instanceAttribute1,  instanceAttribute2,  instanceAttribute3):\n",
    "        self._instanceAttribute1 = instanceAttribute1\n",
    "        self._instanceAttribute2 = instanceAttribute2\n",
    "        self._instanceAttribute3 = instanceAttribute3\n",
    "\n",
    "    def instanceAttribute1(self):\n",
    "        return self._instanceAttribute1\n",
    "\n",
    "    def instanceAttribute4(self):\n",
    "        return range(1, self._instanceAttribute2), \"ABCDFGKLMNOPQRST\"[:self._instanceAttribute3]\n",
    "\n",
    "c=ClassTest4(instanceAttribute1=\"name\", instanceAttribute2=5, instanceAttribute3=6)\n",
    "c.instanceAttribute1(), c.instanceAttribute4()\n"
   ],
   "metadata": {
    "collapsed": false,
    "pycharm": {
     "name": "#%%\n"
    }
   }
  },
  {
   "cell_type": "markdown",
   "source": [
    "***\n",
    "# <center><font color=slate>Flights Exercise</font><center>\n"
   ],
   "metadata": {
    "collapsed": false,
    "pycharm": {
     "name": "#%% md\n"
    }
   }
  },
  {
   "cell_type": "code",
   "execution_count": 21,
   "outputs": [
    {
     "data": {
      "text/plain": "('G-EUTP', 'Airbus', (range(1, 23), 'ABCDFG'))"
     },
     "execution_count": 21,
     "metadata": {},
     "output_type": "execute_result"
    }
   ],
   "source": [
    "from airtravel import Aircraft\n",
    "c = Aircraft(registration=\"G-EUTP\", model=\"Airbus\", num_rows=22, num_seats_per_row=6)\n",
    "c.registration(), c.model(), c.seating_plan()"
   ],
   "metadata": {
    "collapsed": false,
    "pycharm": {
     "name": "#%%\n"
    }
   }
  },
  {
   "cell_type": "code",
   "execution_count": 22,
   "outputs": [
    {
     "data": {
      "text/plain": "'Airbus 319'"
     },
     "execution_count": 22,
     "metadata": {},
     "output_type": "execute_result"
    }
   ],
   "source": [
    "from airtravel import *\n",
    "f = Flight(number=\"BA759\", aircraft=Aircraft(registration=\"G-EUTP\", model=\"Airbus 319\", num_rows=22, num_seats_per_row=6))\n",
    "f.aircraft_model()"
   ],
   "metadata": {
    "collapsed": false,
    "pycharm": {
     "name": "#%%\n"
    }
   }
  },
  {
   "cell_type": "code",
   "execution_count": 23,
   "outputs": [
    {
     "data": {
      "text/plain": "[None,\n {'A': None, 'B': None, 'C': None, 'D': None, 'F': None, 'G': None},\n {'A': None, 'B': None, 'C': None, 'D': None, 'F': None, 'G': None},\n {'A': None, 'B': None, 'C': None, 'D': None, 'F': None, 'G': None},\n {'A': None, 'B': None, 'C': None, 'D': None, 'F': None, 'G': None},\n {'A': None, 'B': None, 'C': None, 'D': None, 'F': None, 'G': None},\n {'A': None, 'B': None, 'C': None, 'D': None, 'F': None, 'G': None},\n {'A': None, 'B': None, 'C': None, 'D': None, 'F': None, 'G': None},\n {'A': None, 'B': None, 'C': None, 'D': None, 'F': None, 'G': None},\n {'A': None, 'B': None, 'C': None, 'D': None, 'F': None, 'G': None},\n {'A': None, 'B': None, 'C': None, 'D': None, 'F': None, 'G': None},\n {'A': None, 'B': None, 'C': None, 'D': None, 'F': None, 'G': None},\n {'A': None, 'B': None, 'C': None, 'D': None, 'F': None, 'G': None},\n {'A': None, 'B': None, 'C': None, 'D': None, 'F': None, 'G': None},\n {'A': None, 'B': None, 'C': None, 'D': None, 'F': None, 'G': None},\n {'A': None, 'B': None, 'C': None, 'D': None, 'F': None, 'G': None},\n {'A': None, 'B': None, 'C': None, 'D': None, 'F': None, 'G': None},\n {'A': None, 'B': None, 'C': None, 'D': None, 'F': None, 'G': None},\n {'A': None, 'B': None, 'C': None, 'D': None, 'F': None, 'G': None},\n {'A': None, 'B': None, 'C': None, 'D': None, 'F': None, 'G': None},\n {'A': None, 'B': None, 'C': None, 'D': None, 'F': None, 'G': None},\n {'A': None, 'B': None, 'C': None, 'D': None, 'F': None, 'G': None},\n {'A': None, 'B': None, 'C': None, 'D': None, 'F': None, 'G': None}]"
     },
     "execution_count": 23,
     "metadata": {},
     "output_type": "execute_result"
    }
   ],
   "source": [
    "f._seating"
   ],
   "metadata": {
    "collapsed": false,
    "pycharm": {
     "name": "#%%\n"
    }
   }
  },
  {
   "cell_type": "code",
   "execution_count": 24,
   "outputs": [],
   "source": [
    "f.allocate_seats(seat = '12C', passenger ='jalejo')\n",
    "f.allocate_seats(seat = '2C', passenger ='beruba')\n",
    "f.allocate_seats(seat = '1A', passenger ='negro')\n",
    "f.allocate_seats(seat='5A', passenger ='jaimeA')\n",
    "f.allocate_seats(seat = '20A', passenger ='JuanC')"
   ],
   "metadata": {
    "collapsed": false,
    "pycharm": {
     "name": "#%%\n"
    }
   }
  },
  {
   "cell_type": "code",
   "execution_count": 25,
   "outputs": [
    {
     "name": "stdout",
     "output_type": "stream",
     "text": [
      "Invalid row number 50\n"
     ]
    }
   ],
   "source": [
    "try:\n",
    "    f.allocate_seats('50C', 'intruder')\n",
    "except ValueError as error:\n",
    "    print(error)"
   ],
   "metadata": {
    "collapsed": false,
    "pycharm": {
     "name": "#%%\n"
    }
   }
  },
  {
   "cell_type": "code",
   "execution_count": 26,
   "outputs": [
    {
     "name": "stdout",
     "output_type": "stream",
     "text": [
      "seat 12C already occupied\n"
     ]
    }
   ],
   "source": [
    "try:\n",
    "    f.allocate_seats('12C', 'intruder')\n",
    "except ValueError as error:\n",
    "    print(error)"
   ],
   "metadata": {
    "collapsed": false,
    "pycharm": {
     "name": "#%%\n"
    }
   }
  },
  {
   "cell_type": "code",
   "execution_count": 27,
   "outputs": [
    {
     "name": "stdout",
     "output_type": "stream",
     "text": [
      "invalid seat letter 1\n"
     ]
    }
   ],
   "source": [
    "try:\n",
    "    f.allocate_seats('C21', 'intruder')\n",
    "except ValueError as error:\n",
    "    print(error)"
   ],
   "metadata": {
    "collapsed": false,
    "pycharm": {
     "name": "#%%\n"
    }
   }
  },
  {
   "cell_type": "code",
   "execution_count": 28,
   "outputs": [
    {
     "data": {
      "text/plain": "[None,\n {'A': 'negro', 'B': None, 'C': None, 'D': None, 'F': None, 'G': None},\n {'A': None, 'B': None, 'C': 'beruba', 'D': None, 'F': None, 'G': None},\n {'A': None, 'B': None, 'C': None, 'D': None, 'F': None, 'G': None},\n {'A': None, 'B': None, 'C': None, 'D': None, 'F': None, 'G': None},\n {'A': 'jaimeA', 'B': None, 'C': None, 'D': None, 'F': None, 'G': None},\n {'A': None, 'B': None, 'C': None, 'D': None, 'F': None, 'G': None},\n {'A': None, 'B': None, 'C': None, 'D': None, 'F': None, 'G': None},\n {'A': None, 'B': None, 'C': None, 'D': None, 'F': None, 'G': None},\n {'A': None, 'B': None, 'C': None, 'D': None, 'F': None, 'G': None},\n {'A': None, 'B': None, 'C': None, 'D': None, 'F': None, 'G': None},\n {'A': None, 'B': None, 'C': None, 'D': None, 'F': None, 'G': None},\n {'A': None, 'B': None, 'C': 'jalejo', 'D': None, 'F': None, 'G': None},\n {'A': None, 'B': None, 'C': None, 'D': None, 'F': None, 'G': None},\n {'A': None, 'B': None, 'C': None, 'D': None, 'F': None, 'G': None},\n {'A': None, 'B': None, 'C': None, 'D': None, 'F': None, 'G': None},\n {'A': None, 'B': None, 'C': None, 'D': None, 'F': None, 'G': None},\n {'A': None, 'B': None, 'C': None, 'D': None, 'F': None, 'G': None},\n {'A': None, 'B': None, 'C': None, 'D': None, 'F': None, 'G': None},\n {'A': None, 'B': None, 'C': None, 'D': None, 'F': None, 'G': None},\n {'A': 'JuanC', 'B': None, 'C': None, 'D': None, 'F': None, 'G': None},\n {'A': None, 'B': None, 'C': None, 'D': None, 'F': None, 'G': None},\n {'A': None, 'B': None, 'C': None, 'D': None, 'F': None, 'G': None}]"
     },
     "execution_count": 28,
     "metadata": {},
     "output_type": "execute_result"
    }
   ],
   "source": [
    "f._seating"
   ],
   "metadata": {
    "collapsed": false,
    "pycharm": {
     "name": "#%%\n"
    }
   }
  },
  {
   "cell_type": "code",
   "execution_count": 29,
   "outputs": [
    {
     "data": {
      "text/plain": "[None,\n {'A': 'negro', 'B': None, 'C': None, 'D': None, 'F': None, 'G': None},\n {'A': None, 'B': None, 'C': 'beruba', 'D': None, 'F': None, 'G': None},\n {'A': None, 'B': None, 'C': None, 'D': None, 'F': None, 'G': None},\n {'A': None, 'B': None, 'C': None, 'D': None, 'F': None, 'G': None},\n {'A': 'jaimeA', 'B': None, 'C': None, 'D': None, 'F': None, 'G': None},\n {'A': None, 'B': None, 'C': None, 'D': None, 'F': None, 'G': None},\n {'A': None, 'B': None, 'C': None, 'D': None, 'F': None, 'G': None},\n {'A': None, 'B': None, 'C': None, 'D': None, 'F': None, 'G': None},\n {'A': None, 'B': None, 'C': None, 'D': None, 'F': None, 'G': None},\n {'A': None, 'B': None, 'C': None, 'D': None, 'F': None, 'G': None},\n {'A': None, 'B': None, 'C': None, 'D': None, 'F': None, 'G': None},\n {'A': None, 'B': None, 'C': 'jalejo', 'D': None, 'F': None, 'G': None},\n {'A': None, 'B': None, 'C': None, 'D': None, 'F': None, 'G': None},\n {'A': None, 'B': None, 'C': None, 'D': None, 'F': None, 'G': None},\n {'A': None, 'B': None, 'C': None, 'D': None, 'F': None, 'G': None},\n {'A': None, 'B': None, 'C': None, 'D': None, 'F': None, 'G': None},\n {'A': None, 'B': None, 'C': None, 'D': None, 'F': None, 'G': None},\n {'A': None, 'B': None, 'C': None, 'D': None, 'F': None, 'G': None},\n {'A': None, 'B': None, 'C': None, 'D': None, 'F': None, 'G': None},\n {'A': 'JuanC', 'B': None, 'C': None, 'D': None, 'F': None, 'G': None},\n {'A': None, 'B': None, 'C': None, 'D': None, 'F': None, 'G': None},\n {'A': None, 'B': None, 'C': None, 'D': None, 'F': None, 'G': None}]"
     },
     "execution_count": 29,
     "metadata": {},
     "output_type": "execute_result"
    }
   ],
   "source": [
    "from airtravel import make_flight\n",
    "flight = make_flight() #this function creates a flight with the data written above\n",
    "flight._seating"
   ],
   "metadata": {
    "collapsed": false,
    "pycharm": {
     "name": "#%%\n"
    }
   }
  },
  {
   "cell_type": "code",
   "execution_count": 30,
   "outputs": [
    {
     "data": {
      "text/plain": "[None,\n {'A': 'jalejo', 'B': None, 'C': None, 'D': None, 'F': None, 'G': None},\n {'A': 'negro', 'B': None, 'C': 'beruba', 'D': None, 'F': None, 'G': None},\n {'A': None, 'B': None, 'C': None, 'D': None, 'F': None, 'G': None},\n {'A': None, 'B': None, 'C': None, 'D': None, 'F': None, 'G': None},\n {'A': 'jaimeA', 'B': None, 'C': None, 'D': None, 'F': None, 'G': None},\n {'A': None, 'B': None, 'C': None, 'D': None, 'F': None, 'G': None},\n {'A': None, 'B': None, 'C': None, 'D': None, 'F': None, 'G': None},\n {'A': None, 'B': None, 'C': None, 'D': None, 'F': None, 'G': None},\n {'A': None, 'B': None, 'C': None, 'D': None, 'F': None, 'G': None},\n {'A': None, 'B': None, 'C': None, 'D': None, 'F': None, 'G': None},\n {'A': None, 'B': None, 'C': None, 'D': None, 'F': None, 'G': None},\n {'A': None, 'B': None, 'C': None, 'D': None, 'F': None, 'G': None},\n {'A': None, 'B': None, 'C': None, 'D': None, 'F': None, 'G': None},\n {'A': None, 'B': None, 'C': None, 'D': None, 'F': None, 'G': None},\n {'A': None, 'B': None, 'C': None, 'D': None, 'F': None, 'G': None},\n {'A': None, 'B': None, 'C': None, 'D': None, 'F': None, 'G': None},\n {'A': None, 'B': None, 'C': None, 'D': None, 'F': None, 'G': None},\n {'A': None, 'B': None, 'C': None, 'D': None, 'F': None, 'G': None},\n {'A': None, 'B': None, 'C': None, 'D': None, 'F': None, 'G': None},\n {'A': 'JuanC', 'B': None, 'C': None, 'D': None, 'F': None, 'G': None},\n {'A': None, 'B': None, 'C': None, 'D': None, 'F': None, 'G': None},\n {'A': None, 'B': None, 'C': None, 'D': None, 'F': None, 'G': None}]"
     },
     "execution_count": 30,
     "metadata": {},
     "output_type": "execute_result"
    }
   ],
   "source": [
    "flight.relocate_passenger(from_seat='1A', to_seat='2A')\n",
    "flight.relocate_passenger(from_seat='12C', to_seat='1A')\n",
    "flight._seating"
   ],
   "metadata": {
    "collapsed": false,
    "pycharm": {
     "name": "#%%\n"
    }
   }
  },
  {
   "cell_type": "code",
   "execution_count": 31,
   "outputs": [
    {
     "data": {
      "text/plain": "127"
     },
     "execution_count": 31,
     "metadata": {},
     "output_type": "execute_result"
    }
   ],
   "source": [
    "flight.num_available_seats()"
   ],
   "metadata": {
    "collapsed": false,
    "pycharm": {
     "name": "#%%\n"
    }
   }
  },
  {
   "cell_type": "markdown",
   "source": [
    "## <center><font color=tomato>Polymorphism</font></center>\n",
    "\n",
    "-   Using objects of different types through a uniform interface\n",
    "-   It applies to both functions as well as more complex types\n",
    "\n",
    "the following card printer is an example\n",
    ">-   `make_boarding_card()` did not rely on any concrete types.\n",
    ">\n",
    ">-   Any other object that fit the interface would work in place of `console_card_printer()`\n"
   ],
   "metadata": {
    "collapsed": false,
    "pycharm": {
     "name": "#%% md\n"
    }
   }
  },
  {
   "cell_type": "code",
   "execution_count": 38,
   "outputs": [
    {
     "name": "stdout",
     "output_type": "stream",
     "text": [
      "+-------------------------------------------------------------+\n",
      "|                                                             |\n",
      "| Name: JuanC  Flight: BA758  Seat: 20A  Aircraft: Airbus 319 |\n",
      "|                                                             |\n",
      "+-------------------------------------------------------------+\n",
      "\n",
      "+-------------------------------------------------------------+\n",
      "|                                                             |\n",
      "| Name: beruba  Flight: BA758  Seat: 2C  Aircraft: Airbus 319 |\n",
      "|                                                             |\n",
      "+-------------------------------------------------------------+\n",
      "\n",
      "+-------------------------------------------------------------+\n",
      "|                                                             |\n",
      "| Name: jaimeA  Flight: BA758  Seat: 5A  Aircraft: Airbus 319 |\n",
      "|                                                             |\n",
      "+-------------------------------------------------------------+\n",
      "\n",
      "+-------------------------------------------------------------+\n",
      "|                                                             |\n",
      "| Name: jalejo  Flight: BA758  Seat: 1A  Aircraft: Airbus 319 |\n",
      "|                                                             |\n",
      "+-------------------------------------------------------------+\n",
      "\n",
      "+------------------------------------------------------------+\n",
      "|                                                            |\n",
      "| Name: negro  Flight: BA758  Seat: 2A  Aircraft: Airbus 319 |\n",
      "|                                                            |\n",
      "+------------------------------------------------------------+\n",
      "\n"
     ]
    }
   ],
   "source": [
    "from airtravel import console_card_printer\n",
    "flight.make_boarding_cards(console_card_printer)"
   ],
   "metadata": {
    "collapsed": false,
    "pycharm": {
     "name": "#%%\n"
    }
   }
  },
  {
   "cell_type": "markdown",
   "source": [
    "## <center><font color=tomato>Duck Typing</font></center>\n",
    "\n",
    "-   An object's fitness for use is only determined at use\n",
    "-   This is in contrast to compiled languages\n",
    "-   Suitability is not determined by inheritance or interfaces\n",
    "\n",
    "we now create a specific object for AirbusA319 and another for Boeing777 and create a flight for both with `make_flights()` in airtravel.py\n"
   ],
   "metadata": {
    "collapsed": false,
    "pycharm": {
     "name": "#%% md\n"
    }
   }
  },
  {
   "cell_type": "code",
   "execution_count": 33,
   "outputs": [
    {
     "data": {
      "text/plain": "'Airbus A319'"
     },
     "execution_count": 33,
     "metadata": {},
     "output_type": "execute_result"
    }
   ],
   "source": [
    "a, b = make_flights()\n",
    "\n",
    "a.aircraft_model()"
   ],
   "metadata": {
    "collapsed": false,
    "pycharm": {
     "name": "#%%\n"
    }
   }
  },
  {
   "cell_type": "code",
   "execution_count": 34,
   "outputs": [
    {
     "data": {
      "text/plain": "105"
     },
     "execution_count": 34,
     "metadata": {},
     "output_type": "execute_result"
    }
   ],
   "source": [
    "a.num_available_seats()"
   ],
   "metadata": {
    "collapsed": false,
    "pycharm": {
     "name": "#%%\n"
    }
   }
  },
  {
   "cell_type": "code",
   "execution_count": 35,
   "outputs": [
    {
     "data": {
      "text/plain": "'Boeing777'"
     },
     "execution_count": 35,
     "metadata": {},
     "output_type": "execute_result"
    }
   ],
   "source": [
    "b.aircraft_model()"
   ],
   "metadata": {
    "collapsed": false,
    "pycharm": {
     "name": "#%%\n"
    }
   }
  },
  {
   "cell_type": "code",
   "execution_count": 36,
   "outputs": [
    {
     "data": {
      "text/plain": "490"
     },
     "execution_count": 36,
     "metadata": {},
     "output_type": "execute_result"
    }
   ],
   "source": [
    "b.num_available_seats()"
   ],
   "metadata": {
    "collapsed": false,
    "pycharm": {
     "name": "#%%\n"
    }
   }
  },
  {
   "cell_type": "markdown",
   "source": [
    "## <center><font color=tomato>Inheritance</font></center>\n",
    "\n",
    "-   Nominally-typed languages use inheritance for polymorphism.\n",
    "-   Python uses late biding\n",
    "-   You can try any method on any object\n",
    "\n",
    "Inheritance in Python primarily useful for sharing implementation between classes\n",
    "\n",
    "Now in airtravelInheritance.py we implement inheritance extracting the common elements\n",
    "of Airbus A319 and Boeing into a base class from both aircrafts will derive, a class Aircraft\n"
   ],
   "metadata": {
    "collapsed": false,
    "pycharm": {
     "name": "#%% md\n"
    }
   }
  },
  {
   "cell_type": "code",
   "execution_count": 37,
   "outputs": [
    {
     "data": {
      "text/plain": "110"
     },
     "execution_count": 37,
     "metadata": {},
     "output_type": "execute_result"
    }
   ],
   "source": [
    "from airtravelInheritance import *\n",
    "a = AirbusA319(\"jaja\")\n",
    "a.num_seats()\n"
   ],
   "metadata": {
    "collapsed": false,
    "pycharm": {
     "name": "#%%\n"
    }
   }
  }
 ],
 "metadata": {
  "kernelspec": {
   "display_name": "Python 3",
   "language": "python",
   "name": "python3"
  },
  "language_info": {
   "codemirror_mode": {
    "name": "ipython",
    "version": 2
   },
   "file_extension": ".py",
   "mimetype": "text/x-python",
   "name": "python",
   "nbconvert_exporter": "python",
   "pygments_lexer": "ipython2",
   "version": "2.7.6"
  }
 },
 "nbformat": 4,
 "nbformat_minor": 0
}