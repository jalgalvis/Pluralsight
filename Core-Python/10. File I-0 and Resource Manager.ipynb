{
 "cells": [
  {
   "cell_type": "code",
   "execution_count": 158,
   "outputs": [
    {
     "name": "stdout",
     "output_type": "stream",
     "text": [
      "Automatic pdb calling has been turned OFF\n"
     ]
    }
   ],
   "source": [
    "%pdb off"
   ],
   "metadata": {
    "collapsed": false,
    "pycharm": {
     "name": "#%%\n"
    }
   }
  },
  {
   "cell_type": "markdown",
   "metadata": {
    "collapsed": true,
    "pycharm": {
     "name": "#%% md\n"
    }
   },
   "source": [
    "# <center><font color=aqua>Files I-O and Resource Management</font></center>\n",
    "\n",
    "***\n",
    "## <center><font color=tomato>Opening files</font></center>\n",
    "## <center>`open()`</center>\n",
    "\n",
    "Open a file for reading or writing\n",
    "\n",
    "`open()` returns a file like object\n",
    "\n",
    "Arguments:\n",
    "\n",
    "> `file`: the path to the file (required)\n",
    ">\n",
    ">`mode`: read, write, or append, plus binary or text\n",
    ">\n",
    ">`encoding`> encoding to use in text mode, if not specified, Python would chose the default encoding mode.\n"
   ]
  },
  {
   "cell_type": "markdown",
   "source": [
    "### <font color=lightBlue>Binary Mode</font>\n",
    "\n",
    "`<== write()`\n",
    "\n",
    "`==> read()`\n"
   ],
   "metadata": {
    "collapsed": false
   }
  },
  {
   "cell_type": "markdown",
   "source": [
    "### <font color=lightBlue>Text Mode</font>\n",
    "\n",
    "`<==` encode `write()`\n",
    "\n",
    "`==>` decode `read()`\n"
   ],
   "metadata": {
    "collapsed": false
   }
  },
  {
   "cell_type": "markdown",
   "source": [
    "### <font color=lightBlue>Default encoding</font>"
   ],
   "metadata": {
    "collapsed": false
   }
  },
  {
   "cell_type": "code",
   "execution_count": 159,
   "outputs": [
    {
     "data": {
      "text/plain": "'utf-8'"
     },
     "execution_count": 159,
     "metadata": {},
     "output_type": "execute_result"
    }
   ],
   "source": [
    "import sys\n",
    "sys.getdefaultencoding()"
   ],
   "metadata": {
    "collapsed": false,
    "pycharm": {
     "name": "#%%\n"
    }
   }
  },
  {
   "cell_type": "markdown",
   "source": [
    "## <center><font color=tomato>`open()`Modes</font></center>\n",
    "\n",
    "|Modes|Meaning|\n",
    "|-|-|\n",
    "|`'r'`| open for reading\n",
    "|`'w'`| open for writing\n",
    "|`'a'`| open for appending\n",
    "\n",
    "|Selector|Meaning|\n",
    "|-|-|\n",
    "|`'b'`| binary mode\n",
    "|`'t'`| text mode"
   ],
   "metadata": {
    "collapsed": false,
    "pycharm": {
     "name": "#%% md\n"
    }
   }
  },
  {
   "cell_type": "code",
   "execution_count": 160,
   "outputs": [],
   "source": [
    "f = open('wasteland.txt', mode= 'wt', encoding= 'utf-8') #in this case write - text\n"
   ],
   "metadata": {
    "collapsed": false,
    "pycharm": {
     "name": "#%%\n"
    }
   }
  },
  {
   "cell_type": "markdown",
   "source": [
    "***\n",
    "## <center><font color=tomato>Writing text</font></center>\n",
    "## <center>`write()`</center>\n",
    "***\n",
    "Return the number of codepoints written, it does not have to do with file size."
   ],
   "metadata": {
    "collapsed": false,
    "pycharm": {
     "name": "#%% md\n"
    }
   }
  },
  {
   "cell_type": "code",
   "execution_count": 161,
   "outputs": [
    {
     "data": {
      "text/plain": "32"
     },
     "execution_count": 161,
     "metadata": {},
     "output_type": "execute_result"
    }
   ],
   "source": [
    "f.write('What are the roots that clutch, ')"
   ],
   "metadata": {
    "collapsed": false,
    "pycharm": {
     "name": "#%%\n"
    }
   }
  },
  {
   "cell_type": "code",
   "execution_count": 162,
   "outputs": [
    {
     "data": {
      "text/plain": "19"
     },
     "execution_count": 162,
     "metadata": {},
     "output_type": "execute_result"
    }
   ],
   "source": [
    "f.write('what branches grow\\n')"
   ],
   "metadata": {
    "collapsed": false,
    "pycharm": {
     "name": "#%%\n"
    }
   }
  },
  {
   "cell_type": "code",
   "execution_count": 163,
   "outputs": [
    {
     "data": {
      "text/plain": "27"
     },
     "execution_count": 163,
     "metadata": {},
     "output_type": "execute_result"
    }
   ],
   "source": [
    "f.write('Out of this stony rubbish? ')"
   ],
   "metadata": {
    "collapsed": false,
    "pycharm": {
     "name": "#%%\n"
    }
   }
  },
  {
   "cell_type": "code",
   "execution_count": 164,
   "outputs": [],
   "source": [
    "f.close()\n"
   ],
   "metadata": {
    "collapsed": false,
    "pycharm": {
     "name": "#%%\n"
    }
   }
  },
  {
   "cell_type": "markdown",
   "source": [
    "***\n",
    "## <center><font color=tomato>Reading text</font></center>\n",
    "## <center>`readline()`, `readlines()`, `seek()`</center>\n"
   ],
   "metadata": {
    "collapsed": false
   }
  },
  {
   "cell_type": "code",
   "execution_count": 165,
   "outputs": [],
   "source": [
    "g = open(file='wasteland.txt', mode='rt', encoding='utf-8')"
   ],
   "metadata": {
    "collapsed": false,
    "pycharm": {
     "name": "#%%\n"
    }
   }
  },
  {
   "cell_type": "code",
   "execution_count": 166,
   "outputs": [
    {
     "data": {
      "text/plain": "'What are the roots that clutch, '"
     },
     "execution_count": 166,
     "metadata": {},
     "output_type": "execute_result"
    }
   ],
   "source": [
    "g.read(32) #print the first 32 codeponints"
   ],
   "metadata": {
    "collapsed": false,
    "pycharm": {
     "name": "#%%\n"
    }
   }
  },
  {
   "cell_type": "code",
   "execution_count": 167,
   "outputs": [
    {
     "data": {
      "text/plain": "'what branches grow\\nOut of this stony rubbish? '"
     },
     "execution_count": 167,
     "metadata": {},
     "output_type": "execute_result"
    }
   ],
   "source": [
    "g.read()   #print the ret file, where pointer position was left"
   ],
   "metadata": {
    "collapsed": false,
    "pycharm": {
     "name": "#%%\n"
    }
   }
  },
  {
   "cell_type": "code",
   "execution_count": 168,
   "outputs": [
    {
     "data": {
      "text/plain": "''"
     },
     "execution_count": 168,
     "metadata": {},
     "output_type": "execute_result"
    }
   ],
   "source": [
    "g.read()"
   ],
   "metadata": {
    "collapsed": false,
    "pycharm": {
     "name": "#%%\n"
    }
   }
  },
  {
   "cell_type": "code",
   "execution_count": 169,
   "outputs": [
    {
     "data": {
      "text/plain": "0"
     },
     "execution_count": 169,
     "metadata": {},
     "output_type": "execute_result"
    }
   ],
   "source": [
    "g.seek(0)"
   ],
   "metadata": {
    "collapsed": false,
    "pycharm": {
     "name": "#%%\n"
    }
   }
  },
  {
   "cell_type": "code",
   "execution_count": 170,
   "outputs": [
    {
     "data": {
      "text/plain": "'What are the roots that clutch, what branches grow\\n'"
     },
     "execution_count": 170,
     "metadata": {},
     "output_type": "execute_result"
    }
   ],
   "source": [
    "g.readline()"
   ],
   "metadata": {
    "collapsed": false,
    "pycharm": {
     "name": "#%%\n"
    }
   }
  },
  {
   "cell_type": "code",
   "execution_count": 171,
   "outputs": [
    {
     "data": {
      "text/plain": "'Out of this stony rubbish? '"
     },
     "execution_count": 171,
     "metadata": {},
     "output_type": "execute_result"
    }
   ],
   "source": [
    "g.readline()"
   ],
   "metadata": {
    "collapsed": false,
    "pycharm": {
     "name": "#%%\n"
    }
   }
  },
  {
   "cell_type": "code",
   "execution_count": 172,
   "outputs": [
    {
     "data": {
      "text/plain": "0"
     },
     "execution_count": 172,
     "metadata": {},
     "output_type": "execute_result"
    }
   ],
   "source": [
    "g.seek(0)"
   ],
   "metadata": {
    "collapsed": false,
    "pycharm": {
     "name": "#%%\n"
    }
   }
  },
  {
   "cell_type": "code",
   "execution_count": 173,
   "outputs": [
    {
     "data": {
      "text/plain": "['What are the roots that clutch, what branches grow\\n',\n 'Out of this stony rubbish? ']"
     },
     "execution_count": 173,
     "metadata": {},
     "output_type": "execute_result"
    }
   ],
   "source": [
    "g.readlines()"
   ],
   "metadata": {
    "collapsed": false,
    "pycharm": {
     "name": "#%%\n"
    }
   }
  },
  {
   "cell_type": "code",
   "execution_count": 174,
   "outputs": [],
   "source": [
    "g.close()"
   ],
   "metadata": {
    "collapsed": false,
    "pycharm": {
     "name": "#%%\n"
    }
   }
  },
  {
   "cell_type": "markdown",
   "source": [
    "***\n",
    "## <center><font color=tomato>Appending to a file</font></center>\n",
    "## <center>`writelines()`</center>"
   ],
   "metadata": {
    "collapsed": false,
    "pycharm": {
     "name": "#%% md\n"
    }
   }
  },
  {
   "cell_type": "code",
   "execution_count": 175,
   "outputs": [],
   "source": [
    "h= open('wasteland.txt', mode= \"at\", encoding= 'utf-8')"
   ],
   "metadata": {
    "collapsed": false,
    "pycharm": {
     "name": "#%%\n"
    }
   }
  },
  {
   "cell_type": "code",
   "execution_count": 176,
   "outputs": [],
   "source": [
    "h.writelines(\n",
    "    ['Son of man, \\n',\n",
    "    'You cannot say, or guess, '\n",
    "    'for you know only, \\n',\n",
    "     'A heap of broken images, ',\n",
    "     'where the sun beats\\n'])"
   ],
   "metadata": {
    "collapsed": false,
    "pycharm": {
     "name": "#%%\n"
    }
   }
  },
  {
   "cell_type": "code",
   "execution_count": 177,
   "outputs": [],
   "source": [
    "h.close()"
   ],
   "metadata": {
    "collapsed": false,
    "pycharm": {
     "name": "#%%\n"
    }
   }
  },
  {
   "cell_type": "markdown",
   "source": [
    "***\n",
    "## <center><font color=tomato>File iteration</font></center>\n",
    "\n",
    "the following code was writen in files.py to print in console, however it prints with double line space"
   ],
   "metadata": {
    "collapsed": false
   }
  },
  {
   "cell_type": "raw",
   "source": [
    "import sys\n",
    "f = open(sys.argv[1], mode= 'rt', encoding= 'utf-8')\n",
    "for line in f:\n",
    "    print(line)\n",
    "f.close()"
   ],
   "metadata": {
    "collapsed": false
   }
  },
  {
   "cell_type": "code",
   "execution_count": 178,
   "outputs": [
    {
     "name": "stdout",
     "output_type": "stream",
     "text": [
      "Traceback (most recent call last):\r\n",
      "  File \"files.py\", line 2, in <module>\r\n",
      "    f = open(sys.argv[1], mode= 'rt', encoding= 'utf-8')\r\n",
      "TypeError: 'encoding' is an invalid keyword argument for this function\r\n"
     ]
    }
   ],
   "source": [
    "!python files.py wasteland.txt"
   ],
   "metadata": {
    "collapsed": false,
    "pycharm": {
     "name": "#%%\n"
    }
   }
  },
  {
   "cell_type": "markdown",
   "source": [
    "`sys.stdout.write()` will not add newlines like `print()` in files1.py\n",
    "\n",
    "```\n",
    "import sys\n",
    "f = open(sys.argv[1], mode= 'rt', encoding= 'utf-8')\n",
    "for line in f:\n",
    "    sys.stdout.write(line)\n",
    "f.close()\n",
    "```\n"
   ],
   "metadata": {
    "collapsed": false,
    "pycharm": {
     "name": "#%% md\n"
    }
   }
  },
  {
   "cell_type": "code",
   "execution_count": 179,
   "outputs": [
    {
     "name": "stdout",
     "output_type": "stream",
     "text": [
      "Traceback (most recent call last):\r\n",
      "  File \"files1.py\", line 2, in <module>\r\n",
      "    f = open(sys.argv[1], mode= 'rt', encoding= 'utf-8')\r\n",
      "TypeError: 'encoding' is an invalid keyword argument for this function\r\n"
     ]
    }
   ],
   "source": [
    "!python files1.py wasteland.txt"
   ],
   "metadata": {
    "collapsed": false,
    "pycharm": {
     "name": "#%%\n"
    }
   }
  },
  {
   "cell_type": "markdown",
   "source": [
    "***\n",
    "## <center><font color=tomato>Closing files with finally</font></center>"
   ],
   "metadata": {
    "collapsed": false,
    "pycharm": {
     "name": "#%% md\n"
    }
   }
  },
  {
   "cell_type": "code",
   "source": [
    "\n",
    "from itertools import count, islice\n",
    "\n",
    "def sequence():\n",
    "    \"\"\"Generate Recaman's sequence.\"\"\"\n",
    "    seen = set()\n",
    "    a = 0\n",
    "    for n in count(1):\n",
    "        yield a\n",
    "        seen.add(a)\n",
    "        c = a - n\n",
    "        if c < 0 or c in seen:\n",
    "            c = a + n\n",
    "        a = c\n",
    "\n",
    "\n",
    "def write_sequence(filename, num):\n",
    "    \"\"\"Write Recaman's sequence to a text file.\"\"\"\n",
    "    f = open(file=filename, mode='wt', encoding='utf-8')\n",
    "    f.writelines(f\"{r}\\n\"\n",
    "                 for r in islice(sequence(), num + 1))\n",
    "    f.close()\n",
    "\n",
    "write_sequence(filename=\"recaman.dat\",num=1000)"
   ],
   "metadata": {
    "collapsed": false,
    "pycharm": {
     "name": "#%%\n"
    }
   },
   "execution_count": 180,
   "outputs": []
  },
  {
   "cell_type": "code",
   "execution_count": 181,
   "outputs": [
    {
     "name": "stdout",
     "output_type": "stream",
     "text": [
      "file closing\n",
      "[0, 1, 3, 6, 2, 7, 13, 20, 12, 21, 11, 22, 10, 23, 9, 24, 8, 25, 43, 62, 42, 63, 41, 18, 42, 17, 43, 16, 44, 15, 45, 14, 46, 79, 113, 78, 114, 77, 39, 78, 38, 79, 37, 80, 36, 81, 35, 82, 34, 83, 33, 84, 32, 85, 31, 86, 30, 87, 29, 88, 28, 89, 27, 90, 26, 91, 157, 224, 156, 225, 155, 226, 154, 227, 153, 228, 152, 75, 153, 74, 154, 73, 155, 72, 156, 71, 157, 70, 158, 69, 159, 68, 160, 67, 161, 66, 162, 65, 163, 64, 164, 265, 367, 264, 368, 263, 369, 262, 370, 261, 151, 40, 152, 265, 379, 494, 378, 495, 377, 258, 138, 259, 137, 260, 136, 261, 135, 262, 134, 5, 135, 4, 136, 269, 403, 268, 132, 269, 131, 270, 130, 271, 129, 272, 128, 273, 127, 274, 126, 275, 125, 276, 124, 277, 123, 278, 122, 279, 121, 280, 120, 281, 119, 282, 118, 283, 117, 284, 116, 285, 115, 286, 458, 631, 457, 632, 456, 633, 455, 634, 454, 635, 453, 636, 452, 267, 453, 266, 454, 643, 833, 642, 450, 257, 451, 256, 60, 257, 59, 258, 58, 259, 57, 260, 56, 261, 55, 262, 54, 263, 53, 264, 52, 265, 51, 266, 50, 267, 49, 268, 48, 269, 47, 270, 494, 719, 493, 720, 492, 721, 491, 722, 490, 723, 489, 254, 490, 253, 491, 252, 492, 251, 493, 250, 494, 249, 495, 248, 496, 247, 497, 246, 498, 245, 499, 244, 500, 243, 501, 242, 502, 241, 503, 240, 504, 239, 505, 238, 506, 237, 507, 236, 508, 235, 509, 234, 510, 233, 511, 232, 512, 231, 513, 230, 514, 229, 515, 802, 1090, 801, 1091, 800, 1092, 799, 1093, 798, 1094, 797, 1095, 796, 1096, 795, 1097, 794, 1098, 793, 487, 180, 488, 179, 489, 178, 490, 177, 491, 176, 492, 175, 493, 174, 494, 173, 495, 172, 496, 171, 497, 170, 498, 169, 499, 168, 500, 167, 501, 166, 502, 165, 503, 842, 1182, 841, 1183, 840, 1184, 839, 1185, 838, 1186, 837, 1187, 836, 484, 837, 483, 838, 482, 839, 481, 840, 480, 841, 479, 842, 478, 843, 477, 110, 478, 109, 479, 108, 480, 107, 481, 106, 482, 105, 483, 104, 484, 103, 485, 102, 486, 101, 487, 100, 488, 99, 489, 98, 490, 97, 491, 96, 492, 95, 493, 94, 494, 93, 495, 92, 496, 901, 1307, 900, 1308, 899, 1309, 898, 1310, 897, 1311, 896, 1312, 895, 1313, 894, 474, 895, 473, 896, 472, 897, 471, 898, 470, 899, 469, 900, 468, 901, 467, 902, 466, 903, 465, 904, 464, 905, 463, 906, 462, 907, 461, 908, 460, 909, 459, 910, 1362, 1815, 1361, 1816, 1360, 1817, 1359, 1818, 1358, 1819, 1357, 1820, 1356, 891, 425, 892, 424, 893, 423, 894, 422, 895, 421, 896, 420, 897, 419, 898, 418, 899, 417, 900, 416, 901, 415, 902, 414, 903, 413, 904, 412, 905, 411, 906, 410, 907, 409, 908, 408, 909, 407, 910, 406, 911, 405, 912, 404, 913, 1423, 1934, 1422, 1935, 1421, 1936, 1420, 1937, 1419, 1938, 1418, 1939, 1417, 1940, 1416, 1941, 1415, 888, 360, 889, 359, 890, 358, 891, 357, 892, 356, 893, 355, 894, 354, 895, 353, 896, 352, 897, 351, 898, 350, 899, 349, 900, 348, 901, 347, 902, 346, 903, 345, 904, 344, 905, 343, 906, 342, 907, 341, 908, 340, 909, 339, 910, 338, 911, 337, 912, 336, 913, 335, 914, 334, 915, 333, 916, 332, 917, 331, 918, 330, 919, 329, 920, 328, 921, 327, 922, 326, 923, 325, 924, 324, 925, 323, 926, 322, 927, 321, 928, 320, 929, 319, 930, 318, 931, 317, 932, 316, 933, 315, 934, 314, 935, 313, 936, 312, 937, 311, 938, 310, 939, 309, 940, 308, 941, 307, 942, 306, 943, 305, 944, 304, 945, 303, 946, 302, 947, 301, 948, 300, 949, 299, 950, 298, 951, 297, 952, 296, 953, 295, 954, 294, 955, 293, 956, 292, 957, 291, 958, 290, 959, 289, 960, 288, 961, 287, 962, 1638, 2315, 1637, 2316, 1636, 2317, 1635, 2318, 1634, 2319, 1633, 2320, 1632, 2321, 1631, 2322, 1630, 2323, 1629, 2324, 1628, 2325, 1627, 2326, 1626, 2327, 1625, 2328, 1624, 2329, 1623, 2330, 1622, 2331, 1621, 2332, 1620, 2333, 1619, 2334, 1618, 2335, 1617, 2336, 1616, 2337, 1615, 2338, 1614, 2339, 1613, 886, 1614, 885, 1615, 884, 1616, 883, 149, 884, 148, 885, 147, 886, 146, 887, 145, 888, 144, 889, 143, 890, 142, 891, 141, 892, 140, 893, 139, 894, 1650, 2407, 1649, 2408, 1648, 2409, 1647, 2410, 1646, 881, 1647, 880, 112, 881, 111, 882, 1654, 2427, 1653, 878, 1654, 877, 1655, 876, 1656, 875, 1657, 874, 1658, 873, 1659, 872, 1660, 871, 1661, 870, 1662, 869, 1663, 868, 1664, 867, 1665, 866, 1666, 865, 1667, 864, 1668, 863, 1669, 862, 1670, 861, 1671, 860, 1672, 859, 1673, 858, 1674, 857, 1675, 856, 1676, 855, 1677, 854, 1678, 853, 1679, 852, 1680, 851, 1681, 850, 1682, 849, 1683, 848, 1684, 847, 1685, 846, 1686, 845, 1687, 844, 1688, 2533, 3379, 2532, 3380, 2531, 3381, 2530, 3382, 2529, 3383, 2528, 3384, 2527, 3385, 2526, 3386, 2525, 3387, 2524, 3388, 2523, 3389, 2522, 3390, 2521, 1651, 780, 1652, 779, 1653, 778, 1654, 777, 1655, 776, 1656, 775, 1657, 774, 1658, 773, 1659, 772, 1660, 771, 1661, 770, 1662, 769, 1663, 768, 1664, 767, 1665, 766, 1666, 765, 1667, 764, 1668, 763, 1669, 762, 1670, 761, 1671, 760, 1672, 759, 1673, 758, 1674, 757, 1675, 756, 1676, 755, 1677, 754, 1678, 753, 1679, 752, 1680, 751, 1681, 750, 1682, 749, 1683, 748, 1684, 747, 1685, 746, 1686, 745, 1687, 744, 1688, 743, 1689, 742, 1690, 741, 1691, 740, 1692, 739, 1693, 738, 1694, 737, 1695, 736, 1696, 735, 1697, 734, 1698, 733, 1699, 732, 1700, 731, 1701, 730, 1702, 729, 1703, 728, 1704, 727, 1705, 726, 1706, 725, 1707, 724, 1708, 2693, 3679, 2692, 3680, 2691, 3681, 2690, 3682, 2689, 3683, 2688, 3684, 2687, 3685, 2686, 3686]\n"
     ]
    }
   ],
   "source": [
    "def read_series(filename):\n",
    "    try:\n",
    "        f = open(file=filename, mode='rt', encoding='utf-8')\n",
    "        return [int(line.strip()) for line in f]\n",
    "    finally:\n",
    "        print(\"file closing\")\n",
    "        f.close()\n",
    "\n",
    "series = read_series(\"recaman.dat\")\n",
    "print(series)"
   ],
   "metadata": {
    "collapsed": false,
    "pycharm": {
     "name": "#%%\n"
    }
   }
  },
  {
   "cell_type": "markdown",
   "source": [
    "With `finally` the file will be close even if there is an exception in running time"
   ],
   "metadata": {
    "collapsed": false
   }
  },
  {
   "cell_type": "code",
   "execution_count": 182,
   "outputs": [
    {
     "name": "stdout",
     "output_type": "stream",
     "text": [
      "file closing\n",
      "ValueError(\"invalid literal for int() with base 10: 'oops'\") \n",
      " context:  None\n"
     ]
    }
   ],
   "source": [
    "!echo \"oops\" >> recaman.dat # Purposely adding a string in the list of integers\n",
    "try:\n",
    "    series = read_series(\"recaman.dat\")\n",
    "    print(series)\n",
    "except Exception as e:\n",
    "    print(e.__repr__(), '\\n context: ', e.__context__.__repr__())\n"
   ],
   "metadata": {
    "collapsed": false,
    "pycharm": {
     "name": "#%%\n"
    }
   }
  },
  {
   "cell_type": "markdown",
   "source": [
    "***\n",
    "## <center><font color=tomato>File usage pattern</font></center>\n",
    "\n",
    "All files should be closed, if not, data can be lose, or at some point\n",
    "working with several files the system may run out of resources.\n",
    "We want a mechanism to pair `open()` and `close()` automatically.\n",
    "## <center>`with-block`</center>\n",
    "-   Control flow structure for managing resources\n",
    "-   Can be used with any objects - such as files - which support the context-manager protocol\n",
    "\n",
    "Refactoring with `with` in `write_series()`:"
   ],
   "metadata": {
    "collapsed": false
   }
  },
  {
   "cell_type": "code",
   "execution_count": 183,
   "outputs": [],
   "source": [
    "from itertools import count, islice\n",
    "\n",
    "def sequence():\n",
    "    \"\"\"Generate Recaman's sequence.\"\"\"\n",
    "    seen = set()\n",
    "    a = 0\n",
    "    for n in count(1):\n",
    "        yield a\n",
    "        seen.add(a)\n",
    "        c = a - n\n",
    "        if c < 0 or c in seen:\n",
    "            c = a + n\n",
    "        a = c\n",
    "\n",
    "def write_sequence(filename, num):\n",
    "    \"\"\"Write Recaman's sequence to a text file.\"\"\"\n",
    "    with open(file=filename, mode='wt', encoding='utf-8') as f:\n",
    "        f.writelines(f\"{r}\\n\" for r in islice(sequence(), num + 1))\n",
    "\n",
    "write_sequence(filename=\"recaman.dat\",num=1000)\n"
   ],
   "metadata": {
    "collapsed": false,
    "pycharm": {
     "name": "#%%\n"
    }
   }
  },
  {
   "cell_type": "markdown",
   "source": [
    "Code in series1.py has been refactored using `with` in `read series()`:\n"
   ],
   "metadata": {
    "collapsed": false,
    "pycharm": {
     "name": "#%% md\n"
    }
   }
  },
  {
   "cell_type": "code",
   "execution_count": 184,
   "outputs": [
    {
     "name": "stdout",
     "output_type": "stream",
     "text": [
      "[0, 1, 3, 6, 2, 7, 13, 20, 12, 21, 11, 22, 10, 23, 9, 24, 8, 25, 43, 62, 42, 63, 41, 18, 42, 17, 43, 16, 44, 15, 45, 14, 46, 79, 113, 78, 114, 77, 39, 78, 38, 79, 37, 80, 36, 81, 35, 82, 34, 83, 33, 84, 32, 85, 31, 86, 30, 87, 29, 88, 28, 89, 27, 90, 26, 91, 157, 224, 156, 225, 155, 226, 154, 227, 153, 228, 152, 75, 153, 74, 154, 73, 155, 72, 156, 71, 157, 70, 158, 69, 159, 68, 160, 67, 161, 66, 162, 65, 163, 64, 164, 265, 367, 264, 368, 263, 369, 262, 370, 261, 151, 40, 152, 265, 379, 494, 378, 495, 377, 258, 138, 259, 137, 260, 136, 261, 135, 262, 134, 5, 135, 4, 136, 269, 403, 268, 132, 269, 131, 270, 130, 271, 129, 272, 128, 273, 127, 274, 126, 275, 125, 276, 124, 277, 123, 278, 122, 279, 121, 280, 120, 281, 119, 282, 118, 283, 117, 284, 116, 285, 115, 286, 458, 631, 457, 632, 456, 633, 455, 634, 454, 635, 453, 636, 452, 267, 453, 266, 454, 643, 833, 642, 450, 257, 451, 256, 60, 257, 59, 258, 58, 259, 57, 260, 56, 261, 55, 262, 54, 263, 53, 264, 52, 265, 51, 266, 50, 267, 49, 268, 48, 269, 47, 270, 494, 719, 493, 720, 492, 721, 491, 722, 490, 723, 489, 254, 490, 253, 491, 252, 492, 251, 493, 250, 494, 249, 495, 248, 496, 247, 497, 246, 498, 245, 499, 244, 500, 243, 501, 242, 502, 241, 503, 240, 504, 239, 505, 238, 506, 237, 507, 236, 508, 235, 509, 234, 510, 233, 511, 232, 512, 231, 513, 230, 514, 229, 515, 802, 1090, 801, 1091, 800, 1092, 799, 1093, 798, 1094, 797, 1095, 796, 1096, 795, 1097, 794, 1098, 793, 487, 180, 488, 179, 489, 178, 490, 177, 491, 176, 492, 175, 493, 174, 494, 173, 495, 172, 496, 171, 497, 170, 498, 169, 499, 168, 500, 167, 501, 166, 502, 165, 503, 842, 1182, 841, 1183, 840, 1184, 839, 1185, 838, 1186, 837, 1187, 836, 484, 837, 483, 838, 482, 839, 481, 840, 480, 841, 479, 842, 478, 843, 477, 110, 478, 109, 479, 108, 480, 107, 481, 106, 482, 105, 483, 104, 484, 103, 485, 102, 486, 101, 487, 100, 488, 99, 489, 98, 490, 97, 491, 96, 492, 95, 493, 94, 494, 93, 495, 92, 496, 901, 1307, 900, 1308, 899, 1309, 898, 1310, 897, 1311, 896, 1312, 895, 1313, 894, 474, 895, 473, 896, 472, 897, 471, 898, 470, 899, 469, 900, 468, 901, 467, 902, 466, 903, 465, 904, 464, 905, 463, 906, 462, 907, 461, 908, 460, 909, 459, 910, 1362, 1815, 1361, 1816, 1360, 1817, 1359, 1818, 1358, 1819, 1357, 1820, 1356, 891, 425, 892, 424, 893, 423, 894, 422, 895, 421, 896, 420, 897, 419, 898, 418, 899, 417, 900, 416, 901, 415, 902, 414, 903, 413, 904, 412, 905, 411, 906, 410, 907, 409, 908, 408, 909, 407, 910, 406, 911, 405, 912, 404, 913, 1423, 1934, 1422, 1935, 1421, 1936, 1420, 1937, 1419, 1938, 1418, 1939, 1417, 1940, 1416, 1941, 1415, 888, 360, 889, 359, 890, 358, 891, 357, 892, 356, 893, 355, 894, 354, 895, 353, 896, 352, 897, 351, 898, 350, 899, 349, 900, 348, 901, 347, 902, 346, 903, 345, 904, 344, 905, 343, 906, 342, 907, 341, 908, 340, 909, 339, 910, 338, 911, 337, 912, 336, 913, 335, 914, 334, 915, 333, 916, 332, 917, 331, 918, 330, 919, 329, 920, 328, 921, 327, 922, 326, 923, 325, 924, 324, 925, 323, 926, 322, 927, 321, 928, 320, 929, 319, 930, 318, 931, 317, 932, 316, 933, 315, 934, 314, 935, 313, 936, 312, 937, 311, 938, 310, 939, 309, 940, 308, 941, 307, 942, 306, 943, 305, 944, 304, 945, 303, 946, 302, 947, 301, 948, 300, 949, 299, 950, 298, 951, 297, 952, 296, 953, 295, 954, 294, 955, 293, 956, 292, 957, 291, 958, 290, 959, 289, 960, 288, 961, 287, 962, 1638, 2315, 1637, 2316, 1636, 2317, 1635, 2318, 1634, 2319, 1633, 2320, 1632, 2321, 1631, 2322, 1630, 2323, 1629, 2324, 1628, 2325, 1627, 2326, 1626, 2327, 1625, 2328, 1624, 2329, 1623, 2330, 1622, 2331, 1621, 2332, 1620, 2333, 1619, 2334, 1618, 2335, 1617, 2336, 1616, 2337, 1615, 2338, 1614, 2339, 1613, 886, 1614, 885, 1615, 884, 1616, 883, 149, 884, 148, 885, 147, 886, 146, 887, 145, 888, 144, 889, 143, 890, 142, 891, 141, 892, 140, 893, 139, 894, 1650, 2407, 1649, 2408, 1648, 2409, 1647, 2410, 1646, 881, 1647, 880, 112, 881, 111, 882, 1654, 2427, 1653, 878, 1654, 877, 1655, 876, 1656, 875, 1657, 874, 1658, 873, 1659, 872, 1660, 871, 1661, 870, 1662, 869, 1663, 868, 1664, 867, 1665, 866, 1666, 865, 1667, 864, 1668, 863, 1669, 862, 1670, 861, 1671, 860, 1672, 859, 1673, 858, 1674, 857, 1675, 856, 1676, 855, 1677, 854, 1678, 853, 1679, 852, 1680, 851, 1681, 850, 1682, 849, 1683, 848, 1684, 847, 1685, 846, 1686, 845, 1687, 844, 1688, 2533, 3379, 2532, 3380, 2531, 3381, 2530, 3382, 2529, 3383, 2528, 3384, 2527, 3385, 2526, 3386, 2525, 3387, 2524, 3388, 2523, 3389, 2522, 3390, 2521, 1651, 780, 1652, 779, 1653, 778, 1654, 777, 1655, 776, 1656, 775, 1657, 774, 1658, 773, 1659, 772, 1660, 771, 1661, 770, 1662, 769, 1663, 768, 1664, 767, 1665, 766, 1666, 765, 1667, 764, 1668, 763, 1669, 762, 1670, 761, 1671, 760, 1672, 759, 1673, 758, 1674, 757, 1675, 756, 1676, 755, 1677, 754, 1678, 753, 1679, 752, 1680, 751, 1681, 750, 1682, 749, 1683, 748, 1684, 747, 1685, 746, 1686, 745, 1687, 744, 1688, 743, 1689, 742, 1690, 741, 1691, 740, 1692, 739, 1693, 738, 1694, 737, 1695, 736, 1696, 735, 1697, 734, 1698, 733, 1699, 732, 1700, 731, 1701, 730, 1702, 729, 1703, 728, 1704, 727, 1705, 726, 1706, 725, 1707, 724, 1708, 2693, 3679, 2692, 3680, 2691, 3681, 2690, 3682, 2689, 3683, 2688, 3684, 2687, 3685, 2686, 3686]\n"
     ]
    }
   ],
   "source": [
    "\n",
    "def read_series(filename):\n",
    "    with open(file=filename, mode='rt', encoding='utf-8') as f:\n",
    "        return [int(line.strip()) for line in f]\n",
    "\n",
    "series = read_series(\"recaman.dat\")\n",
    "print(series)\n"
   ],
   "metadata": {
    "collapsed": false,
    "pycharm": {
     "name": "#%%\n"
    }
   }
  },
  {
   "cell_type": "code",
   "execution_count": 185,
   "outputs": [
    {
     "name": "stdout",
     "output_type": "stream",
     "text": [
      "ValueError(\"invalid literal for int() with base 10: 'oops'\") \n",
      " context:  None\n"
     ]
    }
   ],
   "source": [
    "!echo \"oops\" >> recaman.dat # Purposely adding a string in the list of integers\n",
    "try:\n",
    "    series = read_series(\"recaman.dat\")\n",
    "    print(series)\n",
    "except Exception as e:\n",
    "    print(e.__repr__(), '\\n context: ', e.__context__.__repr__())"
   ],
   "metadata": {
    "collapsed": false,
    "pycharm": {
     "name": "#%%\n"
    }
   }
  },
  {
   "cell_type": "markdown",
   "source": [
    "***\n",
    "## <center><font color=tomato>Binary files</font></center>\n",
    "\n",
    "-    In the next exercise we will build a bmp writer\n",
    "-    We will implement a `_int32_to_bytes()` and a `_bytes_to_int32()`\n",
    "to convert ints to bytes and vice versa using bitwise operations\n",
    "-   In order to generate a bmp image file we need pixel data, so we will\n",
    "use the following algorithm which produces pixel values for the Mandelbrot set fractal\n"
   ],
   "metadata": {
    "collapsed": false
   }
  },
  {
   "cell_type": "code",
   "execution_count": 186,
   "outputs": [],
   "source": [
    "\"\"\"Computing Mandelbrot sets.\"\"\"\n",
    "\n",
    "import math\n",
    "\n",
    "def mandel(real, imag):\n",
    "    \"\"\"The logarithm of number of iterations needed to\n",
    "    determine whether a complex point is in the\n",
    "    Mandelbrot set.\n",
    "\n",
    "    Args:\n",
    "        real: The real coordinate\n",
    "        imag: The imaginary coordinate\n",
    "\n",
    "    Returns:\n",
    "        An integer in the range 1-255.\n",
    "    \"\"\"\n",
    "    x = 0\n",
    "    y = 0\n",
    "    for i in range(1, 257):\n",
    "        if x*x + y*y > 4.0:\n",
    "            break\n",
    "        xt = real + x*x - y*y\n",
    "        y = imag + 2.0 * x * y\n",
    "        x = xt\n",
    "    return int(math.log(i) * 256 / math.log(256)) - 1\n",
    "\n",
    "def mandelbrot(size_x, size_y):\n",
    "    \"\"\"Make an Mandelbrot set image.\n",
    "\n",
    "    Args:\n",
    "        size_x: Image width\n",
    "        size_y: Image height\n",
    "\n",
    "    Returns:\n",
    "        A list of lists of integers in the range 0-255.\n",
    "    \"\"\"\n",
    "    return [[mandel((3.5 * x / size_x) - 2.5,\n",
    "                    (2.0 * y / size_y) - 1.0)\n",
    "             for x in range(size_x)]\n",
    "            for y in range(size_y)]\n",
    "\n",
    "pixels = mandelbrot(448, 256)"
   ],
   "metadata": {
    "collapsed": false,
    "pycharm": {
     "name": "#%%\n"
    }
   }
  },
  {
   "cell_type": "markdown",
   "source": [
    "The following algorithm will create the binary BMP file"
   ],
   "metadata": {
    "collapsed": false
   }
  },
  {
   "cell_type": "code",
   "execution_count": 187,
   "outputs": [],
   "source": [
    "\"\"\"A module for dealing with BMP bitmap image files.\"\"\"\n",
    "\n",
    "\n",
    "def write_grayscale(filename, pixels):\n",
    "    \"\"\"Creates and writes a grayscale BMP file.\n",
    "\n",
    "    Args:\n",
    "        filename: The name of the BMP file to me created.\n",
    "\n",
    "        pixels: A rectangular image stored as a sequence of rows.\n",
    "            Each row must be an iterable series of integers in the\n",
    "            range 0-255.\n",
    "\n",
    "    Raises:\n",
    "        ValueError: If any of the integer values are out of range.\n",
    "        OSError: If the file couldn't be written.\n",
    "    \"\"\"\n",
    "    height = len(pixels)\n",
    "    width = len(pixels[0])\n",
    "\n",
    "    with open(filename, 'wb') as bmp:\n",
    "        # BMP Header\n",
    "        bmp.write(b'BM')\n",
    "\n",
    "        size_bookmark = bmp.tell()     # The next four bytes hold the filesize as a 32-bit\n",
    "        bmp.write(b'\\x00\\x00\\x00\\x00') # little-endian integer. Zero placeholder for now.\n",
    "\n",
    "        bmp.write(b'\\x00\\x00') # Unused 16-bit integer - should be zero\n",
    "        bmp.write(b'\\x00\\x00') # Unused 16-bit integer - should be zero\n",
    "\n",
    "        pixel_offset_bookmark = bmp.tell() # The next four bytes hold the integer offset to the\n",
    "        bmp.write(b'\\x00\\x00\\x00\\x00')     # pixel data. Zero placeholder for now.\n",
    "\n",
    "        # Image Header\n",
    "        bmp.write(b'\\x28\\x00\\x00\\x00') # Image header size in bytes - 40 decimal\n",
    "        bmp.write(_int32_to_bytes(width))  # Image width in pixels\n",
    "        bmp.write(_int32_to_bytes(height)) # Image height in pixels\n",
    "        bmp.write(b'\\x01\\x00')         # Number of image planes\n",
    "        bmp.write(b'\\x08\\x00')         # Bits per pixel 8 for grayscale\n",
    "        bmp.write(b'\\x00\\x00\\x00\\x00') # No compression\n",
    "        bmp.write(b'\\x00\\x00\\x00\\x00') # Zero for uncompressed images\n",
    "        bmp.write(b'\\x00\\x00\\x00\\x00') # Unused pixels per meter\n",
    "        bmp.write(b'\\x00\\x00\\x00\\x00') # Unused pixels per meter\n",
    "        bmp.write(b'\\x00\\x00\\x00\\x00') # Use whole color table\n",
    "        bmp.write(b'\\x00\\x00\\x00\\x00') # All colors are important\n",
    "\n",
    "        # Color palette - a linear grayscale\n",
    "        for c in range(256):\n",
    "            bmp.write(bytes((c, c, c, 0))) # Blue, Green, Red, Zero\n",
    "\n",
    "        # Pixel data\n",
    "        pixel_data_bookmark = bmp.tell()\n",
    "        for row in reversed(pixels):  # BMP files are bottom to top\n",
    "            row_data = bytes(row)\n",
    "            bmp.write(row_data)\n",
    "            padding = b'\\x00' * ((4 - (len(row) % 4)) % 4)  # Pad row to multiple of four bytes\n",
    "            bmp.write(padding)\n",
    "\n",
    "        # End of file\n",
    "        eof_bookmark = bmp.tell()\n",
    "\n",
    "        # Fill in file size placeholder\n",
    "        bmp.seek(size_bookmark)\n",
    "        bmp.write(_int32_to_bytes(eof_bookmark))\n",
    "\n",
    "        # Fill in pixel offset placeholder\n",
    "        bmp.seek(pixel_offset_bookmark)\n",
    "        bmp.write(_int32_to_bytes(pixel_data_bookmark))\n",
    "\n",
    "\n",
    "def _int32_to_bytes(i):\n",
    "    \"\"\"Convert an integer to four bytes in little-endian format.\"\"\"\n",
    "    # &:  Bitwise-and\n",
    "    # >>: Right-shift\n",
    "    return bytes((i & 0xff,\n",
    "                  i >> 8 & 0xff,\n",
    "                  i >> 16 & 0xff,\n",
    "                  i >> 24 & 0xff))\n",
    "\n",
    "\n",
    "write_grayscale(\"mandel.bmp\", pixels)\n"
   ],
   "metadata": {
    "collapsed": false,
    "pycharm": {
     "name": "#%%\n"
    }
   }
  },
  {
   "cell_type": "markdown",
   "source": [
    "Reading binary data:\n",
    "we will use a function `dimensions` to read the dimensions in pixels from a bmp file."
   ],
   "metadata": {
    "collapsed": false
   }
  },
  {
   "cell_type": "code",
   "execution_count": 188,
   "outputs": [
    {
     "data": {
      "text/plain": "(448, 256)"
     },
     "execution_count": 188,
     "metadata": {},
     "output_type": "execute_result"
    }
   ],
   "source": [
    "\n",
    "def dimensions(filename):\n",
    "    \"\"\"Determine the dimensions in pixels of a BMP image.\n",
    "\n",
    "    Args:\n",
    "        filename: The filename of a BMP file.\n",
    "\n",
    "    Returns:\n",
    "        A tuple containing two integers with the width\n",
    "        and height in pixels.\n",
    "\n",
    "    Raises:\n",
    "        ValueError: If the file was not a BMP file.\n",
    "        OSError: If there was a problem reading the file.\n",
    "    \"\"\"\n",
    "\n",
    "    with open(filename, 'rb') as f:\n",
    "        magic = f.read(2)\n",
    "        if magic != b'BM':\n",
    "            raise ValueError(\"{} is not a BMP file\".format(filename))\n",
    "\n",
    "        f.seek(18)\n",
    "        width_bytes = f.read(4)\n",
    "        height_bytes = f.read(4)\n",
    "\n",
    "        return (_bytes_to_int32(width_bytes),\n",
    "                _bytes_to_int32(height_bytes))\n",
    "\n",
    "\n",
    "def _bytes_to_int32(b):\n",
    "    \"Convert a bytes object containing four bytes into an integer.\"\n",
    "    return b[0] | (b[1] << 8) | (b[2] << 16) | (b[3] << 24)\n",
    "\n",
    "dimensions(\"mandel.bmp\")"
   ],
   "metadata": {
    "collapsed": false,
    "pycharm": {
     "name": "#%%\n"
    }
   }
  },
  {
   "cell_type": "markdown",
   "source": [
    "***\n",
    "## <center><font color=tomato>File-like objects</font></center>\n",
    "\n",
    "-   Objects that behave like files\n",
    "-   A semi-formal protocol\n",
    "-   File behaviours are too varied for a fully/specified protocol\n",
    "\n",
    "### <font color=lightGreen>This one from the disk</font>"
   ],
   "metadata": {
    "collapsed": false,
    "pycharm": {
     "name": "#%% md\n"
    }
   }
  },
  {
   "cell_type": "code",
   "execution_count": 189,
   "outputs": [
    {
     "data": {
      "text/plain": "[9, 8, 9, 9]"
     },
     "execution_count": 189,
     "metadata": {},
     "output_type": "execute_result"
    }
   ],
   "source": [
    "def words_per_line(flo):\n",
    "    return [len(line.split()) for line in flo.readlines()]\n",
    "\n",
    "with open(file= \"wasteland.txt\", mode= 'rt', encoding= 'utf-8') as real_life:\n",
    "    wpl = words_per_line(real_life)\n",
    "wpl"
   ],
   "metadata": {
    "collapsed": false,
    "pycharm": {
     "name": "#%%\n"
    }
   }
  },
  {
   "cell_type": "code",
   "execution_count": 190,
   "outputs": [
    {
     "data": {
      "text/plain": "_io.TextIOWrapper"
     },
     "execution_count": 190,
     "metadata": {},
     "output_type": "execute_result"
    }
   ],
   "source": [
    "type(real_life)"
   ],
   "metadata": {
    "collapsed": false,
    "pycharm": {
     "name": "#%%\n"
    }
   }
  },
  {
   "cell_type": "markdown",
   "source": [
    "### <font color=lightGreen>... and the following from the web</font> "
   ],
   "metadata": {
    "collapsed": false
   }
  },
  {
   "cell_type": "code",
   "execution_count": 191,
   "outputs": [
    {
     "data": {
      "text/plain": "[6, 6, 6, 6, 6, 6, 6, 6, 6, 6, 5, 5, 7, 8, 14, 12, 8]"
     },
     "execution_count": 191,
     "metadata": {},
     "output_type": "execute_result"
    }
   ],
   "source": [
    "from urllib.request import urlopen\n",
    "with urlopen(url= 'http://sixty-north.com/c/t.txt') as web_file:\n",
    "    wlp = words_per_line(web_file)\n",
    "wlp"
   ],
   "metadata": {
    "collapsed": false,
    "pycharm": {
     "name": "#%%\n"
    }
   }
  },
  {
   "cell_type": "code",
   "execution_count": 192,
   "outputs": [
    {
     "data": {
      "text/plain": "http.client.HTTPResponse"
     },
     "execution_count": 192,
     "metadata": {},
     "output_type": "execute_result"
    }
   ],
   "source": [
    "type(web_file)"
   ],
   "metadata": {
    "collapsed": false,
    "pycharm": {
     "name": "#%%\n"
    }
   }
  },
  {
   "cell_type": "markdown",
   "source": [
    "***\n",
    "## <center><font color=tomato>Context manager</font></center>\n",
    "\n",
    "\n",
    "## <center>`closing()`</center>\n",
    "from `contextlib` module\n"
   ],
   "metadata": {
    "collapsed": false,
    "pycharm": {
     "name": "#%% md\n"
    }
   }
  },
  {
   "cell_type": "code",
   "execution_count": 193,
   "outputs": [
    {
     "name": "stdout",
     "output_type": "stream",
     "text": [
      "Open fridge door.\n",
      "Finding bacon...\n",
      "Taking bacon\n",
      "Close fridge door.\n"
     ]
    }
   ],
   "source": [
    "\n",
    "class RefrigeratorRaider:\n",
    "    \"\"\"Raid a refrigerator\"\"\"\n",
    "\n",
    "    def open(self):\n",
    "        print(\"Open fridge door.\")\n",
    "\n",
    "    def take(self, food):\n",
    "        print(f\"Finding {food}...\")\n",
    "        if food == 'deep fried pizza':\n",
    "            raise RuntimeError(\"Health warning!\")\n",
    "        print(f\"Taking {food}\")\n",
    "\n",
    "    def close(self):\n",
    "        print(\"Close fridge door.\")\n",
    "\n",
    "def raid(food):\n",
    "    r = RefrigeratorRaider()\n",
    "    r.open()\n",
    "    r.take(food)\n",
    "    r.close()\n",
    "\n",
    "raid(\"bacon\")"
   ],
   "metadata": {
    "collapsed": false,
    "pycharm": {
     "name": "#%%\n"
    }
   }
  },
  {
   "cell_type": "code",
   "execution_count": 194,
   "outputs": [
    {
     "name": "stdout",
     "output_type": "stream",
     "text": [
      "Open fridge door.\n",
      "Finding deep fried pizza...\n",
      "RuntimeError('Health warning!') \n",
      " context:  None\n"
     ]
    }
   ],
   "source": [
    "try:\n",
    "    raid(\"deep fried pizza\")\n",
    "except Exception as e:\n",
    "    print(e.__repr__(), '\\n context: ', e.__context__.__repr__())"
   ],
   "metadata": {
    "collapsed": false,
    "pycharm": {
     "name": "#%%\n"
    }
   }
  },
  {
   "cell_type": "markdown",
   "source": [
    "\n",
    "Above after raising the exception the refrigerator wasn't closed,\n",
    "let's fix it with `closing()`\n",
    "\n"
   ],
   "metadata": {
    "collapsed": false,
    "pycharm": {
     "name": "#%% md\n"
    }
   }
  },
  {
   "cell_type": "code",
   "execution_count": 195,
   "outputs": [
    {
     "name": "stdout",
     "output_type": "stream",
     "text": [
      "Open fridge door.\n",
      "Finding deep fried pizza...\n",
      "Close fridge door.\n",
      "RuntimeError('Health warning!') \n",
      " context:  None\n"
     ]
    }
   ],
   "source": [
    "from contextlib import closing\n",
    "\n",
    "def raid(food):\n",
    "    with closing(RefrigeratorRaider()) as r:\n",
    "        r.open()\n",
    "        r.take(food)\n",
    "        r.close()\n",
    "\n",
    "try:\n",
    "    raid(\"deep fried pizza\")\n",
    "except Exception as e:\n",
    "    print(e.__repr__(), '\\n context: ', e.__context__.__repr__())"
   ],
   "metadata": {
    "collapsed": false,
    "pycharm": {
     "name": "#%%\n"
    }
   }
  },
  {
   "cell_type": "markdown",
   "source": [
    "Now the door is closed, but if we try with \"bacon\"...\n"
   ],
   "metadata": {
    "collapsed": false,
    "pycharm": {
     "name": "#%% md\n"
    }
   }
  },
  {
   "cell_type": "code",
   "execution_count": 196,
   "outputs": [
    {
     "name": "stdout",
     "output_type": "stream",
     "text": [
      "Open fridge door.\n",
      "Finding bacon...\n",
      "Taking bacon\n",
      "Close fridge door.\n",
      "Close fridge door.\n"
     ]
    }
   ],
   "source": [
    "raid('bacon')"
   ],
   "metadata": {
    "collapsed": false,
    "pycharm": {
     "name": "#%%\n"
    }
   }
  },
  {
   "cell_type": "markdown",
   "source": [
    "The door is closed twice, with closing it's no needed to close again.\n",
    "so we remove the close function and it fixes it all:\n"
   ],
   "metadata": {
    "collapsed": false,
    "pycharm": {
     "name": "#%% md\n"
    }
   }
  },
  {
   "cell_type": "code",
   "execution_count": 197,
   "outputs": [
    {
     "name": "stdout",
     "output_type": "stream",
     "text": [
      "Open fridge door.\n",
      "Finding deep fried pizza...\n",
      "Close fridge door.\n",
      "RuntimeError('Health warning!') \n",
      " context:  None\n"
     ]
    }
   ],
   "source": [
    "from contextlib import closing\n",
    "\n",
    "def raid(food):\n",
    "    with closing(RefrigeratorRaider()) as r:\n",
    "        r.open()\n",
    "        r.take(food)\n",
    "\n",
    "try:\n",
    "    raid(\"deep fried pizza\")\n",
    "except Exception as e:\n",
    "    print(e.__repr__(), '\\n context: ', e.__context__.__repr__())\n"
   ],
   "metadata": {
    "collapsed": false,
    "pycharm": {
     "name": "#%%\n"
    }
   }
  },
  {
   "cell_type": "code",
   "execution_count": 198,
   "outputs": [
    {
     "name": "stdout",
     "output_type": "stream",
     "text": [
      "Open fridge door.\n",
      "Finding bacon...\n",
      "Taking bacon\n",
      "Close fridge door.\n"
     ]
    }
   ],
   "source": [
    "\n",
    "raid('bacon')"
   ],
   "metadata": {
    "collapsed": false,
    "pycharm": {
     "name": "#%%\n"
    }
   }
  },
  {
   "cell_type": "code",
   "execution_count": 198,
   "outputs": [],
   "source": [
    "\n"
   ],
   "metadata": {
    "collapsed": false,
    "pycharm": {
     "name": "#%%\n"
    }
   }
  }
 ],
 "metadata": {
  "kernelspec": {
   "display_name": "Python 3",
   "language": "python",
   "name": "python3"
  },
  "language_info": {
   "codemirror_mode": {
    "name": "ipython",
    "version": 2
   },
   "file_extension": ".py",
   "mimetype": "text/x-python",
   "name": "python",
   "nbconvert_exporter": "python",
   "pygments_lexer": "ipython2",
   "version": "2.7.6"
  }
 },
 "nbformat": 4,
 "nbformat_minor": 0
}