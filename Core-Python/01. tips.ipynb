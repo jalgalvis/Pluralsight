{
 "cells": [
  {
   "cell_type": "markdown",
   "metadata": {
    "collapsed": true,
    "pycharm": {
     "name": "#%% md\n"
    }
   },
   "source": [
    "Test Markdown document\n",
    "======================\n",
    "\n",
    "<h1><font size=5 color=Aquamarine>Colors</font></h1>\n",
    "\n",
    "<https://www.w3schools.com/colors/colors_names.asp>"
   ]
  },
  {
   "cell_type": "markdown",
   "source": [
    "Text\n",
    "----\n",
    "\n",
    "Here is a paragraph with bold text. **This is some bold text.** Here is a\n",
    "paragraph with bold text. __This is also some bold text.__\n",
    "\n",
    "Here is another one with italic text. *This is some italic text.* Here is\n",
    "another one with italic text. _This is some italic text._\n",
    "\n",
    "Here is another one with struckout text. ~~This is some struckout text.~~ with ~\n",
    "\n",
    "[//]: # \"Pycharm is not rendering bold nor italic text\""
   ],
   "metadata": {
    "collapsed": false
   }
  },
  {
   "cell_type": "markdown",
   "source": [
    "Links\n",
    "-----\n",
    "\n",
    "<https://www.w3schools.com/colors/colors_names.asp>\n",
    "\n",
    "Autolink: <http://example.com>\n",
    "\n",
    "Link: [Example](http://example.com)\n",
    "\n",
    "\n",
    "Reference style [link][1].\n",
    "\n",
    "[1]: http://example.com  \"Example\""
   ],
   "metadata": {
    "collapsed": false
   }
  },
  {
   "cell_type": "markdown",
   "source": [
    "Images\n",
    "------\n",
    "\n",
    "Image: ![My image](http://www.agroanalytics.co/wp-content/uploads/2020/02/Photo-by-Deva-Darshan-from-Pexels.jpg)\n"
   ],
   "metadata": {
    "collapsed": false
   }
  },
  {
   "cell_type": "markdown",
   "source": [
    "Headers\n",
    "-------\n",
    "\n",
    "# First level title\n",
    "## Second level title\n",
    "### Third level title\n",
    "#### Fourth level title\n",
    "##### Fifth level title\n",
    "###### Sixth level title\n",
    "\n",
    "### Title with [link](http://localhost)\n",
    "\n",
    "### Title with ![image](http://localhost)\n",
    "[//]: # \"Pycharm is not rendering images this way\"\n"
   ],
   "metadata": {
    "collapsed": false
   }
  },
  {
   "cell_type": "markdown",
   "source": [
    "Code\n",
    "----\n",
    "\n",
    "```\n",
    "This\n",
    "  is\n",
    "    code\n",
    "      fence\n",
    "```\n",
    "\n",
    "Inline `code span in a` paragraph.\n",
    "\n",
    "This is a code block:\n",
    "\n",
    "    /**\n",
    "     * Sorts the specified array into ascending numerical order.\n",
    "     *\n",
    "     * <p>Implementation note: The sorting algorithm is a Dual-Pivot Quicksort\n",
    "     * by Vladimir Yaroslavskiy, Jon Bentley, and Joshua Bloch. This algorithm\n",
    "     * offers O(n log(n)) performance on many data sets that cause other\n",
    "     * quicksorts to degrade to quadratic performance, and is typically\n",
    "     * faster than traditional (one-pivot) Quicksort implementations.\n",
    "     *\n",
    "     * @param a the array to be sorted\n",
    "     */\n",
    "    public static void sort(byte[] a) {\n",
    "        DualPivotQuicksort.sort(a);\n",
    "    }"
   ],
   "metadata": {
    "collapsed": false
   }
  },
  {
   "cell_type": "markdown",
   "source": [
    "Quotes\n",
    "------\n",
    "\n",
    "> This is the first level of quoting.\n",
    ">\n",
    "> > This is nested blockquote.\n",
    ">\n",
    "> Back to the first level.\n",
    "\n",
    "\n",
    "> A list within a blockquote:\n",
    ">\n",
    "> *\tasterisk 1\n",
    "> *\tasterisk 2\n",
    "> *\tasterisk 3\n",
    "\n",
    "\n",
    "> Formatting within a blockquote:\n",
    ">\n",
    "> ### header\n",
    "> Link: [Example](http://example.com)"
   ],
   "metadata": {
    "collapsed": false
   }
  },
  {
   "cell_type": "markdown",
   "source": [
    "Html\n",
    "-------\n",
    "\n",
    "This is inline <span>html</html>.\n",
    "And this is an html block.\n",
    "\n",
    "<table>\n",
    "  <tr>\n",
    "    <th>Column 1</th>\n",
    "    <th>Column 2</th>\n",
    "  </tr>\n",
    "  <tr>\n",
    "    <td>Row 1 Cell 1</td>\n",
    "    <td>Row 1 Cell 2</td>\n",
    "  </tr>\n",
    "  <tr>\n",
    "    <td>Row 2 Cell 1</td>\n",
    "    <td>Row 2 Cell 2</td>\n",
    "  </tr>\n",
    "</table>"
   ],
   "metadata": {
    "collapsed": false
   }
  },
  {
   "cell_type": "markdown",
   "source": [
    "Horizontal rules\n",
    "----------------\n",
    "\n",
    "---\n",
    "\n",
    "___\n",
    "\n",
    "\n",
    "***"
   ],
   "metadata": {
    "collapsed": false
   }
  },
  {
   "cell_type": "markdown",
   "source": [
    "Lists\n",
    "-----\n",
    "\n",
    "Unordered list:\n",
    "\n",
    "*\tasterisk 1\n",
    "*\tasterisk 2\n",
    "*\tasterisk 3\n",
    "\n",
    "\n",
    "Ordered list:\n",
    "\n",
    "1.\tFirst\n",
    "2.\tSecond\n",
    "3.\tThird\n",
    "\n",
    "\n",
    "Mixed:\n",
    "\n",
    "1. First\n",
    "2. Second:\n",
    "\t* Fee\n",
    "\t* Fie\n",
    "\t* Foe\n",
    "3. Third\n",
    "\n",
    "\n",
    "Tables:\n",
    "\n",
    "| Header 1 | Header 2 |\n",
    "| -------- | -------- |\n",
    "| Data 1   | Data 2   |"
   ],
   "metadata": {
    "collapsed": false
   }
  },
  {
   "cell_type": "markdown",
   "source": [
    "# Formulas\n",
    "\n",
    "$e^{i\\pi} + 1 = 0$\n",
    "\n",
    "$$e^x=\\sum_{i=0}^\\infty \\frac{1}{i!}x^i$$\n",
    "\n",
    "$$e^x=\\sum_{i=0}^\\infty \\frac{1}{i!}x^i$$"
   ],
   "metadata": {
    "collapsed": false
   }
  }
 ],
 "metadata": {
  "kernelspec": {
   "name": "python3",
   "language": "python",
   "display_name": "Python 3"
  },
  "language_info": {
   "codemirror_mode": {
    "name": "ipython",
    "version": 2
   },
   "file_extension": ".py",
   "mimetype": "text/x-python",
   "name": "python",
   "nbconvert_exporter": "python",
   "pygments_lexer": "ipython2",
   "version": "2.7.6"
  }
 },
 "nbformat": 4,
 "nbformat_minor": 0
}