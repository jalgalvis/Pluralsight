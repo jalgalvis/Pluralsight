{
 "cells": [
  {
   "cell_type": "markdown",
   "source": [
    "# <center><font color=slate>Modularity</font>\n",
    "\n",
    "***\n",
    "\n",
    "## <center><font color=tomato>Functions</font></center>"
   ],
   "metadata": {
    "collapsed": false
   }
  },
  {
   "cell_type": "markdown",
   "source": [
    "### <font color=lightGreen>Basics</font>"
   ],
   "metadata": {
    "collapsed": false
   }
  },
  {
   "cell_type": "markdown",
   "source": [
    "With return"
   ],
   "metadata": {
    "collapsed": false,
    "pycharm": {
     "name": "#%% md\n"
    }
   }
  },
  {
   "cell_type": "code",
   "execution_count": null,
   "outputs": [],
   "source": [
    "def square(x):\n",
    "    return  x * x\n",
    "\n",
    "square(5)"
   ],
   "metadata": {
    "collapsed": false,
    "pycharm": {
     "name": "#%%\n"
    }
   }
  },
  {
   "cell_type": "markdown",
   "source": [
    "No return - side effects"
   ],
   "metadata": {
    "collapsed": false,
    "pycharm": {
     "name": "#%% md\n"
    }
   }
  },
  {
   "cell_type": "code",
   "execution_count": null,
   "outputs": [],
   "source": [
    "def launch_missiles():\n",
    "    print(\"Missiles launched\")"
   ],
   "metadata": {
    "collapsed": false,
    "pycharm": {
     "name": "#%%\n"
    }
   }
  },
  {
   "cell_type": "code",
   "execution_count": 3,
   "outputs": [
    {
     "name": "stdout",
     "output_type": "stream",
     "text": [
      "Missiles launched\n"
     ]
    }
   ],
   "source": [
    "launch_missiles()"
   ],
   "metadata": {
    "collapsed": false,
    "pycharm": {
     "name": "#%%\n"
    }
   }
  },
  {
   "cell_type": "markdown",
   "source": [
    "When no explicit return functions returns none"
   ],
   "metadata": {
    "collapsed": false,
    "pycharm": {
     "name": "#%% md\n"
    }
   }
  },
  {
   "cell_type": "code",
   "execution_count": 2,
   "outputs": [
    {
     "name": "stdout",
     "output_type": "stream",
     "text": [
      "odd\n"
     ]
    }
   ],
   "source": [
    "def even_or_odd(n):\n",
    "    if n % 2 == 0:\n",
    "        print('even')\n",
    "        return\n",
    "    print('odd')\n",
    "w = even_or_odd(31)"
   ],
   "metadata": {
    "collapsed": false,
    "pycharm": {
     "name": "#%%\n"
    }
   }
  },
  {
   "cell_type": "code",
   "execution_count": 6,
   "outputs": [
    {
     "data": {
      "text/plain": "True"
     },
     "execution_count": 6,
     "metadata": {},
     "output_type": "execute_result"
    }
   ],
   "source": [
    "w is None"
   ],
   "metadata": {
    "collapsed": false,
    "pycharm": {
     "name": "#%%\n"
    }
   }
  },
  {
   "cell_type": "markdown",
   "source": [
    "### <font color=lightGreen>Functions with one point of return</font>"
   ],
   "metadata": {
    "collapsed": false,
    "pycharm": {
     "name": "#%% md\n"
    }
   }
  },
  {
   "cell_type": "code",
   "execution_count": 3,
   "outputs": [
    {
     "data": {
      "text/plain": "4.0"
     },
     "execution_count": 3,
     "metadata": {},
     "output_type": "execute_result"
    }
   ],
   "source": [
    "def nth_root(radicand, n):\n",
    "    return radicand ** (1/n)\n",
    "nth_root(16,2)"
   ],
   "metadata": {
    "collapsed": false,
    "pycharm": {
     "name": "#%%\n"
    }
   }
  },
  {
   "cell_type": "markdown",
   "source": [
    "### <font color=lightGreen>Functions with several points of return</font>\n"
   ],
   "metadata": {
    "collapsed": false,
    "pycharm": {
     "name": "#%% md\n"
    }
   }
  },
  {
   "cell_type": "code",
   "execution_count": 9,
   "outputs": [
    {
     "name": "stdout",
     "output_type": "stream",
     "text": [
      "The 2nd root of 16 is 4\n"
     ]
    }
   ],
   "source": [
    "def ordinal_suffix(value):\n",
    "    s = str(value)\n",
    "    if s.endswith('11'):\n",
    "        return 'th'\n",
    "    elif s.endswith('12'):\n",
    "        return 'th'\n",
    "    elif s.endswith('13'):\n",
    "        return 'th'\n",
    "    elif s.endswith('1'):\n",
    "        return 'st'\n",
    "    elif s.endswith('2'):\n",
    "        return 'nd'\n",
    "    elif s.endswith('3'):\n",
    "        return 'rd'\n",
    "    return 'th'\n",
    "\n",
    "def ordinal(value):\n",
    "    return str(value) + ordinal_suffix(value)\n",
    "\n",
    "def display_nth_root(radicand,n):\n",
    "    root = nth_root(radicand,n)\n",
    "    message = 'The ' + ordinal(n) + ' root of ' + str(radicand) + ' is ' + str(int(root))\n",
    "    print(message)\n",
    "\n",
    "display_nth_root(16,2)"
   ],
   "metadata": {
    "collapsed": false,
    "pycharm": {
     "name": "#%%\n"
    }
   }
  },
  {
   "cell_type": "markdown",
   "source": [
    "***\n",
    "## <center><font color=tomato>Make a function a module and a script</font></center>\n",
    "# <center>`__name__`</center>\n",
    "\n",
    "- Specially named variable allowing us to detect whether a module is run as\n",
    "a script or imported into another module.\n",
    "- Using __name__ we can use the file words.py as a module or an independent script\n",
    "With the following code at the end of the file we make it usable both as module and script:\n"
   ],
   "metadata": {
    "collapsed": false
   }
  },
  {
   "cell_type": "raw",
   "source": [
    "....\n",
    "\n",
    "def main():\n",
    "    words = fetch_words_HCU()\n",
    "    print_items_HCU(words)\n",
    "\n",
    "if __name__ == '__main__':\n",
    "    main()"
   ],
   "metadata": {
    "collapsed": false,
    "pycharm": {
     "name": "#%% raw\n"
    }
   }
  },
  {
   "cell_type": "markdown",
   "source": [
    "In the following example URL is hard code:\n"
   ],
   "metadata": {
    "collapsed": false
   }
  },
  {
   "cell_type": "code",
   "source": [
    "from wordsHardCodedUrl import (print_items_HCU,fetch_words_HCU)\n",
    "print_items_HCU(fetch_words_HCU())"
   ],
   "metadata": {
    "collapsed": false,
    "pycharm": {
     "name": "#%%\n"
    }
   },
   "execution_count": 4,
   "outputs": [
    {
     "name": "stdout",
     "output_type": "stream",
     "text": [
      "It\n",
      "was\n",
      "the\n",
      "best\n",
      "of\n",
      "times\n",
      "it\n",
      "was\n",
      "the\n",
      "worst\n",
      "of\n",
      "times\n",
      "it\n",
      "was\n",
      "the\n",
      "age\n",
      "of\n",
      "wisdom\n",
      "it\n",
      "was\n",
      "the\n",
      "age\n",
      "of\n",
      "foolishness\n",
      "it\n",
      "was\n",
      "the\n",
      "epoch\n",
      "of\n",
      "belief\n",
      "it\n",
      "was\n",
      "the\n",
      "epoch\n",
      "of\n",
      "incredulity\n",
      "it\n",
      "was\n",
      "the\n",
      "season\n",
      "of\n",
      "Light\n",
      "it\n",
      "was\n",
      "the\n",
      "season\n",
      "of\n",
      "Darkness\n",
      "it\n",
      "was\n",
      "the\n",
      "spring\n",
      "of\n",
      "hope\n",
      "it\n",
      "was\n",
      "the\n",
      "winter\n",
      "of\n",
      "despair\n",
      "we\n",
      "had\n",
      "everything\n",
      "before\n",
      "us\n",
      "we\n",
      "had\n",
      "nothing\n",
      "before\n",
      "us\n",
      "we\n",
      "were\n",
      "all\n",
      "going\n",
      "direct\n",
      "to\n",
      "Heaven\n",
      "we\n",
      "were\n",
      "all\n",
      "going\n",
      "direct\n",
      "the\n",
      "other\n",
      "way\n",
      "in\n",
      "short\n",
      "the\n",
      "period\n",
      "was\n",
      "so\n",
      "far\n",
      "like\n",
      "the\n",
      "present\n",
      "period\n",
      "that\n",
      "some\n",
      "of\n",
      "its\n",
      "noisiest\n",
      "authorities\n",
      "insisted\n",
      "on\n",
      "its\n",
      "being\n",
      "received\n",
      "for\n",
      "good\n",
      "or\n",
      "for\n",
      "evil\n",
      "in\n",
      "the\n",
      "superlative\n",
      "degree\n",
      "of\n",
      "comparison\n",
      "only\n"
     ]
    }
   ]
  },
  {
   "cell_type": "markdown",
   "source": [
    "Same as previous example passing URL as a parameter.\n",
    "\n",
    "To make it work as a script on the REPL tt would require\n",
    "to import the attribute argv from the sys module in order\n",
    "to access command line arguments."
   ],
   "metadata": {
    "collapsed": false,
    "pycharm": {
     "name": "#%% md\n"
    }
   }
  },
  {
   "cell_type": "code",
   "execution_count": 11,
   "outputs": [
    {
     "name": "stdout",
     "output_type": "stream",
     "text": [
      "It\n",
      "was\n",
      "the\n",
      "best\n",
      "of\n",
      "times\n",
      "it\n",
      "was\n",
      "the\n",
      "worst\n",
      "of\n",
      "times\n",
      "it\n",
      "was\n",
      "the\n",
      "age\n",
      "of\n",
      "wisdom\n",
      "it\n",
      "was\n",
      "the\n",
      "age\n",
      "of\n",
      "foolishness\n",
      "it\n",
      "was\n",
      "the\n",
      "epoch\n",
      "of\n",
      "belief\n",
      "it\n",
      "was\n",
      "the\n",
      "epoch\n",
      "of\n",
      "incredulity\n",
      "it\n",
      "was\n",
      "the\n",
      "season\n",
      "of\n",
      "Light\n",
      "it\n",
      "was\n",
      "the\n",
      "season\n",
      "of\n",
      "Darkness\n",
      "it\n",
      "was\n",
      "the\n",
      "spring\n",
      "of\n",
      "hope\n",
      "it\n",
      "was\n",
      "the\n",
      "winter\n",
      "of\n",
      "despair\n",
      "we\n",
      "had\n",
      "everything\n",
      "before\n",
      "us\n",
      "we\n",
      "had\n",
      "nothing\n",
      "before\n",
      "us\n",
      "we\n",
      "were\n",
      "all\n",
      "going\n",
      "direct\n",
      "to\n",
      "Heaven\n",
      "we\n",
      "were\n",
      "all\n",
      "going\n",
      "direct\n",
      "the\n",
      "other\n",
      "way\n",
      "in\n",
      "short\n",
      "the\n",
      "period\n",
      "was\n",
      "so\n",
      "far\n",
      "like\n",
      "the\n",
      "present\n",
      "period\n",
      "that\n",
      "some\n",
      "of\n",
      "its\n",
      "noisiest\n",
      "authorities\n",
      "insisted\n",
      "on\n",
      "its\n",
      "being\n",
      "received\n",
      "for\n",
      "good\n",
      "or\n",
      "for\n",
      "evil\n",
      "in\n",
      "the\n",
      "superlative\n",
      "degree\n",
      "of\n",
      "comparison\n",
      "only\n"
     ]
    }
   ],
   "source": [
    "from words import (print_items,fetch_words)\n",
    "\n",
    "print_items(fetch_words(url='http://sixty-north.com/c/t.txt'))"
   ],
   "metadata": {
    "collapsed": false,
    "pycharm": {
     "name": "#%%\n"
    }
   }
  },
  {
   "cell_type": "code",
   "execution_count": 13,
   "outputs": [
    {
     "name": "stdout",
     "output_type": "stream",
     "text": [
      "It\r\n",
      "was\r\n",
      "the\r\n",
      "best\r\n",
      "of\r\n",
      "times\r\n",
      "it\r\n",
      "was\r\n",
      "the\r\n",
      "worst\r\n",
      "of\r\n",
      "times\r\n",
      "it\r\n",
      "was\r\n",
      "the\r\n",
      "age\r\n",
      "of\r\n",
      "wisdom\r\n",
      "it\r\n",
      "was\r\n",
      "the\r\n",
      "age\r\n",
      "of\r\n",
      "foolishness\r\n",
      "it\r\n",
      "was\r\n",
      "the\r\n",
      "epoch\r\n",
      "of\r\n",
      "belief\r\n",
      "it\r\n",
      "was\r\n",
      "the\r\n",
      "epoch\r\n",
      "of\r\n",
      "incredulity\r\n",
      "it\r\n",
      "was\r\n",
      "the\r\n",
      "season\r\n",
      "of\r\n",
      "Light\r\n",
      "it\r\n",
      "was\r\n",
      "the\r\n",
      "season\r\n",
      "of\r\n",
      "Darkness\r\n",
      "it\r\n",
      "was\r\n",
      "the\r\n",
      "spring\r\n",
      "of\r\n",
      "hope\r\n",
      "it\r\n",
      "was\r\n",
      "the\r\n",
      "winter\r\n",
      "of\r\n",
      "despair\r\n",
      "we\r\n",
      "had\r\n",
      "everything\r\n",
      "before\r\n",
      "us\r\n",
      "we\r\n",
      "had\r\n",
      "nothing\r\n",
      "before\r\n",
      "us\r\n",
      "we\r\n",
      "were\r\n",
      "all\r\n",
      "going\r\n",
      "direct\r\n",
      "to\r\n",
      "Heaven\r\n",
      "we\r\n",
      "were\r\n",
      "all\r\n",
      "going\r\n",
      "direct\r\n",
      "the\r\n",
      "other\r\n",
      "way\r\n",
      "in\r\n",
      "short\r\n",
      "the\r\n",
      "period\r\n",
      "was\r\n",
      "so\r\n",
      "far\r\n",
      "like\r\n",
      "the\r\n",
      "present\r\n",
      "period\r\n",
      "that\r\n",
      "some\r\n",
      "of\r\n",
      "its\r\n",
      "noisiest\r\n",
      "authorities\r\n",
      "insisted\r\n",
      "on\r\n",
      "its\r\n",
      "being\r\n",
      "received\r\n",
      "for\r\n",
      "good\r\n",
      "or\r\n",
      "for\r\n",
      "evil\r\n",
      "in\r\n",
      "the\r\n",
      "superlative\r\n",
      "degree\r\n",
      "of\r\n",
      "comparison\r\n",
      "only\r\n"
     ]
    }
   ],
   "source": [
    "!python3 words.py 'http://sixty-north.com/c/t.txt'"
   ],
   "metadata": {
    "collapsed": false,
    "pycharm": {
     "name": "#%%\n"
    }
   }
  },
  {
   "cell_type": "code",
   "execution_count": 6,
   "outputs": [
    {
     "name": "stdout",
     "output_type": "stream",
     "text": [
      "Help on function fetch_words in module words:\n",
      "\n",
      "fetch_words(url)\n",
      "    Fetch a list of words from a URL\n",
      "    \n",
      "    :param url: The URL of UTF-8 text document.\n",
      "    :return: A list of strings containing the words from the document\n",
      "\n"
     ]
    }
   ],
   "source": [
    "from words import fetch_words\n",
    "help(fetch_words)"
   ],
   "metadata": {
    "collapsed": false,
    "pycharm": {
     "name": "#%%\n"
    }
   }
  }
 ],
 "metadata": {
  "kernelspec": {
   "name": "python3",
   "language": "python",
   "display_name": "Python 3"
  },
  "language_info": {
   "codemirror_mode": {
    "name": "ipython",
    "version": 2
   },
   "file_extension": ".py",
   "mimetype": "text/x-python",
   "name": "python",
   "nbconvert_exporter": "python",
   "pygments_lexer": "ipython2",
   "version": "2.7.6"
  }
 },
 "nbformat": 4,
 "nbformat_minor": 0
}