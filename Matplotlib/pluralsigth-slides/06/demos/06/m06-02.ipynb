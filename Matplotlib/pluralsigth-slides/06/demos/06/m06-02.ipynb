{
 "cells": [
  {
   "cell_type": "code",
   "execution_count": 24,
   "metadata": {},
   "outputs": [],
   "source": [
    "import numpy as np\n",
    "import matplotlib.pyplot as plt\n",
    "import helper"
   ]
  },
  {
   "cell_type": "code",
   "execution_count": 25,
   "metadata": {},
   "outputs": [],
   "source": [
    "from matplotlib.animation import FuncAnimation\n",
    "from IPython.display import HTML"
   ]
  },
  {
   "cell_type": "code",
   "execution_count": 26,
   "metadata": {},
   "outputs": [],
   "source": [
    "years = np.arange(2013, 2019)\n",
    "yearly_precip = dict(zip(years, [helper.precip_sums_for_year(year) for year in years]))\n",
    "precip_monthly = []\n",
    "for key in yearly_precip:\n",
    "    precip_monthly.extend([month[1] for month in yearly_precip[key]])\n",
    "dataset = list(zip(\n",
    "    helper.flatten([[str(year)] * 12 for year in years]),\n",
    "    list(helper.MONTHS) * 6,\n",
    "    precip_monthly\n",
    "))"
   ]
  },
  {
   "cell_type": "code",
   "execution_count": 27,
   "metadata": {},
   "outputs": [
    {
     "data": {
      "text/plain": [
       "[('2013', 'Jan', 3.1),\n",
       " ('2013', 'Feb', 4.08),\n",
       " ('2013', 'Mar', 2.9499999999999997),\n",
       " ('2013', 'Apr', 4.38),\n",
       " ('2013', 'May', 4.52),\n",
       " ('2013', 'Jun', 10.079999999999998),\n",
       " ('2013', 'Jul', 3.479999999999999),\n",
       " ('2013', 'Aug', 4.88),\n",
       " ('2013', 'Sep', 2.91),\n",
       " ('2013', 'Oct', 1.4100000000000001),\n",
       " ('2013', 'Nov', 2.9899999999999998),\n",
       " ('2013', 'Dec', 5.91),\n",
       " ('2014', 'Jan', 1.9600000000000002),\n",
       " ('2014', 'Feb', 3.0),\n",
       " ('2014', 'Mar', 5.0600000000000005),\n",
       " ('2014', 'Apr', 5.2299999999999995),\n",
       " ('2014', 'May', 4.02),\n",
       " ('2014', 'Jun', 3.31)]"
      ]
     },
     "execution_count": 27,
     "metadata": {},
     "output_type": "execute_result"
    }
   ],
   "source": [
    "dataset[:18]"
   ]
  },
  {
   "cell_type": "code",
   "execution_count": 28,
   "metadata": {},
   "outputs": [],
   "source": [
    "heights = np.zeros(11)"
   ]
  },
  {
   "cell_type": "code",
   "execution_count": 29,
   "metadata": {},
   "outputs": [
    {
     "data": {
      "text/plain": [
       "(0, 18)"
      ]
     },
     "execution_count": 29,
     "metadata": {},
     "output_type": "execute_result"
    },
    {
     "data": {
      "image/png": "[encoded data removed]",
      "text/plain": [
       "<Figure size 432x288 with 1 Axes>"
      ]
     },
     "metadata": {
      "needs_background": "light"
     },
     "output_type": "display_data"
    }
   ],
   "source": [
    "fig, ax = plt.subplots()\n",
    "bars = ax.bar(np.arange(len(heights)), heights)\n",
    "ax.set_ylim(0, 18)"
   ]
  },
  {
   "cell_type": "code",
   "execution_count": 30,
   "metadata": {},
   "outputs": [],
   "source": [
    "def init():\n",
    "    for bar in bars:\n",
    "        bar.set_height(0)"
   ]
  },
  {
   "cell_type": "code",
   "execution_count": 31,
   "metadata": {},
   "outputs": [],
   "source": [
    "import math\n",
    "\n",
    "def update(i):\n",
    "    precip = dataset[i][2]\n",
    "    heights[math.floor(precip)] += 1\n",
    "    month = dataset[i][1]\n",
    "    year = dataset[i][0]\n",
    "    ax.set_title('{} {}'.format(month, year))\n",
    "    for index, bar in enumerate(bars):\n",
    "        bar.set_height(heights[index])"
   ]
  },
  {
   "cell_type": "code",
   "execution_count": 32,
   "metadata": {},
   "outputs": [],
   "source": [
    "anim = FuncAnimation(fig, update, init_func=init, frames=len(dataset), interval=100)"
   ]
  },
  {
   "cell_type": "code",
   "execution_count": 33,
   "metadata": {},
   "outputs": [],
   "source": [
    "# video = anim.to_html5_video()\n",
    "# HTML(video)"
   ]
  },
  {
   "cell_type": "code",
   "execution_count": 34,
   "metadata": {},
   "outputs": [],
   "source": [
    "anim.save('precip.mp4')"
   ]
  },
  {
   "cell_type": "code",
   "execution_count": 35,
   "metadata": {},
   "outputs": [
    {
     "name": "stdout",
     "output_type": "stream",
     "text": [
      " Volume in drive C has no label.\n",
      " Volume Serial Number is 683B-47C1\n",
      "\n",
      " Directory of C:\\Users\\dougl\\Google Drive\\Pluralsight\\courses\\matplotlib\\m05\n",
      "\n",
      "07/10/2019  11:38 AM    <DIR>          .\n",
      "07/10/2019  11:38 AM    <DIR>          ..\n",
      "07/10/2019  11:28 AM    <DIR>          .ipynb_checkpoints\n",
      "07/10/2019  12:51 AM               185 01.gdoc\n",
      "07/10/2019  01:04 AM               185 02.gdoc\n",
      "07/10/2019  10:33 AM    <DIR>          Camtasia Files\n",
      "07/09/2019  11:51 AM             3,728 helper.py\n",
      "07/10/2019  11:09 AM             1,905 m05-01a.ipynb\n",
      "07/10/2019  11:27 AM             2,330 m05-01b.ipynb\n",
      "07/10/2019  11:38 AM            45,474 m05-02.ipynb\n",
      "07/10/2019  11:38 AM            21,614 precip.mp4\n",
      "07/10/2019  11:00 AM           302,858 slides.pptx\n",
      "07/09/2019  10:32 PM             9,372 Untitled.ipynb\n",
      "07/06/2019  05:58 PM           437,102 Untitled1.ipynb\n",
      "07/08/2019  11:30 AM           102,537 Untitled2.ipynb\n",
      "07/10/2019  11:17 AM             2,483 Untitled3.ipynb\n",
      "07/09/2019  11:03 PM             9,959 Untitled4.ipynb\n",
      "07/09/2019  09:13 PM         2,511,342 weather.json\n",
      "07/09/2019  09:14 PM    <DIR>          __pycache__\n",
      "              14 File(s)      3,451,074 bytes\n",
      "               5 Dir(s)  45,077,192,704 bytes free\n"
     ]
    }
   ],
   "source": [
    "!dir"
   ]
  },
  {
   "cell_type": "code",
   "execution_count": null,
   "metadata": {},
   "outputs": [],
   "source": []
  }
 ],
 "metadata": {
  "kernelspec": {
   "display_name": "Python 3",
   "language": "python",
   "name": "python3"
  },
  "language_info": {
   "codemirror_mode": {
    "name": "ipython",
    "version": 3
   },
   "file_extension": ".py",
   "mimetype": "text/x-python",
   "name": "python",
   "nbconvert_exporter": "python",
   "pygments_lexer": "ipython3",
   "version": "3.7.3"
  }
 },
 "nbformat": 4,
 "nbformat_minor": 2
}
