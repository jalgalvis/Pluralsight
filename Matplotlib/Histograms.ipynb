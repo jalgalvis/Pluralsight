{
 "cells": [
  {
   "cell_type": "code",
   "execution_count": 1,
   "outputs": [],
   "source": [
    "import numpy as np\n",
    "import matplotlib.pyplot as plt\n",
    "params = {\"ytick.color\" : \"w\",\n",
    "          \"xtick.color\" : \"w\",\n",
    "          \"axes.labelcolor\" : \"w\",\n",
    "          \"axes.edgecolor\" : \"w\"}\n",
    "plt.rcParams.update(params)"
   ],
   "metadata": {
    "collapsed": false,
    "pycharm": {
     "name": "#%%\n"
    }
   }
  },
  {
   "cell_type": "markdown",
   "source": [
    "## <center><font color=tomato>Histogram</font></center>\n",
    "Visualizes frequency distributions\n",
    "Generated with the `hist()` function\n",
    "- Accepts a dataset\n",
    "- Divides the dataset into evenly spaced intervals\n",
    "- Matches each value in the dataset with an interval\n",
    "- Counts the number of values in each interval\n",
    "\n",
    "Normal distribution using the Numpy random module. By default, the mean is 0.\n",
    "In the histogram, the greatest frequency counts are around 0, which again is the mean.\n",
    "And the lowest frequency counts are at the extremes of the range"
   ],
   "metadata": {
    "collapsed": false
   }
  },
  {
   "cell_type": "code",
   "execution_count": 2,
   "outputs": [
    {
     "data": {
      "text/plain": "(array([  2.,  12.,  31., 103., 214., 249., 204., 123.,  41.,  21.]),\n array([-3.58495615, -2.93469313, -2.2844301 , -1.63416707, -0.98390405,\n        -0.33364102,  0.316622  ,  0.96688503,  1.61714806,  2.26741108,\n         2.91767411]),\n <a list of 10 Patch objects>)"
     },
     "execution_count": 2,
     "metadata": {},
     "output_type": "execute_result"
    },
    {
     "data": {
      "text/plain": "<Figure size 432x288 with 1 Axes>",
      "image/png": "[encoded data removed]"
     },
     "metadata": {
      "needs_background": "dark"
     },
     "output_type": "display_data"
    }
   ],
   "source": [
    "data = np.random.randn(1000)\n",
    "plt.hist(data)"
   ],
   "metadata": {
    "collapsed": false,
    "pycharm": {
     "name": "#%%\n"
    }
   }
  },
  {
   "cell_type": "markdown",
   "source": [
    "Here is also the concept of a uniform distribution.\n",
    "Any values selected from a uniform distribution has the same probability of occurring as any other.\n",
    "Therefore, a histogram of a dataset selected from a uniform distribution, again, assuming a sufficiently large number of values, will be roughly level.\n",
    "And this histogram proves the concept. There are 10,000 values in the dataset and 10 intervals.\n",
    "Therefore, each interval should contain roughly 1000 values if the dataset is uniformly distributed.\n",
    "The histogram is showing that each interval is hovering somewhere around 1000, some a little more and some a little less, but they are all closer to 1000 than 800"
   ],
   "metadata": {
    "collapsed": false
   }
  },
  {
   "cell_type": "code",
   "execution_count": 3,
   "outputs": [
    {
     "data": {
      "text/plain": "<Figure size 432x288 with 1 Axes>",
      "image/png": "[encoded data removed]"
     },
     "metadata": {
      "needs_background": "dark"
     },
     "output_type": "display_data"
    }
   ],
   "source": [
    "data = np.random.uniform(size=10000)\n",
    "plt.hist(data);"
   ],
   "metadata": {
    "collapsed": false,
    "pycharm": {
     "name": "#%%\n"
    }
   }
  },
  {
   "cell_type": "code",
   "execution_count": 4,
   "outputs": [
    {
     "data": {
      "text/plain": "<Figure size 432x288 with 1 Axes>",
      "image/png": "[encoded data removed]"
     },
     "metadata": {
      "needs_background": "dark"
     },
     "output_type": "display_data"
    }
   ],
   "source": [
    "data = np.random.uniform(5, 25, 1000)\n",
    "plt.hist(data);"
   ],
   "metadata": {
    "collapsed": false,
    "pycharm": {
     "name": "#%%\n"
    }
   }
  },
  {
   "cell_type": "markdown",
   "source": [
    "By increasing the number of intervals, we can see more detail\n",
    "- The intervals are called bins\n",
    "    -   `bins=` keyword argument\n",
    "    -   Default is 10"
   ],
   "metadata": {
    "collapsed": false
   }
  },
  {
   "cell_type": "code",
   "execution_count": 5,
   "outputs": [
    {
     "data": {
      "text/plain": "<Figure size 432x288 with 1 Axes>",
      "image/png": "[encoded data removed]"
     },
     "metadata": {
      "needs_background": "dark"
     },
     "output_type": "display_data"
    }
   ],
   "source": [
    "data = np.random.randn(10000)\n",
    "plt.hist(data, bins=25);"
   ],
   "metadata": {
    "collapsed": false,
    "pycharm": {
     "name": "#%%\n"
    }
   }
  },
  {
   "cell_type": "markdown",
   "source": [
    "### 2D<font color=lightGreen> histogram</font>\n",
    "\n",
    "    -   Creates a histogram for each of two datasets\n",
    "    -   One becomes the x-axis, other become the y-axis\n",
    "    -   The perspective is top down\n",
    "    -   The intensity of the values are shown with colors\n",
    "    -   Darker colors shows higher values\n",
    "    -   Generated with the function `hist2d()`"
   ],
   "metadata": {
    "collapsed": false
   }
  },
  {
   "cell_type": "code",
   "execution_count": 6,
   "outputs": [
    {
     "data": {
      "text/plain": "<Figure size 432x288 with 1 Axes>",
      "image/png": "[encoded data removed]"
     },
     "metadata": {
      "needs_background": "dark"
     },
     "output_type": "display_data"
    }
   ],
   "source": [
    "plt.hist2d(np.random.randn(10000), np.random.randn(10000));"
   ],
   "metadata": {
    "collapsed": false,
    "pycharm": {
     "name": "#%%\n"
    }
   }
  },
  {
   "cell_type": "markdown",
   "source": [
    "And here is the result of 2 normal distributions in a 2D histogram.\n",
    "The color scheme I'm using here shows higher values as yellow and lower values as purple.\n",
    "As these are normal distributions with a mean of 0, the lighter colors for higher frequency counts should be around the center of the 2D histogram.\n",
    "\n",
    "\n",
    "And like with a single dimension histogram, I could also specify the number of bins again and see smaller squares with more detail."
   ],
   "metadata": {
    "collapsed": false
   }
  },
  {
   "cell_type": "code",
   "execution_count": 7,
   "outputs": [
    {
     "data": {
      "text/plain": "<Figure size 432x288 with 1 Axes>",
      "image/png": "[encoded data removed]"
     },
     "metadata": {
      "needs_background": "dark"
     },
     "output_type": "display_data"
    }
   ],
   "source": [
    "plt.hist2d(np.random.randn(10000), np.random.randn(10000), bins=20);"
   ],
   "metadata": {
    "collapsed": false,
    "pycharm": {
     "name": "#%%\n"
    }
   }
  }
 ],
 "metadata": {
  "kernelspec": {
   "display_name": "Python 3",
   "language": "python",
   "name": "python3"
  },
  "language_info": {
   "codemirror_mode": {
    "name": "ipython",
    "version": 2
   },
   "file_extension": ".py",
   "mimetype": "text/x-python",
   "name": "python",
   "nbconvert_exporter": "python",
   "pygments_lexer": "ipython2",
   "version": "2.7.6"
  }
 },
 "nbformat": 4,
 "nbformat_minor": 0
}