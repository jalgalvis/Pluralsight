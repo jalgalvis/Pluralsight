{
 "cells": [
  {
   "cell_type": "code",
   "execution_count": 66,
   "metadata": {
    "collapsed": true
   },
   "outputs": [
    {
     "data": {
      "text/plain": "0.2135636534288361"
     },
     "execution_count": 66,
     "metadata": {},
     "output_type": "execute_result"
    }
   ],
   "source": [
    "import json\n",
    "import os\n",
    "import pandas as pd\n",
    "import numpy as np\n",
    "\n",
    "array = np.random.rand(3)\n",
    "array[0]"
   ]
  },
  {
   "cell_type": "code",
   "execution_count": 67,
   "outputs": [
    {
     "data": {
      "text/plain": "0.2135636534288361"
     },
     "execution_count": 67,
     "metadata": {},
     "output_type": "execute_result"
    }
   ],
   "source": [
    "series = pd.Series(array)\n",
    "series[0]"
   ],
   "metadata": {
    "collapsed": false,
    "pycharm": {
     "name": "#%%\n"
    }
   }
  },
  {
   "cell_type": "code",
   "execution_count": 68,
   "outputs": [
    {
     "data": {
      "text/plain": "0.2135636534288361"
     },
     "execution_count": 68,
     "metadata": {},
     "output_type": "execute_result"
    }
   ],
   "source": [
    "series = pd.Series(array, index=['First', 'Second', 'Third'])\n",
    "series['First']"
   ],
   "metadata": {
    "collapsed": false,
    "pycharm": {
     "name": "#%%\n"
    }
   }
  },
  {
   "cell_type": "code",
   "execution_count": 69,
   "outputs": [
    {
     "data": {
      "text/plain": "0.21676208405629094"
     },
     "execution_count": 69,
     "metadata": {},
     "output_type": "execute_result"
    }
   ],
   "source": [
    "array2d = np.random.rand(3,2)\n",
    "array2d[0, 1]"
   ],
   "metadata": {
    "collapsed": false,
    "pycharm": {
     "name": "#%%\n"
    }
   }
  },
  {
   "cell_type": "code",
   "execution_count": 70,
   "outputs": [
    {
     "name": "stdout",
     "output_type": "stream",
     "text": [
      "KeyError((0, 1)) \n",
      " context:  KeyError((0, 1))\n"
     ]
    }
   ],
   "source": [
    "df = pd.DataFrame(array2d)\n",
    "try:\n",
    "    df[0, 1]\n",
    "except Exception as e:\n",
    "    print(e.__repr__(), '\\n context: ', e.__context__.__repr__())"
   ],
   "metadata": {
    "collapsed": false,
    "pycharm": {
     "name": "#%%\n"
    }
   }
  },
  {
   "cell_type": "code",
   "execution_count": 71,
   "outputs": [
    {
     "data": {
      "text/plain": "      First    Second\n0  0.248769  0.216762\n1  0.128458  0.555655\n2  0.715982  0.268392",
      "text/html": "<div>\n<style scoped>\n    .dataframe tbody tr th:only-of-type {\n        vertical-align: middle;\n    }\n\n    .dataframe tbody tr th {\n        vertical-align: top;\n    }\n\n    .dataframe thead th {\n        text-align: right;\n    }\n</style>\n<table border=\"1\" class=\"dataframe\">\n  <thead>\n    <tr style=\"text-align: right;\">\n      <th></th>\n      <th>First</th>\n      <th>Second</th>\n    </tr>\n  </thead>\n  <tbody>\n    <tr>\n      <th>0</th>\n      <td>0.248769</td>\n      <td>0.216762</td>\n    </tr>\n    <tr>\n      <th>1</th>\n      <td>0.128458</td>\n      <td>0.555655</td>\n    </tr>\n    <tr>\n      <th>2</th>\n      <td>0.715982</td>\n      <td>0.268392</td>\n    </tr>\n  </tbody>\n</table>\n</div>"
     },
     "execution_count": 71,
     "metadata": {},
     "output_type": "execute_result"
    }
   ],
   "source": [
    "df.columns = ['First', 'Second']\n",
    "df"
   ],
   "metadata": {
    "collapsed": false,
    "pycharm": {
     "name": "#%%\n"
    }
   }
  },
  {
   "cell_type": "code",
   "execution_count": 72,
   "outputs": [
    {
     "data": {
      "text/plain": "0    0.216762\n1    0.555655\n2    0.268392\nName: Second, dtype: float64"
     },
     "execution_count": 72,
     "metadata": {},
     "output_type": "execute_result"
    }
   ],
   "source": [
    "df['Second']"
   ],
   "metadata": {
    "collapsed": false,
    "pycharm": {
     "name": "#%%\n"
    }
   }
  },
  {
   "cell_type": "markdown",
   "source": [
    "## <center><font color=tomato>reading from csv files</font></center>"
   ],
   "metadata": {
    "collapsed": false,
    "pycharm": {
     "name": "#%% md\n"
    }
   }
  },
  {
   "cell_type": "code",
   "execution_count": 73,
   "outputs": [],
   "source": [
    "df = pd.read_csv('data/artwork_data.csv', nrows=5, index_col='id')"
   ],
   "metadata": {
    "collapsed": false,
    "pycharm": {
     "name": "#%%\n"
    }
   }
  },
  {
   "cell_type": "code",
   "execution_count": 74,
   "outputs": [
    {
     "name": "stderr",
     "output_type": "stream",
     "text": [
      "/Users/jalejo/.conda/envs/PythonLibraries/lib/python3.8/site-packages/IPython/core/interactiveshell.py:3071: DtypeWarning: Columns (9,13) have mixed types.Specify dtype option on import or set low_memory=False.\n",
      "  has_raised = await self.run_ast_nodes(code_ast.body, cell_name,\n"
     ]
    }
   ],
   "source": [
    "COLS_TO_USE = ['id', 'artist', 'title', 'medium', 'year', 'acquisitionYear', 'height', 'width', 'units']\n",
    "df = pd.read_csv('data/artwork_data.csv', index_col='id', usecols=COLS_TO_USE)"
   ],
   "metadata": {
    "collapsed": false,
    "pycharm": {
     "name": "#%%\n"
    }
   }
  },
  {
   "cell_type": "markdown",
   "source": [
    "If we only want to use it in the Python scripts the simplest way is to use pickle, which is a native Python format for serialization."
   ],
   "metadata": {
    "collapsed": false,
    "pycharm": {
     "name": "#%% md\n"
    }
   }
  },
  {
   "cell_type": "code",
   "execution_count": 75,
   "outputs": [],
   "source": [
    "df.to_pickle('data/dataframe.pickle')"
   ],
   "metadata": {
    "collapsed": false,
    "pycharm": {
     "name": "#%%\n"
    }
   }
  },
  {
   "cell_type": "code",
   "execution_count": 76,
   "outputs": [],
   "source": [
    "df = pd.read_pickle('data/dataframe.pickle')"
   ],
   "metadata": {
    "collapsed": false,
    "pycharm": {
     "name": "#%%\n"
    }
   }
  },
  {
   "cell_type": "markdown",
   "source": [
    "## <center><font color=tomato>reading json files</font></center>"
   ],
   "metadata": {
    "collapsed": false
   }
  },
  {
   "cell_type": "code",
   "execution_count": 77,
   "outputs": [
    {
     "data": {
      "text/plain": "       Coffee Price\n0    Expresso    5$\n1  Flat White   10$",
      "text/html": "<div>\n<style scoped>\n    .dataframe tbody tr th:only-of-type {\n        vertical-align: middle;\n    }\n\n    .dataframe tbody tr th {\n        vertical-align: top;\n    }\n\n    .dataframe thead th {\n        text-align: right;\n    }\n</style>\n<table border=\"1\" class=\"dataframe\">\n  <thead>\n    <tr style=\"text-align: right;\">\n      <th></th>\n      <th>Coffee</th>\n      <th>Price</th>\n    </tr>\n  </thead>\n  <tbody>\n    <tr>\n      <th>0</th>\n      <td>Expresso</td>\n      <td>5$</td>\n    </tr>\n    <tr>\n      <th>1</th>\n      <td>Flat White</td>\n      <td>10$</td>\n    </tr>\n  </tbody>\n</table>\n</div>"
     },
     "execution_count": 77,
     "metadata": {},
     "output_type": "execute_result"
    }
   ],
   "source": [
    "records = [('Expresso', '5$'),\n",
    "           ('Flat White', '10$')]\n",
    "\n",
    "pd.DataFrame.from_records(records, columns=['Coffee', 'Price'])"
   ],
   "metadata": {
    "collapsed": false,
    "pycharm": {
     "name": "#%%\n"
    }
   }
  },
  {
   "cell_type": "code",
   "execution_count": 78,
   "outputs": [
    {
     "data": {
      "text/plain": "(1035,\n 'Robert Blake',\n 'A Figure Bowing before a Seated Old Man with his Arm Outstretched in Benediction. Verso: Indecipherable Sketch',\n 'Watercolour, ink, chalk and graphite on paper. Verso: graphite on paper',\n 1922,\n '419',\n '394',\n 'mm')"
     },
     "execution_count": 78,
     "metadata": {},
     "output_type": "execute_result"
    }
   ],
   "source": [
    "KEYS_TO_USE = ['id', 'all_artists', 'title', 'medium', 'acquisitionYear', 'height', 'width', 'units']\n",
    "\n",
    "def get_record_from_file(file_path, keys_to_use):\n",
    "    \"\"\"\n",
    "    Process single json file and return a tuple containing specific fields\n",
    "    \"\"\"\n",
    "    with open(file_path) as artwork_file:\n",
    "        content = json.load(artwork_file)\n",
    "\n",
    "    record = []\n",
    "    for field in keys_to_use:\n",
    "        record.append(content[field])\n",
    "\n",
    "    return tuple(record)\n",
    "\n",
    "SAMPLE_JSON = 'data/artworks/a/000/a00001-1035.json'\n",
    "SAMPLE_JSON = os.path.join('data', 'artworks', 'a', '000', 'a00001-1035.json')\n",
    "\n",
    "get_record_from_file(SAMPLE_JSON, KEYS_TO_USE)"
   ],
   "metadata": {
    "collapsed": false,
    "pycharm": {
     "name": "#%%\n"
    }
   }
  },
  {
   "cell_type": "code",
   "execution_count": 79,
   "outputs": [
    {
     "name": "stdout",
     "output_type": "stream",
     "text": [
      "record in file data/artworks/t/079/t07932-75078.json not written,  KeyError('acquisitionYear')\n",
      "record in file data/artworks/t/077/t07706-78.json not written,  KeyError('acquisitionYear')\n",
      "record in file data/artworks/t/118/t11879-83515.json not written,  KeyError('acquisitionYear')\n",
      "record in file data/artworks/t/118/t11869-83517.json not written,  KeyError('acquisitionYear')\n",
      "record in file data/artworks/t/118/t11872-83507.json not written,  KeyError('acquisitionYear')\n",
      "record in file data/artworks/t/118/t11881-83516.json not written,  KeyError('acquisitionYear')\n",
      "record in file data/artworks/t/118/t11880-83514.json not written,  KeyError('acquisitionYear')\n",
      "record in file data/artworks/d/415/d41539-121203.json not written,  KeyError('acquisitionYear')\n",
      "record in file data/artworks/d/415/d41537-120309.json not written,  KeyError('acquisitionYear')\n",
      "record in file data/artworks/d/415/d41515-108224.json not written,  KeyError('acquisitionYear')\n",
      "record in file data/artworks/d/415/d41519-111177.json not written,  KeyError('acquisitionYear')\n",
      "record in file data/artworks/d/415/d41531-116211.json not written,  KeyError('acquisitionYear')\n",
      "record in file data/artworks/d/415/d41540-121917.json not written,  KeyError('acquisitionYear')\n",
      "record in file data/artworks/d/415/d41534-117314.json not written,  KeyError('acquisitionYear')\n",
      "record in file data/artworks/d/415/d41524-115543.json not written,  KeyError('acquisitionYear')\n",
      "record in file data/artworks/d/415/d41532-117285.json not written,  KeyError('acquisitionYear')\n",
      "record in file data/artworks/d/415/d41517-108328.json not written,  KeyError('acquisitionYear')\n",
      "record in file data/artworks/d/415/d41510-70275.json not written,  KeyError('acquisitionYear')\n",
      "record in file data/artworks/d/415/d41528-115547.json not written,  KeyError('acquisitionYear')\n",
      "record in file data/artworks/d/415/d41520-115539.json not written,  KeyError('acquisitionYear')\n",
      "record in file data/artworks/d/415/d41513-102543.json not written,  KeyError('acquisitionYear')\n",
      "record in file data/artworks/d/415/d41538-120433.json not written,  KeyError('acquisitionYear')\n",
      "record in file data/artworks/d/415/d41516-108227.json not written,  KeyError('acquisitionYear')\n",
      "record in file data/artworks/d/415/d41526-115545.json not written,  KeyError('acquisitionYear')\n",
      "record in file data/artworks/d/415/d41535-118279.json not written,  KeyError('acquisitionYear')\n",
      "record in file data/artworks/d/415/d41522-115541.json not written,  KeyError('acquisitionYear')\n",
      "record in file data/artworks/d/415/d41533-117313.json not written,  KeyError('acquisitionYear')\n",
      "record in file data/artworks/d/415/d41536-120302.json not written,  KeyError('acquisitionYear')\n",
      "record in file data/artworks/d/415/d41529-115548.json not written,  KeyError('acquisitionYear')\n",
      "record in file data/artworks/d/415/d41530-115549.json not written,  KeyError('acquisitionYear')\n",
      "record in file data/artworks/d/415/d41525-115544.json not written,  KeyError('acquisitionYear')\n",
      "record in file data/artworks/d/415/d41527-115546.json not written,  KeyError('acquisitionYear')\n",
      "record in file data/artworks/d/415/d41514-106178.json not written,  KeyError('acquisitionYear')\n",
      "record in file data/artworks/d/415/d41521-115540.json not written,  KeyError('acquisitionYear')\n",
      "record in file data/artworks/d/415/d41523-115542.json not written,  KeyError('acquisitionYear')\n",
      "record in file data/artworks/p/796/p79651-96276.json not written,  KeyError('acquisitionYear')\n",
      "record in file data/artworks/p/796/p79622-96247.json not written,  KeyError('acquisitionYear')\n",
      "record in file data/artworks/p/785/p78523-91.json not written,  KeyError('acquisitionYear')\n",
      "record in file data/artworks/p/784/p78469-180.json not written,  KeyError('acquisitionYear')\n",
      "record in file data/artworks/p/784/p78451-151.json not written,  KeyError('acquisitionYear')\n",
      "record in file data/artworks/p/784/p78448-148.json not written,  KeyError('acquisitionYear')\n",
      "record in file data/artworks/p/784/p78446-146.json not written,  KeyError('acquisitionYear')\n",
      "record in file data/artworks/p/795/p79542-96165.json not written,  KeyError('acquisitionYear')\n",
      "record in file data/artworks/p/795/p79521-96144.json not written,  KeyError('acquisitionYear')\n",
      "record in file data/artworks/p/122/p12264-80526.json not written,  KeyError('acquisitionYear')\n",
      "record in file data/artworks/p/789/p78920-83146.json not written,  KeyError('acquisitionYear')\n"
     ]
    }
   ],
   "source": [
    "def get_records_from_json(keys_to_use):\n",
    "    \"\"\"\n",
    "    Traverse the directories with JSON files.\n",
    "    For the first file in each directory call function for processing single file and go to the next directory\n",
    "    \"\"\"\n",
    "    JSON_ROOT = os.path.join('data', 'artworks')\n",
    "    artworks = []\n",
    "\n",
    "    for root, _, files in os.walk(JSON_ROOT):\n",
    "        for f in files:\n",
    "            if f.endswith('json'):\n",
    "                try:\n",
    "                    record = get_record_from_file(os.path.join(root, f), keys_to_use)\n",
    "                except Exception as e:\n",
    "                    print(f\"record in file {os.path.join(root, f)} not written, \",e.__repr__())\n",
    "                artworks.append(record)\n",
    "    df = pd.DataFrame.from_records(artworks, columns=keys_to_use, index='id')\n",
    "    return df\n",
    "\n",
    "df = get_records_from_json(KEYS_TO_USE)"
   ],
   "metadata": {
    "collapsed": false,
    "pycharm": {
     "name": "#%%\n"
    }
   }
  },
  {
   "cell_type": "markdown",
   "source": [
    "## <center><font color=tomato>basics</font></center>"
   ],
   "metadata": {
    "collapsed": false,
    "pycharm": {
     "name": "#%% md\n"
    }
   }
  },
  {
   "cell_type": "code",
   "execution_count": 80,
   "outputs": [],
   "source": [
    "indexes = list(df.index)"
   ],
   "metadata": {
    "collapsed": false,
    "pycharm": {
     "name": "#%%\n"
    }
   }
  },
  {
   "cell_type": "code",
   "execution_count": 81,
   "outputs": [
    {
     "data": {
      "text/plain": "id\n6620          William Hogarth\n5837              Thomas Hand\n7843     Charles Samuel Keene\n7833     Charles Samuel Keene\n1586         Ford Madox Brown\n                 ...         \n20896             John Walker\n20872               Juan Gris\n20860           Pablo Picasso\n20852           Pablo Picasso\n20874               Juan Gris\nName: all_artists, Length: 69202, dtype: object"
     },
     "execution_count": 81,
     "metadata": {},
     "output_type": "execute_result"
    }
   ],
   "source": [
    "df.all_artists"
   ],
   "metadata": {
    "collapsed": false,
    "pycharm": {
     "name": "#%%\n"
    }
   }
  },
  {
   "cell_type": "code",
   "execution_count": 82,
   "outputs": [
    {
     "data": {
      "text/plain": "3503"
     },
     "execution_count": 82,
     "metadata": {},
     "output_type": "execute_result"
    }
   ],
   "source": [
    "artists = df['all_artists']\n",
    "len(pd.unique(artists))"
   ],
   "metadata": {
    "collapsed": false,
    "pycharm": {
     "name": "#%%\n"
    }
   }
  },
  {
   "cell_type": "markdown",
   "source": [
    "## <center><font color=tomato>filtering</font></center>"
   ],
   "metadata": {
    "collapsed": false
   }
  },
  {
   "cell_type": "code",
   "execution_count": 83,
   "outputs": [
    {
     "data": {
      "text/plain": "False    68156\nTrue      1046\nName: all_artists, dtype: int64"
     },
     "execution_count": 83,
     "metadata": {},
     "output_type": "execute_result"
    }
   ],
   "source": [
    "s = df['all_artists'] == 'George Jones'\n",
    "s.value_counts()"
   ],
   "metadata": {
    "collapsed": false,
    "pycharm": {
     "name": "#%%\n"
    }
   }
  },
  {
   "cell_type": "code",
   "execution_count": 84,
   "outputs": [
    {
     "data": {
      "text/plain": "1046"
     },
     "execution_count": 84,
     "metadata": {},
     "output_type": "execute_result"
    }
   ],
   "source": [
    "artists_counts = df['all_artists'].value_counts()\n",
    "artists_counts['George Jones']"
   ],
   "metadata": {
    "collapsed": false,
    "pycharm": {
     "name": "#%%\n"
    }
   }
  },
  {
   "cell_type": "code",
   "execution_count": 85,
   "outputs": [
    {
     "data": {
      "text/plain": "Index(['all_artists', 'title', 'medium', 'acquisitionYear', 'height', 'width',\n       'units'],\n      dtype='object')"
     },
     "execution_count": 85,
     "metadata": {},
     "output_type": "execute_result"
    }
   ],
   "source": [
    "df.columns"
   ],
   "metadata": {
    "collapsed": false,
    "pycharm": {
     "name": "#%%\n"
    }
   }
  },
  {
   "cell_type": "code",
   "execution_count": 86,
   "outputs": [],
   "source": [
    "df.columns = ['artist', 'title', 'medium', 'acquisitionYear', 'height', 'width',\n",
    "       'units']"
   ],
   "metadata": {
    "collapsed": false,
    "pycharm": {
     "name": "#%%\n"
    }
   }
  },
  {
   "cell_type": "code",
   "execution_count": 87,
   "outputs": [
    {
     "data": {
      "text/plain": "               artist                                 title  \\\nid                                                            \n6620  William Hogarth  A Scene from ‘The Beggar’s Opera’ VI   \n5837      Thomas Hand           Cottage and Hilly Landscape   \n\n                   medium  acquisitionYear height width units  \nid                                                             \n6620  Oil paint on canvas             1909    762   572    mm  \n5837  Oil paint on canvas             1909    908   711    mm  ",
      "text/html": "<div>\n<style scoped>\n    .dataframe tbody tr th:only-of-type {\n        vertical-align: middle;\n    }\n\n    .dataframe tbody tr th {\n        vertical-align: top;\n    }\n\n    .dataframe thead th {\n        text-align: right;\n    }\n</style>\n<table border=\"1\" class=\"dataframe\">\n  <thead>\n    <tr style=\"text-align: right;\">\n      <th></th>\n      <th>artist</th>\n      <th>title</th>\n      <th>medium</th>\n      <th>acquisitionYear</th>\n      <th>height</th>\n      <th>width</th>\n      <th>units</th>\n    </tr>\n    <tr>\n      <th>id</th>\n      <th></th>\n      <th></th>\n      <th></th>\n      <th></th>\n      <th></th>\n      <th></th>\n      <th></th>\n    </tr>\n  </thead>\n  <tbody>\n    <tr>\n      <th>6620</th>\n      <td>William Hogarth</td>\n      <td>A Scene from ‘The Beggar’s Opera’ VI</td>\n      <td>Oil paint on canvas</td>\n      <td>1909</td>\n      <td>762</td>\n      <td>572</td>\n      <td>mm</td>\n    </tr>\n    <tr>\n      <th>5837</th>\n      <td>Thomas Hand</td>\n      <td>Cottage and Hilly Landscape</td>\n      <td>Oil paint on canvas</td>\n      <td>1909</td>\n      <td>908</td>\n      <td>711</td>\n      <td>mm</td>\n    </tr>\n  </tbody>\n</table>\n</div>"
     },
     "execution_count": 87,
     "metadata": {},
     "output_type": "execute_result"
    }
   ],
   "source": [
    "df.head(2)\n"
   ],
   "metadata": {
    "collapsed": false,
    "pycharm": {
     "name": "#%%\n"
    }
   }
  },
  {
   "cell_type": "markdown",
   "source": [
    "## <center><font color=tomato>indexation</font></center>"
   ],
   "metadata": {
    "collapsed": false,
    "pycharm": {
     "name": "#%% md\n"
    }
   }
  },
  {
   "cell_type": "code",
   "execution_count": 126,
   "outputs": [
    {
     "data": {
      "text/plain": "'artist'"
     },
     "execution_count": 126,
     "metadata": {},
     "output_type": "execute_result"
    }
   ],
   "source": [
    "df['artist'].name"
   ],
   "metadata": {
    "collapsed": false,
    "pycharm": {
     "name": "#%%\n"
    }
   }
  },
  {
   "cell_type": "code",
   "execution_count": 107,
   "outputs": [
    {
     "data": {
      "text/plain": "'Robert Blake'"
     },
     "execution_count": 107,
     "metadata": {},
     "output_type": "execute_result"
    }
   ],
   "source": [
    "df.loc[1035, 'artist']"
   ],
   "metadata": {
    "collapsed": false,
    "pycharm": {
     "name": "#%%\n"
    }
   }
  },
  {
   "cell_type": "code",
   "execution_count": 25,
   "outputs": [
    {
     "data": {
      "text/plain": "'William Hogarth'"
     },
     "execution_count": 25,
     "metadata": {},
     "output_type": "execute_result"
    }
   ],
   "source": [
    "df.iloc[0, 0]"
   ],
   "metadata": {
    "collapsed": false,
    "pycharm": {
     "name": "#%%\n"
    }
   }
  },
  {
   "cell_type": "code",
   "execution_count": 26,
   "outputs": [
    {
     "data": {
      "text/plain": "artist                                  William Hogarth\ntitle              A Scene from ‘The Beggar’s Opera’ VI\nmedium                              Oil paint on canvas\nacquisitionYear                                    1909\nheight                                              762\nwidth                                               572\nunits                                                mm\nName: 6620, dtype: object"
     },
     "execution_count": 26,
     "metadata": {},
     "output_type": "execute_result"
    }
   ],
   "source": [
    "df.iloc[0, :]"
   ],
   "metadata": {
    "collapsed": false,
    "pycharm": {
     "name": "#%%\n"
    }
   }
  },
  {
   "cell_type": "code",
   "execution_count": 27,
   "outputs": [
    {
     "data": {
      "text/plain": "               artist                                 title  \\\nid                                                            \n6620  William Hogarth  A Scene from ‘The Beggar’s Opera’ VI   \n5837      Thomas Hand           Cottage and Hilly Landscape   \n\n                   medium  \nid                         \n6620  Oil paint on canvas  \n5837  Oil paint on canvas  ",
      "text/html": "<div>\n<style scoped>\n    .dataframe tbody tr th:only-of-type {\n        vertical-align: middle;\n    }\n\n    .dataframe tbody tr th {\n        vertical-align: top;\n    }\n\n    .dataframe thead th {\n        text-align: right;\n    }\n</style>\n<table border=\"1\" class=\"dataframe\">\n  <thead>\n    <tr style=\"text-align: right;\">\n      <th></th>\n      <th>artist</th>\n      <th>title</th>\n      <th>medium</th>\n    </tr>\n    <tr>\n      <th>id</th>\n      <th></th>\n      <th></th>\n      <th></th>\n    </tr>\n  </thead>\n  <tbody>\n    <tr>\n      <th>6620</th>\n      <td>William Hogarth</td>\n      <td>A Scene from ‘The Beggar’s Opera’ VI</td>\n      <td>Oil paint on canvas</td>\n    </tr>\n    <tr>\n      <th>5837</th>\n      <td>Thomas Hand</td>\n      <td>Cottage and Hilly Landscape</td>\n      <td>Oil paint on canvas</td>\n    </tr>\n  </tbody>\n</table>\n</div>"
     },
     "execution_count": 27,
     "metadata": {},
     "output_type": "execute_result"
    }
   ],
   "source": [
    "df.iloc[0:2, 0:3]"
   ],
   "metadata": {
    "collapsed": false,
    "pycharm": {
     "name": "#%%\n"
    }
   }
  },
  {
   "cell_type": "code",
   "execution_count": 28,
   "outputs": [
    {
     "name": "stdout",
     "output_type": "stream",
     "text": [
      "TypeError(\"can't multiply sequence by non-int of type 'str'\")\n"
     ]
    }
   ],
   "source": [
    "try:\n",
    "    df['height'] * df['width']\n",
    "except Exception as e:\n",
    "    print(e.__repr__())"
   ],
   "metadata": {
    "collapsed": false,
    "pycharm": {
     "name": "#%%\n"
    }
   }
  },
  {
   "cell_type": "code",
   "execution_count": 29,
   "outputs": [
    {
     "data": {
      "text/plain": "id\n97852        998\n44381        999\n26521     ea.316\n100089      each\n96387       each\nName: width, dtype: object"
     },
     "execution_count": 29,
     "metadata": {},
     "output_type": "execute_result"
    }
   ],
   "source": [
    "# There are some rubbish in the data\n",
    "df['width'].sort_values().tail()"
   ],
   "metadata": {
    "collapsed": false,
    "pycharm": {
     "name": "#%%\n"
    }
   }
  },
  {
   "cell_type": "code",
   "execution_count": 30,
   "outputs": [
    {
     "name": "stdout",
     "output_type": "stream",
     "text": [
      "ValueError('Unable to parse string \"(diameter):\" at position 3974') \n",
      " context:  ValueError('Unable to parse string \"(diameter):\"')\n"
     ]
    }
   ],
   "source": [
    "# Try to convert\n",
    "try:\n",
    "    pd.to_numeric(df['width'])\n",
    "except Exception as e:\n",
    "    print(e.__repr__(), '\\n context: ', e.__context__.__repr__())"
   ],
   "metadata": {
    "collapsed": false,
    "pycharm": {
     "name": "#%%\n"
    }
   }
  },
  {
   "cell_type": "code",
   "execution_count": 31,
   "outputs": [
    {
     "data": {
      "text/plain": "id\n6620     572.0\n5837     711.0\n7843       NaN\n7833       NaN\n1586     114.0\n         ...  \n20896    125.0\n20872    320.0\n20860    645.0\n20852    688.0\n20874    360.0\nName: width, Length: 69202, dtype: float64"
     },
     "execution_count": 31,
     "metadata": {},
     "output_type": "execute_result"
    }
   ],
   "source": [
    "# Force NANs (Not A Number)\n",
    "pd.to_numeric(df['width'], errors='coerce')"
   ],
   "metadata": {
    "collapsed": false,
    "pycharm": {
     "name": "#%%\n"
    }
   }
  },
  {
   "cell_type": "code",
   "execution_count": 32,
   "outputs": [],
   "source": [
    "df.loc[:, 'width'] = pd.to_numeric(df['width'], errors='coerce')\n",
    "df.loc[:, 'height'] = pd.to_numeric(df['height'], errors='coerce')"
   ],
   "metadata": {
    "collapsed": false,
    "pycharm": {
     "name": "#%%\n"
    }
   }
  },
  {
   "cell_type": "code",
   "execution_count": 33,
   "outputs": [
    {
     "data": {
      "text/plain": "id\n6620     435864.0\n5837     645588.0\n7843          NaN\n7833          NaN\n1586      20292.0\n           ...   \n20896     12375.0\n20872     73600.0\n20860    343785.0\n20852    351568.0\n20874     86400.0\nLength: 69202, dtype: float64"
     },
     "execution_count": 33,
     "metadata": {},
     "output_type": "execute_result"
    }
   ],
   "source": [
    "df['height'] * df['width']"
   ],
   "metadata": {
    "collapsed": false,
    "pycharm": {
     "name": "#%%\n"
    }
   }
  },
  {
   "cell_type": "code",
   "execution_count": 34,
   "outputs": [],
   "source": [
    "# Assign = create new columns with size\n",
    "area = df['height'] * df['width']\n",
    "df = df.assign(area=area)"
   ],
   "metadata": {
    "collapsed": false,
    "pycharm": {
     "name": "#%%\n"
    }
   }
  },
  {
   "cell_type": "code",
   "execution_count": 35,
   "outputs": [
    {
     "data": {
      "text/plain": "132462000.0"
     },
     "execution_count": 35,
     "metadata": {},
     "output_type": "execute_result"
    }
   ],
   "source": [
    "df['area'].max()"
   ],
   "metadata": {
    "collapsed": false,
    "pycharm": {
     "name": "#%%\n"
    }
   }
  },
  {
   "cell_type": "code",
   "execution_count": 36,
   "outputs": [
    {
     "data": {
      "text/plain": "98367"
     },
     "execution_count": 36,
     "metadata": {},
     "output_type": "execute_result"
    }
   ],
   "source": [
    "df['area'].idxmax()"
   ],
   "metadata": {
    "collapsed": false,
    "pycharm": {
     "name": "#%%\n"
    }
   }
  },
  {
   "cell_type": "code",
   "execution_count": 37,
   "outputs": [
    {
     "data": {
      "text/plain": "artist                                Robert Therrien\ntitle                No Title (Table and Four Chairs)\nmedium             Aluminium, steel, wood and plastic\nacquisitionYear                                  2008\nheight                                          14850\nwidth                                            8920\nunits                                              mm\narea                                      1.32462e+08\nName: 98367, dtype: object"
     },
     "execution_count": 37,
     "metadata": {},
     "output_type": "execute_result"
    }
   ],
   "source": [
    "df.loc[df['area'].idxmax(), :]"
   ],
   "metadata": {
    "collapsed": false,
    "pycharm": {
     "name": "#%%\n"
    }
   }
  },
  {
   "cell_type": "markdown",
   "source": [
    "## <center><font color=tomato>Operations</font></center>\n",
    "### <font color=lightGreen>iterating over groups</font>"
   ],
   "metadata": {
    "collapsed": false
   }
  },
  {
   "cell_type": "code",
   "execution_count": 38,
   "outputs": [
    {
     "data": {
      "text/plain": "pandas.core.groupby.generic.DataFrameGroupBy"
     },
     "execution_count": 38,
     "metadata": {},
     "output_type": "execute_result"
    }
   ],
   "source": [
    "grouped = df.groupby('artist')\n",
    "type(grouped)"
   ],
   "metadata": {
    "collapsed": false,
    "pycharm": {
     "name": "#%%\n"
    }
   }
  },
  {
   "cell_type": "code",
   "execution_count": 39,
   "outputs": [
    {
     "name": "stdout",
     "output_type": "stream",
     "text": [
      "?British School \n",
      " --------------- \n",
      "                artist                                              title  \\\n",
      "id                                                                         \n",
      "6652  ?British School  Portrait of a Gentleman, probably of the West ...   \n",
      "\n",
      "                medium  acquisitionYear  height   width units       area  \n",
      "id                                                                        \n",
      "6652  Oil paint on oak             1927   785.0  1330.0    mm  1044050.0  \n",
      "A. Belloguet \n",
      " ------------ \n",
      "              artist                   title                     medium  \\\n",
      "id                                                                       \n",
      "25065  A. Belloguet  Design for Music Cover  Graphite and ink on paper   \n",
      "25069  A. Belloguet  Design for Music Cover  Graphite and ink on paper   \n",
      "\n",
      "       acquisitionYear  height  width units     area  \n",
      "id                                                    \n",
      "25065             1997   220.0  279.0    mm  61380.0  \n",
      "25069             1997   222.0  278.0    mm  61716.0  \n"
     ]
    }
   ],
   "source": [
    "i = 2\n",
    "for name, group_df in grouped:\n",
    "    print(name, '\\n', len(name) * '-', '\\n', group_df)\n",
    "    i -= 1\n",
    "    if i == 0:\n",
    "        break"
   ],
   "metadata": {
    "collapsed": false,
    "pycharm": {
     "name": "#%%\n"
    }
   }
  },
  {
   "cell_type": "markdown",
   "source": [
    "### <font color=lightGreen>filter</font>"
   ],
   "metadata": {
    "collapsed": false,
    "pycharm": {
     "name": "#%% md\n"
    }
   }
  },
  {
   "cell_type": "code",
   "execution_count": 40,
   "outputs": [
    {
     "data": {
      "text/plain": "               artist                 title  \\\nid                                            \n21345  Carroll Dunham                    #1   \n20571     Sean Scully                    #1   \n20572     Sean Scully                    #2   \n21346  Carroll Dunham                    #2   \n20573     Sean Scully                    #3   \n...               ...                   ...   \n97431     Andy Warhol  “The Runaway Pigeon”   \n97409     Andy Warhol  “The Runaway Pigeon”   \n97408     Andy Warhol  “The Runaway Pigeon”   \n97427     Andy Warhol  “The Summer Dancers”   \n97428     Andy Warhol  “The Summer Dancers”   \n\n                                       medium  acquisitionYear  height  width  \\\nid                                                                              \n21345                       Drypoint on paper             2002   579.0  392.0   \n20571                       Aquatint on paper             1992   174.0  117.0   \n20572                       Aquatint on paper             1992   278.0  323.0   \n21346                       Drypoint on paper             2002   579.0  392.0   \n20573                       Aquatint on paper             1992   260.0  319.0   \n...                                       ...              ...     ...    ...   \n97431            Ink on paper on ink on paper             2009   205.0  280.0   \n97409  Ink, watercolour and graphite on paper             2009   237.0  272.0   \n97408  Ink, watercolour and graphite on paper             2009   295.0  269.0   \n97427    Ink and dye on paper on ink on paper             2009   319.0  226.0   \n97428                    Ink and dye on paper             2009   145.0  215.0   \n\n      units      area  \nid                     \n21345    mm  226968.0  \n20571    mm   20358.0  \n20572    mm   89794.0  \n21346    mm  226968.0  \n20573    mm   82940.0  \n...     ...       ...  \n97431    mm   57400.0  \n97409    mm   64464.0  \n97408    mm   79355.0  \n97427    mm   72094.0  \n97428    mm   31175.0  \n\n[31241 rows x 8 columns]",
      "text/html": "<div>\n<style scoped>\n    .dataframe tbody tr th:only-of-type {\n        vertical-align: middle;\n    }\n\n    .dataframe tbody tr th {\n        vertical-align: top;\n    }\n\n    .dataframe thead th {\n        text-align: right;\n    }\n</style>\n<table border=\"1\" class=\"dataframe\">\n  <thead>\n    <tr style=\"text-align: right;\">\n      <th></th>\n      <th>artist</th>\n      <th>title</th>\n      <th>medium</th>\n      <th>acquisitionYear</th>\n      <th>height</th>\n      <th>width</th>\n      <th>units</th>\n      <th>area</th>\n    </tr>\n    <tr>\n      <th>id</th>\n      <th></th>\n      <th></th>\n      <th></th>\n      <th></th>\n      <th></th>\n      <th></th>\n      <th></th>\n      <th></th>\n    </tr>\n  </thead>\n  <tbody>\n    <tr>\n      <th>21345</th>\n      <td>Carroll Dunham</td>\n      <td>#1</td>\n      <td>Drypoint on paper</td>\n      <td>2002</td>\n      <td>579.0</td>\n      <td>392.0</td>\n      <td>mm</td>\n      <td>226968.0</td>\n    </tr>\n    <tr>\n      <th>20571</th>\n      <td>Sean Scully</td>\n      <td>#1</td>\n      <td>Aquatint on paper</td>\n      <td>1992</td>\n      <td>174.0</td>\n      <td>117.0</td>\n      <td>mm</td>\n      <td>20358.0</td>\n    </tr>\n    <tr>\n      <th>20572</th>\n      <td>Sean Scully</td>\n      <td>#2</td>\n      <td>Aquatint on paper</td>\n      <td>1992</td>\n      <td>278.0</td>\n      <td>323.0</td>\n      <td>mm</td>\n      <td>89794.0</td>\n    </tr>\n    <tr>\n      <th>21346</th>\n      <td>Carroll Dunham</td>\n      <td>#2</td>\n      <td>Drypoint on paper</td>\n      <td>2002</td>\n      <td>579.0</td>\n      <td>392.0</td>\n      <td>mm</td>\n      <td>226968.0</td>\n    </tr>\n    <tr>\n      <th>20573</th>\n      <td>Sean Scully</td>\n      <td>#3</td>\n      <td>Aquatint on paper</td>\n      <td>1992</td>\n      <td>260.0</td>\n      <td>319.0</td>\n      <td>mm</td>\n      <td>82940.0</td>\n    </tr>\n    <tr>\n      <th>...</th>\n      <td>...</td>\n      <td>...</td>\n      <td>...</td>\n      <td>...</td>\n      <td>...</td>\n      <td>...</td>\n      <td>...</td>\n      <td>...</td>\n    </tr>\n    <tr>\n      <th>97431</th>\n      <td>Andy Warhol</td>\n      <td>“The Runaway Pigeon”</td>\n      <td>Ink on paper on ink on paper</td>\n      <td>2009</td>\n      <td>205.0</td>\n      <td>280.0</td>\n      <td>mm</td>\n      <td>57400.0</td>\n    </tr>\n    <tr>\n      <th>97409</th>\n      <td>Andy Warhol</td>\n      <td>“The Runaway Pigeon”</td>\n      <td>Ink, watercolour and graphite on paper</td>\n      <td>2009</td>\n      <td>237.0</td>\n      <td>272.0</td>\n      <td>mm</td>\n      <td>64464.0</td>\n    </tr>\n    <tr>\n      <th>97408</th>\n      <td>Andy Warhol</td>\n      <td>“The Runaway Pigeon”</td>\n      <td>Ink, watercolour and graphite on paper</td>\n      <td>2009</td>\n      <td>295.0</td>\n      <td>269.0</td>\n      <td>mm</td>\n      <td>79355.0</td>\n    </tr>\n    <tr>\n      <th>97427</th>\n      <td>Andy Warhol</td>\n      <td>“The Summer Dancers”</td>\n      <td>Ink and dye on paper on ink on paper</td>\n      <td>2009</td>\n      <td>319.0</td>\n      <td>226.0</td>\n      <td>mm</td>\n      <td>72094.0</td>\n    </tr>\n    <tr>\n      <th>97428</th>\n      <td>Andy Warhol</td>\n      <td>“The Summer Dancers”</td>\n      <td>Ink and dye on paper</td>\n      <td>2009</td>\n      <td>145.0</td>\n      <td>215.0</td>\n      <td>mm</td>\n      <td>31175.0</td>\n    </tr>\n  </tbody>\n</table>\n<p>31241 rows × 8 columns</p>\n</div>"
     },
     "execution_count": 40,
     "metadata": {},
     "output_type": "execute_result"
    }
   ],
   "source": [
    "grouped_titles = df.groupby('title')\n",
    "title_counts = grouped_titles.size().sort_values(ascending=False)\n",
    "\n",
    "condition = lambda x: len(x.index) > 1\n",
    "dup_titles_df = grouped_titles.filter(condition)\n",
    "dup_titles_df.sort_values('title', inplace=True)\n",
    "dup_titles_df"
   ],
   "metadata": {
    "collapsed": false,
    "pycharm": {
     "name": "#%%\n"
    }
   }
  },
  {
   "cell_type": "markdown",
   "source": [
    "## <center><font color=tomato>Outputting pandas</font></center>"
   ],
   "metadata": {
    "collapsed": false
   }
  },
  {
   "cell_type": "code",
   "execution_count": 41,
   "outputs": [],
   "source": [
    "df.to_excel('dataframeExcel.xlsx')"
   ],
   "metadata": {
    "collapsed": false,
    "pycharm": {
     "name": "#%%\n"
    }
   }
  },
  {
   "cell_type": "code",
   "execution_count": 41,
   "outputs": [],
   "source": [],
   "metadata": {
    "collapsed": false,
    "pycharm": {
     "name": "#%%\n"
    }
   }
  }
 ],
 "metadata": {
  "kernelspec": {
   "display_name": "Python 3",
   "language": "python",
   "name": "python3"
  },
  "language_info": {
   "codemirror_mode": {
    "name": "ipython",
    "version": 2
   },
   "file_extension": ".py",
   "mimetype": "text/x-python",
   "name": "python",
   "nbconvert_exporter": "python",
   "pygments_lexer": "ipython2",
   "version": "2.7.6"
  }
 },
 "nbformat": 4,
 "nbformat_minor": 0
}