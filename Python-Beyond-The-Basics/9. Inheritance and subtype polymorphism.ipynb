{
 "cells": [
  {
   "cell_type": "markdown",
   "source": [
    "# <center><font color=slate>Inheritance and subtype polymorphism</font></center>\n",
    "## <center>single <font color=tomato>inheritance</font><br>`class SubClass(BaseClass)`</center>\n",
    "SubClass will have all of the methods of BaseClass, and SubClass will be able to override these methods if it needs to.\n",
    "\n",
    "Subclasses should <font color=mediumTurquoise>initialize</font> base classes\n",
    "\n",
    "Base class initializer will <font color=mediumTurquoise>only</font> be called automatically if subclass initializer is <font color=mediumTurquoise>undefined</font>"
   ],
   "metadata": {
    "collapsed": false
   }
  },
  {
   "cell_type": "code",
   "execution_count": 2,
   "outputs": [],
   "source": [
    "class Base:\n",
    "    def __init__(self):\n",
    "        print('Base initializer')\n",
    "\n",
    "    def f(self):\n",
    "        print('Base.f()')"
   ],
   "metadata": {
    "collapsed": false,
    "pycharm": {
     "name": "#%%\n"
    }
   }
  },
  {
   "cell_type": "markdown",
   "source": [
    "If we create an instance of Base, we see, of course, that its initializer is called"
   ],
   "metadata": {
    "collapsed": false
   }
  },
  {
   "cell_type": "code",
   "execution_count": 3,
   "outputs": [
    {
     "name": "stdout",
     "output_type": "stream",
     "text": [
      "Base initializer\n"
     ]
    }
   ],
   "source": [
    "b = Base()"
   ],
   "metadata": {
    "collapsed": false,
    "pycharm": {
     "name": "#%%\n"
    }
   }
  },
  {
   "cell_type": "markdown",
   "source": [
    "And calling the f method on that instance uses Base.f"
   ],
   "metadata": {
    "collapsed": false
   }
  },
  {
   "cell_type": "code",
   "execution_count": 4,
   "outputs": [
    {
     "name": "stdout",
     "output_type": "stream",
     "text": [
      "Base.f()\n"
     ]
    }
   ],
   "source": [
    "b.f()"
   ],
   "metadata": {
    "collapsed": false,
    "pycharm": {
     "name": "#%%\n"
    }
   }
  },
  {
   "cell_type": "markdown",
   "source": [
    "Now we define a subclass of Base called Sub, this subclass doesn't add any functionality to Base at all"
   ],
   "metadata": {
    "collapsed": false
   }
  },
  {
   "cell_type": "code",
   "execution_count": 5,
   "outputs": [],
   "source": [
    "class Sub(Base):\n",
    "    pass\n"
   ],
   "metadata": {
    "collapsed": false,
    "pycharm": {
     "name": "#%%\n"
    }
   }
  },
  {
   "cell_type": "markdown",
   "source": [
    "it inherits Base's initializer. And likewise, Sub also inherits Base.f"
   ],
   "metadata": {
    "collapsed": false
   }
  },
  {
   "cell_type": "code",
   "execution_count": 6,
   "outputs": [
    {
     "name": "stdout",
     "output_type": "stream",
     "text": [
      "Base initializer\n"
     ]
    }
   ],
   "source": [
    "s = Sub()"
   ],
   "metadata": {
    "collapsed": false,
    "pycharm": {
     "name": "#%%\n"
    }
   }
  },
  {
   "cell_type": "code",
   "execution_count": 7,
   "outputs": [
    {
     "name": "stdout",
     "output_type": "stream",
     "text": [
      "Base.f()\n"
     ]
    }
   ],
   "source": [
    "s.f()"
   ],
   "metadata": {
    "collapsed": false,
    "pycharm": {
     "name": "#%%\n"
    }
   }
  },
  {
   "cell_type": "markdown",
   "source": [
    "Sub can override Base.f by simply redefining the method itself."
   ],
   "metadata": {
    "collapsed": false,
    "pycharm": {
     "name": "#%% md\n"
    }
   }
  },
  {
   "cell_type": "code",
   "execution_count": 8,
   "outputs": [
    {
     "name": "stdout",
     "output_type": "stream",
     "text": [
      "Base initializer\n"
     ]
    }
   ],
   "source": [
    "class Sub(Base):\n",
    "    def f(self):\n",
    "        print('Sub.f()')\n",
    "\n",
    "s = Sub()"
   ],
   "metadata": {
    "collapsed": false,
    "pycharm": {
     "name": "#%%\n"
    }
   }
  },
  {
   "cell_type": "code",
   "execution_count": 9,
   "outputs": [
    {
     "name": "stdout",
     "output_type": "stream",
     "text": [
      "Sub.f()\n"
     ]
    }
   ],
   "source": [
    "s.f()"
   ],
   "metadata": {
    "collapsed": false,
    "pycharm": {
     "name": "#%%\n"
    }
   }
  },
  {
   "cell_type": "markdown",
   "source": [
    "Now we create a Sub initializer and then an instance:\n"
   ],
   "metadata": {
    "collapsed": false
   }
  },
  {
   "cell_type": "code",
   "execution_count": 10,
   "outputs": [
    {
     "name": "stdout",
     "output_type": "stream",
     "text": [
      "Sub initializer\n"
     ]
    }
   ],
   "source": [
    "class Sub(Base):\n",
    "    def __init__(self):\n",
    "        print(\"Sub initializer\")\n",
    "\n",
    "    def f(self):\n",
    "        print('Sub.f()')\n",
    "\n",
    "s = Sub()"
   ],
   "metadata": {
    "collapsed": false,
    "pycharm": {
     "name": "#%%\n"
    }
   }
  },
  {
   "cell_type": "code",
   "execution_count": 11,
   "outputs": [
    {
     "name": "stdout",
     "output_type": "stream",
     "text": [
      "Sub.f()\n"
     ]
    }
   ],
   "source": [
    "s.f()\n"
   ],
   "metadata": {
    "collapsed": false,
    "pycharm": {
     "name": "#%%\n"
    }
   }
  },
  {
   "cell_type": "markdown",
   "source": [
    "-   Base class `__init__()` is not called if overridden\n",
    "-   Use `super()` to call base class `__init__()`"
   ],
   "metadata": {
    "collapsed": false,
    "pycharm": {
     "name": "#%% md\n"
    }
   }
  },
  {
   "cell_type": "code",
   "execution_count": 11,
   "outputs": [],
   "source": [],
   "metadata": {
    "collapsed": false,
    "pycharm": {
     "name": "#%%\n"
    }
   }
  },
  {
   "cell_type": "code",
   "execution_count": 12,
   "outputs": [
    {
     "name": "stdout",
     "output_type": "stream",
     "text": [
      "Base initializer\n",
      "Sub initializer\n"
     ]
    }
   ],
   "source": [
    "class Sub(Base):\n",
    "    def __init__(self):\n",
    "        super().__init__()\n",
    "        print(\"Sub initializer\")\n",
    "\n",
    "    def f(self):\n",
    "        print('Sub.f()')\n",
    "\n",
    "s = Sub()"
   ],
   "metadata": {
    "collapsed": false,
    "pycharm": {
     "name": "#%%\n"
    }
   }
  },
  {
   "cell_type": "code",
   "execution_count": 13,
   "outputs": [
    {
     "name": "stdout",
     "output_type": "stream",
     "text": [
      "Sub.f()\n"
     ]
    }
   ],
   "source": [
    "s.f()"
   ],
   "metadata": {
    "collapsed": false,
    "pycharm": {
     "name": "#%%\n"
    }
   }
  },
  {
   "cell_type": "markdown",
   "source": [
    "## <center>A realistic example: <font color=tomato>SortedList</font></center>\n",
    "SimpleList uses a standard list internally, and it provides a limited API for interacting with the list's data."
   ],
   "metadata": {
    "collapsed": false
   }
  },
  {
   "cell_type": "code",
   "execution_count": 2,
   "outputs": [
    {
     "data": {
      "text/plain": "<function __main__.SimpleList.__repr__(self)>"
     },
     "execution_count": 2,
     "metadata": {},
     "output_type": "execute_result"
    }
   ],
   "source": [
    "class SimpleList:\n",
    "    def __init__(self, items):\n",
    "        self._items = list(items)\n",
    "    \n",
    "    def add(self, item):\n",
    "        self._items.append(item)\n",
    "        \n",
    "    def __getitem__(self, index):\n",
    "        return self._items[index]\n",
    "\n",
    "    def sort(self):\n",
    "        self._items.sort()\n",
    "    \n",
    "    def __len__(self):\n",
    "        return len(self._items)\n",
    "\n",
    "    def __repr__(self):\n",
    "        return \"Simplelist({!r})\".format(self._items)"
   ],
   "metadata": {
    "collapsed": false,
    "pycharm": {
     "name": "#%%\n"
    }
   }
  },
  {
   "cell_type": "markdown",
   "source": [
    "Now we create SortedList, a subclass of SimpleList, which keeps the list contents sorted."
   ],
   "metadata": {
    "collapsed": false
   }
  },
  {
   "cell_type": "code",
   "execution_count": 7,
   "outputs": [
    {
     "data": {
      "text/plain": "'Sortedlist([3, 4, 11, 78])'"
     },
     "execution_count": 7,
     "metadata": {},
     "output_type": "execute_result"
    }
   ],
   "source": [
    "class SortedList(SimpleList):\n",
    "    def __init__(self, items=()):\n",
    "        super().__init__(items)\n",
    "        self.sort()\n",
    "\n",
    "    def add(self, item):\n",
    "        super().add(item)\n",
    "        self.sort()\n",
    "\n",
    "    def __repr__(self):\n",
    "        return \"Sortedlist({!r})\".format(list(self))\n",
    "\n",
    "sl = SortedList([4, 3, 78, 11])\n",
    "sl, len(sl)"
   ],
   "metadata": {
    "collapsed": false,
    "pycharm": {
     "name": "#%%\n"
    }
   }
  },
  {
   "cell_type": "code",
   "execution_count": 16,
   "outputs": [
    {
     "data": {
      "text/plain": "Sortedlist([-42, 3, 4, 11, 78])"
     },
     "execution_count": 16,
     "metadata": {},
     "output_type": "execute_result"
    }
   ],
   "source": [
    "sl.add(-42)\n",
    "sl"
   ],
   "metadata": {
    "collapsed": false,
    "pycharm": {
     "name": "#%%\n"
    }
   }
  },
  {
   "cell_type": "code",
   "execution_count": 17,
   "outputs": [],
   "source": [
    "sl.add(7)"
   ],
   "metadata": {
    "collapsed": false,
    "pycharm": {
     "name": "#%%\n"
    }
   }
  },
  {
   "cell_type": "markdown",
   "source": [
    "## <center>Multiple <font color=tomato>inheritance</font></center>\n",
    "## <center>`isinstance()`</center>\n",
    "Determines is an object is of a specified type"
   ],
   "metadata": {
    "collapsed": false,
    "pycharm": {
     "name": "#%% md\n"
    }
   }
  },
  {
   "cell_type": "code",
   "execution_count": 18,
   "outputs": [
    {
     "data": {
      "text/plain": "(True, True, False)"
     },
     "execution_count": 18,
     "metadata": {},
     "output_type": "execute_result"
    }
   ],
   "source": [
    "isinstance(3, int),isinstance('Hello', str), isinstance(4.456, bytes)"
   ],
   "metadata": {
    "collapsed": false,
    "pycharm": {
     "name": "#%%\n"
    }
   }
  },
  {
   "cell_type": "code",
   "execution_count": 19,
   "outputs": [
    {
     "data": {
      "text/plain": "True"
     },
     "execution_count": 19,
     "metadata": {},
     "output_type": "execute_result"
    }
   ],
   "source": [
    "isinstance(sl, SortedList)"
   ],
   "metadata": {
    "collapsed": false,
    "pycharm": {
     "name": "#%%\n"
    }
   }
  },
  {
   "cell_type": "markdown",
   "source": [
    "`isinstance()`will also return true if the object is a subclass of the second argument"
   ],
   "metadata": {
    "collapsed": false
   }
  },
  {
   "cell_type": "code",
   "execution_count": 20,
   "outputs": [
    {
     "data": {
      "text/plain": "True"
     },
     "execution_count": 20,
     "metadata": {},
     "output_type": "execute_result"
    }
   ],
   "source": [
    "isinstance(sl, SimpleList)"
   ],
   "metadata": {
    "collapsed": false,
    "pycharm": {
     "name": "#%%\n"
    }
   }
  },
  {
   "cell_type": "markdown",
   "source": [
    "Returns `true` if first argument is an instance of any of the types in the tuple"
   ],
   "metadata": {
    "collapsed": false
   }
  },
  {
   "cell_type": "code",
   "execution_count": 21,
   "outputs": [
    {
     "data": {
      "text/plain": "True"
     },
     "execution_count": 21,
     "metadata": {},
     "output_type": "execute_result"
    }
   ],
   "source": [
    "x = []\n",
    "isinstance(x, (float, dict, list))"
   ],
   "metadata": {
    "collapsed": false,
    "pycharm": {
     "name": "#%%\n"
    }
   }
  },
  {
   "cell_type": "code",
   "execution_count": 22,
   "outputs": [
    {
     "data": {
      "text/plain": "InList([4, 3, 2, 1])"
     },
     "execution_count": 22,
     "metadata": {},
     "output_type": "execute_result"
    }
   ],
   "source": [
    "class IntList(SimpleList):\n",
    "    def __init__(self, items=()):\n",
    "        for x in items: self._validate(x)\n",
    "        super().__init__(items)\n",
    "\n",
    "    @staticmethod\n",
    "    def _validate(x):\n",
    "        if not isinstance(x, int):\n",
    "            raise TypeError('InLIst only supports integer values.')\n",
    "\n",
    "    def add(self, item):\n",
    "        self._validate(item)\n",
    "        super().add(item)\n",
    "\n",
    "    def __repr__(self):\n",
    "        return \"InList({!r})\".format(list(self))\n",
    "\n",
    "il = IntList([4,3,2,1])\n",
    "il"
   ],
   "metadata": {
    "collapsed": false,
    "pycharm": {
     "name": "#%%\n"
    }
   }
  },
  {
   "cell_type": "code",
   "execution_count": 23,
   "outputs": [
    {
     "data": {
      "text/plain": "InList([4, 3, 2, 1, 6])"
     },
     "execution_count": 23,
     "metadata": {},
     "output_type": "execute_result"
    }
   ],
   "source": [
    "il.add(6)\n",
    "il"
   ],
   "metadata": {
    "collapsed": false,
    "pycharm": {
     "name": "#%%\n"
    }
   }
  },
  {
   "cell_type": "code",
   "execution_count": 24,
   "outputs": [
    {
     "name": "stdout",
     "output_type": "stream",
     "text": [
      "TypeError('InLIst only supports integer values.')\n"
     ]
    }
   ],
   "source": [
    "try:\n",
    "    il.add('10')\n",
    "except Exception as e:\n",
    "    print(e.__repr__())"
   ],
   "metadata": {
    "collapsed": false,
    "pycharm": {
     "name": "#%%\n"
    }
   }
  },
  {
   "cell_type": "markdown",
   "source": [
    "## <center>`issubclass()`</center>\n",
    "Determines if one type is a subclass of another"
   ],
   "metadata": {
    "collapsed": false,
    "pycharm": {
     "name": "#%% md\n"
    }
   }
  },
  {
   "cell_type": "code",
   "execution_count": 25,
   "outputs": [
    {
     "data": {
      "text/plain": "(True, True)"
     },
     "execution_count": 25,
     "metadata": {},
     "output_type": "execute_result"
    }
   ],
   "source": [
    "issubclass(IntList, SimpleList), issubclass(SortedList, SimpleList)"
   ],
   "metadata": {
    "collapsed": false,
    "pycharm": {
     "name": "#%%\n"
    }
   }
  },
  {
   "cell_type": "code",
   "execution_count": 26,
   "outputs": [
    {
     "data": {
      "text/plain": "False"
     },
     "execution_count": 26,
     "metadata": {},
     "output_type": "execute_result"
    }
   ],
   "source": [
    "issubclass(SortedList, IntList)"
   ],
   "metadata": {
    "collapsed": false,
    "pycharm": {
     "name": "#%%\n"
    }
   }
  },
  {
   "cell_type": "code",
   "execution_count": 27,
   "outputs": [
    {
     "data": {
      "text/plain": "True"
     },
     "execution_count": 27,
     "metadata": {},
     "output_type": "execute_result"
    }
   ],
   "source": [
    "class MyInt(int):   pass\n",
    "class MySpecialInt(MyInt):  pass\n",
    "issubclass(MySpecialInt, int)"
   ],
   "metadata": {
    "collapsed": false,
    "pycharm": {
     "name": "#%%\n"
    }
   }
  },
  {
   "cell_type": "markdown",
   "source": [
    "## <center>multiple <font color=tomato>inheritance</font><br>`class SubClass(BaseClass1, BaseClass2,...)`</center>\n",
    "\n",
    "Defining a class with more than one base class\n",
    "-   Subclasses <font color=mediumTurquoise>inherit</font> methods of all bases\n",
    "-   Without conflict, names <font color=mediumTurquoise>resolve </font>in the obvious way\n",
    "-   <font color=mediumTurquoise>Method Resolution Order (MRO)</font> determines name lookup in all classes\n"
   ],
   "metadata": {
    "collapsed": false
   }
  },
  {
   "cell_type": "code",
   "execution_count": 28,
   "outputs": [
    {
     "data": {
      "text/plain": "SortedIntList ([-4, 1, 42])"
     },
     "execution_count": 28,
     "metadata": {},
     "output_type": "execute_result"
    }
   ],
   "source": [
    "class SortedIntList(IntList, SortedList):\n",
    "    def __repr__(self):\n",
    "        return 'SortedIntList ({!r})'.format(list(self))\n",
    "\n",
    "sil = SortedIntList([42, 1, -4])\n",
    "sil"
   ],
   "metadata": {
    "collapsed": false,
    "pycharm": {
     "name": "#%%\n"
    }
   }
  },
  {
   "cell_type": "code",
   "execution_count": 29,
   "outputs": [
    {
     "data": {
      "text/plain": "SortedIntList ([-4, 1, 42, 200])"
     },
     "execution_count": 29,
     "metadata": {},
     "output_type": "execute_result"
    }
   ],
   "source": [
    "sil.add(200)\n",
    "sil"
   ],
   "metadata": {
    "collapsed": false,
    "pycharm": {
     "name": "#%%\n"
    }
   }
  },
  {
   "cell_type": "code",
   "execution_count": 30,
   "outputs": [
    {
     "name": "stdout",
     "output_type": "stream",
     "text": [
      "TypeError('InLIst only supports integer values.')\n"
     ]
    }
   ],
   "source": [
    "try:\n",
    "    sil.add('4')\n",
    "except Exception as e:\n",
    "    print(e.__repr__())"
   ],
   "metadata": {
    "collapsed": false,
    "pycharm": {
     "name": "#%%\n"
    }
   }
  },
  {
   "cell_type": "markdown",
   "source": [
    "if a class:\n",
    "-   has <font color=mediumTurquoise>multiple</font> base classes\n",
    "-   defines <font color=mediumTurquoise>no initializers</font>\n",
    "\n",
    "Then <font color=mediumTurquoise>only</font> the initializer of the <font color=mediumTurquoise>first</font> base class is automatically called\n",
    "\n",
    "`__bases__`<font color=mediumTurquoise>a tuple of base classes</font>"
   ],
   "metadata": {
    "collapsed": false
   }
  },
  {
   "cell_type": "code",
   "execution_count": 31,
   "outputs": [
    {
     "data": {
      "text/plain": "(__main__.IntList, __main__.SortedList)"
     },
     "execution_count": 31,
     "metadata": {},
     "output_type": "execute_result"
    }
   ],
   "source": [
    "SortedIntList.__bases__"
   ],
   "metadata": {
    "collapsed": false,
    "pycharm": {
     "name": "#%%\n"
    }
   }
  },
  {
   "cell_type": "markdown",
   "source": [
    "### <font color=lightGreen>Method Resolution Order (MRO)</font>\n",
    "Ordering that determines method name lookup\n",
    "-   Methods may be defined in multiple places\n",
    "-   MRO is an ordering of inheritance graph\n",
    "\n",
    "## <center>`__mro__`</center>\n",
    "-   The method resolution order for a class is stored on a special member called `__mro__`.\n",
    "-   The `__mro__` attribute is a tuple of classes defining the method resolution order\n",
    "-   The method `mro()` on a class get the same information in a list rather than as a tuple\n"
   ],
   "metadata": {
    "collapsed": false
   }
  },
  {
   "cell_type": "code",
   "execution_count": 32,
   "outputs": [
    {
     "data": {
      "text/plain": "(__main__.SortedIntList,\n __main__.IntList,\n __main__.SortedList,\n __main__.SimpleList,\n object)"
     },
     "execution_count": 32,
     "metadata": {},
     "output_type": "execute_result"
    }
   ],
   "source": [
    "SortedIntList.__mro__"
   ],
   "metadata": {
    "collapsed": false,
    "pycharm": {
     "name": "#%%\n"
    }
   }
  },
  {
   "cell_type": "code",
   "execution_count": 33,
   "outputs": [
    {
     "data": {
      "text/plain": "[__main__.SortedIntList,\n __main__.IntList,\n __main__.SortedList,\n __main__.SimpleList,\n object]"
     },
     "execution_count": 33,
     "metadata": {},
     "output_type": "execute_result"
    }
   ],
   "source": [
    "SortedIntList.mro()"
   ],
   "metadata": {
    "collapsed": false,
    "pycharm": {
     "name": "#%%\n"
    }
   }
  },
  {
   "cell_type": "markdown",
   "source": [
    "How <font color=mediumTurquoise>MRO</font> works?\n",
    "\n",
    "when a method on an object is called in Python:\n",
    "1.  Python looks at the MRO for that object's type.\n",
    "2.  For each entry in the MRO, starting at the front and working in order to the back\n",
    "3.  Python checks if that class has the requested method.\n",
    "4.  As soon as Python finds a class with a matching method, it uses that method,\n",
    "5.  Search stops"
   ],
   "metadata": {
    "collapsed": false
   }
  },
  {
   "cell_type": "code",
   "execution_count": 34,
   "outputs": [
    {
     "data": {
      "text/plain": "[__main__.D, __main__.B, __main__.C, __main__.A, object]"
     },
     "execution_count": 34,
     "metadata": {},
     "output_type": "execute_result"
    }
   ],
   "source": [
    "class A:\n",
    "    def func(self):\n",
    "        return 'A.func()'\n",
    "\n",
    "class B(A):\n",
    "    def func(self):\n",
    "        return 'B.func()'\n",
    "\n",
    "class C(A):\n",
    "    def func(self):\n",
    "        return 'C.func()'\n",
    "\n",
    "class D(B, C):\n",
    "        pass\n",
    "D.mro()"
   ],
   "metadata": {
    "collapsed": false,
    "pycharm": {
     "name": "#%%\n"
    }
   }
  },
  {
   "cell_type": "code",
   "execution_count": 35,
   "outputs": [
    {
     "data": {
      "text/plain": "'B.func()'"
     },
     "execution_count": 35,
     "metadata": {},
     "output_type": "execute_result"
    }
   ],
   "source": [
    "d = D()\n",
    "d.func()"
   ],
   "metadata": {
    "collapsed": false,
    "pycharm": {
     "name": "#%%\n"
    }
   }
  },
  {
   "cell_type": "code",
   "execution_count": 36,
   "outputs": [
    {
     "data": {
      "text/plain": "[__main__.D, __main__.C, __main__.B, __main__.A, object]"
     },
     "execution_count": 36,
     "metadata": {},
     "output_type": "execute_result"
    }
   ],
   "source": [
    "class D(C, B):\n",
    "        pass\n",
    "D.mro()"
   ],
   "metadata": {
    "collapsed": false,
    "pycharm": {
     "name": "#%%\n"
    }
   }
  },
  {
   "cell_type": "code",
   "execution_count": 37,
   "outputs": [
    {
     "data": {
      "text/plain": "'C.func()'"
     },
     "execution_count": 37,
     "metadata": {},
     "output_type": "execute_result"
    }
   ],
   "source": [
    "d = D()\n",
    "d.func()"
   ],
   "metadata": {
    "collapsed": false,
    "pycharm": {
     "name": "#%%\n"
    }
   }
  },
  {
   "cell_type": "markdown",
   "source": [
    "### <font color=lightGreen>C3</font>\n",
    "algorithm for calculating MRO in Python\n",
    "-   Subclasses come <font color=mediumTurquoise>before</font> base classes\n",
    "-   Base class order from class definition is <font color=mediumTurquoise>preserved</font>\n",
    "-   First two qualities are preserved <font color=mediumTurquoise>no matter</font> where you Start in the inheritance graph\n",
    "-   Some base class declarations will <font color=mediumTurquoise>violate</font> C3, and Python will <font color=mediumTurquoise>refuse</font> to compile"
   ],
   "metadata": {
    "collapsed": false
   }
  },
  {
   "cell_type": "code",
   "execution_count": 38,
   "outputs": [
    {
     "name": "stdout",
     "output_type": "stream",
     "text": [
      "TypeError('Cannot create a consistent method resolution\\norder (MRO) for bases A, C')\n"
     ]
    }
   ],
   "source": [
    "class A: pass\n",
    "class B(A): pass\n",
    "class C(A): pass\n",
    "try:\n",
    "    class D(B, A, C): pass\n",
    "except Exception as e:\n",
    "    print(e.__repr__())"
   ],
   "metadata": {
    "collapsed": false,
    "pycharm": {
     "name": "#%%\n"
    }
   }
  },
  {
   "cell_type": "markdown",
   "source": [
    "-   Here since B and C both inherit from A, B and C must both come before A in any MRO.\n",
    "-   This follows from one of the qualities that C3 preserves.\n",
    "-   However, since D's base class declaration puts A before C, and since C3 also guarantees that base class declaration order is preserved, C3 cannot produce a consistent MRO.\n",
    "-   That is, it can't put A both before and after C\n",
    "\n",
    "***\n",
    "## <center>The<font color=tomato> Built-in</font>`super()`function</center>\n",
    "\n",
    "`super()` doesn't work with the base classes of a class, but instead it works with the <font color=mediumTurquoise>MRO</font> of the type of the object on which a method was originally invoked.\n",
    "\n",
    "-   `super()`returns a <font color=mediumTurquoise>proxy</font> object which <font color=mediumTurquoise>routes</font> method calls.\n",
    "    -   <font color=mediumTurquoise>Bound proxy</font> bound to specific class or instance\n",
    "    -   <font color=mediumTurquoise>Unbound proxy</font> not bound to a class or instance\n",
    "\n",
    "There are <font color=mediumTurquoise>two</font> types of bound proxies:\n",
    "-   <font color=mediumTurquoise>instance</font>-bound\n",
    "-   <font color=mediumTurquoise>class</font>-bound"
   ],
   "metadata": {
    "collapsed": false,
    "pycharm": {
     "name": "#%% md\n"
    }
   }
  },
  {
   "cell_type": "markdown",
   "source": [
    "### <font color=lightGreen>Class-bound</font> proxy\n",
    "## <center>`super(base-class, derived class)`</center>\n",
    "`base-class`is a class object\n",
    "\n",
    "`derived-class` subclass of first argument\n",
    "\n",
    "When a method on the proxy is evoked, here's what happens\n",
    "1.  Python finds the <font color=mediumTurquoise>MRO</font> for`derived-class`\n",
    "2.  it then finds`base-class`in that <font color=mediumTurquoise>MRO</font>.\n",
    "3.  it takes everything <font color=mediumTurquoise>after</font>`base-class`in the <font color=mediumTurquoise>MRO</font> and finds the first class in that sequence with a method name matching the request"
   ],
   "metadata": {
    "collapsed": false
   }
  },
  {
   "cell_type": "code",
   "execution_count": 39,
   "outputs": [
    {
     "data": {
      "text/plain": "<super: __main__.SortedList, __main__.SortedIntList>"
     },
     "execution_count": 39,
     "metadata": {},
     "output_type": "execute_result"
    }
   ],
   "source": [
    "super(SortedList, SortedIntList)"
   ],
   "metadata": {
    "collapsed": false,
    "pycharm": {
     "name": "#%%\n"
    }
   }
  },
  {
   "cell_type": "markdown",
   "source": [
    "Applying the above algorithm, Python first finds the MRO for the second argument,\n",
    "for the `SortedIntList()` is as follows:"
   ],
   "metadata": {
    "collapsed": false
   }
  },
  {
   "cell_type": "code",
   "source": [
    "SortedIntList.mro()"
   ],
   "metadata": {
    "collapsed": false,
    "pycharm": {
     "name": "#%%\n"
    }
   },
   "execution_count": 40,
   "outputs": [
    {
     "data": {
      "text/plain": "[__main__.SortedIntList,\n __main__.IntList,\n __main__.SortedList,\n __main__.SimpleList,\n object]"
     },
     "execution_count": 40,
     "metadata": {},
     "output_type": "execute_result"
    }
   ]
  },
  {
   "cell_type": "code",
   "execution_count": 41,
   "outputs": [
    {
     "data": {
      "image/png": "[encoded data removed]",
      "text/plain": "<IPython.core.display.Image object>"
     },
     "metadata": {},
     "output_type": "display_data"
    }
   ],
   "source": [
    "from IPython.core.display import Image, display\n",
    "display(Image('img/image2.png'))\n"
   ],
   "metadata": {
    "collapsed": false,
    "pycharm": {
     "name": "#%%\n"
    }
   }
  },
  {
   "cell_type": "markdown",
   "source": [
    "then finds SortedList in that MRO and takes everything after `SortedList`,\n",
    "giving an MRO containing just `SimpleList` and `object`.\n",
    "It then finds the first class in that MRO with an add method, which, is `SimpleList`"
   ],
   "metadata": {
    "collapsed": false
   }
  },
  {
   "cell_type": "code",
   "execution_count": 42,
   "outputs": [
    {
     "data": {
      "text/plain": "<function __main__.SimpleList.add(self, item)>"
     },
     "execution_count": 42,
     "metadata": {},
     "output_type": "execute_result"
    }
   ],
   "source": [
    "super(SortedList, SortedIntList).add"
   ],
   "metadata": {
    "collapsed": false,
    "pycharm": {
     "name": "#%%\n"
    }
   }
  },
  {
   "cell_type": "markdown",
   "source": [
    "Our proxy is bound to a class, not an instance, so we can't invoke it:"
   ],
   "metadata": {
    "collapsed": false
   }
  },
  {
   "cell_type": "code",
   "execution_count": 43,
   "outputs": [
    {
     "name": "stdout",
     "output_type": "stream",
     "text": [
      "TypeError(\"add() missing 1 required positional argument: 'item'\")\n"
     ]
    }
   ],
   "source": [
    "try:\n",
    "    super(SortedList, SortedIntList).add(4)\n",
    "except Exception as e:\n",
    "    print(e.__repr__())\n"
   ],
   "metadata": {
    "collapsed": false,
    "pycharm": {
     "name": "#%%\n"
    }
   }
  },
  {
   "cell_type": "markdown",
   "source": [
    "If we use the proxy to look up a static method or class method, we could invoke it directly"
   ],
   "metadata": {
    "collapsed": false
   }
  },
  {
   "cell_type": "code",
   "execution_count": 44,
   "outputs": [],
   "source": [
    "super(SortedIntList, SortedIntList)._validate(5)"
   ],
   "metadata": {
    "collapsed": false,
    "pycharm": {
     "name": "#%%\n"
    }
   }
  },
  {
   "cell_type": "code",
   "execution_count": 45,
   "outputs": [],
   "source": [
    "super(SortedIntList, SortedIntList)._validate(10)"
   ],
   "metadata": {
    "collapsed": false,
    "pycharm": {
     "name": "#%%\n"
    }
   }
  },
  {
   "cell_type": "code",
   "execution_count": 46,
   "outputs": [
    {
     "name": "stdout",
     "output_type": "stream",
     "text": [
      "TypeError('InLIst only supports integer values.')\n"
     ]
    }
   ],
   "source": [
    "try:\n",
    "    super(SortedIntList, SortedIntList)._validate('1')\n",
    "except Exception as e:\n",
    "    print(e.__repr__())"
   ],
   "metadata": {
    "collapsed": false,
    "pycharm": {
     "name": "#%%\n"
    }
   }
  },
  {
   "cell_type": "markdown",
   "source": [
    "ython will raise an exception if the second argument is not a subclass of the first"
   ],
   "metadata": {
    "collapsed": false,
    "pycharm": {
     "name": "#%% md\n"
    }
   }
  },
  {
   "cell_type": "code",
   "execution_count": 47,
   "outputs": [
    {
     "name": "stdout",
     "output_type": "stream",
     "text": [
      "TypeError('super(type, obj): obj must be an instance or subtype of type')\n"
     ]
    }
   ],
   "source": [
    "try:\n",
    "    super(int, IntList)\n",
    "except Exception as e:\n",
    "    print(e.__repr__())"
   ],
   "metadata": {
    "collapsed": false,
    "pycharm": {
     "name": "#%%\n"
    }
   }
  },
  {
   "cell_type": "markdown",
   "source": [
    "### <font color=lightGreen>Instance-bound</font> proxy\n",
    "Instance bound super proxies work very much like class bound proxies.\n",
    "But instead of binding to a class object, they bind to an instance\n",
    "## <center>`super(class, instance-of-class)`</center>\n",
    "\n",
    "-   `class`is a class object\n",
    "-   `instance-of-class` instance of first argument\n",
    "\n",
    "The behavior of the super proxy in this case is like this:\n",
    "1.  Python finds the <font color=mediumTurquoise>MRO</font> for the type of the second argument\n",
    "2.  Python finds the location of the first argument to`super()`in that <font color=mediumTurquoise>MRO</font>.\n",
    "The instance must be derived from the class, so the class must be in the MRO.\n",
    "3.  Python finally takes everything in the <font color=mediumTurquoise>MRO after</font> the class and uses that as the MRO for resolving methods"
   ],
   "metadata": {
    "collapsed": false,
    "pycharm": {
     "name": "#%% md\n"
    }
   }
  },
  {
   "cell_type": "markdown",
   "source": [
    "Applying the above algorithm"
   ],
   "metadata": {
    "collapsed": false
   }
  },
  {
   "cell_type": "code",
   "execution_count": 48,
   "outputs": [
    {
     "data": {
      "text/plain": "[__main__.SortedIntList,\n __main__.IntList,\n __main__.SortedList,\n __main__.SimpleList,\n object]"
     },
     "execution_count": 48,
     "metadata": {},
     "output_type": "execute_result"
    }
   ],
   "source": [
    "SortedIntList.mro()"
   ],
   "metadata": {
    "collapsed": false,
    "pycharm": {
     "name": "#%%\n"
    }
   }
  },
  {
   "cell_type": "code",
   "source": [
    "sil = SortedList([5, 15, 10])\n",
    "sil"
   ],
   "metadata": {
    "collapsed": false,
    "pycharm": {
     "name": "#%%\n"
    }
   },
   "execution_count": 57,
   "outputs": [
    {
     "data": {
      "text/plain": "Sortedlist([5, 10, 15])"
     },
     "execution_count": 57,
     "metadata": {},
     "output_type": "execute_result"
    }
   ]
  },
  {
   "cell_type": "code",
   "execution_count": 50,
   "outputs": [
    {
     "data": {
      "text/plain": "<super: __main__.SortedList, Sortedlist([5, 10, 15])>"
     },
     "execution_count": 50,
     "metadata": {},
     "output_type": "execute_result"
    }
   ],
   "source": [
    "super(SortedList, sil)"
   ],
   "metadata": {
    "collapsed": false,
    "pycharm": {
     "name": "#%%\n"
    }
   }
  },
  {
   "cell_type": "markdown",
   "source": [
    "The proxy is bound to a `SortedIntList` and will start method resolution from `SortedIntList`'s MRO at the point after `SortedList`.\n",
    "\n",
    "The next entry in `SortedIntLists` MRO after `SortedList` is `SimpleList`.\n",
    "\n",
    "So this super proxy will be directly using SimpleList methods, bypassing our constraint checks."
   ],
   "metadata": {
    "collapsed": false
   }
  },
  {
   "cell_type": "code",
   "execution_count": 51,
   "outputs": [
    {
     "data": {
      "text/plain": "Sortedlist([5, 10, 15, 6])"
     },
     "execution_count": 51,
     "metadata": {},
     "output_type": "execute_result"
    }
   ],
   "source": [
    "super(SortedList, sil).add(6)\n",
    "sil"
   ],
   "metadata": {
    "collapsed": false,
    "pycharm": {
     "name": "#%%\n"
    }
   }
  },
  {
   "cell_type": "code",
   "execution_count": 52,
   "outputs": [
    {
     "data": {
      "text/plain": "Sortedlist([5, 10, 15, 6, 'not numnber'])"
     },
     "execution_count": 52,
     "metadata": {},
     "output_type": "execute_result"
    }
   ],
   "source": [
    "super(SortedList, sil).add('not number')\n",
    "sil"
   ],
   "metadata": {
    "collapsed": false,
    "pycharm": {
     "name": "#%%\n"
    }
   }
  },
  {
   "cell_type": "markdown",
   "source": [
    "Then`SortedIntList`not only isn't sorted anymore, but it also accepts str objects..."
   ],
   "metadata": {
    "collapsed": false,
    "pycharm": {
     "name": "#%% md\n"
    }
   }
  },
  {
   "cell_type": "markdown",
   "source": [
    "## <center>`super()` arguments</center>\n",
    "### `super(base-class, derived-class)`<br>`super(class, instance-of-class)`\n",
    "When calling `super()` in a method with no arguments Python sorts out the arguments.\n",
    "### <font color=lightGreen>instance</font> method `- super(class of method, self)`\n",
    "In an instance method, that is a method which takes an instance as its first argument, calling `super()` without arguments, is the same as calling `super()` with the `methods class` as the <font color=mediumTurquoise>first argument</font> and `self` as <font color=mediumTurquoise>the second</font>.\n",
    "In the case of single inheritance then, this is equivalent to looking for a method on the base class.\n",
    "### <font color=lightGreen>class</font> method `- super(class of method, class)`\n",
    "Calling `super()` without arguments in a class method is equivalent to calling `super()` with the `methods class` as the <font color=mediumTurquoise>first argument</font> and the `class` argument, as <font color=mediumTurquoise>the second</font>.\n",
    "In the typical case, this is equivalent to calling the base class's method.\n",
    "\n",
    "`super()` uses <font color=mediumTurquoise>everything</font> after a specific class in an MRO to <font color=mediumTurquoise>resolve</font> method calls"
   ],
   "metadata": {
    "collapsed": false
   }
  },
  {
   "cell_type": "markdown",
   "source": [
    "## <center>`object`<br>the core of the Python<font color=tomato> object model</font></center>"
   ],
   "metadata": {
    "collapsed": false
   }
  },
  {
   "cell_type": "code",
   "execution_count": 53,
   "outputs": [
    {
     "data": {
      "text/plain": "[__main__.SortedList, __main__.SimpleList, object]"
     },
     "execution_count": 53,
     "metadata": {},
     "output_type": "execute_result"
    }
   ],
   "source": [
    "SortedList.mro()"
   ],
   "metadata": {
    "collapsed": false,
    "pycharm": {
     "name": "#%%\n"
    }
   }
  },
  {
   "cell_type": "code",
   "execution_count": 54,
   "outputs": [
    {
     "data": {
      "text/plain": "(object, object, object, object)"
     },
     "execution_count": 54,
     "metadata": {},
     "output_type": "execute_result"
    }
   ],
   "source": [
    "IntList.mro()[-1], SortedList.mro()[-1], int.mro()[-1], list.mro()[-1]"
   ],
   "metadata": {
    "collapsed": false,
    "pycharm": {
     "name": "#%%\n"
    }
   }
  },
  {
   "cell_type": "markdown",
   "source": [
    "`object`is the <font color=mediumTurquoise>ultimate</font> base class of every class\n",
    "\n",
    "`object`is <font color=mediumTurquoise>automatically</font> added as base class\n",
    "\n",
    "`object` is part of <font color=mediumTurquoise>every class</font> in Python"
   ],
   "metadata": {
    "collapsed": false
   }
  },
  {
   "cell_type": "code",
   "execution_count": 55,
   "outputs": [
    {
     "data": {
      "text/plain": "(object,)"
     },
     "execution_count": 55,
     "metadata": {},
     "output_type": "execute_result"
    }
   ],
   "source": [
    "class NoBaseClass: pass\n",
    "NoBaseClass.__bases__"
   ],
   "metadata": {
    "collapsed": false,
    "pycharm": {
     "name": "#%%\n"
    }
   }
  },
  {
   "cell_type": "code",
   "execution_count": 56,
   "outputs": [
    {
     "data": {
      "text/plain": "['__class__',\n '__delattr__',\n '__dir__',\n '__doc__',\n '__eq__',\n '__format__',\n '__ge__',\n '__getattribute__',\n '__gt__',\n '__hash__',\n '__init__',\n '__init_subclass__',\n '__le__',\n '__lt__',\n '__ne__',\n '__new__',\n '__reduce__',\n '__reduce_ex__',\n '__repr__',\n '__setattr__',\n '__sizeof__',\n '__str__',\n '__subclasshook__']"
     },
     "execution_count": 56,
     "metadata": {},
     "output_type": "execute_result"
    }
   ],
   "source": [
    "dir(object)"
   ],
   "metadata": {
    "collapsed": false,
    "pycharm": {
     "name": "#%%\n"
    }
   }
  }
 ],
 "metadata": {
  "kernelspec": {
   "display_name": "Python 3",
   "language": "python",
   "name": "python3"
  },
  "language_info": {
   "codemirror_mode": {
    "name": "ipython",
    "version": 2
   },
   "file_extension": ".py",
   "mimetype": "text/x-python",
   "name": "python",
   "nbconvert_exporter": "python",
   "pygments_lexer": "ipython2",
   "version": "2.7.6"
  }
 },
 "nbformat": 4,
 "nbformat_minor": 0
}