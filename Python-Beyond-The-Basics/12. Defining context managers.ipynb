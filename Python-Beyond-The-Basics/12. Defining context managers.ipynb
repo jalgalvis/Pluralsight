{
 "cells": [
  {
   "cell_type": "markdown",
   "source": [
    "# <center>Defining<font color=slate> Context Managers</font></center>\n",
    "## <center>`context manager`</center>\n",
    "an object designed to be used in a`with`statement\n",
    "\n",
    "<h2>\n",
    "\n",
    "```\n",
    "with context-manager:\n",
    "    enter()\n",
    "    body\n",
    "    exit()\n",
    "```\n",
    "</h2>\n",
    "\n",
    "A <font color=mediumTurquoise>context-manager</font> ensures tha <font color=mediumTurquoise>resources</font> are properly and automatically <font color=mediumTurquoise>managed</font>\n",
    "\n",
    "-   `enter()` prepares the manager for use\n",
    "-   `exit()` cleans it up\n"
   ],
   "metadata": {
    "collapsed": false
   }
  },
  {
   "cell_type": "code",
   "execution_count": null,
   "outputs": [],
   "source": [
    "with open(file='important_data.txt', mode='w') as f:\n",
    "    f.write('The secret password is 12345')"
   ],
   "metadata": {
    "collapsed": false,
    "pycharm": {
     "name": "#%%\n"
    }
   }
  },
  {
   "cell_type": "markdown",
   "source": [
    "The benefit of using files in a with statement is that they are <font color=mediumTurquoise>automatically</font> closed at the end of the with block.\n",
    "\n",
    "This works because files are`context managers`.\n",
    "\n",
    "They have methods which are called by the with statement <font color=mediumTurquoise>before</font> the block has started and <font color=mediumTurquoise>after</font> the block exits.\n",
    "\n",
    "The `exit` method for a file, that is the code executed <font color=mediumTurquoise>after</font> the with block exits, does the work of closing the file, and this is how files work with with statements to ensure <font color=mediumTurquoise>proper resource management</font>.\n",
    "\n",
    "File's`exit()`code closes the file\n",
    "## <center><font color=tomato>Context-Manager </font>Protocol</center>\n",
    "## `__enter__(self)`\n",
    "## `__exit__(self, exc_type, exc_val, exc_tb)`\n",
    "\n",
    "1.  What`with`statement does is execute its expression, the code immediately following the`with`keyword.\n",
    "The expression must evaluate to a`context manager`. That is the expression must produce an object, which supports both the`__enter__()`and`__exit__()`methods.\n",
    "2.  Once the expression is evaluated and we have a context manager object, the`with`statement then calls`__enter__()`on that context manager with no arguments.\n",
    "3.  If`__enter__()`throws an exception, execution never enters the with block, and the `with` statement is done.\n",
    "4.  If`__enter__()`executes successfully, it can return a value. If the`with`statement includes an `as` clause, this returned value is bound to the name in the as clause.\n",
    "Otherwise this return value is discarded.\n",
    "5.  Once `__enter__()` has been executed and its return value potentially bound to a name, the `with` block itself is executed.\n",
    "The with block can terminate in one of two fundamental ways, with an exception or by running off the end of the block what we call normal termination.\n",
    "6.  In both cases, the context manager's`__exit__()`method is called after the block. If the block exits normally,`__exit__()`is called with no extra information.\n",
    "If, on the other hand, the block exits exceptionally, then the exception information is passed to`__exit__()`. This means that`__exit__()`can do different things depending on how the with block terminates"
   ],
   "metadata": {
    "collapsed": false
   }
  },
  {
   "cell_type": "markdown",
   "source": [
    "## <center>A first <font color=tomato>content manager</font></center>\n"
   ],
   "metadata": {
    "collapsed": false
   }
  },
  {
   "cell_type": "code",
   "execution_count": null,
   "outputs": [],
   "source": [
    "class LoggingContextManager:\n",
    "    def __enter__(self):\n",
    "        print('LoggingContextManager.__enter__()')\n",
    "        return 'You are in a with-block'\n",
    "    def __exit__(self, exc_type, exc_val, exc_tb):\n",
    "        print('LoggingContextManager.__exit__({}, {}, {})'.format(exc_type, exc_val, exc_tb))\n",
    "        return\n",
    "\n",
    "with LoggingContextManager() as x:\n",
    "    print(x)"
   ],
   "metadata": {
    "collapsed": false,
    "pycharm": {
     "name": "#%%\n"
    }
   }
  },
  {
   "cell_type": "markdown",
   "source": [
    "These arguments in `__exit__() `are all None if the block exits normally"
   ],
   "metadata": {
    "collapsed": false
   }
  },
  {
   "cell_type": "code",
   "execution_count": null,
   "outputs": [],
   "source": [
    "try:\n",
    "    with LoggingContextManager() as x:\n",
    "        raise ValueError('Something has gone wrong')\n",
    "        print(x)\n",
    "\n",
    "except:\n",
    "    pass"
   ],
   "metadata": {
    "collapsed": false,
    "pycharm": {
     "name": "#%%\n"
    }
   }
  },
  {
   "cell_type": "markdown",
   "source": [
    "## <center>`__enter__()`</center>\n",
    "-   called before entering `with`-statement body\n",
    "-   return value bond to `as variable`\n",
    "-   can return value of any type\n",
    "-   commonly returns context-manager itself\n",
    "\n",
    "in the following case:"
   ],
   "metadata": {
    "collapsed": false
   }
  },
  {
   "cell_type": "code",
   "execution_count": null,
   "outputs": [],
   "source": [
    "with open(file='important_data.txt', mode='r') as f:\n",
    "    data = f.read()\n"
   ],
   "metadata": {
    "collapsed": false,
    "pycharm": {
     "name": "#%%\n"
    }
   }
  },
  {
   "cell_type": "markdown",
   "source": [
    "`file.__enter__()` is returning the`file`object itself, to check:\n"
   ],
   "metadata": {
    "collapsed": false
   }
  },
  {
   "cell_type": "code",
   "execution_count": null,
   "outputs": [],
   "source": [
    "f = open(file='a_file', mode='w')\n",
    "with f as g:\n",
    "    print(f is g)"
   ],
   "metadata": {
    "collapsed": false,
    "pycharm": {
     "name": "#%%\n"
    }
   }
  },
  {
   "cell_type": "markdown",
   "source": [
    "## <center>`__exit__()`</center>\n",
    "Called when the with-statement body exits.\n",
    "\n",
    "-   When a with block exits without an exception, all three of these arguments are set to none.\n",
    "-   When it exits exceptionally, these arguments are bound to the exception, which terminated the block\n",
    "\n",
    "## `__exit__(self, exc_type, exc_val, exc_tb)`\n",
    "<font color=mediumTurquoise>\n",
    "\n",
    "-   `exc_type` exception type\n",
    "-   `exc_object` exception object\n",
    "-   `exc_tb` exception traceback\n",
    "</font>"
   ],
   "metadata": {
    "collapsed": false
   }
  },
  {
   "cell_type": "markdown",
   "source": [
    "### `__exit__()` can check `type` for `None` to see if an <font color=lightGreen>exception was thrown</font>"
   ],
   "metadata": {
    "collapsed": false
   }
  },
  {
   "cell_type": "code",
   "execution_count": null,
   "outputs": [],
   "source": [
    "class LoggingContextManager:\n",
    "    def __enter__(self):\n",
    "        print('LoggingContextManager.__enter__()')\n",
    "        return 'You are in a with-block'\n",
    "    def __exit__(self, exc_type, exc_val, exc_tb):\n",
    "        if exc_type is None:\n",
    "            print('LoggingContextManager.__exit__:'\n",
    "                  'Normal exit detected.')\n",
    "        else:\n",
    "            print('LoggingContextManager.__exit__:'\n",
    "                  'Exception detected'\n",
    "                  '\\ntype={},\\nvalue={},\\ntraceback={}'.format(exc_type, exc_val, exc_tb))\n",
    "\n",
    "with LoggingContextManager():\n",
    "    pass"
   ],
   "metadata": {
    "collapsed": false,
    "pycharm": {
     "name": "#%%\n"
    }
   }
  },
  {
   "cell_type": "code",
   "execution_count": null,
   "outputs": [],
   "source": [
    "try:\n",
    "    with LoggingContextManager():\n",
    "        raise ValueError('Core meltdown imminent')\n",
    "\n",
    "except:\n",
    "    pass"
   ],
   "metadata": {
    "collapsed": false,
    "pycharm": {
     "name": "#%%\n"
    }
   }
  },
  {
   "cell_type": "markdown",
   "source": [
    "### By default `__exit__()` <font color=lightGreen>propagates exceptions</font> thrown form the `with`-statement code block\n",
    "when an exception is thrown from a with block, the context managers `__exit__()` is executed,\n",
    "and afterward the original exception is re raised."
   ],
   "metadata": {
    "collapsed": false
   }
  },
  {
   "cell_type": "code",
   "execution_count": null,
   "outputs": [],
   "source": [
    "try:\n",
    "    with LoggingContextManager():\n",
    "        raise ValueError('Core meltdown imminent')\n",
    "except ValueError:\n",
    "    print('*** ValueError detected ***')\n"
   ],
   "metadata": {
    "collapsed": false,
    "pycharm": {
     "name": "#%%\n"
    }
   }
  },
  {
   "cell_type": "markdown",
   "source": [
    "-   if`__exit__()`<font color=mediumTurquoise>returns </font>`False`the exception is <font color=mediumTurquoise>propagated</font>.\n",
    "-   `__exit__()` answers the question \"should the `with`-statement swallow exception?\"\n",
    "-   By default functions return`Nonw`. `None` evaluates to `False`\n",
    "-   `__exit__()` should <font color=mediumTurquoise>never</font> explicitly re-raise exceptions\n",
    "-   If `__exit__()` wants to ensure that the exception from the `with` block is re raised, it should simply return `False` and let the `with` statement re raise it.\n",
    "-   `__exit__()` should only <font color=mediumTurquoise>raise</font> exceptions if it <font color=mediumTurquoise>fails</font> itself"
   ],
   "metadata": {
    "collapsed": false
   }
  },
  {
   "cell_type": "markdown",
   "source": [
    "## <center>`contextlib`<font color=tomato><br>standard library module for working with context managers</font></center>\n",
    "Provides utilities for common tasks involving the `with` statement\n",
    "\n",
    "## contextlib.contextmanager -> contextmanager\n",
    "A decorator to create new context managers"
   ],
   "metadata": {
    "collapsed": false
   }
  },
  {
   "cell_type": "code",
   "source": [
    "import contextlib\n",
    "\n",
    "@contextlib.contextmanager\n",
    "def my_context_manager():\n",
    "    # <ENTER>\n",
    "    try:\n",
    "        yield ['value']\n",
    "        # <NORMAL EXIT>\n",
    "    except:\n",
    "        # <EXCEPTIONAL EXIT>\n",
    "        raise\n",
    "with my_context_manager() as x:\n",
    "    pass\n"
   ],
   "metadata": {
    "collapsed": false,
    "pycharm": {
     "name": "#%%\n"
    }
   },
   "execution_count": null,
   "outputs": []
  },
  {
   "cell_type": "markdown",
   "source": [
    "Rewriting our `LoggingContextManager` with the `contextmanager` it would be as follows:"
   ],
   "metadata": {
    "collapsed": false,
    "pycharm": {
     "name": "#%% md\n"
    }
   }
  },
  {
   "cell_type": "code",
   "execution_count": 48,
   "outputs": [
    {
     "name": "stdout",
     "output_type": "stream",
     "text": [
      "logging_context_manager: enter\n",
      "You are in a with-block\n",
      "logging_context_manager: normal exit\n"
     ]
    }
   ],
   "source": [
    "import contextlib\n",
    "\n",
    "@contextlib.contextmanager\n",
    "def logging_context_manager():\n",
    "    print('logging_context_manager: enter')\n",
    "    try:\n",
    "        yield 'You are in a with-block'\n",
    "        print('logging_context_manager: normal exit')\n",
    "    except:\n",
    "        print('logging_context_manager: exceptional exit')\n",
    "\n",
    "with logging_context_manager() as x:\n",
    "    print(x)"
   ],
   "metadata": {
    "collapsed": false,
    "pycharm": {
     "name": "#%%\n"
    }
   }
  },
  {
   "cell_type": "code",
   "execution_count": 49,
   "outputs": [
    {
     "name": "stdout",
     "output_type": "stream",
     "text": [
      "logging_context_manager: enter\n",
      "logging_context_manager: exceptional exit\n"
     ]
    }
   ],
   "source": [
    "    with logging_context_manager() as x:\n",
    "        raise ValueError('Something has gone wrong')"
   ],
   "metadata": {
    "collapsed": false,
    "pycharm": {
     "name": "#%%\n"
    }
   }
  },
  {
   "cell_type": "markdown",
   "source": [
    "-   `contextmanager` uses standard exception to propagate exceptions\n",
    "-   `contextmanager` explicitly re-raise or so not catch to propagate exceptions\n",
    "-   `contextmanager` swallow exceptions by no re-raising them\n",
    "\n",
    "let's update our new context manager to propagate exceptions. We simply add a bare <font color=mediumTurquoise>raise</font> call after logging the exception.\n"
   ],
   "metadata": {
    "collapsed": false,
    "pycharm": {
     "name": "#%% md\n"
    }
   }
  },
  {
   "cell_type": "code",
   "execution_count": 52,
   "outputs": [],
   "source": [
    "import contextlib\n",
    "\n",
    "@contextlib.contextmanager\n",
    "def logging_context_manager():\n",
    "    print('logging_context_manager: enter')\n",
    "    try:\n",
    "        yield 'You are in a with-block'\n",
    "        print('logging_context_manager: normal exit')\n",
    "    except:\n",
    "        print('logging_context_manager: exceptional exit')\n",
    "        raise\n"
   ],
   "metadata": {
    "collapsed": false,
    "pycharm": {
     "name": "#%%\n"
    }
   }
  },
  {
   "cell_type": "code",
   "execution_count": 55,
   "outputs": [
    {
     "name": "stdout",
     "output_type": "stream",
     "text": [
      "logging_context_manager: enter\n",
      "logging_context_manager: exceptional exit\n",
      "ValueError('Something has gone wrong')\n"
     ]
    }
   ],
   "source": [
    "try:\n",
    "        with logging_context_manager() as x:\n",
    "            raise ValueError('Something has gone wrong')\n",
    "except Exception as e:\n",
    "    print(e.__repr__())"
   ],
   "metadata": {
    "collapsed": false,
    "pycharm": {
     "name": "#%%\n"
    }
   }
  },
  {
   "cell_type": "markdown",
   "source": [
    "## <center>multiple<font color=tomato> context managers</font></center>\n",
    "`with`-statements can use as many context-managers as needed\n",
    "\n",
    "```\n",
    "with cm1() as a, cm2() as b, ....:\n",
    "    BODY```\n",
    "\n",
    "it works as nested `with` statements:"
   ],
   "metadata": {
    "collapsed": false
   }
  },
  {
   "cell_type": "raw",
   "source": [
    "with cm1() as a, cm2() as b:\n",
    "    BODY"
   ],
   "metadata": {
    "collapsed": false
   }
  },
  {
   "cell_type": "markdown",
   "source": [
    "is the same as:"
   ],
   "metadata": {
    "collapsed": false,
    "pycharm": {
     "name": "#%% md\n"
    }
   }
  },
  {
   "cell_type": "raw",
   "source": [
    "with cm1() as a:\n",
    "    with cm2 as b:\n",
    "        BODY"
   ],
   "metadata": {
    "collapsed": false
   }
  },
  {
   "cell_type": "markdown",
   "source": [
    "example:"
   ],
   "metadata": {
    "collapsed": false
   }
  },
  {
   "cell_type": "code",
   "execution_count": 56,
   "outputs": [
    {
     "name": "stdout",
     "output_type": "stream",
     "text": [
      "Entering outer\n",
      "Entering inner\n",
      "BODY\n",
      "Exiting inner\n",
      "Exiting outer\n"
     ]
    }
   ],
   "source": [
    "import contextlib\n",
    "\n",
    "@contextlib.contextmanager\n",
    "def nest_test(name):\n",
    "    print('Entering', name)\n",
    "    yield\n",
    "    print('Exiting', name)\n",
    "\n",
    "with nest_test('outer'), nest_test('inner'):\n",
    "    print('BODY')"
   ],
   "metadata": {
    "collapsed": false,
    "pycharm": {
     "name": "#%%\n"
    }
   }
  },
  {
   "cell_type": "markdown",
   "source": [
    "with `as variable`\n"
   ],
   "metadata": {
    "collapsed": false
   }
  },
  {
   "cell_type": "code",
   "execution_count": null,
   "outputs": [],
   "source": [
    "with nest_test('outer'):\n",
    "    with nest_test('inner'):\n",
    "        print('BODY')\n",
    "import contextlib"
   ],
   "metadata": {
    "collapsed": false,
    "pycharm": {
     "name": "#%%\n"
    }
   }
  },
  {
   "cell_type": "code",
   "execution_count": 65,
   "outputs": [
    {
     "name": "stdout",
     "output_type": "stream",
     "text": [
      "Entering outer\n",
      "Entering inner, nested in outer\n",
      "BODY\n",
      "Exiting inner, nested in outer\n",
      "Exiting outer\n"
     ]
    }
   ],
   "source": [
    "@contextlib.contextmanager\n",
    "def nest_test(name):\n",
    "    print('Entering', name)\n",
    "    yield name\n",
    "    print('Exiting', name)\n",
    "\n",
    "with nest_test('outer') as n1, nest_test('inner, nested in ' + n1):\n",
    "    print('BODY')"
   ],
   "metadata": {
    "collapsed": false,
    "pycharm": {
     "name": "#%%\n"
    }
   }
  },
  {
   "cell_type": "markdown",
   "source": [
    "Exceptions propagated from <font color=mediumTurquoise>inner</font> context managers will be seen by <font color=mediumTurquoise>outer</font> context managers"
   ],
   "metadata": {
    "collapsed": false
   }
  },
  {
   "cell_type": "code",
   "execution_count": 66,
   "outputs": [
    {
     "name": "stdout",
     "output_type": "stream",
     "text": [
      "inner received an exception!\n",
      "outer exited normally.\n"
     ]
    }
   ],
   "source": [
    "import contextlib\n",
    "\n",
    "@contextlib.contextmanager\n",
    "def propagater(name, propagate):\n",
    "    try:\n",
    "        yield\n",
    "        print(name, 'exited normally.')\n",
    "    except Exception:\n",
    "        print(name, 'received an exception!')\n",
    "        if propagate:\n",
    "            raise"
   ],
   "metadata": {
    "collapsed": false,
    "pycharm": {
     "name": "#%%\n"
    }
   }
  },
  {
   "cell_type": "markdown",
   "source": [
    "Inner context manager swallows the exception so that the outer one never sees it"
   ],
   "metadata": {
    "collapsed": false
   }
  },
  {
   "cell_type": "code",
   "execution_count": null,
   "outputs": [],
   "source": [
    "with propagater('outer', True), propagater('inner', False):\n",
    "    raise TypeError('Cannot convert lead into gold')"
   ],
   "metadata": {
    "collapsed": false,
    "pycharm": {
     "name": "#%%\n"
    }
   }
  },
  {
   "cell_type": "markdown",
   "source": [
    "Inner context manager propagates the exception while the outer one swallows it"
   ],
   "metadata": {
    "collapsed": false
   }
  },
  {
   "cell_type": "code",
   "execution_count": 67,
   "outputs": [
    {
     "name": "stdout",
     "output_type": "stream",
     "text": [
      "inner received an exception!\n",
      "outer received an exception!\n"
     ]
    }
   ],
   "source": [
    "with propagater('outer', False), propagater('inner', True):\n",
    "    raise TypeError('Cannot convert lead into gold')"
   ],
   "metadata": {
    "collapsed": false,
    "pycharm": {
     "name": "#%%\n"
    }
   }
  },
  {
   "cell_type": "markdown",
   "source": [
    "## <center>Context Managers for <font color=tomato>transactions: </font> example</center>\n",
    "This example will involve a Connection class, which represents some sort of database connection, along with the Transaction class, which manages transactions in the database.\n",
    "Users of our system can create connections and then create transaction objects to start transactions.\n",
    "To commit or roll back transactions, users can call methods on the transaction instances."
   ],
   "metadata": {
    "collapsed": false
   }
  },
  {
   "cell_type": "code",
   "execution_count": 68,
   "outputs": [
    {
     "name": "stdout",
     "output_type": "stream",
     "text": [
      "starting transaction 0\n",
      "rolling back transaction 0\n",
      "Ooops! Transaction 0 failed.\n"
     ]
    }
   ],
   "source": [
    "\n",
    "class Connection:\n",
    "    def __init__(self):\n",
    "        self.xid = 0\n",
    "\n",
    "    def _start_transaction(self):\n",
    "        print('starting transaction', self.xid)\n",
    "        rslt = self.xid\n",
    "        self.xid = self.xid + 1\n",
    "        return rslt\n",
    "\n",
    "    def _commit_transaction(self, xid):\n",
    "        print('committing transaction', xid)\n",
    "\n",
    "    def _rollback_transaction(self, xid):\n",
    "        print('rolling back transaction', xid)\n",
    "\n",
    "import contextlib\n",
    "\n",
    "\n",
    "class Transaction:\n",
    "    def __init__(self, conn):\n",
    "        self.conn = conn\n",
    "        self.xid = conn._start_transaction()\n",
    "\n",
    "    def commit(self):\n",
    "        self.conn._commit_transaction(self.xid)\n",
    "\n",
    "    def rollback(self):\n",
    "        self.conn._rollback_transaction(self.xid)\n",
    "\n",
    "\n",
    "@contextlib.contextmanager\n",
    "def start_transaction(connection):\n",
    "    tx = Transaction(connection)\n",
    "\n",
    "    try:\n",
    "        yield tx\n",
    "    except Exception:\n",
    "        tx.rollback()\n",
    "        raise\n",
    "\n",
    "    tx.commit()"
   ],
   "metadata": {
    "collapsed": false,
    "pycharm": {
     "name": "#%%\n"
    }
   }
  },
  {
   "cell_type": "code",
   "execution_count": 72,
   "outputs": [
    {
     "name": "stdout",
     "output_type": "stream",
     "text": [
      "starting transaction 0\n",
      "rolling back transaction 0\n",
      "Ooops! Transaction 0 failed.\n"
     ]
    }
   ],
   "source": [
    "conn = Connection()\n",
    "try:\n",
    "    with start_transaction(conn) as tx:\n",
    "        x = 1 + 1\n",
    "        raise ValueError()\n",
    "        y = x + 2\n",
    "        print('transaction 0 = ', x, y)\n",
    "except ValueError:\n",
    "    print('Ooops! Transaction 0 failed.')"
   ],
   "metadata": {
    "collapsed": false,
    "pycharm": {
     "name": "#%%\n"
    }
   }
  },
  {
   "cell_type": "code",
   "execution_count": 73,
   "outputs": [
    {
     "name": "stdout",
     "output_type": "stream",
     "text": [
      "starting transaction 1\n",
      "transaction 1 =  2 4\n",
      "committing transaction 1\n"
     ]
    }
   ],
   "source": [
    "try:\n",
    "    with start_transaction(conn):\n",
    "        x = 1 + 1\n",
    "        y = x + 2\n",
    "        print('transaction 1 = ', x, y)\n",
    "except ValueError:\n",
    "    assert False"
   ],
   "metadata": {
    "collapsed": false,
    "pycharm": {
     "name": "#%%\n"
    }
   }
  },
  {
   "cell_type": "code",
   "execution_count": 74,
   "outputs": [
    {
     "name": "stdout",
     "output_type": "stream",
     "text": [
      "<__main__.Connection object at 0x7feea184a8b0>\n"
     ]
    }
   ],
   "source": [
    "\n"
   ],
   "metadata": {
    "collapsed": false,
    "pycharm": {
     "name": "#%%\n"
    }
   }
  }
 ],
 "metadata": {
  "kernelspec": {
   "display_name": "Python 3",
   "language": "python",
   "name": "python3"
  },
  "language_info": {
   "codemirror_mode": {
    "name": "ipython",
    "version": 2
   },
   "file_extension": ".py",
   "mimetype": "text/x-python",
   "name": "python",
   "nbconvert_exporter": "python",
   "pygments_lexer": "ipython2",
   "version": "2.7.6"
  }
 },
 "nbformat": 4,
 "nbformat_minor": 0
}