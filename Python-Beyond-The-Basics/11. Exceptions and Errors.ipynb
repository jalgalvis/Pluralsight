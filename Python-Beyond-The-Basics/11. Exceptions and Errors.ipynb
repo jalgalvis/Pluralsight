{
 "cells": [
  {
   "cell_type": "markdown",
   "source": [
    "# <center><font color=slate>Exceptions and errors</font></center>\n",
    "\n",
    "## <center>Exceptions are arranged in an <font color=tomato>inheritance</font> hierarchy</center>\n",
    "he built in exception classes are arranged into a class hierarchy using inheritance.\n",
    "Example:"
   ],
   "metadata": {
    "collapsed": false
   }
  },
  {
   "cell_type": "code",
   "execution_count": 82,
   "outputs": [
    {
     "data": {
      "text/plain": "([IndexError, LookupError, Exception, BaseException, object],\n [KeyError, LookupError, Exception, BaseException, object])"
     },
     "execution_count": 82,
     "metadata": {},
     "output_type": "execute_result"
    }
   ],
   "source": [
    "IndexError.mro(), KeyError.mro()"
   ],
   "metadata": {
    "collapsed": false,
    "pycharm": {
     "name": "#%%\n"
    }
   }
  },
  {
   "cell_type": "markdown",
   "source": [
    "These two exceptions are siblings, both are subclasses of `LookupError`."
   ],
   "metadata": {
    "collapsed": false,
    "pycharm": {
     "name": "#%% md\n"
    }
   }
  },
  {
   "cell_type": "code",
   "execution_count": 83,
   "outputs": [
    {
     "name": "stdout",
     "output_type": "stream",
     "text": [
      "Handled IndexError\n",
      "Handled KeyError\n"
     ]
    }
   ],
   "source": [
    "def lookups():\n",
    "    s = [1, 4, 6]\n",
    "    try:\n",
    "        item = s[5]\n",
    "    except IndexError:\n",
    "        print('Handled IndexError')\n",
    "\n",
    "    d = dict(a=65, b=66, c=67)\n",
    "    try:\n",
    "        value = d['x']\n",
    "    except KeyError:\n",
    "        print('Handled KeyError')\n",
    "\n",
    "lookups()"
   ],
   "metadata": {
    "collapsed": false,
    "pycharm": {
     "name": "#%%\n"
    }
   }
  },
  {
   "cell_type": "markdown",
   "source": [
    "So, in practice we can catch both `IndexError` and `KeyError` exceptions by catching `LookupError`"
   ],
   "metadata": {
    "collapsed": false
   }
  },
  {
   "cell_type": "code",
   "execution_count": 84,
   "outputs": [
    {
     "name": "stdout",
     "output_type": "stream",
     "text": [
      "Handled IndexError\n",
      "Handled KeyError\n"
     ]
    }
   ],
   "source": [
    "def lookups():\n",
    "    s = [1, 4, 6]\n",
    "    try:\n",
    "        item = s[5]\n",
    "    except LookupError:\n",
    "        print('Handled IndexError')\n",
    "\n",
    "    d = dict(a=65, b=66, c=67)\n",
    "    try:\n",
    "        value = d['x']\n",
    "    except LookupError:\n",
    "        print('Handled KeyError')\n",
    "\n",
    "lookups()"
   ],
   "metadata": {
    "collapsed": false,
    "pycharm": {
     "name": "#%%\n"
    }
   }
  },
  {
   "cell_type": "markdown",
   "source": [
    "## <center>Full Hierarchy<font color=tomato><br>Built-in Exceptions</font></center>\n",
    "https://docs.python.org/3/library/exceptions.html#exception-hierarchy"
   ],
   "metadata": {
    "collapsed": false
   }
  },
  {
   "cell_type": "raw",
   "source": [
    "BaseException\n",
    " +-- SystemExit\n",
    " +-- KeyboardInterrupt\n",
    " +-- GeneratorExit\n",
    " +-- Exception\n",
    "      +-- StopIteration\n",
    "      +-- StopAsyncIteration\n",
    "      +-- ArithmeticError\n",
    "      |    +-- FloatingPointError\n",
    "      |    +-- OverflowError\n",
    "      |    +-- ZeroDivisionError\n",
    "      +-- AssertionError\n",
    "      +-- AttributeError\n",
    "      +-- BufferError\n",
    "      +-- EOFError\n",
    "      +-- ImportError\n",
    "      |    +-- ModuleNotFoundError\n",
    "      +-- LookupError\n",
    "      |    +-- IndexError\n",
    "      |    +-- KeyError\n",
    "      +-- MemoryError\n",
    "      +-- NameError\n",
    "      |    +-- UnboundLocalError\n",
    "      +-- OSError\n",
    "      |    +-- BlockingIOError\n",
    "      |    +-- ChildProcessError\n",
    "      |    +-- ConnectionError\n",
    "      |    |    +-- BrokenPipeError\n",
    "      |    |    +-- ConnectionAbortedError\n",
    "      |    |    +-- ConnectionRefusedError\n",
    "      |    |    +-- ConnectionResetError\n",
    "      |    +-- FileExistsError\n",
    "      |    +-- FileNotFoundError\n",
    "      |    +-- InterruptedError\n",
    "      |    +-- IsADirectoryError\n",
    "      |    +-- NotADirectoryError\n",
    "      |    +-- PermissionError\n",
    "      |    +-- ProcessLookupError\n",
    "      |    +-- TimeoutError\n",
    "      +-- ReferenceError\n",
    "      +-- RuntimeError\n",
    "      |    +-- NotImplementedError\n",
    "      |    +-- RecursionError\n",
    "      +-- SyntaxError\n",
    "      |    +-- IndentationError\n",
    "      |         +-- TabError\n",
    "      +-- SystemError\n",
    "      +-- TypeError\n",
    "      +-- ValueError\n",
    "      |    +-- UnicodeError\n",
    "      |         +-- UnicodeDecodeError\n",
    "      |         +-- UnicodeEncodeError\n",
    "      |         +-- UnicodeTranslateError\n",
    "      +-- Warning\n",
    "           +-- DeprecationWarning\n",
    "           +-- PendingDeprecationWarning\n",
    "           +-- RuntimeWarning\n",
    "           +-- SyntaxWarning\n",
    "           +-- UserWarning\n",
    "           +-- FutureWarning\n",
    "           +-- ImportWarning\n",
    "           +-- UnicodeWarning\n",
    "           +-- BytesWarning\n",
    "           +-- ResourceWarning"
   ],
   "metadata": {
    "collapsed": false,
    "pycharm": {
     "name": "#%% raw\n"
    }
   }
  },
  {
   "cell_type": "markdown",
   "source": [
    "## <center>Exception<font color=tomato><br>payloads</font></center>\n"
   ],
   "metadata": {
    "collapsed": false
   }
  },
  {
   "cell_type": "code",
   "execution_count": 85,
   "outputs": [
    {
     "data": {
      "text/plain": "3.5"
     },
     "execution_count": 85,
     "metadata": {},
     "output_type": "execute_result"
    }
   ],
   "source": [
    "def median(iterable):\n",
    "    items = sorted(iterable)\n",
    "    median_index = (len(items) - 1) // 2\n",
    "    if len(items) % 2 != 0:\n",
    "        return items[median_index]\n",
    "    return (items[median_index] + items[median_index + 1]) / 2.0\n",
    "\n",
    "median([5, 2, 1, 7, 8, 0])"
   ],
   "metadata": {
    "collapsed": false,
    "pycharm": {
     "name": "#%%\n"
    }
   }
  },
  {
   "cell_type": "code",
   "execution_count": 86,
   "outputs": [
    {
     "name": "stdout",
     "output_type": "stream",
     "text": [
      "IndexError('list index out of range')\n"
     ]
    }
   ],
   "source": [
    "try:\n",
    "    median([])\n",
    "except Exception as e:\n",
    "    print(e.__repr__())\n"
   ],
   "metadata": {
    "collapsed": false,
    "pycharm": {
     "name": "#%%\n"
    }
   }
  },
  {
   "cell_type": "code",
   "execution_count": 87,
   "outputs": [],
   "source": [
    "def median(iterable):\n",
    "    items = sorted(iterable)\n",
    "    if len(items) == 0:\n",
    "        raise ValueError(\"median() arg is empty sequence\")\n",
    "    median_index = (len(items) - 1) // 2\n",
    "    if len(items) % 2 != 0:\n",
    "        return items[median_index]\n",
    "    return (items[median_index] + items[median_index + 1]) / 2.0\n"
   ],
   "metadata": {
    "collapsed": false,
    "pycharm": {
     "name": "#%%\n"
    }
   }
  },
  {
   "cell_type": "code",
   "execution_count": 88,
   "outputs": [
    {
     "name": "stdout",
     "output_type": "stream",
     "text": [
      "ValueError('median() arg is empty sequence') ('median() arg is empty sequence',)\n"
     ]
    }
   ],
   "source": [
    "try:\n",
    "    median([])\n",
    "except Exception as e:\n",
    "    print(e.__repr__(), e.args)\n"
   ],
   "metadata": {
    "collapsed": false,
    "pycharm": {
     "name": "#%%\n"
    }
   }
  },
  {
   "cell_type": "markdown",
   "source": [
    "Specific exception classes may provide additional specific named attributes,\n",
    "which contain further information about the cause.\n",
    "\n",
    "`UnicodeError` is one such example, which has five additional named:\n",
    " `attributes`, `encoding`, `reason`, `object`, `start`, and 1`"
   ],
   "metadata": {
    "collapsed": false,
    "pycharm": {
     "name": "#%% md\n"
    }
   }
  },
  {
   "cell_type": "code",
   "execution_count": 89,
   "outputs": [
    {
     "name": "stdout",
     "output_type": "stream",
     "text": [
      "'utf-8' codec can't decode byte 0x81 in position 0: invalid start byte\n",
      "encoding:  utf-8\n",
      "reason:  invalid start byte\n",
      "object:  b'\\x81'\n",
      "start:  0\n",
      "end:  1\n"
     ]
    }
   ],
   "source": [
    "try:\n",
    "    b'\\x81'.decode('utf-8')\n",
    "except UnicodeError as e:\n",
    "    print(e)\n",
    "    print('encoding: ', e.encoding)\n",
    "    print('reason: ', e.reason)\n",
    "    print('object: ', e.object)\n",
    "    print('start: ', e.start)\n",
    "    print('end: ', e.end)"
   ],
   "metadata": {
    "collapsed": false,
    "pycharm": {
     "name": "#%%\n"
    }
   }
  },
  {
   "cell_type": "markdown",
   "source": [
    "## <center>Defining <font color=tomato>new </font>exceptions</center>\n"
   ],
   "metadata": {
    "collapsed": false
   }
  },
  {
   "cell_type": "code",
   "execution_count": 90,
   "outputs": [],
   "source": [
    "import math"
   ],
   "metadata": {
    "collapsed": false,
    "pycharm": {
     "name": "#%%\n"
    }
   }
  },
  {
   "cell_type": "code",
   "execution_count": 91,
   "outputs": [
    {
     "data": {
      "text/plain": "6.0"
     },
     "execution_count": 91,
     "metadata": {},
     "output_type": "execute_result"
    }
   ],
   "source": [
    "def triangle_area(a, b, c):\n",
    "    p = (a + b + c) / 2\n",
    "    a = math.sqrt(p * (p - a) * (p - b) * (p - c))\n",
    "    return a\n",
    "triangle_area(3, 4, 5)"
   ],
   "metadata": {
    "collapsed": false,
    "pycharm": {
     "name": "#%%\n"
    }
   }
  },
  {
   "cell_type": "code",
   "execution_count": 92,
   "outputs": [
    {
     "name": "stdout",
     "output_type": "stream",
     "text": [
      "ValueError('math domain error')\n"
     ]
    }
   ],
   "source": [
    "try:\n",
    "    triangle_area(10, 3, 30)\n",
    "except Exception as e:\n",
    "    print(e.__repr__())"
   ],
   "metadata": {
    "collapsed": false,
    "pycharm": {
     "name": "#%%\n"
    }
   }
  },
  {
   "cell_type": "markdown",
   "source": [
    "Given the following example, rather than the obscure math domain error message here, we'd prefer to raise a more specific exception\n",
    "\n",
    "First we define our own exception class,`TriangleError`, subclassing`Exception`,\n",
    "all the functionality we want is inherited from`Exception`: `__init__()`, `__str__()` and `__repr__()`"
   ],
   "metadata": {
    "collapsed": false
   }
  },
  {
   "cell_type": "code",
   "execution_count": 93,
   "outputs": [
    {
     "name": "stdout",
     "output_type": "stream",
     "text": [
      "'Illegal triangle' for sides (3, 4, 10)\n",
      "\n",
      "\n",
      "TriangleError 'Illegal triangle', (3, 4, 10)\n"
     ]
    }
   ],
   "source": [
    "class TriangleError(Exception):\n",
    "    def __init__(self, text, sides):\n",
    "        super(). __init__(text)\n",
    "        self._sides = tuple(sides)\n",
    "\n",
    "    @property\n",
    "    def sides(self):\n",
    "        return self._sides\n",
    "\n",
    "    def __str__(self):\n",
    "        return \"'{}' for sides {}\".format(self.args[0], self._sides)\n",
    "    def __repr__(self):\n",
    "        return \"TriangleError {!r}, {!r}\".format(self.args[0], self._sides)\n",
    "\n",
    "def triangle_area(a, b, c):\n",
    "    sides = sorted((a, b, c))\n",
    "    #sorting the three sides we are given and check that the length of the longest side isn't greater than the length of the two shorter sides added together we find out that a triangle is not possible\n",
    "    if sides[2] > sides[0] + sides[1]:\n",
    "        raise TriangleError(text='Illegal triangle', sides=sides)\n",
    "    p = (a + b + c) / 2\n",
    "    a = math.sqrt(p * (p - a) * (p - b) * (p - c))\n",
    "    return a\n",
    "\n",
    "try:\n",
    "    triangle_area(3, 4, 10)\n",
    "except Exception as e:\n",
    "    print(e), print('\\n'), print(e.__repr__())"
   ],
   "metadata": {
    "collapsed": false,
    "pycharm": {
     "name": "#%%\n"
    }
   }
  },
  {
   "cell_type": "markdown",
   "source": [
    "## <center><font color=tomato>Chaining</font> exceptions</center>"
   ],
   "metadata": {
    "collapsed": false,
    "pycharm": {
     "name": "#%% md\n"
    }
   }
  },
  {
   "cell_type": "markdown",
   "source": [
    "Exception chaining allows us to associate one exception with another. And there's two main use cases:\n",
    "-   <font color=mediumTurquoise>Implicit chaining:</font> when during processing of one exception, another exception occurs, usually in a way incidental to the first exception."
   ],
   "metadata": {
    "collapsed": false
   }
  },
  {
   "cell_type": "code",
   "execution_count": 95,
   "outputs": [],
   "source": [
    "import sys\n",
    "def implicitChaining():\n",
    "    try:\n",
    "        a = triangle_area(3, 4, 10)\n",
    "        print(a)\n",
    "    except TriangleError as e:\n",
    "        print(e, file=sys.stdin)\n"
   ],
   "metadata": {
    "collapsed": false,
    "pycharm": {
     "name": "#%%\n"
    }
   }
  },
  {
   "cell_type": "markdown",
   "source": [
    "executing the `implicitChaining()` function we get the following exceptions:"
   ],
   "metadata": {
    "collapsed": false
   }
  },
  {
   "cell_type": "raw",
   "source": [
    "\n",
    "---------------------------------------------------------------------------\n",
    "\n",
    "TriangleError                             Traceback (most recent call last)\n",
    "\n",
    "<ipython-input-42-cfd6577a4773> in implicitChaining()\n",
    "      3     try:\n",
    "----> 4         a = triangle_area(3, 4, 10)\n",
    "      5         print(a)\n",
    "\n",
    "<ipython-input-38-7e78388d39d6> in triangle_area(a, b, c)\n",
    "     18     if sides[2] > sides[0] + sides[1]:\n",
    "---> 19         raise TriangleError(text='Illegal triangle', sides=sides)\n",
    "     20     p = (a + b + c) / 2\n",
    "\n",
    "TriangleError: 'Illegal triangle' for sides (3, 4, 10)\n",
    "\n",
    "\n",
    "During handling of the above exception, another exception occurred:\n",
    "\n",
    "UnsupportedOperation                      Traceback (most recent call last)\n",
    "\n",
    "<ipython-input-42-cfd6577a4773> in <module>\n",
    "      7         print(e, file=sys.stdin)\n",
    "      8\n",
    "----> 9 implicitChaining()\n",
    "\n",
    "<ipython-input-42-cfd6577a4773> in implicitChaining()\n",
    "      5         print(a)\n",
    "      6     except TriangleError as e:\n",
    "----> 7         print(e, file=sys.stdin)\n",
    "      8\n",
    "      9 implicitChaining()\n",
    "\n",
    "UnsupportedOperation: not writable"
   ],
   "metadata": {
    "collapsed": false
   }
  },
  {
   "cell_type": "markdown",
   "source": [
    "The Python runtime machinery associates the original exception with the new exception by setting the special `__context__` attribute of the most recent exception\n",
    "catching the two errors would be like this:"
   ],
   "metadata": {
    "collapsed": false
   }
  },
  {
   "cell_type": "code",
   "execution_count": 96,
   "outputs": [
    {
     "name": "stdout",
     "output_type": "stream",
     "text": [
      "TriangleError 'Illegal triangle', (3, 4, 10)\n",
      "UnsupportedOperation('not writable')\n",
      "True\n"
     ]
    }
   ],
   "source": [
    "import sys\n",
    "from io import UnsupportedOperation\n",
    "\n",
    "def implicitChaining():\n",
    "    try:\n",
    "        a = triangle_area(3, 4, 10)\n",
    "        print(a)\n",
    "    except TriangleError as e:\n",
    "        try:\n",
    "            print(e, file=sys.stdin)\n",
    "        except UnsupportedOperation as f:\n",
    "            print(e.__repr__())\n",
    "            print(f.__repr__())\n",
    "            print(f.__context__ is e)\n",
    "\n",
    "implicitChaining()"
   ],
   "metadata": {
    "collapsed": false,
    "pycharm": {
     "name": "#%%\n"
    }
   }
  },
  {
   "cell_type": "markdown",
   "source": [
    "-   <font color=mediumTurquoise>Explicit chaining:</font> when we wish to deliberately handle an exception by translating it into a different exception type.\n"
   ],
   "metadata": {
    "collapsed": false
   }
  },
  {
   "cell_type": "code",
   "execution_count": 97,
   "outputs": [],
   "source": [
    "import math\n",
    "\n",
    "class InclinationError(Exception):\n",
    "    pass\n",
    "\n",
    "def inclination(dx, dy):\n",
    "    try:\n",
    "        return math.degrees(math.atan(dy / dx))\n",
    "    except ZeroDivisionError as e:\n",
    "        raise InclinationError(\"Slope cannot be vertical\") from e"
   ],
   "metadata": {
    "collapsed": false,
    "pycharm": {
     "name": "#%%\n"
    }
   }
  },
  {
   "cell_type": "markdown",
   "source": [
    "The `from e` suffix associates the new exceptional object with the original exception `e`\n",
    "\n",
    "Explicit chaining associates the chained exception through the `__cause__` attribute."
   ],
   "metadata": {
    "collapsed": false
   }
  },
  {
   "cell_type": "code",
   "execution_count": 101,
   "outputs": [
    {
     "name": "stdout",
     "output_type": "stream",
     "text": [
      "InclinationError('Slope cannot be vertical') \n",
      " ZeroDivisionError('division by zero')\n"
     ]
    }
   ],
   "source": [
    "try:\n",
    "    inclination(0, 5)\n",
    "except InclinationError as e:\n",
    "    print(e.__repr__(), '\\n', e.__cause__.__repr__())"
   ],
   "metadata": {
    "collapsed": false,
    "pycharm": {
     "name": "#%%\n"
    }
   }
  },
  {
   "cell_type": "markdown",
   "source": [
    "## <center><font color=tomato>Tracebacks</font><br>`__traceback__`</center>\n",
    "In Python 3, each exception has a `__traceback__` special attribute, which contains a reference to the traceback object associated with that exception.\n",
    "\n",
    "There is a Python standard library, `traceback module`, which contains functions for interrogating traceback objects."
   ],
   "metadata": {
    "collapsed": false
   }
  },
  {
   "cell_type": "code",
   "execution_count": 109,
   "outputs": [
    {
     "name": "stdout",
     "output_type": "stream",
     "text": [
      "<traceback object at 0x7fc6366356c0> \n",
      "\n",
      "['  File \"<ipython-input-109-c2f663a17ab0>\", line 3, in <module>\\n    inclination(0, 5)\\n', '  File \"<ipython-input-97-cab1e03c47fa>\", line 10, in inclination\\n    raise InclinationError(\"Slope cannot be vertical\") from e\\n'] \n",
      "\n"
     ]
    },
    {
     "name": "stderr",
     "output_type": "stream",
     "text": [
      "  File \"<ipython-input-109-c2f663a17ab0>\", line 3, in <module>\n",
      "    inclination(0, 5)\n",
      "  File \"<ipython-input-97-cab1e03c47fa>\", line 10, in inclination\n",
      "    raise InclinationError(\"Slope cannot be vertical\") from e\n"
     ]
    }
   ],
   "source": [
    "import traceback\n",
    "try:\n",
    "    inclination(0, 5)\n",
    "except InclinationError as e:\n",
    "    s = traceback.format_tb(e.__traceback__)\n",
    "    print(e.__traceback__, '\\n'), print(s, '\\n', ), traceback.print_tb(e.__traceback__)"
   ],
   "metadata": {
    "collapsed": false,
    "pycharm": {
     "name": "#%%\n"
    }
   }
  },
  {
   "cell_type": "markdown",
   "source": [
    "## <center>Checking invariants<br>with <font color=tomato>Assertions</font></center>\n",
    "The purpose of assertions is to help prevent bugs creeping into the code\n",
    "## <center>`assert condition [, messages]`</center>\n",
    "If the condition is <font color=mediumTurquoise>false</font>, an <font color=mediumTurquoise>AssertionError</font> exception is raised causing the program to terminate.\n",
    "\n",
    "If the message is supplied, it is used as the exception payload.\n",
    "\n",
    "The purpose of the `assertion` statement is to give a convenient means for monitoring program invariants, which are conditions which should always be true for the program.\n",
    "\n",
    "Assertion should not be used to validate arguments for the function, only to detect if the implementation of the function is incorrect."
   ],
   "metadata": {
    "collapsed": false,
    "pycharm": {
     "name": "#%% md\n"
    }
   }
  },
  {
   "cell_type": "code",
   "execution_count": 111,
   "outputs": [
    {
     "name": "stdout",
     "output_type": "stream",
     "text": [
      "AssertionError('The condition is false')\n"
     ]
    }
   ],
   "source": [
    "try:\n",
    "    assert False, \"The condition is false\"\n",
    "except Exception as e:\n",
    "    print(e.__repr__())"
   ],
   "metadata": {
    "collapsed": false,
    "pycharm": {
     "name": "#%%\n"
    }
   }
  },
  {
   "cell_type": "code",
   "execution_count": null,
   "outputs": [],
   "source": [
    "def modulus_three(n):\n",
    "    r = n % 3\n",
    "    if r == 0:\n",
    "        print('Multiple of 3')\n",
    "    elif r == 1:\n",
    "        print(\"Reminder 1\")\n",
    "    else: # r == 2\n",
    "        print(\"Reminder 2\")"
   ],
   "metadata": {
    "collapsed": false,
    "pycharm": {
     "name": "#%%\n"
    }
   }
  },
  {
   "cell_type": "markdown",
   "source": [
    "instead of the comment `# r = 2`:"
   ],
   "metadata": {
    "collapsed": false
   }
  },
  {
   "cell_type": "code",
   "execution_count": 112,
   "outputs": [],
   "source": [
    "def modulus_three(n):\n",
    "    r = n % 3\n",
    "    if r == 0:\n",
    "        print('Multiple of 3')\n",
    "    elif r == 1:\n",
    "        print(\"Reminder 1\")\n",
    "    else:\n",
    "        assert r==2, \"Reminder is not 2\"\n",
    "        print(\"Reminder 2\")"
   ],
   "metadata": {
    "collapsed": false,
    "pycharm": {
     "name": "#%%\n"
    }
   }
  }
 ],
 "metadata": {
  "kernelspec": {
   "display_name": "Python 3",
   "language": "python",
   "name": "python3"
  },
  "language_info": {
   "codemirror_mode": {
    "name": "ipython",
    "version": 2
   },
   "file_extension": ".py",
   "mimetype": "text/x-python",
   "name": "python",
   "nbconvert_exporter": "python",
   "pygments_lexer": "ipython2",
   "version": "2.7.6"
  }
 },
 "nbformat": 4,
 "nbformat_minor": 0
}