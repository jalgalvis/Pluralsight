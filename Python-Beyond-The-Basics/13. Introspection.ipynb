{
 "cells": [
  {
   "cell_type": "markdown",
   "source": [
    "# <center><font color=slate>Introspection</font></center>"
   ],
   "metadata": {
    "collapsed": false,
    "pycharm": {
     "name": "#%% md\n"
    }
   }
  },
  {
   "cell_type": "markdown",
   "source": [
    "## <center>Introspection <font color=tomato>types</font></center>\n",
    "## <center>`type()`</center>"
   ],
   "metadata": {
    "collapsed": false
   }
  },
  {
   "cell_type": "code",
   "execution_count": 1,
   "outputs": [
    {
     "data": {
      "text/plain": "(int, int, \"<class 'int'>\")"
     },
     "execution_count": 1,
     "metadata": {},
     "output_type": "execute_result"
    }
   ],
   "source": [
    "i = 7\n",
    "type(i), int, repr(int)"
   ],
   "metadata": {
    "collapsed": false,
    "pycharm": {
     "name": "#%%\n"
    }
   }
  },
  {
   "cell_type": "code",
   "execution_count": 2,
   "outputs": [
    {
     "data": {
      "text/plain": "(type, type)"
     },
     "execution_count": 2,
     "metadata": {},
     "output_type": "execute_result"
    }
   ],
   "source": [
    "type(type), type(type(i))"
   ],
   "metadata": {
    "collapsed": false,
    "pycharm": {
     "name": "#%%\n"
    }
   }
  },
  {
   "cell_type": "code",
   "execution_count": 3,
   "outputs": [
    {
     "data": {
      "text/plain": "int"
     },
     "execution_count": 3,
     "metadata": {},
     "output_type": "execute_result"
    }
   ],
   "source": [
    "i.__class__"
   ],
   "metadata": {
    "collapsed": false,
    "pycharm": {
     "name": "#%%\n"
    }
   }
  },
  {
   "cell_type": "code",
   "execution_count": 4,
   "outputs": [
    {
     "data": {
      "text/plain": "(type, type)"
     },
     "execution_count": 4,
     "metadata": {},
     "output_type": "execute_result"
    }
   ],
   "source": [
    "i.__class__.__class__, i.__class__.__class__.__class__"
   ],
   "metadata": {
    "collapsed": false,
    "pycharm": {
     "name": "#%%\n"
    }
   }
  },
  {
   "cell_type": "code",
   "execution_count": 5,
   "outputs": [
    {
     "data": {
      "text/plain": "type"
     },
     "execution_count": 5,
     "metadata": {},
     "output_type": "execute_result"
    }
   ],
   "source": [
    "type(object)"
   ],
   "metadata": {
    "collapsed": false,
    "pycharm": {
     "name": "#%%\n"
    }
   }
  },
  {
   "cell_type": "markdown",
   "source": [
    "## <center>`issubclass() - isinstance()`</center>\n"
   ],
   "metadata": {
    "collapsed": false
   }
  },
  {
   "cell_type": "code",
   "execution_count": 6,
   "outputs": [
    {
     "data": {
      "text/plain": "True"
     },
     "execution_count": 6,
     "metadata": {},
     "output_type": "execute_result"
    }
   ],
   "source": [
    "issubclass(type, object)"
   ],
   "metadata": {
    "collapsed": false,
    "pycharm": {
     "name": "#%%\n"
    }
   }
  },
  {
   "cell_type": "code",
   "execution_count": 7,
   "outputs": [
    {
     "data": {
      "text/plain": "True"
     },
     "execution_count": 7,
     "metadata": {},
     "output_type": "execute_result"
    }
   ],
   "source": [
    "isinstance(i, int)"
   ],
   "metadata": {
    "collapsed": false,
    "pycharm": {
     "name": "#%%\n"
    }
   }
  },
  {
   "cell_type": "markdown",
   "source": [
    "## <center>Introspection <font color=tomato>objects</font></center>\n",
    "## <center>`dir()`</center>"
   ],
   "metadata": {
    "collapsed": false
   }
  },
  {
   "cell_type": "code",
   "execution_count": 8,
   "outputs": [
    {
     "data": {
      "text/plain": "['__abs__',\n '__add__',\n '__and__',\n '__bool__',\n '__ceil__',\n '__class__',\n '__delattr__',\n '__dir__',\n '__divmod__',\n '__doc__',\n '__eq__',\n '__float__',\n '__floor__',\n '__floordiv__',\n '__format__',\n '__ge__',\n '__getattribute__',\n '__getnewargs__',\n '__gt__',\n '__hash__',\n '__index__',\n '__init__',\n '__init_subclass__',\n '__int__',\n '__invert__',\n '__le__',\n '__lshift__',\n '__lt__',\n '__mod__',\n '__mul__',\n '__ne__',\n '__neg__',\n '__new__',\n '__or__',\n '__pos__',\n '__pow__',\n '__radd__',\n '__rand__',\n '__rdivmod__',\n '__reduce__',\n '__reduce_ex__',\n '__repr__',\n '__rfloordiv__',\n '__rlshift__',\n '__rmod__',\n '__rmul__',\n '__ror__',\n '__round__',\n '__rpow__',\n '__rrshift__',\n '__rshift__',\n '__rsub__',\n '__rtruediv__',\n '__rxor__',\n '__setattr__',\n '__sizeof__',\n '__str__',\n '__sub__',\n '__subclasshook__',\n '__truediv__',\n '__trunc__',\n '__xor__',\n 'as_integer_ratio',\n 'bit_length',\n 'conjugate',\n 'denominator',\n 'from_bytes',\n 'imag',\n 'numerator',\n 'real',\n 'to_bytes']"
     },
     "execution_count": 8,
     "metadata": {},
     "output_type": "execute_result"
    }
   ],
   "source": [
    "dir(i)"
   ],
   "metadata": {
    "collapsed": false,
    "pycharm": {
     "name": "#%%\n"
    }
   }
  },
  {
   "cell_type": "code",
   "source": [
    "## <center>`getattr()`</center>"
   ],
   "metadata": {
    "collapsed": false,
    "pycharm": {
     "name": "#%%  md\n"
    }
   },
   "execution_count": 9,
   "outputs": []
  },
  {
   "cell_type": "code",
   "execution_count": 10,
   "outputs": [
    {
     "data": {
      "text/plain": "1"
     },
     "execution_count": 10,
     "metadata": {},
     "output_type": "execute_result"
    }
   ],
   "source": [
    "getattr(i, 'denominator')"
   ],
   "metadata": {
    "collapsed": false,
    "pycharm": {
     "name": "#%%\n"
    }
   }
  },
  {
   "cell_type": "code",
   "execution_count": 11,
   "outputs": [
    {
     "data": {
      "text/plain": "(7, 1)"
     },
     "execution_count": 11,
     "metadata": {},
     "output_type": "execute_result"
    }
   ],
   "source": [
    "i.numerator, i.denominator"
   ],
   "metadata": {
    "collapsed": false,
    "pycharm": {
     "name": "#%%\n"
    }
   }
  },
  {
   "cell_type": "code",
   "execution_count": 12,
   "outputs": [
    {
     "data": {
      "text/plain": "<function int.conjugate>"
     },
     "execution_count": 12,
     "metadata": {},
     "output_type": "execute_result"
    }
   ],
   "source": [
    "getattr(i, 'conjugate')"
   ],
   "metadata": {
    "collapsed": false,
    "pycharm": {
     "name": "#%%\n"
    }
   }
  },
  {
   "cell_type": "code",
   "execution_count": 13,
   "outputs": [
    {
     "data": {
      "text/plain": "<function int.conjugate>"
     },
     "execution_count": 13,
     "metadata": {},
     "output_type": "execute_result"
    }
   ],
   "source": [
    "i.conjugate"
   ],
   "metadata": {
    "collapsed": false,
    "pycharm": {
     "name": "#%%\n"
    }
   }
  },
  {
   "cell_type": "code",
   "execution_count": 14,
   "outputs": [
    {
     "data": {
      "text/plain": "True"
     },
     "execution_count": 14,
     "metadata": {},
     "output_type": "execute_result"
    }
   ],
   "source": [
    "callable(i.conjugate)"
   ],
   "metadata": {
    "collapsed": false,
    "pycharm": {
     "name": "#%%\n"
    }
   }
  },
  {
   "cell_type": "code",
   "execution_count": 15,
   "outputs": [
    {
     "data": {
      "text/plain": "'builtin_function_or_method'"
     },
     "execution_count": 15,
     "metadata": {},
     "output_type": "execute_result"
    }
   ],
   "source": [
    "i.conjugate.__class__.__name__"
   ],
   "metadata": {
    "collapsed": false,
    "pycharm": {
     "name": "#%%\n"
    }
   }
  },
  {
   "cell_type": "markdown",
   "source": [
    "## <center>`hasattr()`</center>"
   ],
   "metadata": {
    "collapsed": false,
    "pycharm": {
     "name": "#%% md\n"
    }
   }
  },
  {
   "cell_type": "code",
   "execution_count": 16,
   "outputs": [
    {
     "data": {
      "text/plain": "False"
     },
     "execution_count": 16,
     "metadata": {},
     "output_type": "execute_result"
    }
   ],
   "source": [
    "hasattr(i, 'index')"
   ],
   "metadata": {
    "collapsed": false,
    "pycharm": {
     "name": "#%%\n"
    }
   }
  },
  {
   "cell_type": "markdown",
   "source": [
    "### LBYL<font color=lightGreen> vs </font>EAFP\n",
    "<font color=mediumTurquoise>LBYL</font> Look Before You Leap approach"
   ],
   "metadata": {
    "collapsed": false
   }
  },
  {
   "cell_type": "code",
   "execution_count": 17,
   "outputs": [
    {
     "name": "stdout",
     "output_type": "stream",
     "text": [
      "TypeError('1.7 is not a rational number') None\n"
     ]
    }
   ],
   "source": [
    "from fractions import Fraction\n",
    "\n",
    "def mixed_numeral(vulgar):\n",
    "        if not (hasattr(vulgar, 'numerator') and hasattr(vulgar, 'denominator')):\n",
    "            raise TypeError('{} is not a rational number'.format(vulgar))\n",
    "\n",
    "        integer = vulgar.numerator // vulgar.denominator\n",
    "        fraction = Fraction(vulgar.numerator - integer * vulgar.denominator,\n",
    "                            vulgar.denominator)\n",
    "        return integer, fraction\n",
    "\n",
    "mixed_numeral(Fraction(11,10))\n",
    "\n",
    "try:\n",
    "    mixed_numeral(1.7)\n",
    "except Exception as e:\n",
    "    print(e.__repr__(), e.__context__)"
   ],
   "metadata": {
    "collapsed": false,
    "pycharm": {
     "name": "#%%\n"
    }
   }
  },
  {
   "cell_type": "markdown",
   "source": [
    "<font color=mediumTurquoise>EAFP</font> Easier to Ask fot Forgiveness than Permission approach - <font color=mediumTurquoise>more Pythonic</font>"
   ],
   "metadata": {
    "collapsed": false
   }
  },
  {
   "cell_type": "code",
   "execution_count": 18,
   "outputs": [
    {
     "name": "stdout",
     "output_type": "stream",
     "text": [
      "TypeError('1.7 is not a rational number') \n",
      " context:  AttributeError(\"'float' object has no attribute 'numerator'\")\n"
     ]
    }
   ],
   "source": [
    "from fractions import Fraction\n",
    "\n",
    "def mixed_numeral(vulgar):\n",
    "    try:\n",
    "        integer = vulgar.numerator // vulgar.denominator\n",
    "        fraction = Fraction(vulgar.numerator - integer * vulgar.denominator,\n",
    "                            vulgar.denominator)\n",
    "        return integer, fraction\n",
    "    except AttributeError as e:\n",
    "        raise TypeError(\"{} is not a rational number\".format(vulgar)) from e\n",
    "\n",
    "try:\n",
    "    mixed_numeral(1.7)\n",
    "except Exception as e:\n",
    "    print(e.__repr__(), '\\n context: ', e.__context__.__repr__())"
   ],
   "metadata": {
    "collapsed": false,
    "pycharm": {
     "name": "#%%\n"
    }
   }
  },
  {
   "cell_type": "markdown",
   "source": [
    "## <center>Introspection <font color=tomato>scopes</font></center>\n",
    "## <center>`globals()`</center>\n",
    "`globals()` returns a dictionary, which represents the global namespace"
   ],
   "metadata": {
    "collapsed": false,
    "pycharm": {
     "name": "#%% md\n"
    }
   }
  },
  {
   "cell_type": "code",
   "execution_count": 19,
   "outputs": [
    {
     "data": {
      "text/plain": "{'__name__': '__main__',\n '__doc__': 'Automatically created module for IPython interactive environment',\n '__package__': None,\n '__loader__': None,\n '__spec__': None,\n '__builtin__': <module 'builtins' (built-in)>,\n '__builtins__': <module 'builtins' (built-in)>,\n '_ih': ['',\n  'i = 7\\ntype(i), int, repr(int)',\n  'type(type), type(type(i))',\n  'i.__class__',\n  'i.__class__.__class__, i.__class__.__class__.__class__',\n  'type(object)',\n  'issubclass(type, object)',\n  'isinstance(i, int)',\n  'dir(i)',\n  '## <center>`getattr()`</center>',\n  \"getattr(i, 'denominator')\",\n  'i.numerator, i.denominator',\n  \"getattr(i, 'conjugate')\",\n  'i.conjugate',\n  'callable(i.conjugate)',\n  'i.conjugate.__class__.__name__',\n  \"hasattr(i, 'index')\",\n  \"from fractions import Fraction\\n\\ndef mixed_numeral(vulgar):\\n        if not (hasattr(vulgar, 'numerator') and hasattr(vulgar, 'denominator')):\\n            raise TypeError('{} is not a rational number'.format(vulgar))\\n\\n        integer = vulgar.numerator // vulgar.denominator\\n        fraction = Fraction(vulgar.numerator - integer * vulgar.denominator,\\n                            vulgar.denominator)\\n        return integer, fraction\\n\\nmixed_numeral(Fraction(11,10))\\n\\ntry:\\n    mixed_numeral(1.7)\\nexcept Exception as e:\\n    print(e.__repr__(), e.__context__)\",\n  'from fractions import Fraction\\n\\ndef mixed_numeral(vulgar):\\n    try:\\n        integer = vulgar.numerator // vulgar.denominator\\n        fraction = Fraction(vulgar.numerator - integer * vulgar.denominator,\\n                            vulgar.denominator)\\n        return integer, fraction\\n    except AttributeError as e:\\n        raise TypeError(\"{} is not a rational number\".format(vulgar)) from e\\n\\ntry:\\n    mixed_numeral(1.7)\\nexcept Exception as e:\\n    print(e.__repr__(), \\'\\\\n context: \\', e.__context__.__repr__())',\n  'globals()'],\n '_oh': {1: (int, int, \"<class 'int'>\"),\n  2: (type, type),\n  3: int,\n  4: (type, type),\n  5: type,\n  6: True,\n  7: True,\n  8: ['__abs__',\n   '__add__',\n   '__and__',\n   '__bool__',\n   '__ceil__',\n   '__class__',\n   '__delattr__',\n   '__dir__',\n   '__divmod__',\n   '__doc__',\n   '__eq__',\n   '__float__',\n   '__floor__',\n   '__floordiv__',\n   '__format__',\n   '__ge__',\n   '__getattribute__',\n   '__getnewargs__',\n   '__gt__',\n   '__hash__',\n   '__index__',\n   '__init__',\n   '__init_subclass__',\n   '__int__',\n   '__invert__',\n   '__le__',\n   '__lshift__',\n   '__lt__',\n   '__mod__',\n   '__mul__',\n   '__ne__',\n   '__neg__',\n   '__new__',\n   '__or__',\n   '__pos__',\n   '__pow__',\n   '__radd__',\n   '__rand__',\n   '__rdivmod__',\n   '__reduce__',\n   '__reduce_ex__',\n   '__repr__',\n   '__rfloordiv__',\n   '__rlshift__',\n   '__rmod__',\n   '__rmul__',\n   '__ror__',\n   '__round__',\n   '__rpow__',\n   '__rrshift__',\n   '__rshift__',\n   '__rsub__',\n   '__rtruediv__',\n   '__rxor__',\n   '__setattr__',\n   '__sizeof__',\n   '__str__',\n   '__sub__',\n   '__subclasshook__',\n   '__truediv__',\n   '__trunc__',\n   '__xor__',\n   'as_integer_ratio',\n   'bit_length',\n   'conjugate',\n   'denominator',\n   'from_bytes',\n   'imag',\n   'numerator',\n   'real',\n   'to_bytes'],\n  10: 1,\n  11: (7, 1),\n  12: <function int.conjugate>,\n  13: <function int.conjugate>,\n  14: True,\n  15: 'builtin_function_or_method',\n  16: False},\n '_dh': ['/Users/jalejo/PycharmProjects/courses/BeyondTheBasics'],\n 'In': ['',\n  'i = 7\\ntype(i), int, repr(int)',\n  'type(type), type(type(i))',\n  'i.__class__',\n  'i.__class__.__class__, i.__class__.__class__.__class__',\n  'type(object)',\n  'issubclass(type, object)',\n  'isinstance(i, int)',\n  'dir(i)',\n  '## <center>`getattr()`</center>',\n  \"getattr(i, 'denominator')\",\n  'i.numerator, i.denominator',\n  \"getattr(i, 'conjugate')\",\n  'i.conjugate',\n  'callable(i.conjugate)',\n  'i.conjugate.__class__.__name__',\n  \"hasattr(i, 'index')\",\n  \"from fractions import Fraction\\n\\ndef mixed_numeral(vulgar):\\n        if not (hasattr(vulgar, 'numerator') and hasattr(vulgar, 'denominator')):\\n            raise TypeError('{} is not a rational number'.format(vulgar))\\n\\n        integer = vulgar.numerator // vulgar.denominator\\n        fraction = Fraction(vulgar.numerator - integer * vulgar.denominator,\\n                            vulgar.denominator)\\n        return integer, fraction\\n\\nmixed_numeral(Fraction(11,10))\\n\\ntry:\\n    mixed_numeral(1.7)\\nexcept Exception as e:\\n    print(e.__repr__(), e.__context__)\",\n  'from fractions import Fraction\\n\\ndef mixed_numeral(vulgar):\\n    try:\\n        integer = vulgar.numerator // vulgar.denominator\\n        fraction = Fraction(vulgar.numerator - integer * vulgar.denominator,\\n                            vulgar.denominator)\\n        return integer, fraction\\n    except AttributeError as e:\\n        raise TypeError(\"{} is not a rational number\".format(vulgar)) from e\\n\\ntry:\\n    mixed_numeral(1.7)\\nexcept Exception as e:\\n    print(e.__repr__(), \\'\\\\n context: \\', e.__context__.__repr__())',\n  'globals()'],\n 'Out': {1: (int, int, \"<class 'int'>\"),\n  2: (type, type),\n  3: int,\n  4: (type, type),\n  5: type,\n  6: True,\n  7: True,\n  8: ['__abs__',\n   '__add__',\n   '__and__',\n   '__bool__',\n   '__ceil__',\n   '__class__',\n   '__delattr__',\n   '__dir__',\n   '__divmod__',\n   '__doc__',\n   '__eq__',\n   '__float__',\n   '__floor__',\n   '__floordiv__',\n   '__format__',\n   '__ge__',\n   '__getattribute__',\n   '__getnewargs__',\n   '__gt__',\n   '__hash__',\n   '__index__',\n   '__init__',\n   '__init_subclass__',\n   '__int__',\n   '__invert__',\n   '__le__',\n   '__lshift__',\n   '__lt__',\n   '__mod__',\n   '__mul__',\n   '__ne__',\n   '__neg__',\n   '__new__',\n   '__or__',\n   '__pos__',\n   '__pow__',\n   '__radd__',\n   '__rand__',\n   '__rdivmod__',\n   '__reduce__',\n   '__reduce_ex__',\n   '__repr__',\n   '__rfloordiv__',\n   '__rlshift__',\n   '__rmod__',\n   '__rmul__',\n   '__ror__',\n   '__round__',\n   '__rpow__',\n   '__rrshift__',\n   '__rshift__',\n   '__rsub__',\n   '__rtruediv__',\n   '__rxor__',\n   '__setattr__',\n   '__sizeof__',\n   '__str__',\n   '__sub__',\n   '__subclasshook__',\n   '__truediv__',\n   '__trunc__',\n   '__xor__',\n   'as_integer_ratio',\n   'bit_length',\n   'conjugate',\n   'denominator',\n   'from_bytes',\n   'imag',\n   'numerator',\n   'real',\n   'to_bytes'],\n  10: 1,\n  11: (7, 1),\n  12: <function int.conjugate>,\n  13: <function int.conjugate>,\n  14: True,\n  15: 'builtin_function_or_method',\n  16: False},\n 'get_ipython': <bound method InteractiveShell.get_ipython of <ipykernel.zmqshell.ZMQInteractiveShell object at 0x7fe4efb24130>>,\n 'exit': <IPython.core.autocall.ZMQExitAutocall at 0x7fe4efd35160>,\n 'quit': <IPython.core.autocall.ZMQExitAutocall at 0x7fe4efd35160>,\n '_': False,\n '__': 'builtin_function_or_method',\n '___': True,\n '_i': 'from fractions import Fraction\\n\\ndef mixed_numeral(vulgar):\\n    try:\\n        integer = vulgar.numerator // vulgar.denominator\\n        fraction = Fraction(vulgar.numerator - integer * vulgar.denominator,\\n                            vulgar.denominator)\\n        return integer, fraction\\n    except AttributeError as e:\\n        raise TypeError(\"{} is not a rational number\".format(vulgar)) from e\\n\\ntry:\\n    mixed_numeral(1.7)\\nexcept Exception as e:\\n    print(e.__repr__(), \\'\\\\n context: \\', e.__context__.__repr__())',\n '_ii': \"from fractions import Fraction\\n\\ndef mixed_numeral(vulgar):\\n        if not (hasattr(vulgar, 'numerator') and hasattr(vulgar, 'denominator')):\\n            raise TypeError('{} is not a rational number'.format(vulgar))\\n\\n        integer = vulgar.numerator // vulgar.denominator\\n        fraction = Fraction(vulgar.numerator - integer * vulgar.denominator,\\n                            vulgar.denominator)\\n        return integer, fraction\\n\\nmixed_numeral(Fraction(11,10))\\n\\ntry:\\n    mixed_numeral(1.7)\\nexcept Exception as e:\\n    print(e.__repr__(), e.__context__)\",\n '_iii': \"hasattr(i, 'index')\",\n '_i1': 'i = 7\\ntype(i), int, repr(int)',\n 'i': 7,\n '_1': (int, int, \"<class 'int'>\"),\n '_i2': 'type(type), type(type(i))',\n '_2': (type, type),\n '_i3': 'i.__class__',\n '_3': int,\n '_i4': 'i.__class__.__class__, i.__class__.__class__.__class__',\n '_4': (type, type),\n '_i5': 'type(object)',\n '_5': type,\n '_i6': 'issubclass(type, object)',\n '_6': True,\n '_i7': 'isinstance(i, int)',\n '_7': True,\n '_i8': 'dir(i)',\n '_8': ['__abs__',\n  '__add__',\n  '__and__',\n  '__bool__',\n  '__ceil__',\n  '__class__',\n  '__delattr__',\n  '__dir__',\n  '__divmod__',\n  '__doc__',\n  '__eq__',\n  '__float__',\n  '__floor__',\n  '__floordiv__',\n  '__format__',\n  '__ge__',\n  '__getattribute__',\n  '__getnewargs__',\n  '__gt__',\n  '__hash__',\n  '__index__',\n  '__init__',\n  '__init_subclass__',\n  '__int__',\n  '__invert__',\n  '__le__',\n  '__lshift__',\n  '__lt__',\n  '__mod__',\n  '__mul__',\n  '__ne__',\n  '__neg__',\n  '__new__',\n  '__or__',\n  '__pos__',\n  '__pow__',\n  '__radd__',\n  '__rand__',\n  '__rdivmod__',\n  '__reduce__',\n  '__reduce_ex__',\n  '__repr__',\n  '__rfloordiv__',\n  '__rlshift__',\n  '__rmod__',\n  '__rmul__',\n  '__ror__',\n  '__round__',\n  '__rpow__',\n  '__rrshift__',\n  '__rshift__',\n  '__rsub__',\n  '__rtruediv__',\n  '__rxor__',\n  '__setattr__',\n  '__sizeof__',\n  '__str__',\n  '__sub__',\n  '__subclasshook__',\n  '__truediv__',\n  '__trunc__',\n  '__xor__',\n  'as_integer_ratio',\n  'bit_length',\n  'conjugate',\n  'denominator',\n  'from_bytes',\n  'imag',\n  'numerator',\n  'real',\n  'to_bytes'],\n '_i9': '## <center>`getattr()`</center>',\n '_i10': \"getattr(i, 'denominator')\",\n '_10': 1,\n '_i11': 'i.numerator, i.denominator',\n '_11': (7, 1),\n '_i12': \"getattr(i, 'conjugate')\",\n '_12': <function int.conjugate>,\n '_i13': 'i.conjugate',\n '_13': <function int.conjugate>,\n '_i14': 'callable(i.conjugate)',\n '_14': True,\n '_i15': 'i.conjugate.__class__.__name__',\n '_15': 'builtin_function_or_method',\n '_i16': \"hasattr(i, 'index')\",\n '_16': False,\n '_i17': \"from fractions import Fraction\\n\\ndef mixed_numeral(vulgar):\\n        if not (hasattr(vulgar, 'numerator') and hasattr(vulgar, 'denominator')):\\n            raise TypeError('{} is not a rational number'.format(vulgar))\\n\\n        integer = vulgar.numerator // vulgar.denominator\\n        fraction = Fraction(vulgar.numerator - integer * vulgar.denominator,\\n                            vulgar.denominator)\\n        return integer, fraction\\n\\nmixed_numeral(Fraction(11,10))\\n\\ntry:\\n    mixed_numeral(1.7)\\nexcept Exception as e:\\n    print(e.__repr__(), e.__context__)\",\n 'Fraction': fractions.Fraction,\n 'mixed_numeral': <function __main__.mixed_numeral(vulgar)>,\n '_i18': 'from fractions import Fraction\\n\\ndef mixed_numeral(vulgar):\\n    try:\\n        integer = vulgar.numerator // vulgar.denominator\\n        fraction = Fraction(vulgar.numerator - integer * vulgar.denominator,\\n                            vulgar.denominator)\\n        return integer, fraction\\n    except AttributeError as e:\\n        raise TypeError(\"{} is not a rational number\".format(vulgar)) from e\\n\\ntry:\\n    mixed_numeral(1.7)\\nexcept Exception as e:\\n    print(e.__repr__(), \\'\\\\n context: \\', e.__context__.__repr__())',\n '_i19': 'globals()'}"
     },
     "execution_count": 19,
     "metadata": {},
     "output_type": "execute_result"
    }
   ],
   "source": [
    "globals()"
   ],
   "metadata": {
    "collapsed": false,
    "pycharm": {
     "name": "#%%\n"
    }
   }
  },
  {
   "cell_type": "code",
   "execution_count": 20,
   "outputs": [
    {
     "data": {
      "text/plain": "42"
     },
     "execution_count": 20,
     "metadata": {},
     "output_type": "execute_result"
    }
   ],
   "source": [
    "\n",
    "a = 42\n",
    "globals()['a']"
   ],
   "metadata": {
    "collapsed": false,
    "pycharm": {
     "name": "#%%\n"
    }
   }
  },
  {
   "cell_type": "markdown",
   "source": [
    "the dictionary returned by `globals()` doesn't just represent the global namespace, it actually is the global namespace."
   ],
   "metadata": {
    "collapsed": false,
    "pycharm": {
     "name": "#%% md\n"
    }
   }
  },
  {
   "cell_type": "code",
   "execution_count": 21,
   "outputs": [
    {
     "data": {
      "text/plain": "6.283185"
     },
     "execution_count": 21,
     "metadata": {},
     "output_type": "execute_result"
    }
   ],
   "source": [
    "globals()['tau']=6.283185\n",
    "tau"
   ],
   "metadata": {
    "collapsed": false,
    "pycharm": {
     "name": "#%%\n"
    }
   }
  },
  {
   "cell_type": "code",
   "execution_count": 22,
   "outputs": [
    {
     "data": {
      "text/plain": "3.1415925"
     },
     "execution_count": 22,
     "metadata": {},
     "output_type": "execute_result"
    }
   ],
   "source": [
    "tau / 2"
   ],
   "metadata": {
    "collapsed": false,
    "pycharm": {
     "name": "#%%\n"
    }
   }
  },
  {
   "cell_type": "markdown",
   "source": [
    "## <center>`locals()`</center>"
   ],
   "metadata": {
    "collapsed": false,
    "pycharm": {
     "name": "#%% md\n"
    }
   }
  },
  {
   "cell_type": "code",
   "execution_count": 23,
   "outputs": [
    {
     "name": "stdout",
     "output_type": "stream",
     "text": [
      "{'arg': 42, 'x': 496}\n"
     ]
    }
   ],
   "source": [
    "def report_scope(arg):\n",
    "    x = 496\n",
    "    print(locals())\n",
    "\n",
    "report_scope(42)\n"
   ],
   "metadata": {
    "collapsed": false,
    "pycharm": {
     "name": "#%%\n"
    }
   }
  },
  {
   "cell_type": "code",
   "execution_count": 24,
   "outputs": [
    {
     "data": {
      "text/plain": "'Joe is 35 years old and is from Colombia'"
     },
     "execution_count": 24,
     "metadata": {},
     "output_type": "execute_result"
    }
   ],
   "source": [
    "name = 'Joe'\n",
    "age = 35\n",
    "country = 'Colombia'\n",
    "'{name} is {age} years old and is from {country}'.format(**locals())"
   ],
   "metadata": {
    "collapsed": false,
    "pycharm": {
     "name": "#%%\n"
    }
   }
  },
  {
   "cell_type": "markdown",
   "source": [
    "## <center><font color=tomato>The Python Standard Library</font><br>`inspect` module</center>\n",
    "Contains advanced tools for introspecting Python objects in great detail"
   ],
   "metadata": {
    "collapsed": false
   }
  },
  {
   "cell_type": "code",
   "execution_count": 25,
   "outputs": [
    {
     "data": {
      "text/plain": "False"
     },
     "execution_count": 25,
     "metadata": {},
     "output_type": "execute_result"
    }
   ],
   "source": [
    "import inspect\n",
    "import sorted_set\n",
    "inspect.ismodule(report_scope)"
   ],
   "metadata": {
    "collapsed": false,
    "pycharm": {
     "name": "#%%\n"
    }
   }
  },
  {
   "cell_type": "code",
   "execution_count": 26,
   "outputs": [
    {
     "data": {
      "text/plain": "True"
     },
     "execution_count": 26,
     "metadata": {},
     "output_type": "execute_result"
    }
   ],
   "source": [
    "inspect.ismodule(sorted_set)"
   ],
   "metadata": {
    "collapsed": false,
    "pycharm": {
     "name": "#%%\n"
    }
   }
  },
  {
   "cell_type": "code",
   "execution_count": 27,
   "outputs": [
    {
     "data": {
      "text/plain": "[('Sequence', collections.abc.Sequence),\n ('Set', collections.abc.Set),\n ('SortedSet', sorted_set.SortedSet),\n ('__builtins__',\n  {'__name__': 'builtins',\n   '__doc__': \"Built-in functions, exceptions, and other objects.\\n\\nNoteworthy: None is the `nil' object; Ellipsis represents `...' in slices.\",\n   '__package__': '',\n   '__loader__': _frozen_importlib.BuiltinImporter,\n   '__spec__': ModuleSpec(name='builtins', loader=<class '_frozen_importlib.BuiltinImporter'>),\n   '__build_class__': <function __build_class__>,\n   '__import__': <function __import__>,\n   'abs': <function abs(x, /)>,\n   'all': <function all(iterable, /)>,\n   'any': <function any(iterable, /)>,\n   'ascii': <function ascii(obj, /)>,\n   'bin': <function bin(number, /)>,\n   'breakpoint': <function breakpoint>,\n   'callable': <function callable(obj, /)>,\n   'chr': <function chr(i, /)>,\n   'compile': <function compile(source, filename, mode, flags=0, dont_inherit=False, optimize=-1, *, _feature_version=-1)>,\n   'delattr': <function delattr(obj, name, /)>,\n   'dir': <function dir>,\n   'divmod': <function divmod(x, y, /)>,\n   'eval': <function eval(source, globals=None, locals=None, /)>,\n   'exec': <function exec(source, globals=None, locals=None, /)>,\n   'format': <function format(value, format_spec='', /)>,\n   'getattr': <function getattr>,\n   'globals': <function globals()>,\n   'hasattr': <function hasattr(obj, name, /)>,\n   'hash': <function hash(obj, /)>,\n   'hex': <function hex(number, /)>,\n   'id': <function id(obj, /)>,\n   'input': <bound method Kernel.raw_input of <ipykernel.ipkernel.IPythonKernel object at 0x7fe4efbceb50>>,\n   'isinstance': <function isinstance(obj, class_or_tuple, /)>,\n   'issubclass': <function issubclass(cls, class_or_tuple, /)>,\n   'iter': <function iter>,\n   'len': <function len(obj, /)>,\n   'locals': <function locals()>,\n   'max': <function max>,\n   'min': <function min>,\n   'next': <function next>,\n   'oct': <function oct(number, /)>,\n   'ord': <function ord(c, /)>,\n   'pow': <function pow(base, exp, mod=None)>,\n   'print': <function print>,\n   'repr': <function repr(obj, /)>,\n   'round': <function round(number, ndigits=None)>,\n   'setattr': <function setattr(obj, name, value, /)>,\n   'sorted': <function sorted(iterable, /, *, key=None, reverse=False)>,\n   'sum': <function sum(iterable, /, start=0)>,\n   'vars': <function vars>,\n   'None': None,\n   'Ellipsis': Ellipsis,\n   'NotImplemented': NotImplemented,\n   'False': False,\n   'True': True,\n   'bool': bool,\n   'memoryview': memoryview,\n   'bytearray': bytearray,\n   'bytes': bytes,\n   'classmethod': classmethod,\n   'complex': complex,\n   'dict': dict,\n   'enumerate': enumerate,\n   'filter': filter,\n   'float': float,\n   'frozenset': frozenset,\n   'property': property,\n   'int': int,\n   'list': list,\n   'map': map,\n   'object': object,\n   'range': range,\n   'reversed': reversed,\n   'set': set,\n   'slice': slice,\n   'staticmethod': staticmethod,\n   'str': str,\n   'super': super,\n   'tuple': tuple,\n   'type': type,\n   'zip': zip,\n   '__debug__': True,\n   'BaseException': BaseException,\n   'Exception': Exception,\n   'TypeError': TypeError,\n   'StopAsyncIteration': StopAsyncIteration,\n   'StopIteration': StopIteration,\n   'GeneratorExit': GeneratorExit,\n   'SystemExit': SystemExit,\n   'KeyboardInterrupt': KeyboardInterrupt,\n   'ImportError': ImportError,\n   'ModuleNotFoundError': ModuleNotFoundError,\n   'OSError': OSError,\n   'EnvironmentError': OSError,\n   'IOError': OSError,\n   'EOFError': EOFError,\n   'RuntimeError': RuntimeError,\n   'RecursionError': RecursionError,\n   'NotImplementedError': NotImplementedError,\n   'NameError': NameError,\n   'UnboundLocalError': UnboundLocalError,\n   'AttributeError': AttributeError,\n   'SyntaxError': SyntaxError,\n   'IndentationError': IndentationError,\n   'TabError': TabError,\n   'LookupError': LookupError,\n   'IndexError': IndexError,\n   'KeyError': KeyError,\n   'ValueError': ValueError,\n   'UnicodeError': UnicodeError,\n   'UnicodeEncodeError': UnicodeEncodeError,\n   'UnicodeDecodeError': UnicodeDecodeError,\n   'UnicodeTranslateError': UnicodeTranslateError,\n   'AssertionError': AssertionError,\n   'ArithmeticError': ArithmeticError,\n   'FloatingPointError': FloatingPointError,\n   'OverflowError': OverflowError,\n   'ZeroDivisionError': ZeroDivisionError,\n   'SystemError': SystemError,\n   'ReferenceError': ReferenceError,\n   'MemoryError': MemoryError,\n   'BufferError': BufferError,\n   'Warning': Warning,\n   'UserWarning': UserWarning,\n   'DeprecationWarning': DeprecationWarning,\n   'PendingDeprecationWarning': PendingDeprecationWarning,\n   'SyntaxWarning': SyntaxWarning,\n   'RuntimeWarning': RuntimeWarning,\n   'FutureWarning': FutureWarning,\n   'ImportWarning': ImportWarning,\n   'UnicodeWarning': UnicodeWarning,\n   'BytesWarning': BytesWarning,\n   'ResourceWarning': ResourceWarning,\n   'ConnectionError': ConnectionError,\n   'BlockingIOError': BlockingIOError,\n   'BrokenPipeError': BrokenPipeError,\n   'ChildProcessError': ChildProcessError,\n   'ConnectionAbortedError': ConnectionAbortedError,\n   'ConnectionRefusedError': ConnectionRefusedError,\n   'ConnectionResetError': ConnectionResetError,\n   'FileExistsError': FileExistsError,\n   'FileNotFoundError': FileNotFoundError,\n   'IsADirectoryError': IsADirectoryError,\n   'NotADirectoryError': NotADirectoryError,\n   'InterruptedError': InterruptedError,\n   'PermissionError': PermissionError,\n   'ProcessLookupError': ProcessLookupError,\n   'TimeoutError': TimeoutError,\n   'open': <function io.open(file, mode='r', buffering=-1, encoding=None, errors=None, newline=None, closefd=True, opener=None)>,\n   'copyright': Copyright (c) 2001-2020 Python Software Foundation.\n   All Rights Reserved.\n   \n   Copyright (c) 2000 BeOpen.com.\n   All Rights Reserved.\n   \n   Copyright (c) 1995-2001 Corporation for National Research Initiatives.\n   All Rights Reserved.\n   \n   Copyright (c) 1991-1995 Stichting Mathematisch Centrum, Amsterdam.\n   All Rights Reserved.,\n   'credits':     Thanks to CWI, CNRI, BeOpen.com, Zope Corporation and a cast of thousands\n       for supporting Python development.  See www.python.org for more information.,\n   'license': Type license() to see the full license text,\n   'help': Type help() for interactive help, or help(object) for help about object.,\n   '__IPYTHON__': True,\n   'display': <function IPython.core.display.display(*objs, include=None, exclude=None, metadata=None, transient=None, display_id=None, **kwargs)>,\n   'get_ipython': <bound method InteractiveShell.get_ipython of <ipykernel.zmqshell.ZMQInteractiveShell object at 0x7fe4efb24130>>}),\n ('__cached__',\n  '/Users/jalejo/PycharmProjects/courses/BeyondTheBasics/__pycache__/sorted_set.cpython-38.pyc'),\n ('__doc__', None),\n ('__file__',\n  '/Users/jalejo/PycharmProjects/courses/BeyondTheBasics/sorted_set.py'),\n ('__loader__',\n  <_frozen_importlib_external.SourceFileLoader at 0x7fe4f092ae80>),\n ('__name__', 'sorted_set'),\n ('__package__', ''),\n ('__spec__',\n  ModuleSpec(name='sorted_set', loader=<_frozen_importlib_external.SourceFileLoader object at 0x7fe4f092ae80>, origin='/Users/jalejo/PycharmProjects/courses/BeyondTheBasics/sorted_set.py')),\n ('bisect_left', <function _bisect.bisect_left>),\n ('chain', itertools.chain)]"
     },
     "execution_count": 27,
     "metadata": {},
     "output_type": "execute_result"
    }
   ],
   "source": [
    "inspect.getmembers(sorted_set)"
   ],
   "metadata": {
    "collapsed": false,
    "pycharm": {
     "name": "#%%\n"
    }
   }
  },
  {
   "cell_type": "code",
   "execution_count": 28,
   "outputs": [
    {
     "data": {
      "text/plain": "['ArgInfo',\n 'ArgSpec',\n 'Arguments',\n 'Attribute',\n 'BlockFinder',\n 'BoundArguments',\n 'CORO_CLOSED',\n 'CORO_CREATED',\n 'CORO_RUNNING',\n 'CORO_SUSPENDED',\n 'CO_ASYNC_GENERATOR',\n 'CO_COROUTINE',\n 'CO_GENERATOR',\n 'CO_ITERABLE_COROUTINE',\n 'CO_NESTED',\n 'CO_NEWLOCALS',\n 'CO_NOFREE',\n 'CO_OPTIMIZED',\n 'CO_VARARGS',\n 'CO_VARKEYWORDS',\n 'ClosureVars',\n 'EndOfBlock',\n 'FrameInfo',\n 'FullArgSpec',\n 'GEN_CLOSED',\n 'GEN_CREATED',\n 'GEN_RUNNING',\n 'GEN_SUSPENDED',\n 'OrderedDict',\n 'Parameter',\n 'Signature',\n 'TPFLAGS_IS_ABSTRACT',\n 'Traceback',\n '_ClassMethodWrapper',\n '_KEYWORD_ONLY',\n '_MethodWrapper',\n '_NonUserDefinedCallables',\n '_PARAM_NAME_MAPPING',\n '_POSITIONAL_ONLY',\n '_POSITIONAL_OR_KEYWORD',\n '_ParameterKind',\n '_VAR_KEYWORD',\n '_VAR_POSITIONAL',\n '_WrapperDescriptor',\n '__author__',\n '__builtins__',\n '__cached__',\n '__doc__',\n '__file__',\n '__loader__',\n '__name__',\n '__package__',\n '__spec__',\n '_check_class',\n '_check_instance',\n '_empty',\n '_filesbymodname',\n '_findclass',\n '_finddoc',\n '_has_code_flag',\n '_is_type',\n '_main',\n '_missing_arguments',\n '_sentinel',\n '_shadowed_dict',\n '_signature_bound_method',\n '_signature_from_builtin',\n '_signature_from_callable',\n '_signature_from_function',\n '_signature_fromstr',\n '_signature_get_bound_param',\n '_signature_get_partial',\n '_signature_get_user_defined_method',\n '_signature_is_builtin',\n '_signature_is_functionlike',\n '_signature_strip_non_python_syntax',\n '_static_getmro',\n '_too_many',\n '_void',\n 'abc',\n 'attrgetter',\n 'builtins',\n 'classify_class_attrs',\n 'cleandoc',\n 'collections',\n 'currentframe',\n 'dis',\n 'enum',\n 'findsource',\n 'formatannotation',\n 'formatannotationrelativeto',\n 'formatargspec',\n 'formatargvalues',\n 'functools',\n 'getabsfile',\n 'getargs',\n 'getargspec',\n 'getargvalues',\n 'getattr_static',\n 'getblock',\n 'getcallargs',\n 'getclasstree',\n 'getclosurevars',\n 'getcomments',\n 'getcoroutinelocals',\n 'getcoroutinestate',\n 'getdoc',\n 'getfile',\n 'getframeinfo',\n 'getfullargspec',\n 'getgeneratorlocals',\n 'getgeneratorstate',\n 'getinnerframes',\n 'getlineno',\n 'getmembers',\n 'getmodule',\n 'getmodulename',\n 'getmro',\n 'getouterframes',\n 'getsource',\n 'getsourcefile',\n 'getsourcelines',\n 'importlib',\n 'indentsize',\n 'isabstract',\n 'isasyncgen',\n 'isasyncgenfunction',\n 'isawaitable',\n 'isbuiltin',\n 'isclass',\n 'iscode',\n 'iscoroutine',\n 'iscoroutinefunction',\n 'isdatadescriptor',\n 'isframe',\n 'isfunction',\n 'isgenerator',\n 'isgeneratorfunction',\n 'isgetsetdescriptor',\n 'ismemberdescriptor',\n 'ismethod',\n 'ismethoddescriptor',\n 'ismodule',\n 'isroutine',\n 'istraceback',\n 'itertools',\n 'k',\n 'linecache',\n 'mod_dict',\n 'modulesbyfile',\n 'namedtuple',\n 'os',\n 're',\n 'signature',\n 'stack',\n 'sys',\n 'token',\n 'tokenize',\n 'trace',\n 'types',\n 'unwrap',\n 'v',\n 'walktree',\n 'warnings']"
     },
     "execution_count": 28,
     "metadata": {},
     "output_type": "execute_result"
    }
   ],
   "source": [
    "dir(inspect)"
   ],
   "metadata": {
    "collapsed": false,
    "pycharm": {
     "name": "#%%\n"
    }
   }
  },
  {
   "cell_type": "code",
   "execution_count": 29,
   "outputs": [
    {
     "data": {
      "text/plain": "[('Sequence', collections.abc.Sequence),\n ('Set', collections.abc.Set),\n ('SortedSet', sorted_set.SortedSet),\n ('chain', itertools.chain)]"
     },
     "execution_count": 29,
     "metadata": {},
     "output_type": "execute_result"
    }
   ],
   "source": [
    "inspect.getmembers(sorted_set, inspect.isclass)"
   ],
   "metadata": {
    "collapsed": false,
    "pycharm": {
     "name": "#%%\n"
    }
   }
  },
  {
   "cell_type": "code",
   "execution_count": 30,
   "outputs": [
    {
     "data": {
      "text/plain": "[1, 2, 3, 4, 5, 6]"
     },
     "execution_count": 30,
     "metadata": {},
     "output_type": "execute_result"
    }
   ],
   "source": [
    "from sorted_set import chain\n",
    "list(chain([1, 2, 3], [4, 5, 6]))"
   ],
   "metadata": {
    "collapsed": false,
    "pycharm": {
     "name": "#%%\n"
    }
   }
  },
  {
   "cell_type": "code",
   "execution_count": 31,
   "outputs": [
    {
     "data": {
      "text/plain": "[('__add__', <function sorted_set.SortedSet.__add__(self, rhs)>),\n ('__and__', <function collections.abc.Set.__and__(self, other)>),\n ('__contains__', <function sorted_set.SortedSet.__contains__(self, item)>),\n ('__eq__', <function sorted_set.SortedSet.__eq__(self, rhs)>),\n ('__ge__', <function collections.abc.Set.__ge__(self, other)>),\n ('__getitem__', <function sorted_set.SortedSet.__getitem__(self, index)>),\n ('__gt__', <function collections.abc.Set.__gt__(self, other)>),\n ('__init__', <function sorted_set.SortedSet.__init__(self, items=None)>),\n ('__iter__', <function sorted_set.SortedSet.__iter__(self)>),\n ('__le__', <function collections.abc.Set.__le__(self, other)>),\n ('__len__', <function sorted_set.SortedSet.__len__(self)>),\n ('__lt__', <function collections.abc.Set.__lt__(self, other)>),\n ('__mul__', <function sorted_set.SortedSet.__mul__(self, rhs)>),\n ('__ne__', <function sorted_set.SortedSet.__ne__(self, rhs)>),\n ('__or__', <function collections.abc.Set.__or__(self, other)>),\n ('__rand__', <function collections.abc.Set.__and__(self, other)>),\n ('__repr__', <function sorted_set.SortedSet.__repr__(self)>),\n ('__reversed__', <function collections.abc.Sequence.__reversed__(self)>),\n ('__rmul__', <function sorted_set.SortedSet.__rmul__(self, lhs)>),\n ('__ror__', <function collections.abc.Set.__or__(self, other)>),\n ('__rsub__', <function collections.abc.Set.__rsub__(self, other)>),\n ('__rxor__', <function collections.abc.Set.__xor__(self, other)>),\n ('__sub__', <function collections.abc.Set.__sub__(self, other)>),\n ('__xor__', <function collections.abc.Set.__xor__(self, other)>),\n ('_hash', <function collections.abc.Set._hash(self)>),\n ('count', <function sorted_set.SortedSet.count(self, item)>),\n ('difference', <function sorted_set.SortedSet.difference(self, iterable)>),\n ('index', <function sorted_set.SortedSet.index(self, item)>),\n ('intersection',\n  <function sorted_set.SortedSet.intersection(self, iterable)>),\n ('isdisjoint', <function collections.abc.Set.isdisjoint(self, other)>),\n ('issubset', <function sorted_set.SortedSet.issubset(self, iterable)>),\n ('issuperset', <function sorted_set.SortedSet.issuperset(self, iterable)>),\n ('symmetric_difference',\n  <function sorted_set.SortedSet.symmetric_difference(self, iterable)>),\n ('union', <function sorted_set.SortedSet.union(self, iterable)>)]"
     },
     "execution_count": 31,
     "metadata": {},
     "output_type": "execute_result"
    }
   ],
   "source": [
    "inspect.getmembers(sorted_set.SortedSet, inspect.isfunction)\n"
   ],
   "metadata": {
    "collapsed": false,
    "pycharm": {
     "name": "#%%\n"
    }
   }
  },
  {
   "cell_type": "code",
   "execution_count": 32,
   "outputs": [
    {
     "data": {
      "text/plain": "<Signature (self, items=None)>"
     },
     "execution_count": 32,
     "metadata": {},
     "output_type": "execute_result"
    }
   ],
   "source": [
    "init_sig = inspect.signature(sorted_set.SortedSet.__init__)\n",
    "init_sig"
   ],
   "metadata": {
    "collapsed": false,
    "pycharm": {
     "name": "#%%\n"
    }
   }
  },
  {
   "cell_type": "code",
   "execution_count": 33,
   "outputs": [
    {
     "data": {
      "text/plain": "mappingproxy({'self': <Parameter \"self\">, 'items': <Parameter \"items=None\">})"
     },
     "execution_count": 33,
     "metadata": {},
     "output_type": "execute_result"
    }
   ],
   "source": [
    "init_sig.parameters"
   ],
   "metadata": {
    "collapsed": false,
    "pycharm": {
     "name": "#%%\n"
    }
   }
  },
  {
   "cell_type": "code",
   "execution_count": 34,
   "outputs": [
    {
     "data": {
      "text/plain": "'None'"
     },
     "execution_count": 34,
     "metadata": {},
     "output_type": "execute_result"
    }
   ],
   "source": [
    "repr(init_sig.parameters['items'].default)"
   ],
   "metadata": {
    "collapsed": false,
    "pycharm": {
     "name": "#%%\n"
    }
   }
  },
  {
   "cell_type": "code",
   "execution_count": 35,
   "outputs": [
    {
     "data": {
      "text/plain": "'(self, items=None)'"
     },
     "execution_count": 35,
     "metadata": {},
     "output_type": "execute_result"
    }
   ],
   "source": [
    "str(init_sig)"
   ],
   "metadata": {
    "collapsed": false,
    "pycharm": {
     "name": "#%%\n"
    }
   }
  },
  {
   "cell_type": "code",
   "source": [
    "from introspector import dump\n",
    "dump(7)"
   ],
   "metadata": {
    "collapsed": false,
    "pycharm": {
     "name": "#%%\n"
    }
   },
   "execution_count": 36,
   "outputs": [
    {
     "name": "stdout",
     "output_type": "stream",
     "text": [
      "Type\n",
      "====\n",
      "<class 'int'>\n",
      "\n",
      "Documentation\n",
      "=============\n",
      "int([x]) -> integer\n",
      "int(x, base=10) -> integer\n",
      "\n",
      "Convert a number or string to an integer, or return 0 if no arguments\n",
      "are given.  If x is a number, return x.__int__().  For floating point\n",
      "numbers, this truncates towards zero.\n",
      "\n",
      "If x is not a number or if base is given, then x must be a string,\n",
      "bytes, or bytearray instance representing an integer literal in the\n",
      "given base.  The literal can be preceded by '+' or '-' and be surrounded\n",
      "by whitespace.  The base defaults to 10.  Valid bases are 0 and 2-36.\n",
      "Base 0 means to interpret the base from the string as an integer literal.\n",
      ">>> int('0b100', base=0)\n",
      "4\n",
      "\n",
      "Attributes\n",
      "==========\n",
      "Name        Value                         \n",
      "----------- ------------------------------\n",
      "__doc__     \"int([x]) -> ...', base=0)\\n4\"\n",
      "denominator 1                             \n",
      "imag        0                             \n",
      "numerator   7                             \n",
      "real        7                             \n",
      "\n",
      "Methods\n",
      "=======\n",
      "Name              Description                                                                              \n",
      "----------------- -----------------------------------------------------------------------------------------\n",
      "__abs__           abs(self)                                                                                \n",
      "__add__           Return self+value.                                                                       \n",
      "__and__           Return self&value.                                                                       \n",
      "__bool__          self != 0                                                                                \n",
      "__ceil__          Ceiling of an Integral returns itself.                                                   \n",
      "int               int([x]) -> integer                                                                      \n",
      "__delattr__       Implement delattr(self, name).                                                           \n",
      "__dir__           Default dir() implementation.                                                            \n",
      "__divmod__        Return divmod(self, value).                                                              \n",
      "__eq__            Return self==value.                                                                      \n",
      "__float__         float(self)                                                                              \n",
      "__floor__         Flooring an Integral returns itself.                                                     \n",
      "__floordiv__      Return self//value.                                                                      \n",
      "__format__                                                                                                 \n",
      "__ge__            Return self>=value.                                                                      \n",
      "__getattribute__  Return getattr(self, name).                                                              \n",
      "__getnewargs__                                                                                             \n",
      "__gt__            Return self>value.                                                                       \n",
      "__hash__          Return hash(self).                                                                       \n",
      "__index__         Return self converted to an integer, if self is suitable for use as an index into a list.\n",
      "__init__          Initialize self.  See help(type(self)) for accurate signature.                           \n",
      "__init_subclass__ This method is called when a class is subclassed.                                        \n",
      "__int__           int(self)                                                                                \n",
      "__invert__        ~self                                                                                    \n",
      "__le__            Return self<=value.                                                                      \n",
      "__lshift__        Return self<<value.                                                                      \n",
      "__lt__            Return self<value.                                                                       \n",
      "__mod__           Return self%value.                                                                       \n",
      "__mul__           Return self*value.                                                                       \n",
      "__ne__            Return self!=value.                                                                      \n",
      "__neg__           -self                                                                                    \n",
      "__new__           Create and return a new object.  See help(type) for accurate signature.                  \n",
      "__or__            Return self|value.                                                                       \n",
      "__pos__           +self                                                                                    \n",
      "__pow__           Return pow(self, value, mod).                                                            \n",
      "__radd__          Return value+self.                                                                       \n",
      "__rand__          Return value&self.                                                                       \n",
      "__rdivmod__       Return divmod(value, self).                                                              \n",
      "__reduce__        Helper for pickle.                                                                       \n",
      "__reduce_ex__     Helper for pickle.                                                                       \n",
      "__repr__          Return repr(self).                                                                       \n",
      "__rfloordiv__     Return value//self.                                                                      \n",
      "__rlshift__       Return value<<self.                                                                      \n",
      "__rmod__          Return value%self.                                                                       \n",
      "__rmul__          Return value*self.                                                                       \n",
      "__ror__           Return value|self.                                                                       \n",
      "__round__         Rounding an Integral returns itself.                                                     \n",
      "__rpow__          Return pow(value, self, mod).                                                            \n",
      "__rrshift__       Return value>>self.                                                                      \n",
      "__rshift__        Return self>>value.                                                                      \n",
      "__rsub__          Return value-self.                                                                       \n",
      "__rtruediv__      Return value/self.                                                                       \n",
      "__rxor__          Return value^self.                                                                       \n",
      "__setattr__       Implement setattr(self, name, value).                                                    \n",
      "__sizeof__        Returns size in memory, in bytes.                                                        \n",
      "__str__           Return str(self).                                                                        \n",
      "__sub__           Return self-value.                                                                       \n",
      "__subclasshook__  Abstract classes can override this to customize issubclass().                            \n",
      "__truediv__       Return self/value.                                                                       \n",
      "__trunc__         Truncating an Integral returns itself.                                                   \n",
      "__xor__           Return self^value.                                                                       \n",
      "as_integer_ratio  Return integer ratio.                                                                    \n",
      "bit_length        Number of bits necessary to represent self in binary.                                    \n",
      "conjugate         Returns self, the complex conjugate of any int.                                          \n",
      "from_bytes        Return the integer represented by the given array of bytes.                              \n",
      "to_bytes          Return an array of bytes representing an integer.                                        \n",
      "\n"
     ]
    }
   ]
  },
  {
   "cell_type": "code",
   "execution_count": 36,
   "outputs": [],
   "source": [
    "\n"
   ],
   "metadata": {
    "collapsed": false,
    "pycharm": {
     "name": "#%%\n"
    }
   }
  }
 ],
 "metadata": {
  "kernelspec": {
   "display_name": "Python 3",
   "language": "python",
   "name": "python3"
  },
  "language_info": {
   "codemirror_mode": {
    "name": "ipython",
    "version": 2
   },
   "file_extension": ".py",
   "mimetype": "text/x-python",
   "name": "python",
   "nbconvert_exporter": "python",
   "pygments_lexer": "ipython2",
   "version": "2.7.6"
  }
 },
 "nbformat": 4,
 "nbformat_minor": 0
}