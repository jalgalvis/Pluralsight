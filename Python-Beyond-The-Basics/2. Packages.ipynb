{
 "cells": [
  {
   "cell_type": "code",
   "execution_count": 1,
   "outputs": [],
   "source": [
    "%load_ext autoreload\n",
    "%autoreload 2"
   ],
   "metadata": {
    "collapsed": false,
    "pycharm": {
     "name": "#%%\n"
    }
   }
  },
  {
   "cell_type": "markdown",
   "metadata": {
    "collapsed": true,
    "pycharm": {
     "name": "#%% md\n"
    }
   },
   "source": [
    "# <center><font color=slate>Packages</font></center>\n",
    "\n",
    ">- Packages are modules that contain other packages\n",
    ">\n",
    ">-  Packages are generally implemented as directories containing a special `__init__.py` file\n",
    ">\n",
    ">-  The `__init__.py` file is executed when the package is imported\n",
    ">\n",
    ">-  Packages can contain sub packages which themselves are implemented with `__init__.py` files in directories\n",
    "\n",
    "## <center>`sys.path`</center>\n",
    "To import modules which are located in folders, the following exercise\n",
    "will import a module test_path located in the folded not_searched.\n",
    "on terminal it can be done with the following instruction in the bash\n",
    "\n",
    "`export PYTHONPATH=not_searched`\n",
    "\n",
    "Then initiating python it can be seen on `sys.path`,\n",
    "otherwise it can be achieved including the folder manually with the following instructions:\n"
   ]
  },
  {
   "cell_type": "code",
   "execution_count": 2,
   "outputs": [
    {
     "data": {
      "text/plain": "['/Users/jalejo/Google Drive/projects/Python/Courses Pluralsight/Practice Pycharm/PythonBeyondTheBasics',\n '/Users/jalejo/Google Drive/projects/Python/Courses Pluralsight/Practice Pycharm/PythonBeyondTheBasics',\n '/Library/Frameworks/Python.framework/Versions/3.8/lib/python38.zip',\n '/Library/Frameworks/Python.framework/Versions/3.8/lib/python3.8',\n '/Library/Frameworks/Python.framework/Versions/3.8/lib/python3.8/lib-dynload',\n '',\n '/Library/Frameworks/Python.framework/Versions/3.8/lib/python3.8/site-packages',\n '/Library/Frameworks/Python.framework/Versions/3.8/lib/python3.8/site-packages/IPython/extensions',\n '/Users/jalejo/.ipython']"
     },
     "execution_count": 2,
     "metadata": {},
     "output_type": "execute_result"
    }
   ],
   "source": [
    "import sys\n",
    "sys.path\n"
   ],
   "metadata": {
    "collapsed": false,
    "pycharm": {
     "name": "#%%\n"
    }
   }
  },
  {
   "cell_type": "code",
   "execution_count": 3,
   "outputs": [],
   "source": [
    "sys.path.append('not_searched')"
   ],
   "metadata": {
    "collapsed": false,
    "pycharm": {
     "name": "#%%\n"
    }
   }
  },
  {
   "cell_type": "code",
   "execution_count": 4,
   "outputs": [
    {
     "name": "stdout",
     "output_type": "stream",
     "text": [
      "Python found me\n"
     ]
    }
   ],
   "source": [
    "import pathTest\n",
    "pathTest.found()"
   ],
   "metadata": {
    "collapsed": false,
    "pycharm": {
     "name": "#%%\n"
    }
   }
  },
  {
   "cell_type": "markdown",
   "source": [
    "\n",
    "## <center><font color=tomato>Package implementation</font></center>\n",
    "\n",
    "Packages can be created creating a `__init__.py` file in the folder"
   ],
   "metadata": {
    "collapsed": false,
    "pycharm": {
     "name": "#%% md\n"
    }
   }
  },
  {
   "cell_type": "code",
   "execution_count": 5,
   "outputs": [
    {
     "data": {
      "text/plain": "module"
     },
     "execution_count": 5,
     "metadata": {},
     "output_type": "execute_result"
    }
   ],
   "source": [
    "import reader\n",
    "type(reader)"
   ],
   "metadata": {
    "collapsed": false,
    "pycharm": {
     "name": "#%%\n"
    }
   }
  },
  {
   "cell_type": "code",
   "source": [
    "reader.__file__"
   ],
   "metadata": {
    "collapsed": false,
    "pycharm": {
     "name": "#%%\n"
    }
   },
   "execution_count": 6,
   "outputs": [
    {
     "data": {
      "text/plain": "'/Users/jalejo/Google Drive/projects/Python/Courses Pluralsight/Practice Pycharm/PythonBeyondTheBasics/reader/__init__.py'"
     },
     "execution_count": 6,
     "metadata": {},
     "output_type": "execute_result"
    }
   ]
  },
  {
   "cell_type": "markdown",
   "source": [
    "\n",
    "Now we create a module reader with a class Reader\n"
   ],
   "metadata": {
    "collapsed": false,
    "pycharm": {
     "name": "#%% md\n"
    }
   }
  },
  {
   "cell_type": "code",
   "execution_count": 7,
   "outputs": [],
   "source": [
    "\n",
    "import reader.reader"
   ],
   "metadata": {
    "collapsed": false,
    "pycharm": {
     "name": "#%%\n"
    }
   }
  },
  {
   "cell_type": "code",
   "execution_count": 8,
   "outputs": [
    {
     "data": {
      "text/plain": "'/Users/jalejo/Google Drive/projects/Python/Courses Pluralsight/Practice Pycharm/PythonBeyondTheBasics/reader/reader.py'"
     },
     "execution_count": 8,
     "metadata": {},
     "output_type": "execute_result"
    }
   ],
   "source": [
    "reader.reader.__file__"
   ],
   "metadata": {
    "collapsed": false,
    "pycharm": {
     "name": "#%%\n"
    }
   }
  },
  {
   "cell_type": "code",
   "execution_count": 9,
   "outputs": [
    {
     "data": {
      "text/plain": "'\"\"\"\\nISO 6346 shipping container codes.\\n\"\"\"\\n\\n\\ndef create(ownerCode, serial, category=\\'U\\'):\\n    \"\"\"Create an ISO 6346 shipping container code.\\n\\n    Args:\\n        ownerCode (str): Three character alphabetic container code.\\n        serial (str): Six digit numeric serial number.\\n        category (str): Equipment category identifier.\\n\\n    Returns:\\n        An ISO 6346 container code including a check digit.\\n\\n    Raises:\\n        ValueError: If incorrect values are provided.\\n    \"\"\"\\n    if not (len(ownerCode) == 3 and ownerCode.isalpha()):\\n        raise ValueError(\"Invalid ISO 6346 owner code \\'{}\\'\".format(ownerCode))\\n\\n    if category not in (\\'U\\', \\'J\\', \\'Z\\', \\'R\\'):\\n        raise ValueError(\"Invalid ISO 6346 category identifier \\'{}\\'\".format(category))\\n\\n    if not (len(serial) == 6 and serial.isdigit()):\\n        raise ValueError(\"Invalid ISO 6346 serial number\")\\n\\n    raw_code = ownerCode + category + serial\\n    full_code = raw_code + str(check_digit(raw_code))\\n    return full_code\\n\\n\\ndef check_digit(raw_code):\\n    \"\"\"Compute the check digit for an ISO 6346 code without that digit\\n\\n    Args:\\n        raw_code (str): An ISO 6346 code lacking a check digit.\\n\\n    Returns:\\n        An integer check digit between 0 and 9 inclusive.\\n    \"\"\"\\n    s = sum(code(char) * 2**index for index, char in enumerate(raw_code))\\n    return s % 11 % 10\\n\\n\\ndef code(char):\\n    \"\"\"Determine the ISO 6346 numeric equivalent of a character.\\n\\n    Args:\\n        char (str): A single character string.\\n\\n    Return:\\n        An integer code equivalent to the supplied character.\\n    \"\"\"\\n    return int(char) if char.isdigit() else letter_code(char)\\n\\n\\ndef letter_code(letter):\\n    \"\"\"Determine the ISO 6346 numeric code for a letter.\\n\\n    Args:\\n        letter (str): A single letter.\\n\\n    Returns:\\n        An integer character code equivalent to the supplied letter.\\n    \"\"\"\\n    value = ord(letter.lower()) - ord(\\'a\\') + 10\\n    return value + value // 11\\n'"
     },
     "execution_count": 9,
     "metadata": {},
     "output_type": "execute_result"
    }
   ],
   "source": [
    "r = reader.reader.Reader('iso6346.py')\n",
    "r.read()"
   ],
   "metadata": {
    "collapsed": false,
    "pycharm": {
     "name": "#%%\n"
    }
   }
  },
  {
   "cell_type": "code",
   "execution_count": 10,
   "outputs": [],
   "source": [
    "r.close()"
   ],
   "metadata": {
    "collapsed": false,
    "pycharm": {
     "name": "#%%\n"
    }
   }
  },
  {
   "cell_type": "markdown",
   "source": [
    "in order to avoid the `reader.reader` when importing we add the following code:"
   ],
   "metadata": {
    "collapsed": false,
    "pycharm": {
     "name": "#%% md\n"
    }
   }
  },
  {
   "cell_type": "raw",
   "source": [
    "from reader.reader import Reader"
   ],
   "metadata": {
    "collapsed": false,
    "pycharm": {
     "name": "#%% raw\n"
    }
   }
  },
  {
   "cell_type": "code",
   "execution_count": 11,
   "outputs": [
    {
     "data": {
      "text/plain": "'\"\"\"\\nISO 6346 shipping container codes.\\n\"\"\"\\n\\n\\ndef create(ownerCode, serial, category=\\'U\\'):\\n    \"\"\"Create an ISO 6346 shipping container code.\\n\\n    Args:\\n        ownerCode (str): Three character alphabetic container code.\\n        serial (str): Six digit numeric serial number.\\n        category (str): Equipment category identifier.\\n\\n    Returns:\\n        An ISO 6346 container code including a check digit.\\n\\n    Raises:\\n        ValueError: If incorrect values are provided.\\n    \"\"\"\\n    if not (len(ownerCode) == 3 and ownerCode.isalpha()):\\n        raise ValueError(\"Invalid ISO 6346 owner code \\'{}\\'\".format(ownerCode))\\n\\n    if category not in (\\'U\\', \\'J\\', \\'Z\\', \\'R\\'):\\n        raise ValueError(\"Invalid ISO 6346 category identifier \\'{}\\'\".format(category))\\n\\n    if not (len(serial) == 6 and serial.isdigit()):\\n        raise ValueError(\"Invalid ISO 6346 serial number\")\\n\\n    raw_code = ownerCode + category + serial\\n    full_code = raw_code + str(check_digit(raw_code))\\n    return full_code\\n\\n\\ndef check_digit(raw_code):\\n    \"\"\"Compute the check digit for an ISO 6346 code without that digit\\n\\n    Args:\\n        raw_code (str): An ISO 6346 code lacking a check digit.\\n\\n    Returns:\\n        An integer check digit between 0 and 9 inclusive.\\n    \"\"\"\\n    s = sum(code(char) * 2**index for index, char in enumerate(raw_code))\\n    return s % 11 % 10\\n\\n\\ndef code(char):\\n    \"\"\"Determine the ISO 6346 numeric equivalent of a character.\\n\\n    Args:\\n        char (str): A single character string.\\n\\n    Return:\\n        An integer code equivalent to the supplied character.\\n    \"\"\"\\n    return int(char) if char.isdigit() else letter_code(char)\\n\\n\\ndef letter_code(letter):\\n    \"\"\"Determine the ISO 6346 numeric code for a letter.\\n\\n    Args:\\n        letter (str): A single letter.\\n\\n    Returns:\\n        An integer character code equivalent to the supplied letter.\\n    \"\"\"\\n    value = ord(letter.lower()) - ord(\\'a\\') + 10\\n    return value + value // 11\\n'"
     },
     "execution_count": 11,
     "metadata": {},
     "output_type": "execute_result"
    }
   ],
   "source": [
    "import reader\n",
    "r = reader.Reader('iso6346.py')\n",
    "r.read()"
   ],
   "metadata": {
    "collapsed": false,
    "pycharm": {
     "name": "#%%\n"
    }
   }
  },
  {
   "cell_type": "code",
   "execution_count": 12,
   "outputs": [],
   "source": [
    "r.close()"
   ],
   "metadata": {
    "collapsed": false,
    "pycharm": {
     "name": "#%%\n"
    }
   }
  },
  {
   "cell_type": "markdown",
   "source": [
    "we will use a different package `reader1` to avoid confusion"
   ],
   "metadata": {
    "collapsed": false,
    "pycharm": {
     "name": "#%% md\n"
    }
   }
  },
  {
   "cell_type": "code",
   "execution_count": 13,
   "outputs": [
    {
     "data": {
      "text/plain": "'\"\"\"\\nISO 6346 shipping container codes.\\n\"\"\"\\n\\n\\ndef create(ownerCode, serial, category=\\'U\\'):\\n    \"\"\"Create an ISO 6346 shipping container code.\\n\\n    Args:\\n        ownerCode (str): Three character alphabetic container code.\\n        serial (str): Six digit numeric serial number.\\n        category (str): Equipment category identifier.\\n\\n    Returns:\\n        An ISO 6346 container code including a check digit.\\n\\n    Raises:\\n        ValueError: If incorrect values are provided.\\n    \"\"\"\\n    if not (len(ownerCode) == 3 and ownerCode.isalpha()):\\n        raise ValueError(\"Invalid ISO 6346 owner code \\'{}\\'\".format(ownerCode))\\n\\n    if category not in (\\'U\\', \\'J\\', \\'Z\\', \\'R\\'):\\n        raise ValueError(\"Invalid ISO 6346 category identifier \\'{}\\'\".format(category))\\n\\n    if not (len(serial) == 6 and serial.isdigit()):\\n        raise ValueError(\"Invalid ISO 6346 serial number\")\\n\\n    raw_code = ownerCode + category + serial\\n    full_code = raw_code + str(check_digit(raw_code))\\n    return full_code\\n\\n\\ndef check_digit(raw_code):\\n    \"\"\"Compute the check digit for an ISO 6346 code without that digit\\n\\n    Args:\\n        raw_code (str): An ISO 6346 code lacking a check digit.\\n\\n    Returns:\\n        An integer check digit between 0 and 9 inclusive.\\n    \"\"\"\\n    s = sum(code(char) * 2**index for index, char in enumerate(raw_code))\\n    return s % 11 % 10\\n\\n\\ndef code(char):\\n    \"\"\"Determine the ISO 6346 numeric equivalent of a character.\\n\\n    Args:\\n        char (str): A single character string.\\n\\n    Return:\\n        An integer code equivalent to the supplied character.\\n    \"\"\"\\n    return int(char) if char.isdigit() else letter_code(char)\\n\\n\\ndef letter_code(letter):\\n    \"\"\"Determine the ISO 6346 numeric code for a letter.\\n\\n    Args:\\n        letter (str): A single letter.\\n\\n    Returns:\\n        An integer character code equivalent to the supplied letter.\\n    \"\"\"\\n    value = ord(letter.lower()) - ord(\\'a\\') + 10\\n    return value + value // 11\\n'"
     },
     "execution_count": 13,
     "metadata": {},
     "output_type": "execute_result"
    }
   ],
   "source": [
    "import reader1\n",
    "r = reader1.Reader('iso6346.py')\n",
    "r.read()"
   ],
   "metadata": {
    "collapsed": false,
    "pycharm": {
     "name": "#%%\n"
    }
   }
  },
  {
   "cell_type": "code",
   "execution_count": 14,
   "outputs": [],
   "source": [
    "r.close()"
   ],
   "metadata": {
    "collapsed": false,
    "pycharm": {
     "name": "#%%\n"
    }
   }
  },
  {
   "cell_type": "markdown",
   "source": [
    "## <center><font color=tomato>Subpackages</font></center>\n",
    "\n",
    "a sub-package 'compressed' will be created in the following example\n",
    "\n",
    "to start, compressed files will be created:"
   ],
   "metadata": {
    "collapsed": false,
    "pycharm": {
     "name": "#%% md\n"
    }
   }
  },
  {
   "cell_type": "code",
   "execution_count": 15,
   "outputs": [
    {
     "name": "stdout",
     "output_type": "stream",
     "text": [
      "/System/Library/Frameworks/Python.framework/Versions/2.7/Resources/Python.app/Contents/MacOS/Python: No module named compressed\r\n"
     ]
    }
   ],
   "source": [
    "!python -m reader1.compressed.bzipped test.bz2 data compressed with bz2"
   ],
   "metadata": {
    "collapsed": false,
    "pycharm": {
     "name": "#%%\n"
    }
   }
  },
  {
   "cell_type": "code",
   "execution_count": 16,
   "outputs": [
    {
     "name": "stdout",
     "output_type": "stream",
     "text": [
      "/System/Library/Frameworks/Python.framework/Versions/2.7/Resources/Python.app/Contents/MacOS/Python: No module named compressed\r\n"
     ]
    }
   ],
   "source": [
    "!python -m reader1.compressed.gzipped test.gz data compressed with gzip"
   ],
   "metadata": {
    "collapsed": false,
    "pycharm": {
     "name": "#%%\n"
    }
   }
  },
  {
   "cell_type": "code",
   "execution_count": 17,
   "outputs": [
    {
     "data": {
      "text/plain": "'data compressed with bz2'"
     },
     "execution_count": 17,
     "metadata": {},
     "output_type": "execute_result"
    }
   ],
   "source": [
    "import reader1\n",
    "r = reader1.Reader('test.bz2')\n",
    "r.read()"
   ],
   "metadata": {
    "collapsed": false,
    "pycharm": {
     "name": "#%%\n"
    }
   }
  },
  {
   "cell_type": "code",
   "execution_count": 18,
   "outputs": [],
   "source": [
    "r.close()"
   ],
   "metadata": {
    "collapsed": false,
    "pycharm": {
     "name": "#%%\n"
    }
   }
  },
  {
   "cell_type": "code",
   "execution_count": 19,
   "outputs": [
    {
     "data": {
      "text/plain": "'data compressed with gzip'"
     },
     "execution_count": 19,
     "metadata": {},
     "output_type": "execute_result"
    }
   ],
   "source": [
    "r = reader1.Reader('test.gz')\n",
    "r.read()"
   ],
   "metadata": {
    "collapsed": false,
    "pycharm": {
     "name": "#%%\n"
    }
   }
  },
  {
   "cell_type": "code",
   "execution_count": 20,
   "outputs": [],
   "source": [
    "r.close()"
   ],
   "metadata": {
    "collapsed": false,
    "pycharm": {
     "name": "#%%\n"
    }
   }
  },
  {
   "cell_type": "code",
   "execution_count": 21,
   "outputs": [
    {
     "data": {
      "text/plain": "'\"\"\"\\nISO 6346 shipping container codes.\\n\"\"\"\\n\\n\\ndef create(ownerCode, serial, category=\\'U\\'):\\n    \"\"\"Create an ISO 6346 shipping container code.\\n\\n    Args:\\n        ownerCode (str): Three character alphabetic container code.\\n        serial (str): Six digit numeric serial number.\\n        category (str): Equipment category identifier.\\n\\n    Returns:\\n        An ISO 6346 container code including a check digit.\\n\\n    Raises:\\n        ValueError: If incorrect values are provided.\\n    \"\"\"\\n    if not (len(ownerCode) == 3 and ownerCode.isalpha()):\\n        raise ValueError(\"Invalid ISO 6346 owner code \\'{}\\'\".format(ownerCode))\\n\\n    if category not in (\\'U\\', \\'J\\', \\'Z\\', \\'R\\'):\\n        raise ValueError(\"Invalid ISO 6346 category identifier \\'{}\\'\".format(category))\\n\\n    if not (len(serial) == 6 and serial.isdigit()):\\n        raise ValueError(\"Invalid ISO 6346 serial number\")\\n\\n    raw_code = ownerCode + category + serial\\n    full_code = raw_code + str(check_digit(raw_code))\\n    return full_code\\n\\n\\ndef check_digit(raw_code):\\n    \"\"\"Compute the check digit for an ISO 6346 code without that digit\\n\\n    Args:\\n        raw_code (str): An ISO 6346 code lacking a check digit.\\n\\n    Returns:\\n        An integer check digit between 0 and 9 inclusive.\\n    \"\"\"\\n    s = sum(code(char) * 2**index for index, char in enumerate(raw_code))\\n    return s % 11 % 10\\n\\n\\ndef code(char):\\n    \"\"\"Determine the ISO 6346 numeric equivalent of a character.\\n\\n    Args:\\n        char (str): A single character string.\\n\\n    Return:\\n        An integer code equivalent to the supplied character.\\n    \"\"\"\\n    return int(char) if char.isdigit() else letter_code(char)\\n\\n\\ndef letter_code(letter):\\n    \"\"\"Determine the ISO 6346 numeric code for a letter.\\n\\n    Args:\\n        letter (str): A single letter.\\n\\n    Returns:\\n        An integer character code equivalent to the supplied letter.\\n    \"\"\"\\n    value = ord(letter.lower()) - ord(\\'a\\') + 10\\n    return value + value // 11\\n'"
     },
     "execution_count": 21,
     "metadata": {},
     "output_type": "execute_result"
    }
   ],
   "source": [
    "r = reader1.Reader('iso6346.py')\n",
    "r.read()"
   ],
   "metadata": {
    "collapsed": false,
    "pycharm": {
     "name": "#%%\n"
    }
   }
  },
  {
   "cell_type": "code",
   "execution_count": 22,
   "outputs": [],
   "source": [
    "r.close()"
   ],
   "metadata": {
    "collapsed": false,
    "pycharm": {
     "name": "#%%\n"
    }
   }
  },
  {
   "cell_type": "markdown",
   "source": [
    "## <center>\n",
    "\n",
    "`__all__`</center>\n",
    "\n",
    "List of attributes names imported `from module import *`\n",
    "\n",
    "In the following example both modules have the same function name,\n",
    "so when importing all modules it might be confusion\n",
    "\n",
    "So `__init__.py` was updated with the following code:\n",
    "\n",
    "```\n",
    "from reader.compressed.bzipped import opener as bz2_opener\n",
    "from reader.compressed.gzipped import opener as gzip_opener\n",
    "\n",
    "__all__ = ['bz2_opener', 'gzip_opener'] ```"
   ],
   "metadata": {
    "collapsed": false,
    "pycharm": {
     "name": "#%% md\n"
    }
   }
  },
  {
   "cell_type": "code",
   "execution_count": 23,
   "outputs": [
    {
     "data": {
      "text/plain": "<function bz2.open(filename, mode='rb', compresslevel=9, encoding=None, errors=None, newline=None)>"
     },
     "execution_count": 23,
     "metadata": {},
     "output_type": "execute_result"
    }
   ],
   "source": [
    "from reader1.compressed import *\n",
    "bz2_opener"
   ],
   "metadata": {
    "collapsed": false,
    "pycharm": {
     "name": "#%%\n"
    }
   }
  },
  {
   "cell_type": "code",
   "execution_count": 24,
   "outputs": [
    {
     "data": {
      "text/plain": "<function gzip.open(filename, mode='rb', compresslevel=9, encoding=None, errors=None, newline=None)>"
     },
     "execution_count": 24,
     "metadata": {},
     "output_type": "execute_result"
    }
   ],
   "source": [
    "gzip_opener"
   ],
   "metadata": {
    "collapsed": false,
    "pycharm": {
     "name": "#%%\n"
    }
   }
  },
  {
   "cell_type": "markdown",
   "source": [
    "## <center><font color=tomato>Namespace</font></center>\n",
    "\n",
    "Packages split across several directories, the following examples shows how to import\n",
    "a module which is split in path1 and path2"
   ],
   "metadata": {
    "collapsed": false,
    "pycharm": {
     "name": "#%% md\n"
    }
   }
  },
  {
   "cell_type": "code",
   "execution_count": 25,
   "outputs": [
    {
     "data": {
      "text/plain": "_NamespacePath(['path1/splitFarm', 'path2/splitFarm'])"
     },
     "execution_count": 25,
     "metadata": {},
     "output_type": "execute_result"
    }
   ],
   "source": [
    "import sys\n",
    "sys.path.extend(['path1', 'path2'])\n",
    "import splitFarm\n",
    "splitFarm.__path__\n"
   ],
   "metadata": {
    "collapsed": false,
    "pycharm": {
     "name": "#%%\n"
    }
   }
  },
  {
   "cell_type": "code",
   "execution_count": 26,
   "outputs": [
    {
     "data": {
      "text/plain": "(['path2/splitFarm/bird'], ['path1/splitFarm/bovine'])"
     },
     "execution_count": 26,
     "metadata": {},
     "output_type": "execute_result"
    }
   ],
   "source": [
    "import splitFarm.bird\n",
    "import splitFarm.bovine\n",
    "\n",
    "splitFarm.bird.__path__, splitFarm.bovine.__path__"
   ],
   "metadata": {
    "collapsed": false,
    "pycharm": {
     "name": "#%%\n"
    }
   }
  },
  {
   "cell_type": "markdown",
   "source": [
    "## <center><font color=tomato>Executable directories</font></center>\n",
    "\n",
    "enclosing package in a folder and including `__main__.py` would make it an entry point for Phyton execution"
   ],
   "metadata": {
    "collapsed": false,
    "pycharm": {
     "name": "#%% md\n"
    }
   }
  },
  {
   "cell_type": "code",
   "execution_count": 27,
   "outputs": [
    {
     "name": "stdout",
     "output_type": "stream",
     "text": [
      "\"\"\"\r\n",
      "ISO 6346 shipping container codes.\r\n",
      "\"\"\"\r\n",
      "\r\n",
      "\r\n",
      "def create(ownerCode, serial, category='U'):\r\n",
      "    \"\"\"Create an ISO 6346 shipping container code.\r\n",
      "\r\n",
      "    Args:\r\n",
      "        ownerCode (str): Three character alphabetic container code.\r\n",
      "        serial (str): Six digit numeric serial number.\r\n",
      "        category (str): Equipment category identifier.\r\n",
      "\r\n",
      "    Returns:\r\n",
      "        An ISO 6346 container code including a check digit.\r\n",
      "\r\n",
      "    Raises:\r\n",
      "        ValueError: If incorrect values are provided.\r\n",
      "    \"\"\"\r\n",
      "    if not (len(ownerCode) == 3 and ownerCode.isalpha()):\r\n",
      "        raise ValueError(\"Invalid ISO 6346 owner code '{}'\".format(ownerCode))\r\n",
      "\r\n",
      "    if category not in ('U', 'J', 'Z', 'R'):\r\n",
      "        raise ValueError(\"Invalid ISO 6346 category identifier '{}'\".format(category))\r\n",
      "\r\n",
      "    if not (len(serial) == 6 and serial.isdigit()):\r\n",
      "        raise ValueError(\"Invalid ISO 6346 serial number\")\r\n",
      "\r\n",
      "    raw_code = ownerCode + category + serial\r\n",
      "    full_code = raw_code + str(check_digit(raw_code))\r\n",
      "    return full_code\r\n",
      "\r\n",
      "\r\n",
      "def check_digit(raw_code):\r\n",
      "    \"\"\"Compute the check digit for an ISO 6346 code without that digit\r\n",
      "\r\n",
      "    Args:\r\n",
      "        raw_code (str): An ISO 6346 code lacking a check digit.\r\n",
      "\r\n",
      "    Returns:\r\n",
      "        An integer check digit between 0 and 9 inclusive.\r\n",
      "    \"\"\"\r\n",
      "    s = sum(code(char) * 2**index for index, char in enumerate(raw_code))\r\n",
      "    return s % 11 % 10\r\n",
      "\r\n",
      "\r\n",
      "def code(char):\r\n",
      "    \"\"\"Determine the ISO 6346 numeric equivalent of a character.\r\n",
      "\r\n",
      "    Args:\r\n",
      "        char (str): A single character string.\r\n",
      "\r\n",
      "    Return:\r\n",
      "        An integer code equivalent to the supplied character.\r\n",
      "    \"\"\"\r\n",
      "    return int(char) if char.isdigit() else letter_code(char)\r\n",
      "\r\n",
      "\r\n",
      "def letter_code(letter):\r\n",
      "    \"\"\"Determine the ISO 6346 numeric code for a letter.\r\n",
      "\r\n",
      "    Args:\r\n",
      "        letter (str): A single letter.\r\n",
      "\r\n",
      "    Returns:\r\n",
      "        An integer character code equivalent to the supplied letter.\r\n",
      "    \"\"\"\r\n",
      "    value = ord(letter.lower()) - ord('a') + 10\r\n",
      "    return value + value // 11\r\n",
      "\r\n"
     ]
    }
   ],
   "source": [
    "!python3 reader2 iso6346.py\n"
   ],
   "metadata": {
    "collapsed": false,
    "pycharm": {
     "name": "#%%\n"
    }
   }
  },
  {
   "cell_type": "markdown",
   "source": [
    "## <center><font color=tomato>Executable zip files</font></center>\n",
    "\n",
    "zip files containing an entry point for Python execution\n",
    "\n",
    "in terminal write the following instruction:"
   ],
   "metadata": {
    "collapsed": false,
    "pycharm": {
     "name": "#%% md\n"
    }
   }
  },
  {
   "cell_type": "raw",
   "source": [
    "cd reader2\n",
    "zip -r ../reader2.zip *"
   ],
   "metadata": {
    "collapsed": false,
    "pycharm": {
     "name": "#%% raw\n"
    }
   }
  },
  {
   "cell_type": "code",
   "execution_count": 28,
   "outputs": [
    {
     "name": "stdout",
     "output_type": "stream",
     "text": [
      "data compressed with gzip\r\n"
     ]
    }
   ],
   "source": [
    "!python3 reader2 test.gz"
   ],
   "metadata": {
    "collapsed": false,
    "pycharm": {
     "name": "#%%\n"
    }
   }
  },
  {
   "cell_type": "code",
   "execution_count": 29,
   "outputs": [
    {
     "name": "stdout",
     "output_type": "stream",
     "text": [
      "data compressed with gzip\r\n"
     ]
    }
   ],
   "source": [
    "!python3 reader2.zip test.gz\n"
   ],
   "metadata": {
    "collapsed": false,
    "pycharm": {
     "name": "#%%\n"
    }
   }
  },
  {
   "cell_type": "markdown",
   "source": [
    "## <center><font color=tomato>Summary - recommended project structure</font></center>\n",
    "\n",
    "```\n",
    "project_name\n",
    "|---__main__.py\n",
    "|---project_name\n",
    "|   |---__init__.py\n",
    "|   |---more_source.py\n",
    "|   |---subpackage1\n",
    "|   |   |---__init__.py\n",
    "|   |---test\n",
    "|   |   |---__init__.py\n",
    "|   |   |---test_code.py\n",
    "|---setup.py\n",
    "\n",
    "```"
   ],
   "metadata": {
    "collapsed": false,
    "pycharm": {
     "name": "#%% md\n"
    }
   }
  },
  {
   "cell_type": "markdown",
   "source": [
    "## <center><font color=tomato>Modules are singletons</font></center>\n",
    "\n",
    "Modules are only executed one, when first imported, module initialization order is well defined\n",
    "\n",
    "Modules can be used to implement singletons in a safe and reliable way. Provides a superior option to the global variables\n",
    "\n",
    "The following is an example\n",
    "\n",
    "`registry.py`"
   ],
   "metadata": {
    "collapsed": false,
    "pycharm": {
     "name": "#%% md\n"
    }
   }
  },
  {
   "cell_type": "raw",
   "source": [
    "_registry = []\n",
    "def register(name):\n",
    "    _registry.append(name)\n",
    "\n",
    "def registered_names():\n",
    "    return iter(_registry)"
   ],
   "metadata": {
    "collapsed": false,
    "pycharm": {
     "name": "#%% raw\n"
    }
   }
  },
  {
   "cell_type": "markdown",
   "source": [
    "Then registered names can be used safely\n"
   ],
   "metadata": {
    "collapsed": false,
    "pycharm": {
     "name": "#%% md\n"
    }
   }
  },
  {
   "cell_type": "code",
   "execution_count": 30,
   "outputs": [
    {
     "name": "stdout",
     "output_type": "stream",
     "text": [
      "my name\n",
      "jalejo\n"
     ]
    }
   ],
   "source": [
    "import registry\n",
    "\n",
    "registry.register('my name')\n",
    "registry.register('jalejo')\n",
    "for name in registry.registered_names():\n",
    "    print(name)\n",
    "\n"
   ],
   "metadata": {
    "collapsed": false,
    "pycharm": {
     "name": "#%%\n"
    }
   }
  }
 ],
 "metadata": {
  "kernelspec": {
   "display_name": "Python 3",
   "language": "python",
   "name": "python3"
  },
  "language_info": {
   "codemirror_mode": {
    "name": "ipython",
    "version": 2
   },
   "file_extension": ".py",
   "mimetype": "text/x-python",
   "name": "python",
   "nbconvert_exporter": "python",
   "pygments_lexer": "ipython2",
   "version": "2.7.6"
  }
 },
 "nbformat": 4,
 "nbformat_minor": 0
}