{
 "cells": [
  {
   "cell_type": "markdown",
   "metadata": {
    "pycharm": {
     "name": "#%% md\n"
    }
   },
   "source": [
    "# <center><font color=slate>Properties and Class methods</font></center>"
   ]
  },
  {
   "cell_type": "markdown",
   "metadata": {
    "pycharm": {
     "name": "#%% md\n"
    }
   },
   "source": [
    "## <center><font color=tomato>Class</font> attributes vs <font color=tomato>instance</font> attributes</center>\n",
    "Instance attributes are normally declared in the `__init__()` method\n",
    "In the following example`nextSerial`is a class attribute. A class attribute is\n",
    "called with the class name`ShippingContainer.nextSerial`, instance attributes would be`self.nextSerial` but it might produce a confusion in a more complex hierarchy of classes."
   ]
  },
  {
   "cell_type": "code",
   "execution_count": 96,
   "metadata": {
    "pycharm": {
     "name": "#%%\n"
    }
   },
   "outputs": [
    {
     "data": {
      "text/plain": "('YML', 'books', 1338)"
     },
     "execution_count": 96,
     "metadata": {},
     "output_type": "execute_result"
    }
   ],
   "source": [
    "class ShippingContainer:\n",
    "    next_serial = 1338\n",
    "\n",
    "    def __init__(self, ownerCode, contents):\n",
    "        self._ownerCode = ownerCode\n",
    "        self._contents = contents\n",
    "        self.serial = ShippingContainer.nextSerial\n",
    "        ShippingContainer.nextSerial += 1\n",
    "\n",
    "c1 = ShippingContainer(ownerCode='YML', contents='books')\n",
    "c1._ownerCode, c1._contents, c1.serial"
   ]
  },
  {
   "cell_type": "code",
   "metadata": {
    "pycharm": {
     "name": "#%%\n"
    }
   },
   "source": [
    "c2 = ShippingContainer(ownerCode='MAE', contents='clothes')\n",
    "c2._ownerCode, c2._contents, c2.serial"
   ],
   "execution_count": 97,
   "outputs": [
    {
     "data": {
      "text/plain": "('MAE', 'clothes', 1339)"
     },
     "execution_count": 97,
     "metadata": {},
     "output_type": "execute_result"
    }
   ]
  },
  {
   "cell_type": "code",
   "execution_count": 98,
   "metadata": {
    "pycharm": {
     "name": "#%%\n"
    }
   },
   "outputs": [
    {
     "data": {
      "text/plain": "1340"
     },
     "execution_count": 98,
     "metadata": {},
     "output_type": "execute_result"
    }
   ],
   "source": [
    "ShippingContainer.nextSerial"
   ]
  },
  {
   "cell_type": "markdown",
   "metadata": {
    "pycharm": {
     "name": "#%% md\n"
    }
   },
   "source": [
    "## <center><font color=tomato>Static</font> methods with the`@staticmethod` decorator</center>\n",
    "\n",
    "to create a function associated with the class, not the instance we create the static\n",
    "method`_getNextSerial()`without the argument`self`."
   ]
  },
  {
   "cell_type": "code",
   "execution_count": 99,
   "metadata": {
    "pycharm": {
     "name": "#%%\n"
    }
   },
   "outputs": [
    {
     "data": {
      "text/plain": "('YML', 'books', 1338)"
     },
     "execution_count": 99,
     "metadata": {},
     "output_type": "execute_result"
    }
   ],
   "source": [
    "class ShippingContainer:\n",
    "    nextSerial = 1338\n",
    "\n",
    "    @staticmethod\n",
    "    def _getNextSerial():\n",
    "        result = ShippingContainer.nextSerial\n",
    "        ShippingContainer.nextSerial += 1\n",
    "        return result\n",
    "\n",
    "    def __init__(self, ownerCode, contents):\n",
    "        self._ownerCode = ownerCode\n",
    "        self._contents = contents\n",
    "        self.serial = ShippingContainer._getNextSerial()\n",
    "\n",
    "c1 = ShippingContainer(ownerCode='YML', contents='books')\n",
    "c1._ownerCode, c1._contents, c1.serial"
   ]
  },
  {
   "cell_type": "code",
   "metadata": {
    "pycharm": {
     "name": "#%%\n"
    }
   },
   "source": [
    "c2 = ShippingContainer(ownerCode='MAE', contents='clothes')\n",
    "c2._ownerCode, c2._contents, c2.serial"
   ],
   "execution_count": 100,
   "outputs": [
    {
     "data": {
      "text/plain": "('MAE', 'clothes', 1339)"
     },
     "execution_count": 100,
     "metadata": {},
     "output_type": "execute_result"
    }
   ]
  },
  {
   "cell_type": "code",
   "execution_count": 101,
   "metadata": {
    "pycharm": {
     "name": "#%%\n"
    }
   },
   "outputs": [
    {
     "data": {
      "text/plain": "1340"
     },
     "execution_count": 101,
     "metadata": {},
     "output_type": "execute_result"
    }
   ],
   "source": [
    "ShippingContainer.nextSerial\n"
   ]
  },
  {
   "cell_type": "markdown",
   "metadata": {
    "pycharm": {
     "name": "#%% md\n"
    }
   },
   "source": [
    "## <center><font color=tomato>Class</font> methods with the`@classmethod` decorator</center>\n",
    "\n",
    "As an alternative to`@staticmethod`we can use the `@classmethod`decorator,\n",
    "which accept the class object as the first formal argument as follows:"
   ]
  },
  {
   "cell_type": "code",
   "execution_count": 102,
   "metadata": {
    "pycharm": {
     "name": "#%%\n"
    }
   },
   "outputs": [
    {
     "data": {
      "text/plain": "('YML', 'books', 1338)"
     },
     "execution_count": 102,
     "metadata": {},
     "output_type": "execute_result"
    }
   ],
   "source": [
    "class ShippingContainer:\n",
    "    nextSerial = 1338\n",
    "\n",
    "    @classmethod\n",
    "    def _getNextSerial(cls):\n",
    "        result = cls.nextSerial\n",
    "        cls.nextSerial += 1\n",
    "        return result\n",
    "\n",
    "    def __init__(self, ownerCode, contents):\n",
    "        self._ownerCode = ownerCode\n",
    "        self._contents = contents\n",
    "        self.serial = ShippingContainer._getNextSerial()\n",
    "\n",
    "c1 = ShippingContainer(ownerCode='YML', contents='books')\n",
    "c1._ownerCode, c1._contents, c1.serial"
   ]
  },
  {
   "cell_type": "code",
   "execution_count": 103,
   "metadata": {
    "pycharm": {
     "name": "#%%\n"
    }
   },
   "outputs": [
    {
     "data": {
      "text/plain": "('MAE', 'clothes', 1339)"
     },
     "execution_count": 103,
     "metadata": {},
     "output_type": "execute_result"
    }
   ],
   "source": [
    "c2 = ShippingContainer(ownerCode='MAE', contents='clothes')\n",
    "c2._ownerCode, c2._contents, c2.serial"
   ]
  },
  {
   "cell_type": "code",
   "metadata": {
    "pycharm": {
     "name": "#%%\n"
    }
   },
   "source": [
    "ShippingContainer.nextSerial"
   ],
   "execution_count": 104,
   "outputs": [
    {
     "data": {
      "text/plain": "1340"
     },
     "execution_count": 104,
     "metadata": {},
     "output_type": "execute_result"
    }
   ]
  },
  {
   "cell_type": "markdown",
   "metadata": {
    "pycharm": {
     "name": "#%% md\n"
    }
   },
   "source": [
    "### <center><font color=lightGreen>Choosing</font></center>\n",
    "\n",
    "|`staticmethod`|`@classmethod`|\n",
    "|-|-|\n",
    "|No access needed to either class or instance objects|Requires access to the class object to call other class methods or the constructor|\n",
    "|Most likely an implementation detail of the class||\n",
    "|May be able to be moved to become a module-scope function||\n",
    "\n",
    "If you need to refer to the class object within the method,\n",
    "for example to access a class attribute prefer to use`@classmethod`.\n",
    "If you do need to access class objects use`@staticmethod`"
   ]
  },
  {
   "cell_type": "markdown",
   "source": [
    "### Class methods for <font color=lightGreen>named constructors</font>\n",
    "Also known as factory functions which construct objects with certain configurations.\n",
    "In the following example we implement two named constructors: `createEmpty` and `createWithItems` methods"
   ],
   "metadata": {
    "collapsed": false,
    "pycharm": {
     "name": "#%%\nmd\n"
    }
   }
  },
  {
   "cell_type": "code",
   "metadata": {
    "pycharm": {
     "name": "#%%\n"
    }
   },
   "source": [
    "import iso6346\n",
    "\n",
    "class ShippingContainer:\n",
    "    nextSerial = 1338\n",
    "\n",
    "    @staticmethod\n",
    "    def _makeBicCode(ownerCode, serial):\n",
    "        return iso6346.create(ownerCode=ownerCode, serial=str(serial).zfill(6))\n",
    "\n",
    "    @classmethod\n",
    "    def _getNextSerial(cls):\n",
    "        result = cls.nextSerial\n",
    "        cls.nextSerial += 1\n",
    "        return result\n",
    "\n",
    "    @classmethod\n",
    "    def createEmpty(cls, ownerCode):\n",
    "        return cls(ownerCode=ownerCode, contents=None)\n",
    "\n",
    "    @classmethod\n",
    "    def createWithItems(cls, ownerCode, contents):\n",
    "        return  cls(ownerCode=ownerCode, contents=contents)\n",
    "\n",
    "    def __init__(self, ownerCode, contents):\n",
    "        self._contents = contents\n",
    "        self.bic = ShippingContainer._makeBicCode(\n",
    "            ownerCode=ownerCode,\n",
    "            serial=ShippingContainer._getNextSerial())\n",
    "\n",
    "c1 = ShippingContainer.createEmpty(ownerCode='YML')\n",
    "c1.bic"
   ],
   "execution_count": 105,
   "outputs": [
    {
     "data": {
      "text/plain": "'YMLU0013380'"
     },
     "execution_count": 105,
     "metadata": {},
     "output_type": "execute_result"
    }
   ]
  },
  {
   "cell_type": "code",
   "execution_count": 106,
   "metadata": {
    "pycharm": {
     "name": "#%%\n"
    }
   },
   "outputs": [
    {
     "data": {
      "text/plain": "'MAEU0013392'"
     },
     "execution_count": 106,
     "metadata": {},
     "output_type": "execute_result"
    }
   ],
   "source": [
    "c2 = ShippingContainer.createWithItems(ownerCode='MAE', contents='clothes')\n",
    "c2.bic"
   ]
  },
  {
   "cell_type": "markdown",
   "metadata": {},
   "source": [
    "## <center>`@staticmethod`with <font color=tomato>Inheritance</font></center>\n",
    "`@staticmethod` in python can be overwritten in subclasses\n",
    "-   In the following example we have to change\n",
    "\n",
    "`ShippingContainer._makeBicCode(ownerCode=ownerCode, serial=self._getNextSerial())`\n",
    "\n",
    "to:\n",
    "\n",
    "`self._makeBicCode(ownerCode=ownerCode, serial=self._getNextSerial())`\n",
    "\n",
    "Because it is referring to a specific class, we need to get polymorphic overall behaviour."
   ]
  },
  {
   "cell_type": "code",
   "execution_count": 107,
   "metadata": {
    "pycharm": {
     "name": "#%%\n"
    }
   },
   "outputs": [
    {
     "data": {
      "text/plain": "'YMLR0013388'"
     },
     "execution_count": 107,
     "metadata": {},
     "output_type": "execute_result"
    }
   ],
   "source": [
    "import iso6346\n",
    "\n",
    "class ShippingContainer:\n",
    "    nextSerial = 1338\n",
    "\n",
    "    @staticmethod\n",
    "    def _makeBicCode(ownerCode, serial):\n",
    "        return iso6346.create(ownerCode=ownerCode, serial=str(serial).zfill(6))\n",
    "\n",
    "    @classmethod\n",
    "    def _getNextSerial(cls):\n",
    "        result = cls.nextSerial\n",
    "        cls.nextSerial += 1\n",
    "        return result\n",
    "\n",
    "    @classmethod\n",
    "    def createEmpty(cls, ownerCode):\n",
    "        return cls(ownerCode=ownerCode, contents=None)\n",
    "\n",
    "    @classmethod\n",
    "    def createWithItems(cls, ownerCode, contents):\n",
    "        return  cls(ownerCode=ownerCode, contents=contents)\n",
    "\n",
    "    def __init__(self, ownerCode, contents):\n",
    "        self._contents = contents\n",
    "        self.bic = self._makeBicCode(\n",
    "            ownerCode=ownerCode,\n",
    "            serial=self._getNextSerial())\n",
    "\n",
    "class RefrigeratedShippingContainer(ShippingContainer):\n",
    "\n",
    "    @staticmethod\n",
    "    def _makeBicCode(ownerCode, serial):\n",
    "        return iso6346.create(\n",
    "            ownerCode=ownerCode,\n",
    "            serial=str(serial).zfill(6),\n",
    "            category='R')\n",
    "\n",
    "r1 = RefrigeratedShippingContainer.createEmpty(ownerCode='YML')\n",
    "r1.bic\n"
   ]
  },
  {
   "cell_type": "markdown",
   "metadata": {
    "pycharm": {
     "name": "#%% md\n"
    }
   },
   "source": [
    "## <center>`@classmethod`with <font color=tomato>Inheritance</font></center>\n",
    "`@classmethod`in python can be overwritten in subclasses\n",
    "\n",
    "`@classmethod` behave polymorphic on subclasses,\n",
    "no changed needed to be made, also because the`__init__`method\n",
    "is inherited into the subclass."
   ]
  },
  {
   "cell_type": "code",
   "execution_count": 108,
   "metadata": {
    "pycharm": {
     "name": "#%%\n"
    }
   },
   "outputs": [
    {
     "data": {
      "text/plain": "'YMLR0013388'"
     },
     "execution_count": 108,
     "metadata": {},
     "output_type": "execute_result"
    }
   ],
   "source": [
    "class RefrigeratedShippingContainer(ShippingContainer):\n",
    "\n",
    "    MAX_CELSIUS = 4.0\n",
    "\n",
    "    @staticmethod\n",
    "    def _makeBicCode(ownerCode, serial):\n",
    "        return iso6346.create(\n",
    "            ownerCode=ownerCode,\n",
    "            serial=str(serial).zfill(6),\n",
    "            category='R')\n",
    "\n",
    "    @classmethod\n",
    "    def createEmpty(cls, ownerCode, celsius):\n",
    "        return cls(ownerCode=ownerCode, contents=None, celsius=celsius)\n",
    "\n",
    "    @classmethod\n",
    "    def createWithItems(cls, ownerCode, contents, celsius):\n",
    "        return  cls(ownerCode=ownerCode, contents=contents, celsius=celsius)\n",
    "\n",
    "    def __init__(self, ownerCode, contents, celsius):\n",
    "        super().__init__(ownerCode=ownerCode, contents=contents)\n",
    "        if celsius > RefrigeratedShippingContainer.MAX_CELSIUS:\n",
    "            raise ValueError(\"Temperature too high\")\n",
    "        self.celsius = celsius\n",
    "\n",
    "r1 = RefrigeratedShippingContainer.createEmpty(ownerCode='YML', celsius=3)\n",
    "r1.bic"
   ]
  },
  {
   "cell_type": "code",
   "metadata": {
    "pycharm": {
     "name": "#%%\n"
    }
   },
   "source": [
    "r2 = RefrigeratedShippingContainer.createWithItems(ownerCode='YML', contents=['brocoli, orange'], celsius=3)\n",
    "r1.bic"
   ],
   "execution_count": 109,
   "outputs": [
    {
     "data": {
      "text/plain": "'YMLR0013388'"
     },
     "execution_count": 109,
     "metadata": {},
     "output_type": "execute_result"
    }
   ]
  },
  {
   "cell_type": "markdown",
   "metadata": {
    "pycharm": {
     "name": "#%% md\n"
    }
   },
   "source": [
    "## <center><font color=tomato>encapsulation</font> using the`@property`decorator</center>\n",
    "In the previous example celsius could be modify during running time"
   ]
  },
  {
   "cell_type": "code",
   "metadata": {
    "pycharm": {
     "name": "#%%\n"
    }
   },
   "source": [
    "r2.celsius"
   ],
   "execution_count": 110,
   "outputs": [
    {
     "data": {
      "text/plain": "3"
     },
     "execution_count": 110,
     "metadata": {},
     "output_type": "execute_result"
    }
   ]
  },
  {
   "cell_type": "code",
   "execution_count": 111,
   "metadata": {
    "pycharm": {
     "name": "#%%\n"
    }
   },
   "outputs": [
    {
     "data": {
      "text/plain": "12.0"
     },
     "execution_count": 111,
     "metadata": {},
     "output_type": "execute_result"
    }
   ],
   "source": [
    "r2.celsius = 12.0\n",
    "r2.celsius"
   ]
  },
  {
   "cell_type": "markdown",
   "metadata": {
    "pycharm": {
     "name": "#%% md\n"
    }
   },
   "source": [
    "to correct this we can do the following:"
   ]
  },
  {
   "cell_type": "code",
   "metadata": {
    "pycharm": {
     "name": "#%%\n"
    }
   },
   "source": [
    "class RefrigeratedShippingContainer(ShippingContainer):\n",
    "\n",
    "    MAX_CELSIUS = 4.0\n",
    "\n",
    "    @staticmethod\n",
    "    def _makeBicCode(ownerCode, serial):\n",
    "        return iso6346.create(\n",
    "            ownerCode=ownerCode,\n",
    "            serial=str(serial).zfill(6),\n",
    "            category='R')\n",
    "\n",
    "    @classmethod\n",
    "    def createEmpty(cls, ownerCode, celsius):\n",
    "        return cls(ownerCode=ownerCode, contents=None, celsius=celsius)\n",
    "\n",
    "    @classmethod\n",
    "    def createWithItems(cls, ownerCode, contents, celsius):\n",
    "        return  cls(ownerCode=ownerCode, contents=contents, celsius=celsius)\n",
    "\n",
    "    def __init__(self, ownerCode, contents, celsius):\n",
    "        super().__init__(ownerCode=ownerCode, contents=contents)\n",
    "        if celsius > RefrigeratedShippingContainer.MAX_CELSIUS:\n",
    "            raise ValueError(\"Temperature too high\")\n",
    "        self._celsius = celsius\n",
    "\n",
    "    @property\n",
    "    def celsius(self):\n",
    "        return self._celsius\n",
    "\n",
    "r1 = RefrigeratedShippingContainer.createWithItems(ownerCode='YML', contents=['brocoli, orange'], celsius=-18)\n",
    "r1.celsius"
   ],
   "execution_count": 112,
   "outputs": [
    {
     "data": {
      "text/plain": "-18"
     },
     "execution_count": 112,
     "metadata": {},
     "output_type": "execute_result"
    }
   ]
  },
  {
   "cell_type": "code",
   "execution_count": 113,
   "metadata": {
    "pycharm": {
     "name": "#%%\n"
    }
   },
   "outputs": [
    {
     "name": "stdout",
     "output_type": "stream",
     "text": [
      "can't set attribute\n"
     ]
    }
   ],
   "source": [
    "try:\n",
    "    r1.celsius = 0\n",
    "except AttributeError as e:\n",
    "    print(e)"
   ]
  },
  {
   "cell_type": "markdown",
   "metadata": {
    "pycharm": {
     "name": "#%% md\n"
    }
   },
   "source": [
    "### <font color=lightGreen>Set the attribute with </font>`setter`\n"
   ]
  },
  {
   "cell_type": "code",
   "execution_count": 114,
   "metadata": {
    "pycharm": {
     "name": "#%%\n"
    }
   },
   "outputs": [
    {
     "data": {
      "text/plain": "-18"
     },
     "execution_count": 114,
     "metadata": {},
     "output_type": "execute_result"
    }
   ],
   "source": [
    "class RefrigeratedShippingContainer(ShippingContainer):\n",
    "\n",
    "    MAX_CELSIUS = 4.0\n",
    "\n",
    "    @staticmethod\n",
    "    def _makeBicCode(ownerCode, serial):\n",
    "        return iso6346.create(\n",
    "            ownerCode=ownerCode,\n",
    "            serial=str(serial).zfill(6),\n",
    "            category='R')\n",
    "\n",
    "    @classmethod\n",
    "    def createEmpty(cls, ownerCode, celsius):\n",
    "        return cls(ownerCode=ownerCode, contents=None, celsius=celsius)\n",
    "\n",
    "    @classmethod\n",
    "    def createWithItems(cls, ownerCode, contents, celsius):\n",
    "        return  cls(ownerCode=ownerCode, contents=contents, celsius=celsius)\n",
    "\n",
    "    def __init__(self, ownerCode, contents, celsius):\n",
    "        super().__init__(ownerCode=ownerCode, contents=contents)\n",
    "        if celsius > RefrigeratedShippingContainer.MAX_CELSIUS:\n",
    "            raise ValueError(\"Temperature too high\")\n",
    "        self._celsius = celsius\n",
    "\n",
    "    @property\n",
    "    def celsius(self):\n",
    "        return self._celsius\n",
    "\n",
    "    @celsius.setter\n",
    "    def celsius(self, value):\n",
    "        if value > RefrigeratedShippingContainer.MAX_CELSIUS:\n",
    "            raise ValueError(\"Temperature too high\")\n",
    "        self._celsius = value\n",
    "\n",
    "r1 = RefrigeratedShippingContainer.createWithItems(ownerCode='YML', contents=['brocoli, orange'], celsius=-18)\n",
    "r1.celsius"
   ]
  },
  {
   "cell_type": "code",
   "metadata": {
    "pycharm": {
     "name": "#%%\n"
    }
   },
   "source": [
    "r1.celsius = -19\n",
    "r1.celsius"
   ],
   "execution_count": 115,
   "outputs": [
    {
     "data": {
      "text/plain": "-19"
     },
     "execution_count": 115,
     "metadata": {},
     "output_type": "execute_result"
    }
   ]
  },
  {
   "cell_type": "code",
   "execution_count": 116,
   "metadata": {
    "pycharm": {
     "name": "#%%\n"
    }
   },
   "outputs": [
    {
     "name": "stdout",
     "output_type": "stream",
     "text": [
      "Temperature too high\n"
     ]
    }
   ],
   "source": [
    "try:\n",
    "    r1.celsius = 5\n",
    "except ValueError as e:\n",
    "    print(e)\n"
   ]
  },
  {
   "cell_type": "markdown",
   "metadata": {
    "pycharm": {
     "name": "#%% md\n"
    }
   },
   "source": [
    "Moving forward, we will implement code to implement conversion between C and F"
   ]
  },
  {
   "cell_type": "code",
   "execution_count": 117,
   "metadata": {
    "pycharm": {
     "name": "#%%\n"
    }
   },
   "outputs": [
    {
     "data": {
      "text/plain": "(-18, -0.3999999999999986)"
     },
     "execution_count": 117,
     "metadata": {},
     "output_type": "execute_result"
    }
   ],
   "source": [
    "class RefrigeratedShippingContainer(ShippingContainer):\n",
    "\n",
    "    MAX_CELSIUS = 4.0\n",
    "\n",
    "    @staticmethod\n",
    "    def _makeBicCode(ownerCode, serial):\n",
    "        return iso6346.create(\n",
    "            ownerCode=ownerCode,\n",
    "            serial=str(serial).zfill(6),\n",
    "            category='R')\n",
    "\n",
    "    @staticmethod\n",
    "    def _cToF(celsius):\n",
    "        return celsius * 9/5 + 32\n",
    "\n",
    "    @staticmethod\n",
    "    def _fToC(fahrenheit):\n",
    "        return (fahrenheit - 32) * 5/9\n",
    "\n",
    "    @classmethod\n",
    "    def createEmpty(cls, ownerCode, celsius):\n",
    "        return cls(ownerCode=ownerCode, contents=None, celsius=celsius)\n",
    "\n",
    "    @classmethod\n",
    "    def createWithItems(cls, ownerCode, items, celsius):\n",
    "        return  cls(ownerCode=ownerCode, contents=list(items), celsius=celsius)\n",
    "\n",
    "    def __init__(self, ownerCode, contents, celsius):\n",
    "        super().__init__(ownerCode=ownerCode, contents=contents)\n",
    "        self._celsius = celsius\n",
    "\n",
    "    @property\n",
    "    def celsius(self):\n",
    "        return self._celsius\n",
    "\n",
    "    @celsius.setter\n",
    "    def celsius(self, value):\n",
    "        if value > RefrigeratedShippingContainer.MAX_CELSIUS:\n",
    "            raise ValueError(\"Temperature too high\")\n",
    "        self._celsius = value\n",
    "\n",
    "    @property\n",
    "    def fahrenheit(self):\n",
    "        return self._cToF(celsius=self.celsius)\n",
    "\n",
    "    @fahrenheit.setter\n",
    "    def fahrenheit(self, value):\n",
    "        self.celsius = self._fToC(value)\n",
    "\n",
    "r1 = RefrigeratedShippingContainer.createWithItems(ownerCode='YML', items=['brocoli, orange'], celsius=-18)\n",
    "r1.celsius, r1.fahrenheit"
   ]
  },
  {
   "cell_type": "code",
   "metadata": {
    "pycharm": {
     "name": "#%%\n"
    }
   },
   "source": [
    "r1.fahrenheit = -10\n",
    "r1.celsius, r1.fahrenheit"
   ],
   "execution_count": 118,
   "outputs": [
    {
     "data": {
      "text/plain": "(-23.333333333333332, -10.0)"
     },
     "execution_count": 118,
     "metadata": {},
     "output_type": "execute_result"
    }
   ]
  },
  {
   "cell_type": "code",
   "execution_count": 119,
   "metadata": {
    "pycharm": {
     "name": "#%%\n"
    }
   },
   "outputs": [
    {
     "name": "stdout",
     "output_type": "stream",
     "text": [
      "Temperature too high\n"
     ]
    }
   ],
   "source": [
    "try:\n",
    "    r1.celsius = 5\n",
    "except ValueError as e:\n",
    "    print(e)"
   ]
  },
  {
   "cell_type": "markdown",
   "metadata": {
    "pycharm": {
     "name": "#%% md\n"
    }
   },
   "source": [
    "### <font color=lightGreen>Inheritance </font>interaction with the `@property` decorator\n",
    "`@property` in python can be overwritten in subclasses\n",
    "-   `getter` is straightforward\n",
    "-   `setter` is much more involved"
   ]
  },
  {
   "cell_type": "code",
   "execution_count": 120,
   "metadata": {
    "pycharm": {
     "name": "#%%\n"
    }
   },
   "outputs": [
    {
     "data": {
      "text/plain": "1360.0"
     },
     "execution_count": 120,
     "metadata": {},
     "output_type": "execute_result"
    }
   ],
   "source": [
    "import iso6346\n",
    "\n",
    "class ShippingContainer:\n",
    "\n",
    "    HEIGHT_FT = 8.5\n",
    "    WIDTH_FT = 8.0\n",
    "\n",
    "    nextSerial = 1338\n",
    "\n",
    "    @staticmethod\n",
    "    def _makeBicCode(ownerCode, serial):\n",
    "        return iso6346.create(ownerCode=ownerCode, serial=str(serial).zfill(6))\n",
    "\n",
    "    @classmethod\n",
    "    def _getNextSerial(cls):\n",
    "        result = cls.nextSerial\n",
    "        cls.nextSerial += 1\n",
    "        return result\n",
    "\n",
    "    @classmethod\n",
    "    def createEmpty(cls, ownerCode, lengthFt, *args, **kwargs):\n",
    "        return cls(ownerCode=ownerCode, lengthFt=lengthFt, contents=None, *args, **kwargs)\n",
    "\n",
    "    @classmethod\n",
    "    def createWithItems(cls, ownerCode, lengthFt, items, *args, **kwargs):\n",
    "        return  cls(ownerCode=ownerCode, lengthFt=lengthFt, contents=list(items), *args, **kwargs)\n",
    "\n",
    "    def __init__(self, ownerCode, lengthFt, contents):\n",
    "        self._contents = contents\n",
    "        self._length = lengthFt\n",
    "        self.bic = self._makeBicCode(\n",
    "            ownerCode=ownerCode,\n",
    "            serial=ShippingContainer._getNextSerial())\n",
    "\n",
    "    @property\n",
    "    def volumeFt3(self):\n",
    "        return ShippingContainer.HEIGHT_FT\\\n",
    "               * ShippingContainer.WIDTH_FT\\\n",
    "               * self._length\n",
    "\n",
    "c = ShippingContainer.createEmpty(ownerCode='YML', lengthFt=20)\n",
    "c.volumeFt3\n"
   ]
  },
  {
   "cell_type": "code",
   "metadata": {
    "pycharm": {
     "name": "#%%\n"
    }
   },
   "source": [
    "\n",
    "class RefrigeratedShippingContainer(ShippingContainer):\n",
    "\n",
    "    MAX_CELSIUS = 4.0\n",
    "\n",
    "    FRIDGE_VOLUME_FT3 = 100\n",
    "\n",
    "    @staticmethod\n",
    "    def _makeBicCode(ownerCode, serial):\n",
    "        return iso6346.create(\n",
    "            ownerCode=ownerCode,\n",
    "            serial=str(serial).zfill(6),\n",
    "            category='R')\n",
    "\n",
    "    @staticmethod\n",
    "    def _cToF(celsius):\n",
    "        return celsius * 9/5 + 32\n",
    "\n",
    "    @staticmethod\n",
    "    def _fToC(fahrenheit):\n",
    "        return (fahrenheit - 32) * 5/9\n",
    "\n",
    "    def __init__(self, ownerCode, lengthFt, contents, celsius):\n",
    "        super().__init__(ownerCode=ownerCode, lengthFt=lengthFt, contents=contents)\n",
    "        self.celsius = celsius\n",
    "\n",
    "    @property\n",
    "    def celsius(self):\n",
    "        return self._celsius\n",
    "\n",
    "    @celsius.setter\n",
    "    def celsius(self, value):\n",
    "        if value > RefrigeratedShippingContainer.MAX_CELSIUS:\n",
    "            raise ValueError(\"Temperature too high\")\n",
    "        self._celsius = value\n",
    "\n",
    "    @property\n",
    "    def fahrenheit(self):\n",
    "        return RefrigeratedShippingContainer._cToF(celsius=self.celsius)\n",
    "\n",
    "    @fahrenheit.setter\n",
    "    def fahrenheit(self, value):\n",
    "        self.celsius = RefrigeratedShippingContainer._fToC(value)\n",
    "\n",
    "    @property\n",
    "    def volumeFt3(self):\n",
    "        return super().volumeFt3\\\n",
    "               - RefrigeratedShippingContainer.FRIDGE_VOLUME_FT3\n"
   ],
   "execution_count": 121,
   "outputs": []
  },
  {
   "cell_type": "code",
   "execution_count": 122,
   "metadata": {
    "pycharm": {
     "name": "#%%\n"
    }
   },
   "outputs": [
    {
     "data": {
      "text/plain": "0.0"
     },
     "execution_count": 122,
     "metadata": {},
     "output_type": "execute_result"
    }
   ],
   "source": [
    "r = RefrigeratedShippingContainer.createEmpty(ownerCode='YML', lengthFt=20, celsius=0.0)\n",
    "r.celsius\n"
   ]
  },
  {
   "cell_type": "markdown",
   "metadata": {
    "pycharm": {
     "name": "#%% md\n"
    }
   },
   "source": [
    "`@property setter` needs more work to be overwritten\n"
   ]
  },
  {
   "cell_type": "code",
   "execution_count": 123,
   "metadata": {
    "pycharm": {
     "name": "#%%\n"
    }
   },
   "outputs": [
    {
     "data": {
      "text/plain": "-10.0"
     },
     "execution_count": 123,
     "metadata": {},
     "output_type": "execute_result"
    }
   ],
   "source": [
    "class HeatedRefrigeratedShippingContainer(RefrigeratedShippingContainer):\n",
    "\n",
    "    MIN_CELSIUS = -20\n",
    "\n",
    "    @RefrigeratedShippingContainer.celsius.setter\n",
    "    def celsius(self, value):\n",
    "        if value < HeatedRefrigeratedShippingContainer.MIN_CELSIUS:\n",
    "            raise ValueError('Temperature too cold')\n",
    "        RefrigeratedShippingContainer.celsius.fset(self, value)\n",
    "\n",
    "h = HeatedRefrigeratedShippingContainer.createEmpty(ownerCode='YML', lengthFt=40, celsius=-10.0)\n",
    "h.celsius"
   ]
  },
  {
   "cell_type": "code",
   "execution_count": 124,
   "outputs": [
    {
     "name": "stdout",
     "output_type": "stream",
     "text": [
      "Temperature too cold\n"
     ]
    }
   ],
   "source": [
    "try:\n",
    "    h.celsius = -21\n",
    "except ValueError as e:\n",
    "    print(e)"
   ],
   "metadata": {
    "collapsed": false,
    "pycharm": {
     "name": "#%%\n"
    }
   }
  },
  {
   "cell_type": "markdown",
   "source": [
    "<h3><font color=lightGreen>Properties and the template method pattern</font></h3>\n",
    "\n",
    "To avoid the calls to a top level class in `HeatedRefrigeratedShippingContainer`\n",
    "we will refactor implementing the`_setCelsius()`function as follows:\n"
   ],
   "metadata": {
    "collapsed": false,
    "pycharm": {
     "name": "#%% md\n"
    }
   }
  },
  {
   "cell_type": "code",
   "execution_count": 125,
   "outputs": [
    {
     "data": {
      "text/plain": "-10.0"
     },
     "execution_count": 125,
     "metadata": {},
     "output_type": "execute_result"
    }
   ],
   "source": [
    "import iso6346\n",
    "\n",
    "class ShippingContainer:\n",
    "\n",
    "    HEIGHT_FT = 8.5\n",
    "    WIDTH_FT = 8.0\n",
    "\n",
    "    nextSerial = 1338\n",
    "\n",
    "    @staticmethod\n",
    "    def _makeBicCode(ownerCode, serial):\n",
    "        return iso6346.create(ownerCode=ownerCode, serial=str(serial).zfill(6))\n",
    "\n",
    "    @classmethod\n",
    "    def _getNextSerial(cls):\n",
    "        result = cls.nextSerial\n",
    "        cls.nextSerial += 1\n",
    "        return result\n",
    "\n",
    "    @classmethod\n",
    "    def createEmpty(cls, ownerCode, lengthFt, *args, **kwargs):\n",
    "        return cls(ownerCode=ownerCode, lengthFt=lengthFt, contents=None, *args, **kwargs)\n",
    "\n",
    "    @classmethod\n",
    "    def createWithItems(cls, ownerCode, lengthFt, items, *args, **kwargs):\n",
    "        return  cls(ownerCode=ownerCode, lengthFt=lengthFt, contents=list(items), *args, **kwargs)\n",
    "\n",
    "    def __init__(self, ownerCode, lengthFt, contents):\n",
    "        self._contents = contents\n",
    "        self._length = lengthFt\n",
    "        self.bic = self._makeBicCode(\n",
    "            ownerCode=ownerCode,\n",
    "            serial=ShippingContainer._getNextSerial())\n",
    "\n",
    "    @property\n",
    "    def volumeFt3(self):\n",
    "        return ShippingContainer.HEIGHT_FT\\\n",
    "               * ShippingContainer.WIDTH_FT\\\n",
    "               * self._length\n",
    "\n",
    "\n",
    "class RefrigeratedShippingContainer(ShippingContainer):\n",
    "\n",
    "    MAX_CELSIUS = 4.0\n",
    "\n",
    "    FRIDGE_VOLUME_FT3 = 100\n",
    "\n",
    "    @staticmethod\n",
    "    def _makeBicCode(ownerCode, serial):\n",
    "        return iso6346.create(\n",
    "            ownerCode=ownerCode,\n",
    "            serial=str(serial).zfill(6),\n",
    "            category='R')\n",
    "\n",
    "    @staticmethod\n",
    "    def _cToF(celsius):\n",
    "        return celsius * 9/5 + 32\n",
    "\n",
    "    @staticmethod\n",
    "    def _fToC(fahrenheit):\n",
    "        return (fahrenheit - 32) * 5/9\n",
    "\n",
    "    def __init__(self, ownerCode, lengthFt, contents, celsius):\n",
    "        super().__init__(ownerCode=ownerCode, lengthFt=lengthFt, contents=contents)\n",
    "        self.celsius = celsius\n",
    "\n",
    "    def _setCelsius(self, value):\n",
    "        if value > RefrigeratedShippingContainer.MAX_CELSIUS:\n",
    "                raise ValueError(\"Temperature too high\")\n",
    "        self._celsius = value\n",
    "\n",
    "    @property\n",
    "    def celsius(self):\n",
    "        return self._celsius\n",
    "\n",
    "    @celsius.setter\n",
    "    def celsius(self, value):\n",
    "        self._setCelsius(value)\n",
    "\n",
    "\n",
    "    @property\n",
    "    def fahrenheit(self):\n",
    "        return RefrigeratedShippingContainer._cToF(celsius=self.celsius)\n",
    "\n",
    "    @fahrenheit.setter\n",
    "    def fahrenheit(self, value):\n",
    "        self.celsius = RefrigeratedShippingContainer._fToC(value)\n",
    "\n",
    "    @property\n",
    "    def volumeFt3(self):\n",
    "        return super().volumeFt3\\\n",
    "               - RefrigeratedShippingContainer.FRIDGE_VOLUME_FT3\n",
    "\n",
    "class HeatedRefrigeratedShippingContainer(RefrigeratedShippingContainer):\n",
    "\n",
    "    MIN_CELSIUS = -20\n",
    "\n",
    "    def _setCelsius(self, value):\n",
    "        if value < HeatedRefrigeratedShippingContainer.MIN_CELSIUS:\n",
    "            raise ValueError('Temperature too cold')\n",
    "        super()._setCelsius(value=value)\n",
    "\n",
    "h = HeatedRefrigeratedShippingContainer.createEmpty(ownerCode='YML', lengthFt=40, celsius=-10.0)\n",
    "h.celsius"
   ],
   "metadata": {
    "collapsed": false,
    "pycharm": {
     "name": "#%%\n"
    }
   }
  },
  {
   "cell_type": "code",
   "execution_count": 126,
   "outputs": [
    {
     "name": "stdout",
     "output_type": "stream",
     "text": [
      "Temperature too cold\n"
     ]
    }
   ],
   "source": [
    "try:\n",
    "    h.celsius = -21\n",
    "except ValueError as e:\n",
    "    print(e)"
   ],
   "metadata": {
    "collapsed": false,
    "pycharm": {
     "name": "#%%\n"
    }
   }
  },
  {
   "cell_type": "code",
   "execution_count": 127,
   "outputs": [
    {
     "name": "stdout",
     "output_type": "stream",
     "text": [
      "Temperature too high\n"
     ]
    }
   ],
   "source": [
    "try:\n",
    "    h.celsius = 14\n",
    "except ValueError as e:\n",
    "    print(e)"
   ],
   "metadata": {
    "collapsed": false,
    "pycharm": {
     "name": "#%%\n"
    }
   }
  },
  {
   "cell_type": "code",
   "execution_count": 127,
   "outputs": [],
   "source": [
    "\n",
    "\n"
   ],
   "metadata": {
    "collapsed": false,
    "pycharm": {
     "name": "#%%\n"
    }
   }
  }
 ],
 "metadata": {
  "celltoolbar": "Slideshow",
  "kernelspec": {
   "display_name": "Python 3",
   "language": "python",
   "name": "python3"
  },
  "language_info": {
   "codemirror_mode": {
    "name": "ipython",
    "version": 3
   },
   "file_extension": ".py",
   "mimetype": "text/x-python",
   "name": "python",
   "nbconvert_exporter": "python",
   "pygments_lexer": "ipython3",
   "version": "3.8.2"
  }
 },
 "nbformat": 4,
 "nbformat_minor": 1
}