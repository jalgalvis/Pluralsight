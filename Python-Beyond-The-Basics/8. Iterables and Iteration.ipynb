{
 "cells": [
  {
   "cell_type": "code",
   "execution_count": 25,
   "metadata": {
    "collapsed": true
   },
   "outputs": [],
   "source": []
  },
  {
   "cell_type": "markdown",
   "source": [
    "# <center><font color=slate>Iteration and Iterables</font></center>"
   ],
   "metadata": {
    "collapsed": false
   }
  },
  {
   "cell_type": "markdown",
   "source": [
    "## <center><font color=tomato>Comprehensions</font><br>Short-hand syntaxis for creating collections and iterable objects</center>\n",
    "There are comprehension syntax for creating `dictionaries`, `sets`, and `generators`, as well as `lists`,\n",
    "and all of the syntax work in essentially the same way:"
   ],
   "metadata": {
    "collapsed": false
   }
  },
  {
   "cell_type": "code",
   "execution_count": 26,
   "outputs": [
    {
     "data": {
      "text/plain": "(list, [0, 2, 4, 6, 8, 10, 12, 14, 16, 18])"
     },
     "execution_count": 26,
     "metadata": {},
     "output_type": "execute_result"
    }
   ],
   "source": [
    "l = [i*2 for i in range(10)]\n",
    "type(l), l"
   ],
   "metadata": {
    "collapsed": false,
    "pycharm": {
     "name": "#%%\n"
    }
   }
  },
  {
   "cell_type": "code",
   "execution_count": 27,
   "outputs": [
    {
     "data": {
      "text/plain": "(set, {0, 1, 2, 3, 4, 5, 6, 7, 8, 9})"
     },
     "execution_count": 27,
     "metadata": {},
     "output_type": "execute_result"
    }
   ],
   "source": [
    "s = {i for i in range(10)}\n",
    "type(s), s"
   ],
   "metadata": {
    "collapsed": false,
    "pycharm": {
     "name": "#%%\n"
    }
   }
  },
  {
   "cell_type": "code",
   "execution_count": 28,
   "outputs": [
    {
     "data": {
      "text/plain": "(dict, {0: 0, 1: 2, 2: 4, 3: 6, 4: 8, 5: 10, 6: 12, 7: 14, 8: 16, 9: 18})"
     },
     "execution_count": 28,
     "metadata": {},
     "output_type": "execute_result"
    }
   ],
   "source": [
    "d = {i: i*2 for i in range(10)}\n",
    "type(d), d"
   ],
   "metadata": {
    "collapsed": false,
    "pycharm": {
     "name": "#%%\n"
    }
   }
  },
  {
   "cell_type": "code",
   "execution_count": 40,
   "outputs": [
    {
     "data": {
      "text/plain": "(generator, [0, 1, 2, 3, 4, 5, 6, 7, 8, 9])"
     },
     "execution_count": 40,
     "metadata": {},
     "output_type": "execute_result"
    }
   ],
   "source": [
    "g = (i for i in range(10))\n",
    "type(g), list(g)"
   ],
   "metadata": {
    "collapsed": false,
    "pycharm": {
     "name": "#%%\n"
    }
   }
  },
  {
   "cell_type": "markdown",
   "source": [],
   "metadata": {
    "collapsed": false,
    "pycharm": {
     "name": "#%% md\n"
    }
   }
  },
  {
   "cell_type": "markdown",
   "source": [
    "### Multi-input <font color=lightGreen>Comprehensions</font>\n",
    "Comprehensions allow to use as many input sequences as wanted.\n",
    "Likewise, a comprehension can use as many if clauses as needed as well."
   ],
   "metadata": {
    "collapsed": false
   }
  },
  {
   "cell_type": "code",
   "execution_count": 30,
   "outputs": [
    {
     "data": {
      "text/plain": "[(0, 0),\n (0, 1),\n (0, 2),\n (1, 0),\n (1, 1),\n (1, 2),\n (2, 0),\n (2, 1),\n (2, 2),\n (3, 0),\n (3, 1),\n (3, 2),\n (4, 0),\n (4, 1),\n (4, 2)]"
     },
     "execution_count": 30,
     "metadata": {},
     "output_type": "execute_result"
    }
   ],
   "source": [
    "[(x,y) for x in range(5) for y in range(3)]"
   ],
   "metadata": {
    "collapsed": false,
    "pycharm": {
     "name": "#%%\n"
    }
   }
  },
  {
   "cell_type": "markdown",
   "source": [
    "The way to read this is as a set of nested for loops where the later for clauses are nested inside the earlier for clauses,\n",
    "and the result expression of the comprehension is executed inside the innermost or last for loop."
   ],
   "metadata": {
    "collapsed": false,
    "pycharm": {
     "name": "#%% md\n"
    }
   }
  },
  {
   "cell_type": "code",
   "execution_count": 31,
   "outputs": [
    {
     "data": {
      "text/plain": "[(0, 0),\n (0, 1),\n (0, 2),\n (1, 0),\n (1, 1),\n (1, 2),\n (2, 0),\n (2, 1),\n (2, 2),\n (3, 0),\n (3, 1),\n (3, 2),\n (4, 0),\n (4, 1),\n (4, 2)]"
     },
     "execution_count": 31,
     "metadata": {},
     "output_type": "execute_result"
    }
   ],
   "source": [
    "points = []\n",
    "for x in range(5):\n",
    "    for y in range(3):\n",
    "        points.append((x,y))\n",
    "points"
   ],
   "metadata": {
    "collapsed": false,
    "pycharm": {
     "name": "#%%\n"
    }
   }
  },
  {
   "cell_type": "code",
   "execution_count": 32,
   "outputs": [],
   "source": [
    "values = [x / (x - y)\n",
    "          for x in range(100)\n",
    "          if x > 50\n",
    "          for y in range(100)\n",
    "          if x - y != 0]"
   ],
   "metadata": {
    "collapsed": false,
    "pycharm": {
     "name": "#%%\n"
    }
   }
  },
  {
   "cell_type": "markdown",
   "source": [
    "The non-comprehension form of this statement is like this"
   ],
   "metadata": {
    "collapsed": false,
    "pycharm": {
     "name": "#%% md\n"
    }
   }
  },
  {
   "cell_type": "code",
   "execution_count": 33,
   "outputs": [],
   "source": [
    "values = []\n",
    "for x in range(100):\n",
    "    if x > 50:\n",
    "        for y in range(100):\n",
    "            if x - y != 0:\n",
    "                values.append(x / (x - y))"
   ],
   "metadata": {
    "collapsed": false,
    "pycharm": {
     "name": "#%%\n"
    }
   }
  },
  {
   "cell_type": "markdown",
   "source": [
    "There are comprehensions where later clauses can refer to variables bound in earlier clauses:"
   ],
   "metadata": {
    "collapsed": false,
    "pycharm": {
     "name": "#%% md\n"
    }
   }
  },
  {
   "cell_type": "code",
   "execution_count": 34,
   "outputs": [
    {
     "data": {
      "text/plain": "[(1, 0),\n (2, 0),\n (2, 1),\n (3, 0),\n (3, 1),\n (3, 2),\n (4, 0),\n (4, 1),\n (4, 2),\n (4, 3),\n (5, 0),\n (5, 1),\n (5, 2),\n (5, 3),\n (5, 4),\n (6, 0),\n (6, 1),\n (6, 2),\n (6, 3),\n (6, 4),\n (6, 5),\n (7, 0),\n (7, 1),\n (7, 2),\n (7, 3),\n (7, 4),\n (7, 5),\n (7, 6),\n (8, 0),\n (8, 1),\n (8, 2),\n (8, 3),\n (8, 4),\n (8, 5),\n (8, 6),\n (8, 7),\n (9, 0),\n (9, 1),\n (9, 2),\n (9, 3),\n (9, 4),\n (9, 5),\n (9, 6),\n (9, 7),\n (9, 8)]"
     },
     "execution_count": 34,
     "metadata": {},
     "output_type": "execute_result"
    }
   ],
   "source": [
    "[(x,y) for x in range(10) for y in range(x)]"
   ],
   "metadata": {
    "collapsed": false,
    "pycharm": {
     "name": "#%%\n"
    }
   }
  },
  {
   "cell_type": "markdown",
   "source": [
    "Expanded:"
   ],
   "metadata": {
    "collapsed": false,
    "pycharm": {
     "name": "#%% md\n"
    }
   }
  },
  {
   "cell_type": "code",
   "execution_count": 39,
   "outputs": [
    {
     "data": {
      "text/plain": "[(1, 0),\n (2, 0),\n (2, 1),\n (3, 0),\n (3, 1),\n (3, 2),\n (4, 0),\n (4, 1),\n (4, 2),\n (4, 3),\n (5, 0),\n (5, 1),\n (5, 2),\n (5, 3),\n (5, 4),\n (6, 0),\n (6, 1),\n (6, 2),\n (6, 3),\n (6, 4),\n (6, 5),\n (7, 0),\n (7, 1),\n (7, 2),\n (7, 3),\n (7, 4),\n (7, 5),\n (7, 6),\n (8, 0),\n (8, 1),\n (8, 2),\n (8, 3),\n (8, 4),\n (8, 5),\n (8, 6),\n (8, 7),\n (9, 0),\n (9, 1),\n (9, 2),\n (9, 3),\n (9, 4),\n (9, 5),\n (9, 6),\n (9, 7),\n (9, 8)]"
     },
     "execution_count": 39,
     "metadata": {},
     "output_type": "execute_result"
    }
   ],
   "source": [
    "result = []\n",
    "for x in range(10):\n",
    "    for y in range(x):\n",
    "        result.append((x, y))\n",
    "result"
   ],
   "metadata": {
    "collapsed": false,
    "pycharm": {
     "name": "#%%\n"
    }
   }
  },
  {
   "cell_type": "markdown",
   "source": [
    "### Comprehensions can be <font color=lightGreen>Nested</font> inside other comprehensions\n",
    "Each element of the collection produced by a comprehension can itself be a comprehension:"
   ],
   "metadata": {
    "collapsed": false
   }
  },
  {
   "cell_type": "code",
   "execution_count": 35,
   "outputs": [
    {
     "data": {
      "text/plain": "[[],\n [0],\n [0, 3],\n [0, 3, 6],\n [0, 3, 6, 9],\n [0, 3, 6, 9, 12],\n [0, 3, 6, 9, 12, 15],\n [0, 3, 6, 9, 12, 15, 18],\n [0, 3, 6, 9, 12, 15, 18, 21],\n [0, 3, 6, 9, 12, 15, 18, 21, 24]]"
     },
     "execution_count": 35,
     "metadata": {},
     "output_type": "execute_result"
    }
   ],
   "source": [
    "vals = [[y * 3 for y in range(x)]\n",
    "        for x in range(10)]\n",
    "vals"
   ],
   "metadata": {
    "collapsed": false,
    "pycharm": {
     "name": "#%%\n"
    }
   }
  },
  {
   "cell_type": "markdown",
   "source": [
    "The expansion of this comprehension is as follows:"
   ],
   "metadata": {
    "collapsed": false,
    "pycharm": {
     "name": "#%% md\n"
    }
   }
  },
  {
   "cell_type": "code",
   "execution_count": 37,
   "outputs": [
    {
     "data": {
      "text/plain": "[[],\n [0],\n [0, 3],\n [0, 3, 6],\n [0, 3, 6, 9],\n [0, 3, 6, 9, 12],\n [0, 3, 6, 9, 12, 15],\n [0, 3, 6, 9, 12, 15, 18],\n [0, 3, 6, 9, 12, 15, 18, 21],\n [0, 3, 6, 9, 12, 15, 18, 21, 24]]"
     },
     "execution_count": 37,
     "metadata": {},
     "output_type": "execute_result"
    }
   ],
   "source": [
    "outer = []\n",
    "for x in range(10):\n",
    "    inner = []\n",
    "    for y in range(x):\n",
    "        inner.append(y * 3)\n",
    "    outer.append(inner)\n",
    "outer"
   ],
   "metadata": {
    "collapsed": false,
    "pycharm": {
     "name": "#%%\n"
    }
   }
  },
  {
   "cell_type": "code",
   "execution_count": null,
   "outputs": [],
   "source": [],
   "metadata": {
    "collapsed": false,
    "pycharm": {
     "name": "#%%\n"
    }
   }
  },
  {
   "cell_type": "markdown",
   "source": [
    "## <center><font color=tomato>iterations and iterables<br>+</font><br>building-block functions</center>"
   ],
   "metadata": {
    "collapsed": false
   }
  },
  {
   "cell_type": "code",
   "execution_count": null,
   "outputs": [],
   "source": [],
   "metadata": {
    "collapsed": false,
    "pycharm": {
     "name": "#%%\n"
    }
   }
  },
  {
   "cell_type": "markdown",
   "source": [
    "## <center>`map()`</center>\n",
    "Apply a function to every element in a sequence, producing a new sequence\n",
    "\n",
    "`map()`is lazy - it only produces values as they are needed\n",
    "\n",
    "`map()`'s lazy evaluation requires to generate over its return value in order to produce the output sequence.\n",
    "Until accessing the values in the sequence, they are not evaluated."
   ],
   "metadata": {
    "collapsed": false
   }
  },
  {
   "cell_type": "code",
   "execution_count": 55,
   "outputs": [
    {
     "data": {
      "text/plain": "(map, <map at 0x106ed4460>, [106, 97, 108, 101, 106, 111])"
     },
     "execution_count": 55,
     "metadata": {},
     "output_type": "execute_result"
    }
   ],
   "source": [
    "m = map(ord, 'jalejo')\n",
    "type(m), m, list(m)"
   ],
   "metadata": {
    "collapsed": false,
    "pycharm": {
     "name": "#%%\n"
    }
   }
  },
  {
   "cell_type": "code",
   "execution_count": 58,
   "outputs": [
    {
     "name": "stdout",
     "output_type": "stream",
     "text": [
      "106\n",
      "97\n",
      "108\n",
      "101\n",
      "106\n",
      "111\n"
     ]
    }
   ],
   "source": [
    "for i in map(ord, 'jalejo'):\n",
    "    print(i)"
   ],
   "metadata": {
    "collapsed": false,
    "pycharm": {
     "name": "#%%\n"
    }
   }
  },
  {
   "cell_type": "markdown",
   "source": [
    "### <font color=lightGreen>Multi_input Sequences</font>\n",
    "`map()` can be used with as many input sequences as needed.\n",
    "\n",
    "The number of input sequences must **match** the number of functions arguments\n",
    "If the passed function to`map()`requires`n`arguments,\n",
    "then it is needed to provide`n`input sequences to`map()`"
   ],
   "metadata": {
    "collapsed": false,
    "pycharm": {
     "name": "#%% md\n"
    }
   }
  },
  {
   "cell_type": "code",
   "execution_count": 59,
   "outputs": [
    {
     "data": {
      "text/plain": "['small lavender koala',\n 'medium teal platypus',\n 'large burnt orange salamander']"
     },
     "execution_count": 59,
     "metadata": {},
     "output_type": "execute_result"
    }
   ],
   "source": [
    "sizes = ['small', 'medium', 'large']\n",
    "colors = ['lavender', 'teal', 'burnt orange']\n",
    "animals = ['koala', 'platypus', 'salamander']\n",
    "def combine(size, color, animal):\n",
    "    return '{} {} {}'.format(size, color, animal)\n",
    "list(map(combine, sizes, colors, animals) )"
   ],
   "metadata": {
    "collapsed": false,
    "pycharm": {
     "name": "#%%\n"
    }
   }
  },
  {
   "cell_type": "markdown",
   "source": [
    "Input sequences might not all be the same size, even some of them might be infinite sequences.\n",
    "`map()` will terminate as soon as any of the input sequences is terminated."
   ],
   "metadata": {
    "collapsed": false,
    "pycharm": {
     "name": "#%% md\n"
    }
   }
  },
  {
   "cell_type": "code",
   "execution_count": 60,
   "outputs": [
    {
     "data": {
      "text/plain": "['0 small lavender koala',\n '1 medium teal platypus',\n '2 large burnt orange salamander']"
     },
     "execution_count": 60,
     "metadata": {},
     "output_type": "execute_result"
    }
   ],
   "source": [
    "import itertools\n",
    "def combine(quantity, size, color, animal):\n",
    "    return '{} {} {} {}'.format(quantity, size, color, animal)\n",
    "list(map(combine, itertools.count(),sizes, colors, animals) )"
   ],
   "metadata": {
    "collapsed": false,
    "pycharm": {
     "name": "#%%\n"
    }
   }
  },
  {
   "cell_type": "code",
   "execution_count": null,
   "outputs": [],
   "source": [],
   "metadata": {
    "collapsed": false,
    "pycharm": {
     "name": "#%%\n"
    }
   }
  },
  {
   "cell_type": "markdown",
   "source": [
    "### `map()`<font color=lightGreen>vs </font> comprehensions\n",
    "`map()` provides some of the same functionality as comprehensions.\n",
    "\n",
    "Neither approach is necessarily faster than the other, choice depends on a specific situation or personal taste."
   ],
   "metadata": {
    "collapsed": false
   }
  },
  {
   "cell_type": "code",
   "execution_count": 65,
   "outputs": [
    {
     "data": {
      "text/plain": "(generator, ['0', '1', '2', '3', '4'])"
     },
     "execution_count": 65,
     "metadata": {},
     "output_type": "execute_result"
    }
   ],
   "source": [
    "i = (str(i) for i in range(5))\n",
    "type(i), list(i)"
   ],
   "metadata": {
    "collapsed": false,
    "pycharm": {
     "name": "#%%\n"
    }
   }
  },
  {
   "cell_type": "code",
   "execution_count": 66,
   "outputs": [
    {
     "data": {
      "text/plain": "(map, ['0', '1', '2', '3', '4'])"
     },
     "execution_count": 66,
     "metadata": {},
     "output_type": "execute_result"
    }
   ],
   "source": [
    "i = map(str, range(5))\n",
    "type(i), list(i)"
   ],
   "metadata": {
    "collapsed": false,
    "pycharm": {
     "name": "#%%\n"
    }
   }
  },
  {
   "cell_type": "markdown",
   "source": [
    "## <center>`filter()`</center>\n",
    "Apply a function to each element in a sequence,\n",
    "constructing a new sequence with the elements\n",
    "for which the function returns `True`\n",
    "\n",
    "`filter(function, -sequence-)`\n",
    "\n",
    "`filter()` produces its results lazily\n",
    "\n",
    "`filter()` only accepts a single input sequence,\n",
    "and the function it takes must only accept a single argument\n"
   ],
   "metadata": {
    "collapsed": false,
    "pycharm": {
     "name": "#%% md\n"
    }
   }
  },
  {
   "cell_type": "code",
   "execution_count": 1,
   "outputs": [
    {
     "data": {
      "text/plain": "(filter, [1, 6, 8])"
     },
     "execution_count": 1,
     "metadata": {},
     "output_type": "execute_result"
    }
   ],
   "source": [
    "positives = filter(lambda x: x > 0, [1, -5, 0, 6, -2, 8])\n",
    "type(positives), list(positives)"
   ],
   "metadata": {
    "collapsed": false,
    "pycharm": {
     "name": "#%%\n"
    }
   }
  },
  {
   "cell_type": "markdown",
   "source": [
    "Passing `None` as the **first argument** to `filter()` will remove elements which evaluate to `false`\n"
   ],
   "metadata": {
    "collapsed": false,
    "pycharm": {
     "name": "#%% md\n"
    }
   }
  },
  {
   "cell_type": "code",
   "execution_count": 3,
   "outputs": [
    {
     "data": {
      "text/plain": "(filter, [1, True, [1, 2, 3], 'hello'])"
     },
     "execution_count": 3,
     "metadata": {},
     "output_type": "execute_result"
    }
   ],
   "source": [
    "trues = filter(None, [0, 1, False, True, [], [1, 2, 3], '', 'hello'])\n",
    "type(trues), list(trues)"
   ],
   "metadata": {
    "collapsed": false,
    "pycharm": {
     "name": "#%%\n"
    }
   }
  },
  {
   "cell_type": "markdown",
   "source": [
    "## <center>`functools.reduce()`</center>\n",
    "Repeatedly apply a function to the elements of a sequence, reducing them to a single value"
   ],
   "metadata": {
    "collapsed": false,
    "pycharm": {
     "name": "#%% md\n"
    }
   }
  },
  {
   "cell_type": "code",
   "execution_count": 4,
   "outputs": [
    {
     "data": {
      "text/plain": "15"
     },
     "execution_count": 4,
     "metadata": {},
     "output_type": "execute_result"
    }
   ],
   "source": [
    "from functools import reduce\n",
    "import operator\n",
    "reduce(operator.add, [1, 2, 3, 4, 5])"
   ],
   "metadata": {
    "collapsed": false,
    "pycharm": {
     "name": "#%%\n"
    }
   }
  },
  {
   "cell_type": "markdown",
   "source": [
    "Expanded work this way:\n"
   ],
   "metadata": {
    "collapsed": false,
    "pycharm": {
     "name": "#%% md\n"
    }
   }
  },
  {
   "cell_type": "code",
   "execution_count": 5,
   "outputs": [
    {
     "data": {
      "text/plain": "15"
     },
     "execution_count": 5,
     "metadata": {},
     "output_type": "execute_result"
    }
   ],
   "source": [
    "numbers = [1, 2, 3, 4, 5]\n",
    "accumulator = operator.add(numbers[0], numbers[1])\n",
    "for item in numbers[2:]:\n",
    "    accumulator = operator.add(accumulator, item)\n",
    "accumulator"
   ],
   "metadata": {
    "collapsed": false,
    "pycharm": {
     "name": "#%%\n"
    }
   }
  },
  {
   "cell_type": "markdown",
   "source": [
    "To get a better idea of how reduce is calling the function, we can use a function which prints out its progress.\n"
   ],
   "metadata": {
    "collapsed": false,
    "pycharm": {
     "name": "#%% md\n"
    }
   }
  },
  {
   "cell_type": "code",
   "execution_count": 6,
   "outputs": [
    {
     "name": "stdout",
     "output_type": "stream",
     "text": [
      "mul 1 2\n",
      "mul 2 3\n",
      "mul 6 4\n",
      "mul 24 5\n",
      "mul 120 6\n",
      "mul 720 7\n",
      "mul 5040 8\n",
      "mul 40320 9\n"
     ]
    },
    {
     "data": {
      "text/plain": "362880"
     },
     "execution_count": 6,
     "metadata": {},
     "output_type": "execute_result"
    }
   ],
   "source": [
    "def mul(x, y):\n",
    "    print('mul {} {}'.format(x, y))\n",
    "    return x * y\n",
    "reduce(mul, range(1, 10))"
   ],
   "metadata": {
    "collapsed": false,
    "pycharm": {
     "name": "#%%\n"
    }
   }
  },
  {
   "cell_type": "markdown",
   "source": [
    "Passing an empty sequence to reduce, it will raise a TypeError"
   ],
   "metadata": {
    "collapsed": false,
    "pycharm": {
     "name": "#%% md\n"
    }
   }
  },
  {
   "cell_type": "code",
   "execution_count": 7,
   "outputs": [
    {
     "name": "stdout",
     "output_type": "stream",
     "text": [
      "TypeError('reduce() of empty sequence with no initial value')\n"
     ]
    }
   ],
   "source": [
    "try:\n",
    "    reduce(mul, [])\n",
    "except Exception as e:\n",
    "    print(e.__repr__())"
   ],
   "metadata": {
    "collapsed": false,
    "pycharm": {
     "name": "#%%\n"
    }
   }
  },
  {
   "cell_type": "markdown",
   "source": [
    "Passing a sequence with only one element,\n",
    "then that element is returned from reduce without ever calling the reducing function\n"
   ],
   "metadata": {
    "collapsed": false,
    "pycharm": {
     "name": "#%% md\n"
    }
   }
  },
  {
   "cell_type": "code",
   "execution_count": 9,
   "outputs": [
    {
     "data": {
      "text/plain": "1"
     },
     "execution_count": 9,
     "metadata": {},
     "output_type": "execute_result"
    }
   ],
   "source": [
    "reduce(mul, [1])"
   ],
   "metadata": {
    "collapsed": false,
    "pycharm": {
     "name": "#%%\n"
    }
   }
  },
  {
   "cell_type": "markdown",
   "source": [
    "Reduce accepts an optional argument specifying the initial value.\n",
    "This value is conceptually just added to the beginning of the input sequence,\n",
    "meaning that it will be returned if the input sequence is empty.\n",
    "This also means that the optional initial value serves as the first accumulator value for the reduction.\n",
    "This optional value is very useful, for example, if you can't be sure if your input will have any values"
   ],
   "metadata": {
    "collapsed": false,
    "pycharm": {
     "name": "#%% md\n"
    }
   }
  },
  {
   "cell_type": "code",
   "execution_count": 10,
   "outputs": [
    {
     "data": {
      "text/plain": "6"
     },
     "execution_count": 10,
     "metadata": {},
     "output_type": "execute_result"
    }
   ],
   "source": [
    "values = [1, 2, 3]\n",
    "reduce(operator.add, values, 0)"
   ],
   "metadata": {
    "collapsed": false,
    "pycharm": {
     "name": "#%%\n"
    }
   }
  },
  {
   "cell_type": "code",
   "execution_count": 11,
   "outputs": [
    {
     "data": {
      "text/plain": "0"
     },
     "execution_count": 11,
     "metadata": {},
     "output_type": "execute_result"
    }
   ],
   "source": [
    "values = []\n",
    "reduce(operator.add, values, 0)"
   ],
   "metadata": {
    "collapsed": false,
    "pycharm": {
     "name": "#%%\n"
    }
   }
  },
  {
   "cell_type": "markdown",
   "source": [
    "## <center>The <font color=tomato>Iteration</font> protocols</center>\n",
    "-   `iter()`          create an iterator\n",
    "-   `next()`          get next element in sequence\n",
    "-   `StopIteration`   signal the end of the sequence\n"
   ],
   "metadata": {
    "collapsed": false
   }
  },
  {
   "cell_type": "code",
   "execution_count": 24,
   "outputs": [
    {
     "data": {
      "text/plain": "(list_iterator,\n <list_iterator at 0x112ee3f70>,\n list_iterator,\n <list_iterator at 0x112ee30d0>)"
     },
     "execution_count": 24,
     "metadata": {},
     "output_type": "execute_result"
    }
   ],
   "source": [
    "values = [1, 2, 3]\n",
    "type(values.__iter__()), values.__iter__(), \\\n",
    "type(iter(values)), iter(values)"
   ],
   "metadata": {
    "collapsed": false,
    "pycharm": {
     "name": "#%%\n"
    }
   }
  },
  {
   "cell_type": "markdown",
   "source": [
    "iteration protocol implementation"
   ],
   "metadata": {
    "collapsed": false,
    "pycharm": {
     "name": "#%% md\n"
    }
   }
  },
  {
   "cell_type": "code",
   "execution_count": 1,
   "outputs": [
    {
     "data": {
      "text/plain": "(1, 2, 3)"
     },
     "execution_count": 1,
     "metadata": {},
     "output_type": "execute_result"
    }
   ],
   "source": [
    "class ExampleIterator:\n",
    "    def __init__(self):\n",
    "        self.index = 0\n",
    "        self.data = [1, 2, 3]\n",
    "\n",
    "    def __iter__(self):\n",
    "        return  self\n",
    "\n",
    "    def __next__(self):\n",
    "        if self.index >= len(self.data):\n",
    "            raise StopIteration(\"This is the last one\")\n",
    "\n",
    "        rslt = self.data[self.index]\n",
    "        self.index += 1\n",
    "        return rslt\n",
    "\n",
    "i = ExampleIterator()\n",
    "next(i), next(i), next(i)"
   ],
   "metadata": {
    "collapsed": false,
    "pycharm": {
     "name": "#%%\n"
    }
   }
  },
  {
   "cell_type": "code",
   "execution_count": 2,
   "outputs": [
    {
     "name": "stdout",
     "output_type": "stream",
     "text": [
      "StopIteration('This is the last one')\n"
     ]
    }
   ],
   "source": [
    "try:\n",
    "    next(i)\n",
    "except Exception as e:\n",
    "    print(e.__repr__())"
   ],
   "metadata": {
    "collapsed": false,
    "pycharm": {
     "name": "#%%\n"
    }
   }
  },
  {
   "cell_type": "code",
   "execution_count": 30,
   "outputs": [
    {
     "name": "stdout",
     "output_type": "stream",
     "text": [
      "1\n",
      "2\n",
      "3\n"
     ]
    }
   ],
   "source": [
    "for i in ExampleIterator():\n",
    "    print(i)"
   ],
   "metadata": {
    "collapsed": false,
    "pycharm": {
     "name": "#%%\n"
    }
   }
  },
  {
   "cell_type": "markdown",
   "source": [
    "Putting the protocols together\n"
   ],
   "metadata": {
    "collapsed": false,
    "pycharm": {
     "name": "#%% md\n"
    }
   }
  },
  {
   "cell_type": "code",
   "execution_count": 1,
   "outputs": [
    {
     "name": "stdout",
     "output_type": "stream",
     "text": [
      "1\n",
      "2\n",
      "3\n"
     ]
    }
   ],
   "source": [
    "class ExampleIterator:\n",
    "    def __init__(self, data):\n",
    "        self.index = 0\n",
    "        self._data = data\n",
    "\n",
    "    def __iter__(self):\n",
    "        return  self\n",
    "\n",
    "    def __next__(self):\n",
    "        if self.index >= len(self._data):\n",
    "            raise StopIteration()\n",
    "\n",
    "        rslt = self._data[self.index]\n",
    "        self.index += 1\n",
    "        return rslt\n",
    "\n",
    "class ExampleIterable:\n",
    "    def __init__(self):\n",
    "        self._data = [1, 2, 3]\n",
    "\n",
    "    def __iter__(self):\n",
    "        return ExampleIterator(self._data)\n",
    "\n",
    "\n",
    "for i in ExampleIterable():\n",
    "    print(i)"
   ],
   "metadata": {
    "collapsed": false,
    "pycharm": {
     "name": "#%%\n"
    }
   }
  },
  {
   "cell_type": "code",
   "execution_count": 3,
   "outputs": [
    {
     "data": {
      "text/plain": "[3, 6, 9]"
     },
     "execution_count": 3,
     "metadata": {},
     "output_type": "execute_result"
    }
   ],
   "source": [
    "[i*3 for i in ExampleIterable()]\n"
   ],
   "metadata": {
    "collapsed": false,
    "pycharm": {
     "name": "#%%\n"
    }
   }
  },
  {
   "cell_type": "markdown",
   "source": [
    "### Alternative<font color=lightGreen> Iterable</font> Protocol\n",
    "## <center>`__getitem__()`</center>\n",
    "The alternative iterable protocol works with any object that supports\n",
    "consecutive integer indexing via `__getitem__()`\n",
    "\n",
    "`__getitem__()` must return values for consecutive integer indices starting at 0.\n",
    "When the index argument is out of the iterables range of data, then `__getitem__()` must throw index error."
   ],
   "metadata": {
    "collapsed": false,
    "pycharm": {
     "name": "#%% md\n"
    }
   }
  },
  {
   "cell_type": "code",
   "execution_count": 14,
   "outputs": [
    {
     "data": {
      "text/plain": "[1, 2, 3]"
     },
     "execution_count": 14,
     "metadata": {},
     "output_type": "execute_result"
    }
   ],
   "source": [
    "class AlternativeIterable:\n",
    "    def __init__(self):\n",
    "        self.data = [1, 2, 3]\n",
    "\n",
    "    def __getitem__(self, idx):\n",
    "        return self.data[idx]\n",
    "\n",
    "[i for i in AlternativeIterable()]"
   ],
   "metadata": {
    "collapsed": false,
    "pycharm": {
     "name": "#%%\n"
    }
   }
  },
  {
   "cell_type": "markdown",
   "source": [
    "### <font color=lightGreen>Extended</font>`iter()`\n",
    "## <center>`iter(callable, sentinel)`</center>\n",
    "In the extended form, the first argument is a callable, which takes zero arguments.\n",
    "The second argument is a sentinel value.\n",
    "The return value from iter, in this case, is an iterator, which produces values by repeatedly calling the callable argument.\n",
    "This iterator terminates when the value produced by the callable is equal to the sentinel.\n",
    "\n",
    "Extended `iter()` is often used fot creating <font color=tomato>infinite sequences</font> from existing functions."
   ],
   "metadata": {
    "collapsed": false
   }
  },
  {
   "cell_type": "code",
   "execution_count": 16,
   "outputs": [
    {
     "data": {
      "text/plain": "(datetime.datetime(2020, 5, 27, 5, 23, 42, 425824),\n datetime.datetime(2020, 5, 27, 5, 23, 42, 425829),\n datetime.datetime(2020, 5, 27, 5, 23, 42, 425830))"
     },
     "execution_count": 16,
     "metadata": {},
     "output_type": "execute_result"
    }
   ],
   "source": [
    "import datetime\n",
    "i = iter(datetime.datetime.now, None)\n",
    "next(i), next(i), next(i)"
   ],
   "metadata": {
    "collapsed": false,
    "pycharm": {
     "name": "#%%\n"
    }
   }
  },
  {
   "cell_type": "code",
   "execution_count": null,
   "outputs": [],
   "source": [],
   "metadata": {
    "collapsed": false,
    "pycharm": {
     "name": "#%%\n"
    }
   }
  },
  {
   "cell_type": "code",
   "execution_count": 22,
   "outputs": [
    {
     "name": "stdout",
     "output_type": "stream",
     "text": [
      "Son of man,\n",
      "You\n",
      "should\n",
      "see\n",
      "this\n",
      "text\n"
     ]
    }
   ],
   "source": [
    "h= open('ending_file.txt', mode= \"at\", encoding= 'utf-8')\n",
    "h.writelines(\n",
    "    ['Son of man, \\n',\n",
    "     'You\\n',\n",
    "     'should\\n',\n",
    "     'see\\n',\n",
    "     'this\\n',\n",
    "     'text\\n',\n",
    "     'END\\n',\n",
    "     'But\\n',\n",
    "     'not\\n',\n",
    "     'this\\n',\n",
    "     'text\\n'])\n",
    "h.close()\n",
    "with open(file='ending_file.txt', mode='rt') as f:\n",
    "    for line in iter(lambda: f.readline().strip(), 'END'):\n",
    "        print(line)"
   ],
   "metadata": {
    "collapsed": false,
    "pycharm": {
     "name": "#%%\n"
    }
   }
  },
  {
   "cell_type": "markdown",
   "source": [
    "### <font color=lightGreen>Reading data from a sensor</font>\n",
    "Often, sensors produce a stream of data or can simply provide a value whenever queried, and it would be nice to be able to access these values in a loop.\n",
    "\n",
    "We're going to write a simple class, which mimics a sensor and produces a stream of data.\n",
    "Simulating the sensor data with random values within a range. Here's our Sensor class."
   ],
   "metadata": {
    "collapsed": false
   }
  },
  {
   "cell_type": "code",
   "execution_count": 24,
   "outputs": [],
   "source": [
    "import random\n",
    "class Sensor:\n",
    "    def __iter__(self):\n",
    "        return self\n",
    "\n",
    "    def __next__(self):\n",
    "        return random.random()"
   ],
   "metadata": {
    "collapsed": false,
    "pycharm": {
     "name": "#%%\n"
    }
   }
  },
  {
   "cell_type": "markdown",
   "source": [
    "It has a __iter__ method, which returns an iterator, which in this case is the same object.\n",
    "\n",
    "Since the sensor also supports the __next__ method, it works equally well as an iterator.\n",
    "\n",
    "The __next__ method simply returns a random number, but you could imagine more complex code that actually read real values from a sensor.\n",
    "\n",
    "Let's combine this with our timestamp generator and create a small system for logging sensor data every second"
   ],
   "metadata": {
    "collapsed": false,
    "pycharm": {
     "name": "#%% md\n"
    }
   }
  },
  {
   "cell_type": "code",
   "execution_count": 26,
   "outputs": [
    {
     "name": "stdout",
     "output_type": "stream",
     "text": [
      "2020-05-27 05:48:01.902946 value= 0.5776194133325651\n",
      "2020-05-27 05:48:02.907628 value= 0.9376535951926549\n",
      "2020-05-27 05:48:03.908030 value= 0.15323637419973568\n",
      "2020-05-27 05:48:04.908490 value= 0.535701402119192\n",
      "2020-05-27 05:48:05.911893 value= 0.7717378371258002\n",
      "2020-05-27 05:48:06.912407 value= 0.30874139520934074\n",
      "2020-05-27 05:48:07.912985 value= 0.5325636689681444\n",
      "2020-05-27 05:48:08.917807 value= 0.6215057066714924\n",
      "2020-05-27 05:48:09.918364 value= 0.8860301257502654\n",
      "2020-05-27 05:48:10.923553 value= 0.19174340363939657\n"
     ]
    }
   ],
   "source": [
    "import datetime, itertools, time\n",
    "\n",
    "sensor = Sensor()\n",
    "timestamp = iter(datetime.datetime.now, None)\n",
    "\n",
    "for stamp, value in itertools.islice(zip(timestamp, sensor), 10):\n",
    "    print(stamp, 'value =', value)\n",
    "    time.sleep(1)"
   ],
   "metadata": {
    "collapsed": false,
    "pycharm": {
     "name": "#%%\n"
    }
   }
  },
  {
   "cell_type": "markdown",
   "source": [
    "press command-c to stop the process"
   ],
   "metadata": {
    "collapsed": false,
    "pycharm": {
     "name": "#%% md\n"
    }
   }
  }
 ],
 "metadata": {
  "kernelspec": {
   "display_name": "Python 3",
   "language": "python",
   "name": "python3"
  },
  "language_info": {
   "codemirror_mode": {
    "name": "ipython",
    "version": 2
   },
   "file_extension": ".py",
   "mimetype": "text/x-python",
   "name": "python",
   "nbconvert_exporter": "python",
   "pygments_lexer": "ipython2",
   "version": "2.7.6"
  }
 },
 "nbformat": 4,
 "nbformat_minor": 0
}