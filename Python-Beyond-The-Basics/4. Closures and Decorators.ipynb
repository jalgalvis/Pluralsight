{
 "cells": [
  {
   "cell_type": "markdown",
   "metadata": {
    "collapsed": true,
    "pycharm": {
     "name": "#%% md\n"
    }
   },
   "source": [
    "# <center><font color=slate>Closures and Decorators</font></center>\n",
    "\n",
    "## <center><font color=tomato>Returning Functions from Functions</font></center>\n"
   ]
  },
  {
   "cell_type": "markdown",
   "source": [
    "### <center><font color=lightGreen>First class functions:</font></center>\n",
    "Functions can be treated like any other object\n",
    "\n",
    "\n",
    "```\n",
    "def outer():\n",
    "    def inner():\n",
    "        print(\"inner\")\n",
    "    return inner\n",
    "\n",
    "i = outer()\n",
    "i() -> \"inner\" ```\n",
    "\n",
    "example:"
   ],
   "metadata": {
    "collapsed": false,
    "pycharm": {
     "name": "#%% md\n"
    }
   }
  },
  {
   "cell_type": "code",
   "execution_count": 700,
   "outputs": [
    {
     "name": "stdout",
     "output_type": "stream",
     "text": [
      "local_func\n"
     ]
    }
   ],
   "source": [
    "def enclosing():\n",
    "    def local_func():\n",
    "        print(\"local_func\")\n",
    "    return local_func\n",
    "\n",
    "lf = enclosing()\n",
    "lf()"
   ],
   "metadata": {
    "collapsed": false,
    "pycharm": {
     "name": "#%%\n"
    }
   }
  },
  {
   "cell_type": "markdown",
   "source": [
    "## <center><font color=tomato>Closures</font></center>\n",
    "Maintain references to objects from earlier scopes\n"
   ],
   "metadata": {
    "collapsed": false,
    "pycharm": {
     "name": "#%% md\n"
    }
   }
  },
  {
   "cell_type": "code",
   "execution_count": 701,
   "outputs": [
    {
     "name": "stdout",
     "output_type": "stream",
     "text": [
      "closed over\n"
     ]
    }
   ],
   "source": [
    "def enclosing():\n",
    "    x = 'closed over'\n",
    "    def local_func():\n",
    "            print(x)\n",
    "    return local_func\n",
    "lf = enclosing()\n",
    "lf()"
   ],
   "metadata": {
    "collapsed": false,
    "pycharm": {
     "name": "#%%\n"
    }
   }
  },
  {
   "cell_type": "code",
   "execution_count": 702,
   "outputs": [
    {
     "data": {
      "text/plain": "(<cell at 0x7fed5d193b20: str object at 0x7fed5c6cfe30>,)"
     },
     "execution_count": 702,
     "metadata": {},
     "output_type": "execute_result"
    }
   ],
   "source": [
    "lf.__closure__"
   ],
   "metadata": {
    "collapsed": false,
    "pycharm": {
     "name": "#%%\n"
    }
   }
  },
  {
   "cell_type": "markdown",
   "source": [
    "## <center><font color=tomato>Function Factory</font></center>\n",
    "Functions that returns newm specialized functions\n"
   ],
   "metadata": {
    "collapsed": false,
    "pycharm": {
     "name": "#%% md\n"
    }
   }
  },
  {
   "cell_type": "code",
   "execution_count": 703,
   "outputs": [
    {
     "data": {
      "text/plain": "(<cell at 0x7fed5c61b7f0: int object at 0x107dc0ac0>,)"
     },
     "execution_count": 703,
     "metadata": {},
     "output_type": "execute_result"
    }
   ],
   "source": [
    "def raise_to(exp):\n",
    "    def raise_to_exp(x):\n",
    "        return pow(x,exp)\n",
    "    return raise_to_exp\n",
    "\n",
    "square = raise_to(2)\n",
    "square.__closure__"
   ],
   "metadata": {
    "collapsed": false,
    "pycharm": {
     "name": "#%%\n"
    }
   }
  },
  {
   "cell_type": "code",
   "execution_count": 704,
   "outputs": [
    {
     "data": {
      "text/plain": "81"
     },
     "execution_count": 704,
     "metadata": {},
     "output_type": "execute_result"
    }
   ],
   "source": [
    "square(9)"
   ],
   "metadata": {
    "collapsed": false,
    "pycharm": {
     "name": "#%%\n"
    }
   }
  },
  {
   "cell_type": "code",
   "execution_count": 705,
   "outputs": [
    {
     "data": {
      "text/plain": "4"
     },
     "execution_count": 705,
     "metadata": {},
     "output_type": "execute_result"
    }
   ],
   "source": [
    "square(2)"
   ],
   "metadata": {
    "collapsed": false,
    "pycharm": {
     "name": "#%%\n"
    }
   }
  },
  {
   "cell_type": "code",
   "execution_count": 706,
   "outputs": [
    {
     "data": {
      "text/plain": "27"
     },
     "execution_count": 706,
     "metadata": {},
     "output_type": "execute_result"
    }
   ],
   "source": [
    "cube = raise_to(3)\n",
    "cube(3)"
   ],
   "metadata": {
    "collapsed": false,
    "pycharm": {
     "name": "#%%\n"
    }
   }
  },
  {
   "cell_type": "code",
   "execution_count": 707,
   "outputs": [
    {
     "data": {
      "text/plain": "8"
     },
     "execution_count": 707,
     "metadata": {},
     "output_type": "execute_result"
    }
   ],
   "source": [
    "cube(2)"
   ],
   "metadata": {
    "collapsed": false,
    "pycharm": {
     "name": "#%%\n"
    }
   }
  },
  {
   "cell_type": "markdown",
   "source": [
    "## </center><font color=tomato>Nonlogical Keywords</font></center>\n"
   ],
   "metadata": {
    "collapsed": false,
    "pycharm": {
     "name": "#%% md\n"
    }
   }
  },
  {
   "cell_type": "code",
   "execution_count": 708,
   "outputs": [
    {
     "name": "stdout",
     "output_type": "stream",
     "text": [
      "global message global\n",
      "enclosing message enclosing\n",
      "enclosing message enclosing\n",
      "global message global\n"
     ]
    }
   ],
   "source": [
    "message = 'global'\n",
    "\n",
    "def enclosing():\n",
    "    message = 'enclosing'\n",
    "\n",
    "    def local():\n",
    "        message = 'local'\n",
    "\n",
    "    print('enclosing message', message)\n",
    "    local()\n",
    "    print('enclosing message', message)\n",
    "\n",
    "print('global message', message)\n",
    "enclosing()\n",
    "print('global message', message)\n"
   ],
   "metadata": {
    "collapsed": false,
    "pycharm": {
     "name": "#%%\n"
    }
   }
  },
  {
   "cell_type": "markdown",
   "source": [
    "\n",
    "## <center>`global`</center>\n",
    "Introduces names from `global` namespace into the `local` namespace\n"
   ],
   "metadata": {
    "collapsed": false,
    "pycharm": {
     "name": "#%% md\n"
    }
   }
  },
  {
   "cell_type": "code",
   "execution_count": 709,
   "outputs": [
    {
     "name": "stdout",
     "output_type": "stream",
     "text": [
      "global message global\n",
      "enclosing message enclosing\n",
      "enclosing message enclosing\n",
      "global message local\n"
     ]
    }
   ],
   "source": [
    "message = 'global'\n",
    "\n",
    "\n",
    "def enclosing():\n",
    "    message = 'enclosing'\n",
    "\n",
    "    def local():\n",
    "        global message\n",
    "        message = 'local'\n",
    "\n",
    "    print('enclosing message', message)\n",
    "    local()\n",
    "    print('enclosing message', message)\n",
    "\n",
    "\n",
    "print('global message', message)\n",
    "enclosing()\n",
    "print('global message', message)\n",
    "\n"
   ],
   "metadata": {
    "collapsed": false,
    "pycharm": {
     "name": "#%%\n"
    }
   }
  },
  {
   "cell_type": "markdown",
   "source": [
    "## <center>`nonlocal`</center>\n",
    "Introduces names from the enclosing namespace into the local namespace\n"
   ],
   "metadata": {
    "collapsed": false,
    "pycharm": {
     "name": "#%% md\n"
    }
   }
  },
  {
   "cell_type": "code",
   "execution_count": 710,
   "outputs": [
    {
     "name": "stdout",
     "output_type": "stream",
     "text": [
      "global message global\n",
      "enclosing message enclosing\n",
      "enclosing message local\n",
      "global message global\n"
     ]
    }
   ],
   "source": [
    "message = 'global'\n",
    "\n",
    "def enclosing():\n",
    "    message = 'enclosing'\n",
    "\n",
    "    def local():\n",
    "        nonlocal message\n",
    "        message = 'local'\n",
    "\n",
    "    print('enclosing message', message)\n",
    "    local()\n",
    "    print('enclosing message', message)\n",
    "\n",
    "\n",
    "print('global message', message)\n",
    "enclosing()\n",
    "print('global message', message)\n"
   ],
   "metadata": {
    "collapsed": false,
    "pycharm": {
     "name": "#%%\n"
    }
   }
  },
  {
   "cell_type": "markdown",
   "source": [
    "timer example"
   ],
   "metadata": {
    "collapsed": false,
    "pycharm": {
     "name": "#%% md\n"
    }
   }
  },
  {
   "cell_type": "code",
   "execution_count": 711,
   "outputs": [],
   "source": [
    "import time\n",
    "\n",
    "\n",
    "def make_timer():\n",
    "    last_called = None\n",
    "\n",
    "    def elapsed():\n",
    "        nonlocal last_called\n",
    "        now = time.time()\n",
    "        if last_called is None:\n",
    "            last_called = now\n",
    "            return None\n",
    "        result = now - last_called\n",
    "        last_called = now\n",
    "        return result\n",
    "\n",
    "    return elapsed"
   ],
   "metadata": {
    "collapsed": false,
    "pycharm": {
     "name": "#%%\n"
    }
   }
  },
  {
   "cell_type": "code",
   "execution_count": 712,
   "outputs": [],
   "source": [
    "t = make_timer()"
   ],
   "metadata": {
    "collapsed": false,
    "pycharm": {
     "name": "#%%\n"
    }
   }
  },
  {
   "cell_type": "code",
   "execution_count": 713,
   "outputs": [],
   "source": [
    "t()"
   ],
   "metadata": {
    "collapsed": false,
    "pycharm": {
     "name": "#%%\n"
    }
   }
  },
  {
   "cell_type": "code",
   "execution_count": 714,
   "outputs": [
    {
     "data": {
      "text/plain": "0.004183053970336914"
     },
     "execution_count": 714,
     "metadata": {},
     "output_type": "execute_result"
    }
   ],
   "source": [
    "t()"
   ],
   "metadata": {
    "collapsed": false,
    "pycharm": {
     "name": "#%%\n"
    }
   }
  },
  {
   "cell_type": "code",
   "execution_count": 715,
   "outputs": [
    {
     "data": {
      "text/plain": "0.0051708221435546875"
     },
     "execution_count": 715,
     "metadata": {},
     "output_type": "execute_result"
    }
   ],
   "source": [
    "t()"
   ],
   "metadata": {
    "collapsed": false,
    "pycharm": {
     "name": "#%%\n"
    }
   }
  },
  {
   "cell_type": "code",
   "execution_count": 716,
   "outputs": [
    {
     "data": {
      "text/plain": "0.0047681331634521484"
     },
     "execution_count": 716,
     "metadata": {},
     "output_type": "execute_result"
    }
   ],
   "source": [
    "t()"
   ],
   "metadata": {
    "collapsed": false,
    "pycharm": {
     "name": "#%%\n"
    }
   }
  },
  {
   "cell_type": "markdown",
   "source": [
    "## <center><font color=tomato>Decorators - functions</font></center>\n",
    "\n",
    "-   Modify or enhance functions without changing their definition\n",
    "-   Implemented as callables that take and return other callables\n",
    "-   Replace, enhance, or modify existing functions\n",
    "-   Does not change the original function definition\n",
    "-   Calling code does not need to change\n",
    "-   Decorator mechanism uses the modified function's original name\n",
    "\n",
    "<h2>\n",
    "\n",
    "```\n",
    "@my_decorator\n",
    "def my_function():\n",
    "    ...```\n"
   ],
   "metadata": {
    "collapsed": false
   }
  },
  {
   "cell_type": "code",
   "execution_count": 717,
   "outputs": [
    {
     "data": {
      "text/plain": "\"'Pi\\\\xf1a'\""
     },
     "execution_count": 717,
     "metadata": {},
     "output_type": "execute_result"
    }
   ],
   "source": [
    "from escapeUnicode import fruit\n",
    "fruit()"
   ],
   "metadata": {
    "collapsed": false,
    "pycharm": {
     "name": "#%%\n"
    }
   }
  },
  {
   "cell_type": "markdown",
   "source": [
    "## <center><font color=tomato>Classes as decorators</font></center>\n",
    "\n",
    "<h2>\n",
    "\n",
    "```\n",
    "class MyDec:\n",
    "    def __init__(self, f):\n",
    "        ...\n",
    "    def __call__(self):\n",
    "        ...\n",
    "\n",
    "@MyDec\n",
    "def func()\n",
    "    ...\n",
    "```\n",
    "</h2>\n",
    "\n",
    "to better explain this we will use the file `CallCount.py`"
   ],
   "metadata": {
    "collapsed": false
   }
  },
  {
   "cell_type": "code",
   "execution_count": 718,
   "outputs": [
    {
     "name": "stdout",
     "output_type": "stream",
     "text": [
      "Hello, Cami\n"
     ]
    }
   ],
   "source": [
    "class CallCount:\n",
    "    def __init__(self, f):\n",
    "        self._f = f\n",
    "        self.count = 0\n",
    "\n",
    "    def __call__(self, *args, **kwargs):\n",
    "        self.count += 1\n",
    "        return self._f(*args, **kwargs)\n",
    "\n",
    "\n",
    "@CallCount\n",
    "def hello(name):\n",
    "    print('Hello, {}'.format(name))\n",
    "\n",
    "hello('Cami')"
   ],
   "metadata": {
    "collapsed": false,
    "pycharm": {
     "name": "#%%\n"
    }
   }
  },
  {
   "cell_type": "code",
   "execution_count": 719,
   "outputs": [
    {
     "name": "stdout",
     "output_type": "stream",
     "text": [
      "Hello, Nico\n"
     ]
    }
   ],
   "source": [
    "hello('Nico')"
   ],
   "metadata": {
    "collapsed": false,
    "pycharm": {
     "name": "#%%\n"
    }
   }
  },
  {
   "cell_type": "code",
   "execution_count": 720,
   "outputs": [
    {
     "name": "stdout",
     "output_type": "stream",
     "text": [
      "Hello, Mao\n"
     ]
    }
   ],
   "source": [
    "hello('Mao')"
   ],
   "metadata": {
    "collapsed": false,
    "pycharm": {
     "name": "#%%\n"
    }
   }
  },
  {
   "cell_type": "code",
   "execution_count": 720,
   "outputs": [],
   "source": [],
   "metadata": {
    "collapsed": false,
    "pycharm": {
     "name": "#%%\n"
    }
   }
  },
  {
   "cell_type": "code",
   "execution_count": 721,
   "outputs": [
    {
     "data": {
      "text/plain": "3"
     },
     "execution_count": 721,
     "metadata": {},
     "output_type": "execute_result"
    }
   ],
   "source": [
    "hello.count\n"
   ],
   "metadata": {
    "collapsed": false,
    "pycharm": {
     "name": "#%%\n"
    }
   }
  },
  {
   "cell_type": "markdown",
   "source": [
    "## <center><font color=tomato>Instances as Decorators</font></center>\n",
    "\n",
    "```\n",
    "class anotherDec:\n",
    "    def __call__(self, f):\n",
    "        def wrap:\n",
    "            ...\n",
    "        return wrap\n",
    "\n",
    "@AnotherDec()\n",
    "def func():\n",
    "    ...\n",
    "```\n",
    "\n",
    "to better explain this we will use the file `tracer.py`"
   ],
   "metadata": {
    "collapsed": false,
    "pycharm": {
     "name": "#%% md\n"
    }
   }
  },
  {
   "cell_type": "code",
   "source": [
    "class Tracer:\n",
    "    def __init__(self):\n",
    "        self.enabled = True\n",
    "\n",
    "    def __call__(self, f):\n",
    "        def wrap(*args, **kwargs):\n",
    "            if self.enabled:\n",
    "                print('Calling {}'.format(f))\n",
    "            return f(*args, **kwargs)\n",
    "        return wrap\n",
    "\n",
    "\n",
    "tracer = Tracer()\n",
    "\n",
    "@tracer\n",
    "def rotate_list(l):\n",
    "    return l[1:] + [l[0]]"
   ],
   "metadata": {
    "collapsed": false,
    "pycharm": {
     "name": "#%%\n"
    }
   },
   "execution_count": 722,
   "outputs": []
  },
  {
   "cell_type": "code",
   "execution_count": 723,
   "outputs": [
    {
     "name": "stdout",
     "output_type": "stream",
     "text": [
      "Calling <function rotate_list at 0x7fed5c9a8550>\n"
     ]
    }
   ],
   "source": [
    "l = [1, 2, 3]\n",
    "l = rotate_list(l)"
   ],
   "metadata": {
    "collapsed": false,
    "pycharm": {
     "name": "#%%\n"
    }
   }
  },
  {
   "cell_type": "code",
   "execution_count": 724,
   "outputs": [
    {
     "data": {
      "text/plain": "[2, 3, 1]"
     },
     "execution_count": 724,
     "metadata": {},
     "output_type": "execute_result"
    }
   ],
   "source": [
    "l"
   ],
   "metadata": {
    "collapsed": false,
    "pycharm": {
     "name": "#%%\n"
    }
   }
  },
  {
   "cell_type": "code",
   "execution_count": 725,
   "outputs": [
    {
     "name": "stdout",
     "output_type": "stream",
     "text": [
      "Calling <function rotate_list at 0x7fed5c9a8550>\n"
     ]
    }
   ],
   "source": [
    "l = rotate_list(l)"
   ],
   "metadata": {
    "collapsed": false,
    "pycharm": {
     "name": "#%%\n"
    }
   }
  },
  {
   "cell_type": "code",
   "execution_count": 726,
   "outputs": [
    {
     "data": {
      "text/plain": "[3, 1, 2]"
     },
     "execution_count": 726,
     "metadata": {},
     "output_type": "execute_result"
    }
   ],
   "source": [
    "l"
   ],
   "metadata": {
    "collapsed": false,
    "pycharm": {
     "name": "#%%\n"
    }
   }
  },
  {
   "cell_type": "code",
   "execution_count": 727,
   "outputs": [
    {
     "data": {
      "text/plain": "list"
     },
     "execution_count": 727,
     "metadata": {},
     "output_type": "execute_result"
    }
   ],
   "source": [
    "type(l)"
   ],
   "metadata": {
    "collapsed": false,
    "pycharm": {
     "name": "#%%\n"
    }
   }
  },
  {
   "cell_type": "code",
   "execution_count": 728,
   "outputs": [],
   "source": [
    "tracer.enabled = False\n",
    "l = rotate_list(l)"
   ],
   "metadata": {
    "collapsed": false,
    "pycharm": {
     "name": "#%%\n"
    }
   }
  },
  {
   "cell_type": "code",
   "execution_count": 729,
   "outputs": [
    {
     "data": {
      "text/plain": "[1, 2, 3]"
     },
     "execution_count": 729,
     "metadata": {},
     "output_type": "execute_result"
    }
   ],
   "source": [
    "l\n"
   ],
   "metadata": {
    "collapsed": false,
    "pycharm": {
     "name": "#%%\n"
    }
   }
  },
  {
   "cell_type": "markdown",
   "source": [
    "## <center><font color=tomato>Multiple decorators</font></center>\n",
    "\n",
    "```\n",
    "@decorator1\n",
    "@decorator2\n",
    "@decorator3\n",
    "def some_function():\n",
    "    ...\n",
    "```\n",
    "-   It is possible to use multiple decorators in a single function\n",
    "-   Decorators will be executed in reverse order, in the example above `decorator3`\n",
    "will be applied to `some_function` first, then the result it will be applied\n",
    " `@decorator2` and then `@decorator1`\n",
    "\n",
    "\n",
    "For the next example we will use 2 previous decorators `escape_unicode()` and `tracer()`\n",
    "to better explain this we will use the file `islandMaker.py`"
   ],
   "metadata": {
    "collapsed": false,
    "pycharm": {
     "name": "#%% md\n"
    }
   }
  },
  {
   "cell_type": "code",
   "execution_count": 730,
   "outputs": [],
   "source": [
    "def escapeUnicode(f):\n",
    "    def wrap(*args, **kwargs):\n",
    "        x = f(*args, **kwargs)\n",
    "        return ascii(x)\n",
    "\n",
    "    return wrap\n",
    "\n",
    "\n",
    "class Tracer:\n",
    "    def __init__(self):\n",
    "        self.enabled = True\n",
    "\n",
    "    def __call__(self, f):\n",
    "        def wrap(*args, **kwargs):\n",
    "            if self.enabled:\n",
    "                print('Calling {}'.format(f))\n",
    "            return f(*args, **kwargs)\n",
    "\n",
    "        return wrap\n",
    "\n",
    "\n",
    "tracer = Tracer()\n",
    "\n",
    "\n",
    "@tracer\n",
    "@escapeUnicode\n",
    "def norwegianIslandMaker(name):\n",
    "    return name + 'øy'\n"
   ],
   "metadata": {
    "collapsed": false,
    "pycharm": {
     "name": "#%%\n"
    }
   }
  },
  {
   "cell_type": "code",
   "execution_count": 731,
   "outputs": [
    {
     "name": "stdout",
     "output_type": "stream",
     "text": [
      "Calling <function escapeUnicode.<locals>.wrap at 0x7fed5c9a8820>\n"
     ]
    },
    {
     "data": {
      "text/plain": "\"'Llama\\\\xf8y'\""
     },
     "execution_count": 731,
     "metadata": {},
     "output_type": "execute_result"
    }
   ],
   "source": [
    "norwegianIslandMaker('Llama')"
   ],
   "metadata": {
    "collapsed": false,
    "pycharm": {
     "name": "#%%\n"
    }
   }
  },
  {
   "cell_type": "code",
   "execution_count": 732,
   "outputs": [
    {
     "data": {
      "text/plain": "\"'Viva\\\\xf8y'\""
     },
     "execution_count": 732,
     "metadata": {},
     "output_type": "execute_result"
    }
   ],
   "source": [
    "tracer.enabled = False\n",
    "norwegianIslandMaker('Viva')\n"
   ],
   "metadata": {
    "collapsed": false,
    "pycharm": {
     "name": "#%%\n"
    }
   }
  },
  {
   "cell_type": "markdown",
   "source": [
    "## <center><font color=tomato>Decorating methods</font></center>\n"
   ],
   "metadata": {
    "collapsed": false
   }
  },
  {
   "cell_type": "code",
   "execution_count": 733,
   "outputs": [
    {
     "name": "stdout",
     "output_type": "stream",
     "text": [
      "Calling <function IslandMaker.make_island at 0x7fed5d0ee9d0>\n"
     ]
    },
    {
     "data": {
      "text/plain": "'Python Island'"
     },
     "execution_count": 733,
     "metadata": {},
     "output_type": "execute_result"
    }
   ],
   "source": [
    "\n",
    "class IslandMaker:\n",
    "    def __init__(self, suffix):\n",
    "        self._suffix = suffix\n",
    "\n",
    "    @tracer\n",
    "    def make_island(self, name):\n",
    "        return name + self._suffix\n",
    "\n",
    "tracer.enabled = True\n",
    "im = IslandMaker(' Island')\n",
    "im.make_island('Python')"
   ],
   "metadata": {
    "collapsed": false,
    "pycharm": {
     "name": "#%%\n"
    }
   }
  },
  {
   "cell_type": "code",
   "execution_count": 734,
   "outputs": [
    {
     "name": "stdout",
     "output_type": "stream",
     "text": [
      "Calling <function IslandMaker.make_island at 0x7fed5d0ee9d0>\n"
     ]
    },
    {
     "data": {
      "text/plain": "'Llama Island'"
     },
     "execution_count": 734,
     "metadata": {},
     "output_type": "execute_result"
    }
   ],
   "source": [
    "im.make_island('Llama')"
   ],
   "metadata": {
    "collapsed": false,
    "pycharm": {
     "name": "#%%\n"
    }
   }
  },
  {
   "cell_type": "code",
   "execution_count": 735,
   "outputs": [
    {
     "data": {
      "text/plain": "'Viva Island'"
     },
     "execution_count": 735,
     "metadata": {},
     "output_type": "execute_result"
    }
   ],
   "source": [
    "tracer.enabled = False\n",
    "im.make_island('Viva')"
   ],
   "metadata": {
    "collapsed": false,
    "pycharm": {
     "name": "#%%\n"
    }
   }
  },
  {
   "cell_type": "markdown",
   "source": [
    "## <center><font color=tomato>Keep metadata from original functions</font>\n",
    "\n",
    "`functools.wrap()`</h2>\n",
    "\n",
    "To keep metadata information (docstrings and name) from the original function\n",
    "this method needs to be called as follows:"
   ],
   "metadata": {
    "collapsed": false
   }
  },
  {
   "cell_type": "code",
   "execution_count": 736,
   "outputs": [
    {
     "name": "stdout",
     "output_type": "stream",
     "text": [
      "Help on function wrap in module __main__:\n",
      "\n",
      "wrap(*args, **kwargs)\n",
      "    This is the function wraps\n",
      "\n"
     ]
    }
   ],
   "source": [
    "\n",
    "import functools\n",
    "\n",
    "def escapeUnicode(f):\n",
    "    def wrap(*args, **kwargs):\n",
    "        \"\"\"This is the function wraps\"\"\"\n",
    "        x = f(*args, **kwargs)\n",
    "        return ascii(x)\n",
    "    return wrap\n",
    "\n",
    "@escapeUnicode\n",
    "def fruit():\n",
    "    \"\"\"This is the function fruit\"\"\"\n",
    "    return 'Piña'\n",
    "\n",
    "help(fruit)"
   ],
   "metadata": {
    "collapsed": false,
    "pycharm": {
     "name": "#%%\n"
    }
   }
  },
  {
   "cell_type": "code",
   "execution_count": 737,
   "outputs": [
    {
     "data": {
      "text/plain": "'wrap'"
     },
     "execution_count": 737,
     "metadata": {},
     "output_type": "execute_result"
    }
   ],
   "source": [
    "fruit.__name__\n"
   ],
   "metadata": {
    "collapsed": false,
    "pycharm": {
     "name": "#%%\n"
    }
   }
  },
  {
   "cell_type": "code",
   "execution_count": 738,
   "outputs": [
    {
     "name": "stdout",
     "output_type": "stream",
     "text": [
      "Help on function vegetable in module __main__:\n",
      "\n",
      "vegetable()\n",
      "    This is the function vegetable\n",
      "\n"
     ]
    }
   ],
   "source": [
    "def escapeUnicode(f):\n",
    "    @functools.wraps(f)\n",
    "    def wrap(*args, **kwargs):\n",
    "        \"\"\"This is the function wraps\"\"\"\n",
    "        x = f(*args, **kwargs)\n",
    "        return ascii(x)\n",
    "    return wrap\n",
    "\n",
    "@escapeUnicode\n",
    "def vegetable():\n",
    "    \"\"\"This is the function vegetable\"\"\"\n",
    "    return 'Ñame'\n",
    "help(vegetable)"
   ],
   "metadata": {
    "collapsed": false,
    "pycharm": {
     "name": "#%%\n"
    }
   }
  },
  {
   "cell_type": "code",
   "execution_count": 739,
   "outputs": [
    {
     "data": {
      "text/plain": "'vegetable'"
     },
     "execution_count": 739,
     "metadata": {},
     "output_type": "execute_result"
    }
   ],
   "source": [
    "vegetable.__name__"
   ],
   "metadata": {
    "collapsed": false,
    "pycharm": {
     "name": "#%%\n"
    }
   }
  },
  {
   "cell_type": "markdown",
   "source": [
    "One use of decorators is to validate arguments in a function,\n",
    "the following example doesn't look as a standard decorator because\n",
    "decorator function has a argument which is not a function but an\n",
    "integer, Python recognizes this way, this integer refers to the index number that has to be validated:"
   ],
   "metadata": {
    "collapsed": false,
    "pycharm": {
     "name": "#%% md\n"
    }
   }
  },
  {
   "cell_type": "code",
   "execution_count": 740,
   "outputs": [
    {
     "data": {
      "text/plain": "[-2, -2, -2, -2]"
     },
     "execution_count": 740,
     "metadata": {},
     "output_type": "execute_result"
    }
   ],
   "source": [
    "def checkNonNegative(index):\n",
    "    def validator(f):\n",
    "        def wrap(*args):\n",
    "            if args[index] < 0:\n",
    "                raise ValueError('Argument {} must be non-negative'.format(index))\n",
    "            return f(*args)\n",
    "        return wrap\n",
    "    return validator\n",
    "\n",
    "@checkNonNegative(1)\n",
    "def createListValue(value, size):\n",
    "    return [value] * size\n",
    "\n",
    "createListValue(-2,4)"
   ],
   "metadata": {
    "collapsed": false,
    "pycharm": {
     "name": "#%%\n"
    }
   }
  },
  {
   "cell_type": "code",
   "execution_count": 741,
   "outputs": [
    {
     "name": "stdout",
     "output_type": "stream",
     "text": [
      "Argument 1 must be non-negative\n"
     ]
    }
   ],
   "source": [
    "try:\n",
    "    createListValue(2,-1)\n",
    "except ValueError as e:\n",
    "    print(e)\n"
   ],
   "metadata": {
    "collapsed": false,
    "pycharm": {
     "name": "#%%\n"
    }
   }
  }
 ],
 "metadata": {
  "kernelspec": {
   "display_name": "Python 3",
   "language": "python",
   "name": "python3"
  },
  "language_info": {
   "codemirror_mode": {
    "name": "ipython",
    "version": 2
   },
   "file_extension": ".py",
   "mimetype": "text/x-python",
   "name": "python",
   "nbconvert_exporter": "python",
   "pygments_lexer": "ipython2",
   "version": "2.7.6"
  }
 },
 "nbformat": 4,
 "nbformat_minor": 0
}